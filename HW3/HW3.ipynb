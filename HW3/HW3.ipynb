{
  "nbformat": 4,
  "nbformat_minor": 0,
  "metadata": {
    "colab": {
      "name": "HW3.ipynb",
      "version": "0.3.2",
      "provenance": [],
      "collapsed_sections": []
    },
    "kernelspec": {
      "name": "python3",
      "display_name": "Python 3"
    }
  },
  "cells": [
    {
      "cell_type": "code",
      "metadata": {
        "id": "ly4r_qnEPqFt",
        "colab_type": "code",
        "outputId": "26a80b65-2a55-471a-93f3-3c12d5d85147",
        "colab": {
          "base_uri": "https://localhost:8080/",
          "height": 54
        }
      },
      "source": [
        "import pandas as pd\n",
        "%pylab inline\n",
        "import numpy as np\n",
        "import pylab as pl\n",
        "import scipy as sp\n",
        "from scipy import stats\n",
        "%pylab inline\n",
        "pl.style.use(\"https://raw.githubusercontent.com/fedhere/DSPS/master/fbb.mplstyle\")"
      ],
      "execution_count": 1,
      "outputs": [
        {
          "output_type": "stream",
          "text": [
            "Populating the interactive namespace from numpy and matplotlib\n",
            "Populating the interactive namespace from numpy and matplotlib\n"
          ],
          "name": "stdout"
        }
      ]
    },
    {
      "cell_type": "markdown",
      "metadata": {
        "id": "GoROv1ZcP65I",
        "colab_type": "text"
      },
      "source": [
        "I extracted precipitations records for Willmington from 2000/01/01 through today. \n",
        "The goal is to extract from these data the daily precipitation starting on 2018/01/01 and assess if these data are different from a population with mean $\\mu = 0.14$ standard deviation $\\sigma= 0.38$. \n",
        "\n",
        "Set a p-value at $2\\sigma$:  $p=0.05$"
      ]
    },
    {
      "cell_type": "code",
      "metadata": {
        "id": "ptBGYViVPt7E",
        "colab_type": "code",
        "outputId": "47c8d1b7-d631-44c4-a8c4-cef3bf244400",
        "colab": {
          "base_uri": "https://localhost:8080/",
          "height": 55
        }
      },
      "source": [
        "rain = pd.read_csv(\"https://raw.githubusercontent.com/fedhere/DSPS/master/labs/1865331.csv\")\n",
        "rain.columns"
      ],
      "execution_count": 2,
      "outputs": [
        {
          "output_type": "execute_result",
          "data": {
            "text/plain": [
              "Index(['STATION', 'NAME', 'DATE', 'PRCP', 'SNOW', 'SNWD', 'WESD', 'WESF'], dtype='object')"
            ]
          },
          "metadata": {
            "tags": []
          },
          "execution_count": 2
        }
      ]
    },
    {
      "cell_type": "code",
      "metadata": {
        "id": "ncJKVT8GPvcD",
        "colab_type": "code",
        "outputId": "7caad16f-0eab-4ccd-f051-389bdd4d8d94",
        "colab": {
          "base_uri": "https://localhost:8080/",
          "height": 35
        }
      },
      "source": [
        "rainonly=rain[[\"DATE\",\"PRCP\"]]\n",
        "rainonly.head()\n",
        "rainonly.DATE.dtype"
      ],
      "execution_count": 3,
      "outputs": [
        {
          "output_type": "execute_result",
          "data": {
            "text/plain": [
              "dtype('O')"
            ]
          },
          "metadata": {
            "tags": []
          },
          "execution_count": 3
        }
      ]
    },
    {
      "cell_type": "code",
      "metadata": {
        "id": "WJO6GuXn4kF2",
        "colab_type": "code",
        "outputId": "11b97d82-5c73-4486-eb77-259508439a8a",
        "colab": {
          "base_uri": "https://localhost:8080/",
          "height": 147
        }
      },
      "source": [
        "rainonly['DATE']=pd.to_datetime(rainonly.DATE)"
      ],
      "execution_count": 4,
      "outputs": [
        {
          "output_type": "stream",
          "text": [
            "/usr/local/lib/python3.6/dist-packages/ipykernel_launcher.py:1: SettingWithCopyWarning: \n",
            "A value is trying to be set on a copy of a slice from a DataFrame.\n",
            "Try using .loc[row_indexer,col_indexer] = value instead\n",
            "\n",
            "See the caveats in the documentation: http://pandas.pydata.org/pandas-docs/stable/indexing.html#indexing-view-versus-copy\n",
            "  \"\"\"Entry point for launching an IPython kernel.\n"
          ],
          "name": "stderr"
        }
      ]
    },
    {
      "cell_type": "code",
      "metadata": {
        "id": "Ycv7jZcR5okm",
        "colab_type": "code",
        "outputId": "58f69711-5683-46ed-c7ce-a72fe08769d7",
        "colab": {
          "base_uri": "https://localhost:8080/",
          "height": 206
        }
      },
      "source": [
        "rainonly.head()"
      ],
      "execution_count": 5,
      "outputs": [
        {
          "output_type": "execute_result",
          "data": {
            "text/html": [
              "<div>\n",
              "<style scoped>\n",
              "    .dataframe tbody tr th:only-of-type {\n",
              "        vertical-align: middle;\n",
              "    }\n",
              "\n",
              "    .dataframe tbody tr th {\n",
              "        vertical-align: top;\n",
              "    }\n",
              "\n",
              "    .dataframe thead th {\n",
              "        text-align: right;\n",
              "    }\n",
              "</style>\n",
              "<table border=\"1\" class=\"dataframe\">\n",
              "  <thead>\n",
              "    <tr style=\"text-align: right;\">\n",
              "      <th></th>\n",
              "      <th>DATE</th>\n",
              "      <th>PRCP</th>\n",
              "    </tr>\n",
              "  </thead>\n",
              "  <tbody>\n",
              "    <tr>\n",
              "      <th>0</th>\n",
              "      <td>2010-01-01</td>\n",
              "      <td>0.28</td>\n",
              "    </tr>\n",
              "    <tr>\n",
              "      <th>1</th>\n",
              "      <td>2010-01-02</td>\n",
              "      <td>0.00</td>\n",
              "    </tr>\n",
              "    <tr>\n",
              "      <th>2</th>\n",
              "      <td>2010-01-03</td>\n",
              "      <td>0.00</td>\n",
              "    </tr>\n",
              "    <tr>\n",
              "      <th>3</th>\n",
              "      <td>2010-01-04</td>\n",
              "      <td>0.00</td>\n",
              "    </tr>\n",
              "    <tr>\n",
              "      <th>4</th>\n",
              "      <td>2010-01-05</td>\n",
              "      <td>0.00</td>\n",
              "    </tr>\n",
              "  </tbody>\n",
              "</table>\n",
              "</div>"
            ],
            "text/plain": [
              "        DATE  PRCP\n",
              "0 2010-01-01  0.28\n",
              "1 2010-01-02  0.00\n",
              "2 2010-01-03  0.00\n",
              "3 2010-01-04  0.00\n",
              "4 2010-01-05  0.00"
            ]
          },
          "metadata": {
            "tags": []
          },
          "execution_count": 5
        }
      ]
    },
    {
      "cell_type": "code",
      "metadata": {
        "id": "oZGaUmKP726A",
        "colab_type": "code",
        "colab": {}
      },
      "source": [
        "recent = rainonly[rainonly['DATE']>pd.to_datetime(\"2018/01/01\")]"
      ],
      "execution_count": 0,
      "outputs": []
    },
    {
      "cell_type": "code",
      "metadata": {
        "id": "RE7vowHR8mnq",
        "colab_type": "code",
        "outputId": "f2ab763e-2721-4a7d-ff6a-fe6712851031",
        "colab": {
          "base_uri": "https://localhost:8080/",
          "height": 300
        }
      },
      "source": [
        "recent.describe()"
      ],
      "execution_count": 7,
      "outputs": [
        {
          "output_type": "execute_result",
          "data": {
            "text/html": [
              "<div>\n",
              "<style scoped>\n",
              "    .dataframe tbody tr th:only-of-type {\n",
              "        vertical-align: middle;\n",
              "    }\n",
              "\n",
              "    .dataframe tbody tr th {\n",
              "        vertical-align: top;\n",
              "    }\n",
              "\n",
              "    .dataframe thead th {\n",
              "        text-align: right;\n",
              "    }\n",
              "</style>\n",
              "<table border=\"1\" class=\"dataframe\">\n",
              "  <thead>\n",
              "    <tr style=\"text-align: right;\">\n",
              "      <th></th>\n",
              "      <th>PRCP</th>\n",
              "    </tr>\n",
              "  </thead>\n",
              "  <tbody>\n",
              "    <tr>\n",
              "      <th>count</th>\n",
              "      <td>615.000000</td>\n",
              "    </tr>\n",
              "    <tr>\n",
              "      <th>mean</th>\n",
              "      <td>0.162504</td>\n",
              "    </tr>\n",
              "    <tr>\n",
              "      <th>std</th>\n",
              "      <td>0.365007</td>\n",
              "    </tr>\n",
              "    <tr>\n",
              "      <th>min</th>\n",
              "      <td>0.000000</td>\n",
              "    </tr>\n",
              "    <tr>\n",
              "      <th>25%</th>\n",
              "      <td>0.000000</td>\n",
              "    </tr>\n",
              "    <tr>\n",
              "      <th>50%</th>\n",
              "      <td>0.000000</td>\n",
              "    </tr>\n",
              "    <tr>\n",
              "      <th>75%</th>\n",
              "      <td>0.120000</td>\n",
              "    </tr>\n",
              "    <tr>\n",
              "      <th>max</th>\n",
              "      <td>2.450000</td>\n",
              "    </tr>\n",
              "  </tbody>\n",
              "</table>\n",
              "</div>"
            ],
            "text/plain": [
              "             PRCP\n",
              "count  615.000000\n",
              "mean     0.162504\n",
              "std      0.365007\n",
              "min      0.000000\n",
              "25%      0.000000\n",
              "50%      0.000000\n",
              "75%      0.120000\n",
              "max      2.450000"
            ]
          },
          "metadata": {
            "tags": []
          },
          "execution_count": 7
        }
      ]
    },
    {
      "cell_type": "code",
      "metadata": {
        "id": "7Oe-h_g-8zLA",
        "colab_type": "code",
        "outputId": "3d9be5e8-ddb0-4164-84f7-da00c59277e4",
        "colab": {
          "base_uri": "https://localhost:8080/",
          "height": 182
        }
      },
      "source": [
        "rainonly.PRCP.describe()"
      ],
      "execution_count": 8,
      "outputs": [
        {
          "output_type": "execute_result",
          "data": {
            "text/plain": [
              "count    3538.000000\n",
              "mean        0.137340\n",
              "std         0.382174\n",
              "min         0.000000\n",
              "25%         0.000000\n",
              "50%         0.000000\n",
              "75%         0.070000\n",
              "max         6.960000\n",
              "Name: PRCP, dtype: float64"
            ]
          },
          "metadata": {
            "tags": []
          },
          "execution_count": 8
        }
      ]
    },
    {
      "cell_type": "markdown",
      "metadata": {
        "id": "_MVkFRWBbdDv",
        "colab_type": "text"
      },
      "source": [
        "this is $\\frac{\\bar X-\\mu}{\\sigma}\\sqrt{N}$:"
      ]
    },
    {
      "cell_type": "code",
      "metadata": {
        "id": "x1L4DUz789o2",
        "colab_type": "code",
        "outputId": "467ec0cc-e677-4fd2-9676-0d55ace590b6",
        "colab": {
          "base_uri": "https://localhost:8080/",
          "height": 35
        }
      },
      "source": [
        "print(\"z =\",(0.162504-0.137340)/(0.38*(615**(-0.5))))"
      ],
      "execution_count": 9,
      "outputs": [
        {
          "output_type": "stream",
          "text": [
            "z = 1.6422287003201257\n"
          ],
          "name": "stdout"
        }
      ]
    },
    {
      "cell_type": "markdown",
      "metadata": {
        "id": "2wN0kxx190M3",
        "colab_type": "text"
      },
      "source": [
        "No, it does not appear that it is significantly higher. For $p<0.05$, the $z$ value would have to be greater than 2 (or less than -2 for statistically significantly less rainfall)"
      ]
    },
    {
      "cell_type": "markdown",
      "metadata": {
        "id": "_2jcOq03YaX8",
        "colab_type": "text"
      },
      "source": [
        "# `HERE BEGINS PART 2`"
      ]
    },
    {
      "cell_type": "markdown",
      "metadata": {
        "id": "l6E7WQnlcN9e",
        "colab_type": "text"
      },
      "source": [
        "### `1 What is the test's Null Hypothsis that the K-S test tests?`\n",
        "\n",
        "*The K-S test's Null Hypothesis is that the two datasets being compared were generated from the same parent distribution.*\n",
        "\n",
        "---\n",
        "\n",
        "### `2 What is the \"statistic\" or \"pivotal quantity\" that the test uses?`\n",
        "\n",
        "*It bases it's result off of the greatest distance between the two sampless' Cumulative Distribution Functions*\n",
        "\n",
        "---\n",
        "\n",
        "### `3 What does the probability distribution of this statistic depend on?`\n",
        "\n",
        "*The maximum distance noted above and the sizes of the two samples*\n",
        "\n",
        "Specifically the null hyponthesis is rejected at a confidence level $\\alpha$ if the maximum distance between the two CDFs obeys:\n",
        "\n",
        "$\\displaystyle{D_{m,n}>\\sqrt{-\\frac{1}{2}\\ln\\alpha\\cdot \\frac{n+m}{nm}}}$"
      ]
    },
    {
      "cell_type": "code",
      "metadata": {
        "id": "EiGOXjyrYZrt",
        "colab_type": "code",
        "colab": {}
      },
      "source": [
        "quakes_raw=pd.read_csv(\"https://raw.githubusercontent.com/sheamusfitz/DSPS_jFitzgerald/master/HW3/quakes.csv\",sep=\" \")"
      ],
      "execution_count": 0,
      "outputs": []
    },
    {
      "cell_type": "markdown",
      "metadata": {
        "id": "g1l_3GGyg6gT",
        "colab_type": "text"
      },
      "source": [
        "I modified the formatting of this data in a slightly different manner. In vim I ran a search over the data, replacing all instances of \"{space}{space}\" with \"{space}\". I repeated this until there were no more instances of \"{space}{space}\"."
      ]
    },
    {
      "cell_type": "code",
      "metadata": {
        "id": "KdveGytngbN2",
        "colab_type": "code",
        "outputId": "1904e2a7-e321-4e82-d637-356bd4a08bde",
        "colab": {
          "base_uri": "https://localhost:8080/",
          "height": 226
        }
      },
      "source": [
        "quakes_raw.head()"
      ],
      "execution_count": 11,
      "outputs": [
        {
          "output_type": "execute_result",
          "data": {
            "text/html": [
              "<div>\n",
              "<style scoped>\n",
              "    .dataframe tbody tr th:only-of-type {\n",
              "        vertical-align: middle;\n",
              "    }\n",
              "\n",
              "    .dataframe tbody tr th {\n",
              "        vertical-align: top;\n",
              "    }\n",
              "\n",
              "    .dataframe thead th {\n",
              "        text-align: right;\n",
              "    }\n",
              "</style>\n",
              "<table border=\"1\" class=\"dataframe\">\n",
              "  <thead>\n",
              "    <tr style=\"text-align: right;\">\n",
              "      <th></th>\n",
              "      <th>#YYY/MM/DD</th>\n",
              "      <th>HH:mm:SS.ss</th>\n",
              "      <th>ET</th>\n",
              "      <th>GT</th>\n",
              "      <th>MAG</th>\n",
              "      <th>M</th>\n",
              "      <th>LAT</th>\n",
              "      <th>LON</th>\n",
              "      <th>DEPTH</th>\n",
              "      <th>Q</th>\n",
              "      <th>EVID</th>\n",
              "      <th>NPH</th>\n",
              "      <th>NGRM</th>\n",
              "    </tr>\n",
              "  </thead>\n",
              "  <tbody>\n",
              "    <tr>\n",
              "      <th>0</th>\n",
              "      <td>1984/01/01</td>\n",
              "      <td>01:30:57.52</td>\n",
              "      <td>eq</td>\n",
              "      <td>l</td>\n",
              "      <td>2.02</td>\n",
              "      <td>c</td>\n",
              "      <td>33.246</td>\n",
              "      <td>-116.433</td>\n",
              "      <td>1.6</td>\n",
              "      <td>C</td>\n",
              "      <td>28255.0</td>\n",
              "      <td>13.0</td>\n",
              "      <td>17.0</td>\n",
              "    </tr>\n",
              "    <tr>\n",
              "      <th>1</th>\n",
              "      <td>1984/01/01</td>\n",
              "      <td>05:31:34.16</td>\n",
              "      <td>eq</td>\n",
              "      <td>l</td>\n",
              "      <td>2.12</td>\n",
              "      <td>c</td>\n",
              "      <td>32.945</td>\n",
              "      <td>-116.295</td>\n",
              "      <td>5.4</td>\n",
              "      <td>C</td>\n",
              "      <td>28259.0</td>\n",
              "      <td>18.0</td>\n",
              "      <td>42.0</td>\n",
              "    </tr>\n",
              "    <tr>\n",
              "      <th>2</th>\n",
              "      <td>1984/01/01</td>\n",
              "      <td>06:59:05.14</td>\n",
              "      <td>eq</td>\n",
              "      <td>l</td>\n",
              "      <td>2.43</td>\n",
              "      <td>c</td>\n",
              "      <td>33.343</td>\n",
              "      <td>-117.628</td>\n",
              "      <td>5.6</td>\n",
              "      <td>C</td>\n",
              "      <td>28260.0</td>\n",
              "      <td>13.0</td>\n",
              "      <td>30.0</td>\n",
              "    </tr>\n",
              "    <tr>\n",
              "      <th>3</th>\n",
              "      <td>1984/01/01</td>\n",
              "      <td>11:10:25.29</td>\n",
              "      <td>eq</td>\n",
              "      <td>l</td>\n",
              "      <td>2.07</td>\n",
              "      <td>c</td>\n",
              "      <td>33.668</td>\n",
              "      <td>-116.780</td>\n",
              "      <td>13.8</td>\n",
              "      <td>C</td>\n",
              "      <td>28270.0</td>\n",
              "      <td>19.0</td>\n",
              "      <td>40.0</td>\n",
              "    </tr>\n",
              "    <tr>\n",
              "      <th>4</th>\n",
              "      <td>1984/01/01</td>\n",
              "      <td>19:38:19.79</td>\n",
              "      <td>eq</td>\n",
              "      <td>l</td>\n",
              "      <td>2.13</td>\n",
              "      <td>c</td>\n",
              "      <td>33.963</td>\n",
              "      <td>-116.290</td>\n",
              "      <td>2.7</td>\n",
              "      <td>C</td>\n",
              "      <td>28553.0</td>\n",
              "      <td>40.0</td>\n",
              "      <td>49.0</td>\n",
              "    </tr>\n",
              "  </tbody>\n",
              "</table>\n",
              "</div>"
            ],
            "text/plain": [
              "   #YYY/MM/DD  HH:mm:SS.ss  ET GT   MAG  ... DEPTH  Q     EVID   NPH  NGRM\n",
              "0  1984/01/01  01:30:57.52  eq  l  2.02  ...   1.6  C  28255.0  13.0  17.0\n",
              "1  1984/01/01  05:31:34.16  eq  l  2.12  ...   5.4  C  28259.0  18.0  42.0\n",
              "2  1984/01/01  06:59:05.14  eq  l  2.43  ...   5.6  C  28260.0  13.0  30.0\n",
              "3  1984/01/01  11:10:25.29  eq  l  2.07  ...  13.8  C  28270.0  19.0  40.0\n",
              "4  1984/01/01  19:38:19.79  eq  l  2.13  ...   2.7  C  28553.0  40.0  49.0\n",
              "\n",
              "[5 rows x 13 columns]"
            ]
          },
          "metadata": {
            "tags": []
          },
          "execution_count": 11
        }
      ]
    },
    {
      "cell_type": "code",
      "metadata": {
        "id": "pQy5HexFggLG",
        "colab_type": "code",
        "outputId": "b7ec8cbd-4f14-4c5a-e94e-4719e7fa7a2d",
        "colab": {
          "base_uri": "https://localhost:8080/",
          "height": 35
        }
      },
      "source": [
        "quakes_raw.shape"
      ],
      "execution_count": 12,
      "outputs": [
        {
          "output_type": "execute_result",
          "data": {
            "text/plain": [
              "(71446, 13)"
            ]
          },
          "metadata": {
            "tags": []
          },
          "execution_count": 12
        }
      ]
    },
    {
      "cell_type": "code",
      "metadata": {
        "id": "6tmigbLTg1pc",
        "colab_type": "code",
        "outputId": "0ed20a45-a219-438a-81f4-2dd389feebd6",
        "colab": {
          "base_uri": "https://localhost:8080/",
          "height": 320
        }
      },
      "source": [
        "quakes_raw.describe()"
      ],
      "execution_count": 13,
      "outputs": [
        {
          "output_type": "execute_result",
          "data": {
            "text/html": [
              "<div>\n",
              "<style scoped>\n",
              "    .dataframe tbody tr th:only-of-type {\n",
              "        vertical-align: middle;\n",
              "    }\n",
              "\n",
              "    .dataframe tbody tr th {\n",
              "        vertical-align: top;\n",
              "    }\n",
              "\n",
              "    .dataframe thead th {\n",
              "        text-align: right;\n",
              "    }\n",
              "</style>\n",
              "<table border=\"1\" class=\"dataframe\">\n",
              "  <thead>\n",
              "    <tr style=\"text-align: right;\">\n",
              "      <th></th>\n",
              "      <th>MAG</th>\n",
              "      <th>LAT</th>\n",
              "      <th>LON</th>\n",
              "      <th>DEPTH</th>\n",
              "      <th>EVID</th>\n",
              "      <th>NPH</th>\n",
              "      <th>NGRM</th>\n",
              "    </tr>\n",
              "  </thead>\n",
              "  <tbody>\n",
              "    <tr>\n",
              "      <th>count</th>\n",
              "      <td>71446.000000</td>\n",
              "      <td>71445.000000</td>\n",
              "      <td>71445.000000</td>\n",
              "      <td>71445.000000</td>\n",
              "      <td>7.144500e+04</td>\n",
              "      <td>71445.000000</td>\n",
              "      <td>71445.000000</td>\n",
              "    </tr>\n",
              "    <tr>\n",
              "      <th>mean</th>\n",
              "      <td>3.411610</td>\n",
              "      <td>33.960072</td>\n",
              "      <td>-116.843646</td>\n",
              "      <td>5.821510</td>\n",
              "      <td>4.147678e+06</td>\n",
              "      <td>32.018980</td>\n",
              "      <td>203.164574</td>\n",
              "    </tr>\n",
              "    <tr>\n",
              "      <th>std</th>\n",
              "      <td>267.281389</td>\n",
              "      <td>1.080535</td>\n",
              "      <td>1.024872</td>\n",
              "      <td>3.976313</td>\n",
              "      <td>3.929716e+06</td>\n",
              "      <td>24.046221</td>\n",
              "      <td>268.520695</td>\n",
              "    </tr>\n",
              "    <tr>\n",
              "      <th>min</th>\n",
              "      <td>2.000000</td>\n",
              "      <td>31.820000</td>\n",
              "      <td>-119.854000</td>\n",
              "      <td>0.000000</td>\n",
              "      <td>2.825500e+04</td>\n",
              "      <td>0.000000</td>\n",
              "      <td>0.000000</td>\n",
              "    </tr>\n",
              "    <tr>\n",
              "      <th>25%</th>\n",
              "      <td>2.120000</td>\n",
              "      <td>33.097000</td>\n",
              "      <td>-117.662000</td>\n",
              "      <td>3.000000</td>\n",
              "      <td>7.420180e+05</td>\n",
              "      <td>16.000000</td>\n",
              "      <td>63.000000</td>\n",
              "    </tr>\n",
              "    <tr>\n",
              "      <th>50%</th>\n",
              "      <td>2.300000</td>\n",
              "      <td>34.045000</td>\n",
              "      <td>-116.580000</td>\n",
              "      <td>5.300000</td>\n",
              "      <td>3.059672e+06</td>\n",
              "      <td>26.000000</td>\n",
              "      <td>122.000000</td>\n",
              "    </tr>\n",
              "    <tr>\n",
              "      <th>75%</th>\n",
              "      <td>2.580000</td>\n",
              "      <td>34.568000</td>\n",
              "      <td>-116.247330</td>\n",
              "      <td>7.100000</td>\n",
              "      <td>9.026978e+06</td>\n",
              "      <td>40.000000</td>\n",
              "      <td>242.000000</td>\n",
              "    </tr>\n",
              "    <tr>\n",
              "      <th>max</th>\n",
              "      <td>71445.000000</td>\n",
              "      <td>36.628000</td>\n",
              "      <td>-114.237000</td>\n",
              "      <td>29.300000</td>\n",
              "      <td>3.736673e+07</td>\n",
              "      <td>554.000000</td>\n",
              "      <td>3846.000000</td>\n",
              "    </tr>\n",
              "  </tbody>\n",
              "</table>\n",
              "</div>"
            ],
            "text/plain": [
              "                MAG           LAT  ...           NPH          NGRM\n",
              "count  71446.000000  71445.000000  ...  71445.000000  71445.000000\n",
              "mean       3.411610     33.960072  ...     32.018980    203.164574\n",
              "std      267.281389      1.080535  ...     24.046221    268.520695\n",
              "min        2.000000     31.820000  ...      0.000000      0.000000\n",
              "25%        2.120000     33.097000  ...     16.000000     63.000000\n",
              "50%        2.300000     34.045000  ...     26.000000    122.000000\n",
              "75%        2.580000     34.568000  ...     40.000000    242.000000\n",
              "max    71445.000000     36.628000  ...    554.000000   3846.000000\n",
              "\n",
              "[8 rows x 7 columns]"
            ]
          },
          "metadata": {
            "tags": []
          },
          "execution_count": 13
        }
      ]
    },
    {
      "cell_type": "markdown",
      "metadata": {
        "id": "SWRC1qCQhug2",
        "colab_type": "text"
      },
      "source": [
        "whoops, it's taking the number of events as a magnitude, that's no good!"
      ]
    },
    {
      "cell_type": "code",
      "metadata": {
        "id": "p5iu5WaYhlGK",
        "colab_type": "code",
        "colab": {}
      },
      "source": [
        "quakes_raw = quakes_raw.drop([71445],axis=0)"
      ],
      "execution_count": 0,
      "outputs": []
    },
    {
      "cell_type": "code",
      "metadata": {
        "id": "ahbikFKPid6S",
        "colab_type": "code",
        "outputId": "8256cced-27b2-4a25-dc62-98e9417a9492",
        "colab": {
          "base_uri": "https://localhost:8080/",
          "height": 320
        }
      },
      "source": [
        "quakes_raw.describe()"
      ],
      "execution_count": 15,
      "outputs": [
        {
          "output_type": "execute_result",
          "data": {
            "text/html": [
              "<div>\n",
              "<style scoped>\n",
              "    .dataframe tbody tr th:only-of-type {\n",
              "        vertical-align: middle;\n",
              "    }\n",
              "\n",
              "    .dataframe tbody tr th {\n",
              "        vertical-align: top;\n",
              "    }\n",
              "\n",
              "    .dataframe thead th {\n",
              "        text-align: right;\n",
              "    }\n",
              "</style>\n",
              "<table border=\"1\" class=\"dataframe\">\n",
              "  <thead>\n",
              "    <tr style=\"text-align: right;\">\n",
              "      <th></th>\n",
              "      <th>MAG</th>\n",
              "      <th>LAT</th>\n",
              "      <th>LON</th>\n",
              "      <th>DEPTH</th>\n",
              "      <th>EVID</th>\n",
              "      <th>NPH</th>\n",
              "      <th>NGRM</th>\n",
              "    </tr>\n",
              "  </thead>\n",
              "  <tbody>\n",
              "    <tr>\n",
              "      <th>count</th>\n",
              "      <td>71445.000000</td>\n",
              "      <td>71445.000000</td>\n",
              "      <td>71445.000000</td>\n",
              "      <td>71445.000000</td>\n",
              "      <td>7.144500e+04</td>\n",
              "      <td>71445.000000</td>\n",
              "      <td>71445.000000</td>\n",
              "    </tr>\n",
              "    <tr>\n",
              "      <th>mean</th>\n",
              "      <td>2.411658</td>\n",
              "      <td>33.960072</td>\n",
              "      <td>-116.843646</td>\n",
              "      <td>5.821510</td>\n",
              "      <td>4.147678e+06</td>\n",
              "      <td>32.018980</td>\n",
              "      <td>203.164574</td>\n",
              "    </tr>\n",
              "    <tr>\n",
              "      <th>std</th>\n",
              "      <td>0.405114</td>\n",
              "      <td>1.080535</td>\n",
              "      <td>1.024872</td>\n",
              "      <td>3.976313</td>\n",
              "      <td>3.929716e+06</td>\n",
              "      <td>24.046221</td>\n",
              "      <td>268.520695</td>\n",
              "    </tr>\n",
              "    <tr>\n",
              "      <th>min</th>\n",
              "      <td>2.000000</td>\n",
              "      <td>31.820000</td>\n",
              "      <td>-119.854000</td>\n",
              "      <td>0.000000</td>\n",
              "      <td>2.825500e+04</td>\n",
              "      <td>0.000000</td>\n",
              "      <td>0.000000</td>\n",
              "    </tr>\n",
              "    <tr>\n",
              "      <th>25%</th>\n",
              "      <td>2.120000</td>\n",
              "      <td>33.097000</td>\n",
              "      <td>-117.662000</td>\n",
              "      <td>3.000000</td>\n",
              "      <td>7.420180e+05</td>\n",
              "      <td>16.000000</td>\n",
              "      <td>63.000000</td>\n",
              "    </tr>\n",
              "    <tr>\n",
              "      <th>50%</th>\n",
              "      <td>2.300000</td>\n",
              "      <td>34.045000</td>\n",
              "      <td>-116.580000</td>\n",
              "      <td>5.300000</td>\n",
              "      <td>3.059672e+06</td>\n",
              "      <td>26.000000</td>\n",
              "      <td>122.000000</td>\n",
              "    </tr>\n",
              "    <tr>\n",
              "      <th>75%</th>\n",
              "      <td>2.580000</td>\n",
              "      <td>34.568000</td>\n",
              "      <td>-116.247330</td>\n",
              "      <td>7.100000</td>\n",
              "      <td>9.026978e+06</td>\n",
              "      <td>40.000000</td>\n",
              "      <td>242.000000</td>\n",
              "    </tr>\n",
              "    <tr>\n",
              "      <th>max</th>\n",
              "      <td>7.100000</td>\n",
              "      <td>36.628000</td>\n",
              "      <td>-114.237000</td>\n",
              "      <td>29.300000</td>\n",
              "      <td>3.736673e+07</td>\n",
              "      <td>554.000000</td>\n",
              "      <td>3846.000000</td>\n",
              "    </tr>\n",
              "  </tbody>\n",
              "</table>\n",
              "</div>"
            ],
            "text/plain": [
              "                MAG           LAT  ...           NPH          NGRM\n",
              "count  71445.000000  71445.000000  ...  71445.000000  71445.000000\n",
              "mean       2.411658     33.960072  ...     32.018980    203.164574\n",
              "std        0.405114      1.080535  ...     24.046221    268.520695\n",
              "min        2.000000     31.820000  ...      0.000000      0.000000\n",
              "25%        2.120000     33.097000  ...     16.000000     63.000000\n",
              "50%        2.300000     34.045000  ...     26.000000    122.000000\n",
              "75%        2.580000     34.568000  ...     40.000000    242.000000\n",
              "max        7.100000     36.628000  ...    554.000000   3846.000000\n",
              "\n",
              "[8 rows x 7 columns]"
            ]
          },
          "metadata": {
            "tags": []
          },
          "execution_count": 15
        }
      ]
    },
    {
      "cell_type": "markdown",
      "metadata": {
        "id": "TTExXK5mitR8",
        "colab_type": "text"
      },
      "source": [
        "much better"
      ]
    },
    {
      "cell_type": "code",
      "metadata": {
        "id": "dQOMVYY1is-n",
        "colab_type": "code",
        "outputId": "9cfbbbaf-3c57-4d7b-cb5e-37c211f0d052",
        "colab": {
          "base_uri": "https://localhost:8080/",
          "height": 206
        }
      },
      "source": [
        "quakes_raw=quakes_raw.rename(index=str,columns={\"#YYY/MM/DD\": \"date\", \"HH:mm:SS.ss\": \"time\", \"MAG\": \"mag\"});\n",
        "quakes_raw.head()"
      ],
      "execution_count": 16,
      "outputs": [
        {
          "output_type": "execute_result",
          "data": {
            "text/html": [
              "<div>\n",
              "<style scoped>\n",
              "    .dataframe tbody tr th:only-of-type {\n",
              "        vertical-align: middle;\n",
              "    }\n",
              "\n",
              "    .dataframe tbody tr th {\n",
              "        vertical-align: top;\n",
              "    }\n",
              "\n",
              "    .dataframe thead th {\n",
              "        text-align: right;\n",
              "    }\n",
              "</style>\n",
              "<table border=\"1\" class=\"dataframe\">\n",
              "  <thead>\n",
              "    <tr style=\"text-align: right;\">\n",
              "      <th></th>\n",
              "      <th>date</th>\n",
              "      <th>time</th>\n",
              "      <th>ET</th>\n",
              "      <th>GT</th>\n",
              "      <th>mag</th>\n",
              "      <th>M</th>\n",
              "      <th>LAT</th>\n",
              "      <th>LON</th>\n",
              "      <th>DEPTH</th>\n",
              "      <th>Q</th>\n",
              "      <th>EVID</th>\n",
              "      <th>NPH</th>\n",
              "      <th>NGRM</th>\n",
              "    </tr>\n",
              "  </thead>\n",
              "  <tbody>\n",
              "    <tr>\n",
              "      <th>0</th>\n",
              "      <td>1984/01/01</td>\n",
              "      <td>01:30:57.52</td>\n",
              "      <td>eq</td>\n",
              "      <td>l</td>\n",
              "      <td>2.02</td>\n",
              "      <td>c</td>\n",
              "      <td>33.246</td>\n",
              "      <td>-116.433</td>\n",
              "      <td>1.6</td>\n",
              "      <td>C</td>\n",
              "      <td>28255.0</td>\n",
              "      <td>13.0</td>\n",
              "      <td>17.0</td>\n",
              "    </tr>\n",
              "    <tr>\n",
              "      <th>1</th>\n",
              "      <td>1984/01/01</td>\n",
              "      <td>05:31:34.16</td>\n",
              "      <td>eq</td>\n",
              "      <td>l</td>\n",
              "      <td>2.12</td>\n",
              "      <td>c</td>\n",
              "      <td>32.945</td>\n",
              "      <td>-116.295</td>\n",
              "      <td>5.4</td>\n",
              "      <td>C</td>\n",
              "      <td>28259.0</td>\n",
              "      <td>18.0</td>\n",
              "      <td>42.0</td>\n",
              "    </tr>\n",
              "    <tr>\n",
              "      <th>2</th>\n",
              "      <td>1984/01/01</td>\n",
              "      <td>06:59:05.14</td>\n",
              "      <td>eq</td>\n",
              "      <td>l</td>\n",
              "      <td>2.43</td>\n",
              "      <td>c</td>\n",
              "      <td>33.343</td>\n",
              "      <td>-117.628</td>\n",
              "      <td>5.6</td>\n",
              "      <td>C</td>\n",
              "      <td>28260.0</td>\n",
              "      <td>13.0</td>\n",
              "      <td>30.0</td>\n",
              "    </tr>\n",
              "    <tr>\n",
              "      <th>3</th>\n",
              "      <td>1984/01/01</td>\n",
              "      <td>11:10:25.29</td>\n",
              "      <td>eq</td>\n",
              "      <td>l</td>\n",
              "      <td>2.07</td>\n",
              "      <td>c</td>\n",
              "      <td>33.668</td>\n",
              "      <td>-116.780</td>\n",
              "      <td>13.8</td>\n",
              "      <td>C</td>\n",
              "      <td>28270.0</td>\n",
              "      <td>19.0</td>\n",
              "      <td>40.0</td>\n",
              "    </tr>\n",
              "    <tr>\n",
              "      <th>4</th>\n",
              "      <td>1984/01/01</td>\n",
              "      <td>19:38:19.79</td>\n",
              "      <td>eq</td>\n",
              "      <td>l</td>\n",
              "      <td>2.13</td>\n",
              "      <td>c</td>\n",
              "      <td>33.963</td>\n",
              "      <td>-116.290</td>\n",
              "      <td>2.7</td>\n",
              "      <td>C</td>\n",
              "      <td>28553.0</td>\n",
              "      <td>40.0</td>\n",
              "      <td>49.0</td>\n",
              "    </tr>\n",
              "  </tbody>\n",
              "</table>\n",
              "</div>"
            ],
            "text/plain": [
              "         date         time  ET GT   mag  ... DEPTH  Q     EVID   NPH  NGRM\n",
              "0  1984/01/01  01:30:57.52  eq  l  2.02  ...   1.6  C  28255.0  13.0  17.0\n",
              "1  1984/01/01  05:31:34.16  eq  l  2.12  ...   5.4  C  28259.0  18.0  42.0\n",
              "2  1984/01/01  06:59:05.14  eq  l  2.43  ...   5.6  C  28260.0  13.0  30.0\n",
              "3  1984/01/01  11:10:25.29  eq  l  2.07  ...  13.8  C  28270.0  19.0  40.0\n",
              "4  1984/01/01  19:38:19.79  eq  l  2.13  ...   2.7  C  28553.0  40.0  49.0\n",
              "\n",
              "[5 rows x 13 columns]"
            ]
          },
          "metadata": {
            "tags": []
          },
          "execution_count": 16
        }
      ]
    },
    {
      "cell_type": "code",
      "metadata": {
        "id": "4dwnUYAGiktY",
        "colab_type": "code",
        "outputId": "fe7b74c8-d6dd-4742-f246-b296a7608334",
        "colab": {
          "base_uri": "https://localhost:8080/",
          "height": 206
        }
      },
      "source": [
        "eqdata = quakes_raw[[\"date\",\"time\",\"mag\"]]\n",
        "eqdata.head()\n",
        "\n",
        "#rainonly=rain[[\"DATE\",\"PRCP\"]]\n",
        "#rainonly.head()\n",
        "#rainonly.DATE.dtype"
      ],
      "execution_count": 17,
      "outputs": [
        {
          "output_type": "execute_result",
          "data": {
            "text/html": [
              "<div>\n",
              "<style scoped>\n",
              "    .dataframe tbody tr th:only-of-type {\n",
              "        vertical-align: middle;\n",
              "    }\n",
              "\n",
              "    .dataframe tbody tr th {\n",
              "        vertical-align: top;\n",
              "    }\n",
              "\n",
              "    .dataframe thead th {\n",
              "        text-align: right;\n",
              "    }\n",
              "</style>\n",
              "<table border=\"1\" class=\"dataframe\">\n",
              "  <thead>\n",
              "    <tr style=\"text-align: right;\">\n",
              "      <th></th>\n",
              "      <th>date</th>\n",
              "      <th>time</th>\n",
              "      <th>mag</th>\n",
              "    </tr>\n",
              "  </thead>\n",
              "  <tbody>\n",
              "    <tr>\n",
              "      <th>0</th>\n",
              "      <td>1984/01/01</td>\n",
              "      <td>01:30:57.52</td>\n",
              "      <td>2.02</td>\n",
              "    </tr>\n",
              "    <tr>\n",
              "      <th>1</th>\n",
              "      <td>1984/01/01</td>\n",
              "      <td>05:31:34.16</td>\n",
              "      <td>2.12</td>\n",
              "    </tr>\n",
              "    <tr>\n",
              "      <th>2</th>\n",
              "      <td>1984/01/01</td>\n",
              "      <td>06:59:05.14</td>\n",
              "      <td>2.43</td>\n",
              "    </tr>\n",
              "    <tr>\n",
              "      <th>3</th>\n",
              "      <td>1984/01/01</td>\n",
              "      <td>11:10:25.29</td>\n",
              "      <td>2.07</td>\n",
              "    </tr>\n",
              "    <tr>\n",
              "      <th>4</th>\n",
              "      <td>1984/01/01</td>\n",
              "      <td>19:38:19.79</td>\n",
              "      <td>2.13</td>\n",
              "    </tr>\n",
              "  </tbody>\n",
              "</table>\n",
              "</div>"
            ],
            "text/plain": [
              "         date         time   mag\n",
              "0  1984/01/01  01:30:57.52  2.02\n",
              "1  1984/01/01  05:31:34.16  2.12\n",
              "2  1984/01/01  06:59:05.14  2.43\n",
              "3  1984/01/01  11:10:25.29  2.07\n",
              "4  1984/01/01  19:38:19.79  2.13"
            ]
          },
          "metadata": {
            "tags": []
          },
          "execution_count": 17
        }
      ]
    },
    {
      "cell_type": "code",
      "metadata": {
        "id": "70bhPPt5jzzL",
        "colab_type": "code",
        "outputId": "c5b1c38e-c391-4f7d-f427-a74ef35bb076",
        "colab": {
          "base_uri": "https://localhost:8080/",
          "height": 35
        }
      },
      "source": [
        "eqdata.date.dtype, eqdata.time.dtype"
      ],
      "execution_count": 18,
      "outputs": [
        {
          "output_type": "execute_result",
          "data": {
            "text/plain": [
              "(dtype('O'), dtype('O'))"
            ]
          },
          "metadata": {
            "tags": []
          },
          "execution_count": 18
        }
      ]
    },
    {
      "cell_type": "code",
      "metadata": {
        "id": "dBFr4jnGkZxM",
        "colab_type": "code",
        "outputId": "3978c692-f8fd-49b7-d299-bb17bbc21c63",
        "colab": {
          "base_uri": "https://localhost:8080/",
          "height": 206
        }
      },
      "source": [
        "eqdata.head()"
      ],
      "execution_count": 19,
      "outputs": [
        {
          "output_type": "execute_result",
          "data": {
            "text/html": [
              "<div>\n",
              "<style scoped>\n",
              "    .dataframe tbody tr th:only-of-type {\n",
              "        vertical-align: middle;\n",
              "    }\n",
              "\n",
              "    .dataframe tbody tr th {\n",
              "        vertical-align: top;\n",
              "    }\n",
              "\n",
              "    .dataframe thead th {\n",
              "        text-align: right;\n",
              "    }\n",
              "</style>\n",
              "<table border=\"1\" class=\"dataframe\">\n",
              "  <thead>\n",
              "    <tr style=\"text-align: right;\">\n",
              "      <th></th>\n",
              "      <th>date</th>\n",
              "      <th>time</th>\n",
              "      <th>mag</th>\n",
              "    </tr>\n",
              "  </thead>\n",
              "  <tbody>\n",
              "    <tr>\n",
              "      <th>0</th>\n",
              "      <td>1984/01/01</td>\n",
              "      <td>01:30:57.52</td>\n",
              "      <td>2.02</td>\n",
              "    </tr>\n",
              "    <tr>\n",
              "      <th>1</th>\n",
              "      <td>1984/01/01</td>\n",
              "      <td>05:31:34.16</td>\n",
              "      <td>2.12</td>\n",
              "    </tr>\n",
              "    <tr>\n",
              "      <th>2</th>\n",
              "      <td>1984/01/01</td>\n",
              "      <td>06:59:05.14</td>\n",
              "      <td>2.43</td>\n",
              "    </tr>\n",
              "    <tr>\n",
              "      <th>3</th>\n",
              "      <td>1984/01/01</td>\n",
              "      <td>11:10:25.29</td>\n",
              "      <td>2.07</td>\n",
              "    </tr>\n",
              "    <tr>\n",
              "      <th>4</th>\n",
              "      <td>1984/01/01</td>\n",
              "      <td>19:38:19.79</td>\n",
              "      <td>2.13</td>\n",
              "    </tr>\n",
              "  </tbody>\n",
              "</table>\n",
              "</div>"
            ],
            "text/plain": [
              "         date         time   mag\n",
              "0  1984/01/01  01:30:57.52  2.02\n",
              "1  1984/01/01  05:31:34.16  2.12\n",
              "2  1984/01/01  06:59:05.14  2.43\n",
              "3  1984/01/01  11:10:25.29  2.07\n",
              "4  1984/01/01  19:38:19.79  2.13"
            ]
          },
          "metadata": {
            "tags": []
          },
          "execution_count": 19
        }
      ]
    },
    {
      "cell_type": "code",
      "metadata": {
        "id": "abS21c0AklZp",
        "colab_type": "code",
        "outputId": "fd537f7b-3da5-43d2-8f8c-ca30ab78aaa0",
        "colab": {
          "base_uri": "https://localhost:8080/",
          "height": 35
        }
      },
      "source": [
        "print(eqdata['date'][2],\n",
        "eqdata['time'][2])"
      ],
      "execution_count": 20,
      "outputs": [
        {
          "output_type": "stream",
          "text": [
            "1984/01/01 06:59:05.14\n"
          ],
          "name": "stdout"
        }
      ]
    },
    {
      "cell_type": "code",
      "metadata": {
        "id": "wd1McWpMmVB9",
        "colab_type": "code",
        "outputId": "74ca48c9-9f2f-4be1-c112-68e6cf807446",
        "colab": {
          "base_uri": "https://localhost:8080/",
          "height": 35
        }
      },
      "source": [
        "timestamps=np.empty(len(eqdata),dtype=pd.datetime)\n",
        "print(timestamps)"
      ],
      "execution_count": 21,
      "outputs": [
        {
          "output_type": "stream",
          "text": [
            "[None None None ... None None None]\n"
          ],
          "name": "stdout"
        }
      ]
    },
    {
      "cell_type": "markdown",
      "metadata": {
        "id": "Xx7txlIG1Bun",
        "colab_type": "text"
      },
      "source": [
        "There were a few entries with a time of `\"HH:MM:60.00\"` which the pandas disliked, so again I replaced all instances of `:60.00` with `:59.99`. I'm assuming that *~5* entries of *~70000* being shifted by *0.01 s* will be a negligible change."
      ]
    },
    {
      "cell_type": "code",
      "metadata": {
        "id": "8G7Q3zMHorno",
        "colab_type": "code",
        "outputId": "538d14f9-05c1-48fb-94dd-f6b2d98d0cff",
        "colab": {
          "base_uri": "https://localhost:8080/",
          "height": 35
        }
      },
      "source": [
        "for i in range(len(eqdata)):\n",
        "  #print(i)\n",
        "  thisdate=f\"{eqdata['date'][i]} {eqdata['time'][i]}\"\n",
        "  #print(timestamps[i])\n",
        "  thisdate=pd.to_datetime(thisdate)\n",
        "  timestamps[i]=thisdate#pd.to_datetime(thisdate, format=\"%Y/%m/%d %H:%M:%S.%f\")\n",
        "  #print(timestamps[i],\"\\n\")\n",
        "print(\"done\")"
      ],
      "execution_count": 22,
      "outputs": [
        {
          "output_type": "stream",
          "text": [
            "done\n"
          ],
          "name": "stdout"
        }
      ]
    },
    {
      "cell_type": "code",
      "metadata": {
        "id": "FrvhOKZ8pJC-",
        "colab_type": "code",
        "outputId": "5db16f6a-21a3-4d20-bc0f-a8e567942f45",
        "colab": {
          "base_uri": "https://localhost:8080/",
          "height": 147
        }
      },
      "source": [
        "eqdata['timestamps']=timestamps"
      ],
      "execution_count": 23,
      "outputs": [
        {
          "output_type": "stream",
          "text": [
            "/usr/local/lib/python3.6/dist-packages/ipykernel_launcher.py:1: SettingWithCopyWarning: \n",
            "A value is trying to be set on a copy of a slice from a DataFrame.\n",
            "Try using .loc[row_indexer,col_indexer] = value instead\n",
            "\n",
            "See the caveats in the documentation: http://pandas.pydata.org/pandas-docs/stable/indexing.html#indexing-view-versus-copy\n",
            "  \"\"\"Entry point for launching an IPython kernel.\n"
          ],
          "name": "stderr"
        }
      ]
    },
    {
      "cell_type": "code",
      "metadata": {
        "id": "_vhX_sOJrZFd",
        "colab_type": "code",
        "outputId": "e4ce3a10-5406-4ae5-de19-2257a1226f64",
        "colab": {
          "base_uri": "https://localhost:8080/",
          "height": 206
        }
      },
      "source": [
        "eqdata.head()"
      ],
      "execution_count": 24,
      "outputs": [
        {
          "output_type": "execute_result",
          "data": {
            "text/html": [
              "<div>\n",
              "<style scoped>\n",
              "    .dataframe tbody tr th:only-of-type {\n",
              "        vertical-align: middle;\n",
              "    }\n",
              "\n",
              "    .dataframe tbody tr th {\n",
              "        vertical-align: top;\n",
              "    }\n",
              "\n",
              "    .dataframe thead th {\n",
              "        text-align: right;\n",
              "    }\n",
              "</style>\n",
              "<table border=\"1\" class=\"dataframe\">\n",
              "  <thead>\n",
              "    <tr style=\"text-align: right;\">\n",
              "      <th></th>\n",
              "      <th>date</th>\n",
              "      <th>time</th>\n",
              "      <th>mag</th>\n",
              "      <th>timestamps</th>\n",
              "    </tr>\n",
              "  </thead>\n",
              "  <tbody>\n",
              "    <tr>\n",
              "      <th>0</th>\n",
              "      <td>1984/01/01</td>\n",
              "      <td>01:30:57.52</td>\n",
              "      <td>2.02</td>\n",
              "      <td>1984-01-01 01:30:57.520</td>\n",
              "    </tr>\n",
              "    <tr>\n",
              "      <th>1</th>\n",
              "      <td>1984/01/01</td>\n",
              "      <td>05:31:34.16</td>\n",
              "      <td>2.12</td>\n",
              "      <td>1984-01-01 05:31:34.160</td>\n",
              "    </tr>\n",
              "    <tr>\n",
              "      <th>2</th>\n",
              "      <td>1984/01/01</td>\n",
              "      <td>06:59:05.14</td>\n",
              "      <td>2.43</td>\n",
              "      <td>1984-01-01 06:59:05.140</td>\n",
              "    </tr>\n",
              "    <tr>\n",
              "      <th>3</th>\n",
              "      <td>1984/01/01</td>\n",
              "      <td>11:10:25.29</td>\n",
              "      <td>2.07</td>\n",
              "      <td>1984-01-01 11:10:25.290</td>\n",
              "    </tr>\n",
              "    <tr>\n",
              "      <th>4</th>\n",
              "      <td>1984/01/01</td>\n",
              "      <td>19:38:19.79</td>\n",
              "      <td>2.13</td>\n",
              "      <td>1984-01-01 19:38:19.790</td>\n",
              "    </tr>\n",
              "  </tbody>\n",
              "</table>\n",
              "</div>"
            ],
            "text/plain": [
              "         date         time   mag              timestamps\n",
              "0  1984/01/01  01:30:57.52  2.02 1984-01-01 01:30:57.520\n",
              "1  1984/01/01  05:31:34.16  2.12 1984-01-01 05:31:34.160\n",
              "2  1984/01/01  06:59:05.14  2.43 1984-01-01 06:59:05.140\n",
              "3  1984/01/01  11:10:25.29  2.07 1984-01-01 11:10:25.290\n",
              "4  1984/01/01  19:38:19.79  2.13 1984-01-01 19:38:19.790"
            ]
          },
          "metadata": {
            "tags": []
          },
          "execution_count": 24
        }
      ]
    },
    {
      "cell_type": "code",
      "metadata": {
        "id": "0snmVZNX2lHO",
        "colab_type": "code",
        "outputId": "a0d7043e-6445-448c-f08f-8afb80588767",
        "colab": {
          "base_uri": "https://localhost:8080/",
          "height": 35
        }
      },
      "source": [
        "#testing\n",
        "eqdata['timestamps'][4]-eqdata['timestamps'][3]"
      ],
      "execution_count": 25,
      "outputs": [
        {
          "output_type": "execute_result",
          "data": {
            "text/plain": [
              "Timedelta('0 days 08:27:54.500000')"
            ]
          },
          "metadata": {
            "tags": []
          },
          "execution_count": 25
        }
      ]
    },
    {
      "cell_type": "code",
      "metadata": {
        "id": "d8AqQVGJ54r3",
        "colab_type": "code",
        "outputId": "dffe4b45-c7c5-4b7d-f643-2603b1eec298",
        "colab": {
          "base_uri": "https://localhost:8080/",
          "height": 127
        }
      },
      "source": [
        "# create empty container\n",
        "ss = []\n",
        "\n",
        "# loop through all year pairs as year and fraction of year\n",
        "for t in [(1984, 1986.5), \n",
        "          (1990.3, 1992.1), \n",
        "          (1994.6, 1995.6),\n",
        "          (1996.1,1996.5), \n",
        "          (1997,1997.6), \n",
        "          (1997.75,1998.15), \n",
        "          (1998.25,1999.35), \n",
        "          (2000.55,2000.8),\n",
        "          (2000.9 ,2001.25), \n",
        "          (2001.6 ,2002), \n",
        "          (2002.5 ,2003)]:\n",
        "  \n",
        "    ss.append((pd.to_datetime(int(t[0]), format=\"%Y\") \n",
        "        + pd.Timedelta('%.f days'%((t[0] - int(t[0])) * 365.25)),\n",
        "               pd.to_datetime(int(t[1]), format=\"%Y\") \n",
        "        + pd.Timedelta('%.f days'%((t[1] - int(t[1])) * 365.25))))\n",
        "\n",
        "gooddates=0\n",
        "for i in range(11):\n",
        "  gooddates+=((eqdata.timestamps >= ss[i][0]) & (eqdata.timestamps <= ss[i][1]))\n",
        "\n",
        "gooddates = (gooddates == True ).astype(bool)\n",
        "gooddates.head()"
      ],
      "execution_count": 26,
      "outputs": [
        {
          "output_type": "execute_result",
          "data": {
            "text/plain": [
              "0    True\n",
              "1    True\n",
              "2    True\n",
              "3    True\n",
              "4    True\n",
              "Name: timestamps, dtype: bool"
            ]
          },
          "metadata": {
            "tags": []
          },
          "execution_count": 26
        }
      ]
    },
    {
      "cell_type": "code",
      "metadata": {
        "id": "w_V8dqt880Ia",
        "colab_type": "code",
        "outputId": "d7d31c3c-e048-4f8f-d92c-830dd187e13f",
        "colab": {
          "base_uri": "https://localhost:8080/",
          "height": 35
        }
      },
      "source": [
        "print(gooddates.sum(), len(gooddates))"
      ],
      "execution_count": 27,
      "outputs": [
        {
          "output_type": "stream",
          "text": [
            "17386 71445\n"
          ],
          "name": "stdout"
        }
      ]
    },
    {
      "cell_type": "code",
      "metadata": {
        "id": "n5YQAQeS_Nl0",
        "colab_type": "code",
        "colab": {}
      },
      "source": [
        "eqgood = eqdata.where(gooddates).dropna()"
      ],
      "execution_count": 0,
      "outputs": []
    },
    {
      "cell_type": "code",
      "metadata": {
        "id": "C8BL-8WRAvpa",
        "colab_type": "code",
        "outputId": "293fd133-2b9a-43c8-d602-479b06bae780",
        "colab": {
          "base_uri": "https://localhost:8080/",
          "height": 206
        }
      },
      "source": [
        "eqgood.head()"
      ],
      "execution_count": 29,
      "outputs": [
        {
          "output_type": "execute_result",
          "data": {
            "text/html": [
              "<div>\n",
              "<style scoped>\n",
              "    .dataframe tbody tr th:only-of-type {\n",
              "        vertical-align: middle;\n",
              "    }\n",
              "\n",
              "    .dataframe tbody tr th {\n",
              "        vertical-align: top;\n",
              "    }\n",
              "\n",
              "    .dataframe thead th {\n",
              "        text-align: right;\n",
              "    }\n",
              "</style>\n",
              "<table border=\"1\" class=\"dataframe\">\n",
              "  <thead>\n",
              "    <tr style=\"text-align: right;\">\n",
              "      <th></th>\n",
              "      <th>date</th>\n",
              "      <th>time</th>\n",
              "      <th>mag</th>\n",
              "      <th>timestamps</th>\n",
              "    </tr>\n",
              "  </thead>\n",
              "  <tbody>\n",
              "    <tr>\n",
              "      <th>0</th>\n",
              "      <td>1984/01/01</td>\n",
              "      <td>01:30:57.52</td>\n",
              "      <td>2.02</td>\n",
              "      <td>1984-01-01 01:30:57.520</td>\n",
              "    </tr>\n",
              "    <tr>\n",
              "      <th>1</th>\n",
              "      <td>1984/01/01</td>\n",
              "      <td>05:31:34.16</td>\n",
              "      <td>2.12</td>\n",
              "      <td>1984-01-01 05:31:34.160</td>\n",
              "    </tr>\n",
              "    <tr>\n",
              "      <th>2</th>\n",
              "      <td>1984/01/01</td>\n",
              "      <td>06:59:05.14</td>\n",
              "      <td>2.43</td>\n",
              "      <td>1984-01-01 06:59:05.140</td>\n",
              "    </tr>\n",
              "    <tr>\n",
              "      <th>3</th>\n",
              "      <td>1984/01/01</td>\n",
              "      <td>11:10:25.29</td>\n",
              "      <td>2.07</td>\n",
              "      <td>1984-01-01 11:10:25.290</td>\n",
              "    </tr>\n",
              "    <tr>\n",
              "      <th>4</th>\n",
              "      <td>1984/01/01</td>\n",
              "      <td>19:38:19.79</td>\n",
              "      <td>2.13</td>\n",
              "      <td>1984-01-01 19:38:19.790</td>\n",
              "    </tr>\n",
              "  </tbody>\n",
              "</table>\n",
              "</div>"
            ],
            "text/plain": [
              "         date         time   mag              timestamps\n",
              "0  1984/01/01  01:30:57.52  2.02 1984-01-01 01:30:57.520\n",
              "1  1984/01/01  05:31:34.16  2.12 1984-01-01 05:31:34.160\n",
              "2  1984/01/01  06:59:05.14  2.43 1984-01-01 06:59:05.140\n",
              "3  1984/01/01  11:10:25.29  2.07 1984-01-01 11:10:25.290\n",
              "4  1984/01/01  19:38:19.79  2.13 1984-01-01 19:38:19.790"
            ]
          },
          "metadata": {
            "tags": []
          },
          "execution_count": 29
        }
      ]
    },
    {
      "cell_type": "code",
      "metadata": {
        "id": "HxoYCJy4VBWn",
        "colab_type": "code",
        "outputId": "431718c7-15ae-4214-eb58-09e5afd91d32",
        "colab": {
          "base_uri": "https://localhost:8080/",
          "height": 35
        }
      },
      "source": [
        "eqgood['timestamps'][13000]"
      ],
      "execution_count": 30,
      "outputs": [
        {
          "output_type": "execute_result",
          "data": {
            "text/plain": [
              "Timestamp('1998-05-01 11:05:50.420000')"
            ]
          },
          "metadata": {
            "tags": []
          },
          "execution_count": 30
        }
      ]
    },
    {
      "cell_type": "markdown",
      "metadata": {
        "id": "_DNDaG2XVSpL",
        "colab_type": "text"
      },
      "source": [
        "Okay cool it does what I want. Also, running `eqgood['timestamps'][70000]` gives an error, which is also what I want."
      ]
    },
    {
      "cell_type": "code",
      "metadata": {
        "id": "oTnLDgcTZBV6",
        "colab_type": "code",
        "colab": {}
      },
      "source": [
        "tilnext=np.diff(pd.Series(eqgood.timestamps).array)"
      ],
      "execution_count": 0,
      "outputs": []
    },
    {
      "cell_type": "code",
      "metadata": {
        "id": "AhYRR1hqZ3ht",
        "colab_type": "code",
        "outputId": "ee3f3318-c603-4e0b-9b2b-2a87e1137f1d",
        "colab": {
          "base_uri": "https://localhost:8080/",
          "height": 72
        }
      },
      "source": [
        "tilnext"
      ],
      "execution_count": 32,
      "outputs": [
        {
          "output_type": "execute_result",
          "data": {
            "text/plain": [
              "array([14436640000000,  5250980000000, 15080150000000, ...,\n",
              "        1459920000000, 19148060000000, 37530890000000],\n",
              "      dtype='timedelta64[ns]')"
            ]
          },
          "metadata": {
            "tags": []
          },
          "execution_count": 32
        }
      ]
    },
    {
      "cell_type": "code",
      "metadata": {
        "id": "ban90MxDZ4eo",
        "colab_type": "code",
        "colab": {}
      },
      "source": [
        "if tilnext[0].astype(int)!=0:\n",
        "  tilnext=np.insert(tilnext, 0,0)\n",
        "\n",
        "# i put this block here as a loop because i didnt want to run it again and \n",
        "# accidentally get a bunch of 0's inserted into the beginning of the array."
      ],
      "execution_count": 0,
      "outputs": []
    },
    {
      "cell_type": "code",
      "metadata": {
        "id": "ua9Vxu0zaOGk",
        "colab_type": "code",
        "outputId": "aad8bbe1-9918-47f1-d8b2-5ef2cd05583b",
        "colab": {
          "base_uri": "https://localhost:8080/",
          "height": 72
        }
      },
      "source": [
        "tilnext"
      ],
      "execution_count": 34,
      "outputs": [
        {
          "output_type": "execute_result",
          "data": {
            "text/plain": [
              "array([             0, 14436640000000,  5250980000000, ...,\n",
              "        1459920000000, 19148060000000, 37530890000000],\n",
              "      dtype='timedelta64[ns]')"
            ]
          },
          "metadata": {
            "tags": []
          },
          "execution_count": 34
        }
      ]
    },
    {
      "cell_type": "code",
      "metadata": {
        "id": "ZqguDLUZasVN",
        "colab_type": "code",
        "colab": {}
      },
      "source": [
        "eqgood['tilnext']=tilnext.astype(int)"
      ],
      "execution_count": 0,
      "outputs": []
    },
    {
      "cell_type": "code",
      "metadata": {
        "id": "oV6ac0kZbULj",
        "colab_type": "code",
        "outputId": "c3c61a79-57f7-49e3-9411-906e762773ae",
        "colab": {
          "base_uri": "https://localhost:8080/",
          "height": 206
        }
      },
      "source": [
        "eqgood.head()"
      ],
      "execution_count": 36,
      "outputs": [
        {
          "output_type": "execute_result",
          "data": {
            "text/html": [
              "<div>\n",
              "<style scoped>\n",
              "    .dataframe tbody tr th:only-of-type {\n",
              "        vertical-align: middle;\n",
              "    }\n",
              "\n",
              "    .dataframe tbody tr th {\n",
              "        vertical-align: top;\n",
              "    }\n",
              "\n",
              "    .dataframe thead th {\n",
              "        text-align: right;\n",
              "    }\n",
              "</style>\n",
              "<table border=\"1\" class=\"dataframe\">\n",
              "  <thead>\n",
              "    <tr style=\"text-align: right;\">\n",
              "      <th></th>\n",
              "      <th>date</th>\n",
              "      <th>time</th>\n",
              "      <th>mag</th>\n",
              "      <th>timestamps</th>\n",
              "      <th>tilnext</th>\n",
              "    </tr>\n",
              "  </thead>\n",
              "  <tbody>\n",
              "    <tr>\n",
              "      <th>0</th>\n",
              "      <td>1984/01/01</td>\n",
              "      <td>01:30:57.52</td>\n",
              "      <td>2.02</td>\n",
              "      <td>1984-01-01 01:30:57.520</td>\n",
              "      <td>0</td>\n",
              "    </tr>\n",
              "    <tr>\n",
              "      <th>1</th>\n",
              "      <td>1984/01/01</td>\n",
              "      <td>05:31:34.16</td>\n",
              "      <td>2.12</td>\n",
              "      <td>1984-01-01 05:31:34.160</td>\n",
              "      <td>14436640000000</td>\n",
              "    </tr>\n",
              "    <tr>\n",
              "      <th>2</th>\n",
              "      <td>1984/01/01</td>\n",
              "      <td>06:59:05.14</td>\n",
              "      <td>2.43</td>\n",
              "      <td>1984-01-01 06:59:05.140</td>\n",
              "      <td>5250980000000</td>\n",
              "    </tr>\n",
              "    <tr>\n",
              "      <th>3</th>\n",
              "      <td>1984/01/01</td>\n",
              "      <td>11:10:25.29</td>\n",
              "      <td>2.07</td>\n",
              "      <td>1984-01-01 11:10:25.290</td>\n",
              "      <td>15080150000000</td>\n",
              "    </tr>\n",
              "    <tr>\n",
              "      <th>4</th>\n",
              "      <td>1984/01/01</td>\n",
              "      <td>19:38:19.79</td>\n",
              "      <td>2.13</td>\n",
              "      <td>1984-01-01 19:38:19.790</td>\n",
              "      <td>30474500000000</td>\n",
              "    </tr>\n",
              "  </tbody>\n",
              "</table>\n",
              "</div>"
            ],
            "text/plain": [
              "         date         time   mag              timestamps         tilnext\n",
              "0  1984/01/01  01:30:57.52  2.02 1984-01-01 01:30:57.520               0\n",
              "1  1984/01/01  05:31:34.16  2.12 1984-01-01 05:31:34.160  14436640000000\n",
              "2  1984/01/01  06:59:05.14  2.43 1984-01-01 06:59:05.140   5250980000000\n",
              "3  1984/01/01  11:10:25.29  2.07 1984-01-01 11:10:25.290  15080150000000\n",
              "4  1984/01/01  19:38:19.79  2.13 1984-01-01 19:38:19.790  30474500000000"
            ]
          },
          "metadata": {
            "tags": []
          },
          "execution_count": 36
        }
      ]
    },
    {
      "cell_type": "code",
      "metadata": {
        "id": "XK2xmBm4bViF",
        "colab_type": "code",
        "colab": {}
      },
      "source": [
        "eqgood = eqgood.drop(['0'],axis=0)"
      ],
      "execution_count": 0,
      "outputs": []
    },
    {
      "cell_type": "code",
      "metadata": {
        "id": "_7Gq6FL_bsSy",
        "colab_type": "code",
        "outputId": "cc3f5576-0b28-4107-96cc-bfe033e50ca6",
        "colab": {
          "base_uri": "https://localhost:8080/",
          "height": 206
        }
      },
      "source": [
        "eqgood.head()"
      ],
      "execution_count": 38,
      "outputs": [
        {
          "output_type": "execute_result",
          "data": {
            "text/html": [
              "<div>\n",
              "<style scoped>\n",
              "    .dataframe tbody tr th:only-of-type {\n",
              "        vertical-align: middle;\n",
              "    }\n",
              "\n",
              "    .dataframe tbody tr th {\n",
              "        vertical-align: top;\n",
              "    }\n",
              "\n",
              "    .dataframe thead th {\n",
              "        text-align: right;\n",
              "    }\n",
              "</style>\n",
              "<table border=\"1\" class=\"dataframe\">\n",
              "  <thead>\n",
              "    <tr style=\"text-align: right;\">\n",
              "      <th></th>\n",
              "      <th>date</th>\n",
              "      <th>time</th>\n",
              "      <th>mag</th>\n",
              "      <th>timestamps</th>\n",
              "      <th>tilnext</th>\n",
              "    </tr>\n",
              "  </thead>\n",
              "  <tbody>\n",
              "    <tr>\n",
              "      <th>1</th>\n",
              "      <td>1984/01/01</td>\n",
              "      <td>05:31:34.16</td>\n",
              "      <td>2.12</td>\n",
              "      <td>1984-01-01 05:31:34.160</td>\n",
              "      <td>14436640000000</td>\n",
              "    </tr>\n",
              "    <tr>\n",
              "      <th>2</th>\n",
              "      <td>1984/01/01</td>\n",
              "      <td>06:59:05.14</td>\n",
              "      <td>2.43</td>\n",
              "      <td>1984-01-01 06:59:05.140</td>\n",
              "      <td>5250980000000</td>\n",
              "    </tr>\n",
              "    <tr>\n",
              "      <th>3</th>\n",
              "      <td>1984/01/01</td>\n",
              "      <td>11:10:25.29</td>\n",
              "      <td>2.07</td>\n",
              "      <td>1984-01-01 11:10:25.290</td>\n",
              "      <td>15080150000000</td>\n",
              "    </tr>\n",
              "    <tr>\n",
              "      <th>4</th>\n",
              "      <td>1984/01/01</td>\n",
              "      <td>19:38:19.79</td>\n",
              "      <td>2.13</td>\n",
              "      <td>1984-01-01 19:38:19.790</td>\n",
              "      <td>30474500000000</td>\n",
              "    </tr>\n",
              "    <tr>\n",
              "      <th>5</th>\n",
              "      <td>1984/01/01</td>\n",
              "      <td>19:39:19.67</td>\n",
              "      <td>2.13</td>\n",
              "      <td>1984-01-01 19:39:19.670</td>\n",
              "      <td>59880000000</td>\n",
              "    </tr>\n",
              "  </tbody>\n",
              "</table>\n",
              "</div>"
            ],
            "text/plain": [
              "         date         time   mag              timestamps         tilnext\n",
              "1  1984/01/01  05:31:34.16  2.12 1984-01-01 05:31:34.160  14436640000000\n",
              "2  1984/01/01  06:59:05.14  2.43 1984-01-01 06:59:05.140   5250980000000\n",
              "3  1984/01/01  11:10:25.29  2.07 1984-01-01 11:10:25.290  15080150000000\n",
              "4  1984/01/01  19:38:19.79  2.13 1984-01-01 19:38:19.790  30474500000000\n",
              "5  1984/01/01  19:39:19.67  2.13 1984-01-01 19:39:19.670     59880000000"
            ]
          },
          "metadata": {
            "tags": []
          },
          "execution_count": 38
        }
      ]
    },
    {
      "cell_type": "code",
      "metadata": {
        "id": "MZWwSz48cGIQ",
        "colab_type": "code",
        "outputId": "76900e3d-655b-4e8f-fbe0-6d0cdc0e6fc9",
        "colab": {
          "base_uri": "https://localhost:8080/",
          "height": 300
        }
      },
      "source": [
        "eqgood.describe()"
      ],
      "execution_count": 39,
      "outputs": [
        {
          "output_type": "execute_result",
          "data": {
            "text/html": [
              "<div>\n",
              "<style scoped>\n",
              "    .dataframe tbody tr th:only-of-type {\n",
              "        vertical-align: middle;\n",
              "    }\n",
              "\n",
              "    .dataframe tbody tr th {\n",
              "        vertical-align: top;\n",
              "    }\n",
              "\n",
              "    .dataframe thead th {\n",
              "        text-align: right;\n",
              "    }\n",
              "</style>\n",
              "<table border=\"1\" class=\"dataframe\">\n",
              "  <thead>\n",
              "    <tr style=\"text-align: right;\">\n",
              "      <th></th>\n",
              "      <th>mag</th>\n",
              "      <th>tilnext</th>\n",
              "    </tr>\n",
              "  </thead>\n",
              "  <tbody>\n",
              "    <tr>\n",
              "      <th>count</th>\n",
              "      <td>17385.000000</td>\n",
              "      <td>1.738500e+04</td>\n",
              "    </tr>\n",
              "    <tr>\n",
              "      <th>mean</th>\n",
              "      <td>2.385727</td>\n",
              "      <td>3.448969e+13</td>\n",
              "    </tr>\n",
              "    <tr>\n",
              "      <th>std</th>\n",
              "      <td>0.384233</td>\n",
              "      <td>1.149716e+15</td>\n",
              "    </tr>\n",
              "    <tr>\n",
              "      <th>min</th>\n",
              "      <td>2.000000</td>\n",
              "      <td>1.700000e+08</td>\n",
              "    </tr>\n",
              "    <tr>\n",
              "      <th>25%</th>\n",
              "      <td>2.110000</td>\n",
              "      <td>2.921420e+12</td>\n",
              "    </tr>\n",
              "    <tr>\n",
              "      <th>50%</th>\n",
              "      <td>2.280000</td>\n",
              "      <td>9.667640e+12</td>\n",
              "    </tr>\n",
              "    <tr>\n",
              "      <th>75%</th>\n",
              "      <td>2.540000</td>\n",
              "      <td>2.320878e+13</td>\n",
              "    </tr>\n",
              "    <tr>\n",
              "      <th>max</th>\n",
              "      <td>5.800000</td>\n",
              "      <td>1.199903e+17</td>\n",
              "    </tr>\n",
              "  </tbody>\n",
              "</table>\n",
              "</div>"
            ],
            "text/plain": [
              "                mag       tilnext\n",
              "count  17385.000000  1.738500e+04\n",
              "mean       2.385727  3.448969e+13\n",
              "std        0.384233  1.149716e+15\n",
              "min        2.000000  1.700000e+08\n",
              "25%        2.110000  2.921420e+12\n",
              "50%        2.280000  9.667640e+12\n",
              "75%        2.540000  2.320878e+13\n",
              "max        5.800000  1.199903e+17"
            ]
          },
          "metadata": {
            "tags": []
          },
          "execution_count": 39
        }
      ]
    },
    {
      "cell_type": "markdown",
      "metadata": {
        "id": "AWEngcDSs_wF",
        "colab_type": "text"
      },
      "source": [
        "I'm rescaling the axes in the following two plots to show the time in days rather than nanoseconds, because then the issue is much clearer."
      ]
    },
    {
      "cell_type": "code",
      "metadata": {
        "id": "P8Mzq4JMcQGh",
        "colab_type": "code",
        "outputId": "748e33a5-1ebc-4794-d21c-1db24ef82957",
        "colab": {
          "base_uri": "https://localhost:8080/",
          "height": 363
        }
      },
      "source": [
        "data_scaled = eqgood.tilnext*10**-9/3600/24\n",
        "\n",
        "pl.hist(data_scaled,log=True)\n",
        "pl.title('Earthquake time spacing')\n",
        "pl.xlabel('time between events (days)')\n",
        "pl.ylabel('counts')"
      ],
      "execution_count": 40,
      "outputs": [
        {
          "output_type": "execute_result",
          "data": {
            "text/plain": [
              "Text(0, 0.5, 'counts')"
            ]
          },
          "metadata": {
            "tags": []
          },
          "execution_count": 40
        },
        {
          "output_type": "stream",
          "text": [
            "/usr/local/lib/python3.6/dist-packages/matplotlib/font_manager.py:1241: UserWarning: findfont: Font family ['[\"sans-serif\"]'] not found. Falling back to DejaVu Sans.\n",
            "  (prop.get_family(), self.defaultFamily[fontext]))\n"
          ],
          "name": "stderr"
        },
        {
          "output_type": "display_data",
          "data": {
            "image/png": "[encoded data removed]",
            "text/plain": [
              "<Figure size 432x288 with 1 Axes>"
            ]
          },
          "metadata": {
            "tags": []
          }
        }
      ]
    },
    {
      "cell_type": "code",
      "metadata": {
        "id": "q4a12KmkctOP",
        "colab_type": "code",
        "outputId": "db655cf0-db70-45bf-d8c0-86bfe3614d4a",
        "colab": {
          "base_uri": "https://localhost:8080/",
          "height": 300
        }
      },
      "source": [
        "eqgood = eqgood[eqgood.tilnext <= 2.5*10**15]\n",
        "eqgood.describe()"
      ],
      "execution_count": 41,
      "outputs": [
        {
          "output_type": "execute_result",
          "data": {
            "text/html": [
              "<div>\n",
              "<style scoped>\n",
              "    .dataframe tbody tr th:only-of-type {\n",
              "        vertical-align: middle;\n",
              "    }\n",
              "\n",
              "    .dataframe tbody tr th {\n",
              "        vertical-align: top;\n",
              "    }\n",
              "\n",
              "    .dataframe thead th {\n",
              "        text-align: right;\n",
              "    }\n",
              "</style>\n",
              "<table border=\"1\" class=\"dataframe\">\n",
              "  <thead>\n",
              "    <tr style=\"text-align: right;\">\n",
              "      <th></th>\n",
              "      <th>mag</th>\n",
              "      <th>tilnext</th>\n",
              "    </tr>\n",
              "  </thead>\n",
              "  <tbody>\n",
              "    <tr>\n",
              "      <th>count</th>\n",
              "      <td>17375.000000</td>\n",
              "      <td>1.737500e+04</td>\n",
              "    </tr>\n",
              "    <tr>\n",
              "      <th>mean</th>\n",
              "      <td>2.385844</td>\n",
              "      <td>1.685512e+13</td>\n",
              "    </tr>\n",
              "    <tr>\n",
              "      <th>std</th>\n",
              "      <td>0.384292</td>\n",
              "      <td>2.039204e+13</td>\n",
              "    </tr>\n",
              "    <tr>\n",
              "      <th>min</th>\n",
              "      <td>2.000000</td>\n",
              "      <td>1.700000e+08</td>\n",
              "    </tr>\n",
              "    <tr>\n",
              "      <th>25%</th>\n",
              "      <td>2.110000</td>\n",
              "      <td>2.920040e+12</td>\n",
              "    </tr>\n",
              "    <tr>\n",
              "      <th>50%</th>\n",
              "      <td>2.280000</td>\n",
              "      <td>9.657150e+12</td>\n",
              "    </tr>\n",
              "    <tr>\n",
              "      <th>75%</th>\n",
              "      <td>2.540000</td>\n",
              "      <td>2.313566e+13</td>\n",
              "    </tr>\n",
              "    <tr>\n",
              "      <th>max</th>\n",
              "      <td>5.800000</td>\n",
              "      <td>2.365828e+14</td>\n",
              "    </tr>\n",
              "  </tbody>\n",
              "</table>\n",
              "</div>"
            ],
            "text/plain": [
              "                mag       tilnext\n",
              "count  17375.000000  1.737500e+04\n",
              "mean       2.385844  1.685512e+13\n",
              "std        0.384292  2.039204e+13\n",
              "min        2.000000  1.700000e+08\n",
              "25%        2.110000  2.920040e+12\n",
              "50%        2.280000  9.657150e+12\n",
              "75%        2.540000  2.313566e+13\n",
              "max        5.800000  2.365828e+14"
            ]
          },
          "metadata": {
            "tags": []
          },
          "execution_count": 41
        }
      ]
    },
    {
      "cell_type": "code",
      "metadata": {
        "id": "LUw4ZF2Udbke",
        "colab_type": "code",
        "outputId": "f6ec561e-2ae5-469d-d851-26ebc97e3de1",
        "colab": {
          "base_uri": "https://localhost:8080/",
          "height": 324
        }
      },
      "source": [
        "data_scaled = eqgood.tilnext*10**-9/3600/24\n",
        "\n",
        "pl.hist(data_scaled,log=True)\n",
        "pl.title('Earthquake time spacing')\n",
        "pl.xlabel('time between events (days)')\n",
        "pl.ylabel('counts')"
      ],
      "execution_count": 42,
      "outputs": [
        {
          "output_type": "execute_result",
          "data": {
            "text/plain": [
              "Text(0, 0.5, 'counts')"
            ]
          },
          "metadata": {
            "tags": []
          },
          "execution_count": 42
        },
        {
          "output_type": "display_data",
          "data": {
            "image/png": "[encoded data removed]",
            "text/plain": [
              "<Figure size 432x288 with 1 Axes>"
            ]
          },
          "metadata": {
            "tags": []
          }
        }
      ]
    },
    {
      "cell_type": "markdown",
      "metadata": {
        "id": "ZxEfTb2ha-pm",
        "colab_type": "text"
      },
      "source": [
        "I'm selecting an $\\alpha$ threshold of $3\\sigma$."
      ]
    },
    {
      "cell_type": "code",
      "metadata": {
        "id": "wJoP0UT9lVC4",
        "colab_type": "code",
        "outputId": "e3568d4f-ffc2-4364-eb4b-59166eb926a1",
        "colab": {
          "base_uri": "https://localhost:8080/",
          "height": 54
        }
      },
      "source": [
        "eqgood.tilnext.values"
      ],
      "execution_count": 43,
      "outputs": [
        {
          "output_type": "execute_result",
          "data": {
            "text/plain": [
              "array([14436640000000,  5250980000000, 15080150000000, ...,\n",
              "        1459920000000, 19148060000000, 37530890000000])"
            ]
          },
          "metadata": {
            "tags": []
          },
          "execution_count": 43
        }
      ]
    },
    {
      "cell_type": "code",
      "metadata": {
        "id": "ZALYrzr0d4no",
        "colab_type": "code",
        "outputId": "26f673e0-ce22-411f-c814-a18ff67da80d",
        "colab": {
          "base_uri": "https://localhost:8080/",
          "height": 972
        }
      },
      "source": [
        "thresholds = [0.01, 0.001]\n",
        "mag_list = [2.0, 2.5, 3.0, 3.5, 4.0]\n",
        "\n",
        "tau_normd=np.empty([len(mag_list),len(thresholds)],dtype='O')\n",
        "\n",
        "#print(tau_normd)\n",
        "\n",
        "for threshold in thresholds:\n",
        "  i = thresholds.index(threshold)\n",
        "  for mk in range(len(mag_list)):\n",
        "    tau_normd[mk][i]=eqgood.tilnext.where(eqgood.mag>mag_list[mk]).dropna()\n",
        "    for _ in [1,2]:\n",
        "      rk = 1/np.mean(tau_normd[mk][i].values)\n",
        "      #print(rk)\n",
        "      tau_normd[mk][i] = tau_normd[mk][i].where(tau_normd[mk][i]*rk>threshold).dropna()*rk\n",
        "    #there were two lines in the pseudocode that were unnecessary, but I'll do them anyways.\n",
        "    rk = 1/np.mean(tau_normd[mk][i].values)\n",
        "    tau_normd[mk][i] = tau_normd[mk][i]*rk\n",
        "  print('---')\n",
        "  for mk in range(len(mag_list)):\n",
        "    for ml in range(mk):\n",
        "      print(mk,ml)\n",
        "      print(stats.ks_2samp(tau_normd[mk][i].values,tau_normd[ml][i].values))\n",
        "      \n",
        "for j in [0,1]:\n",
        "  for i in range(5):\n",
        "    print(len(tau_normd[i][j]))"
      ],
      "execution_count": 44,
      "outputs": [
        {
          "output_type": "stream",
          "text": [
            "---\n",
            "1 0\n",
            "Ks_2sampResult(statistic=0.01646401614679427, pvalue=0.2988924217300161)\n",
            "2 0\n",
            "Ks_2sampResult(statistic=0.026143467057560765, pvalue=0.46579212837991557)\n",
            "2 1\n",
            "Ks_2sampResult(statistic=0.021496139481659394, pvalue=1.0)\n",
            "3 0\n",
            "Ks_2sampResult(statistic=0.07063699966478432, pvalue=0.07869015564429575)\n",
            "3 1\n",
            "Ks_2sampResult(statistic=0.060674947049273745, pvalue=0.1976817322234541)\n",
            "3 2\n",
            "Ks_2sampResult(statistic=0.05313430764467883, pvalue=0.44653933946712554)\n",
            "4 0\n",
            "Ks_2sampResult(statistic=0.12829356999554092, pvalue=0.10857153243367323)\n",
            "4 1\n",
            "Ks_2sampResult(statistic=0.12631452677036267, pvalue=0.11297757155874633)\n",
            "4 2\n",
            "Ks_2sampResult(statistic=0.12705959423512128, pvalue=0.1269977872439345)\n",
            "4 3\n",
            "Ks_2sampResult(statistic=0.09144913269289522, pvalue=0.5631282678202599)\n",
            "---\n",
            "1 0\n",
            "Ks_2sampResult(statistic=0.022693722952343426, pvalue=0.044826450192210744)\n",
            "2 0\n",
            "Ks_2sampResult(statistic=0.037953932216514386, pvalue=0.0767506784664994)\n",
            "2 1\n",
            "Ks_2sampResult(statistic=0.02617627102781872, pvalue=1.0)\n",
            "3 0\n",
            "Ks_2sampResult(statistic=0.08224477807680222, pvalue=0.01816493801413496)\n",
            "3 1\n",
            "Ks_2sampResult(statistic=0.06215274379483894, pvalue=0.14900908581100847)\n",
            "3 2\n",
            "Ks_2sampResult(statistic=0.04922042543325798, pvalue=0.5001271528884628)\n",
            "4 0\n",
            "Ks_2sampResult(statistic=0.12462853664073303, pvalue=0.10964147614060792)\n",
            "4 1\n",
            "Ks_2sampResult(statistic=0.11955260457968755, pvalue=0.13195407953605476)\n",
            "4 2\n",
            "Ks_2sampResult(statistic=0.11901759915944313, pvalue=0.15492363346812021)\n",
            "4 3\n",
            "Ks_2sampResult(statistic=0.0799220857057237, pvalue=0.6935673499229381)\n",
            "15799\n",
            "4496\n",
            "1132\n",
            "331\n",
            "89\n",
            "16496\n",
            "4749\n",
            "1215\n",
            "355\n",
            "94\n"
          ],
          "name": "stdout"
        }
      ]
    },
    {
      "cell_type": "markdown",
      "metadata": {
        "id": "XEAqBC-H4MJ2",
        "colab_type": "text"
      },
      "source": [
        "\n",
        "$m= 0.01$ | $N$  | $M\\geq2.0$ | $M\\geq2.5$| $M\\geq3.0$ | $M\\geq3.5$ | $M\\geq4.0$ | \n",
        "--- | --- |--- |--- |--- |--- |--- | \n",
        "$M\\geq2.0$ | $15799$ |-    |29.9%  |46.6% |7.9%   |10.9%\n",
        "$M\\geq2.5$ | $4496$ | 0.016| -     |100%  |19.8%  |11.3%\n",
        "$M\\geq3.0$ | $1132$ | 0.026| 0.021 |-     |50.0%  |15.5%\n",
        "$M\\geq3.5$ | $331$  | 0.070| 0.061 |0.049 | -     |56.3%\n",
        "$M\\geq4.0$ | $89$   | 0.128| 0.126 |0.119 | 0.080 | -\n",
        "\n",
        "$m= 0.001$ | $N$  | $M\\geq2.0$ | $M\\geq2.5$| $M\\geq3.0$ | $M\\geq3.5$ | $M\\geq4.0$ | \n",
        "--- | --- | --- | --- |---| ---| --- |\n",
        "$M\\geq2.0$ | $16496$|-     |4.5%  |7.7%  |1.8%   |11.0%\n",
        "$M\\geq2.5$ | $4749$ | 0.023|-     |100%  |14.9%  |13.2%\n",
        "$M\\geq3.0$ | $1215$ | 0.038|0.026 |-     |50.0%  |15.5%\n",
        "$M\\geq3.5$ | $335$  | 0.082|0.062 |0.049 | -     |69.4%\n",
        "$M\\geq4.0$ |  $94$  | 0.125|0.112 |0.119 | 0.080 |-\n",
        "\n"
      ]
    },
    {
      "cell_type": "markdown",
      "metadata": {
        "id": "71NHEKky9TYJ",
        "colab_type": "text"
      },
      "source": [
        "According to this table (specifically for *m=0.001*) it appears that the scaling hypothesis can be rejected. However, the K.S. test may have an issue with datasets this large. See the analysis given in the very last cell of this notebook."
      ]
    },
    {
      "cell_type": "markdown",
      "metadata": {
        "id": "pvWuzo6gP46t",
        "colab_type": "text"
      },
      "source": [
        "## An explanation of my cumulative probability distribution method\n",
        "So the cumulative distribution function plots the percentage of all entries with associated times shorter than the given value, for all values in the array.\n",
        "\n",
        "Equivalently, I could just sort the array, enumerate each entry, and divide the enumeration by the number of entries. That is: the lowest entry has 0 shorter measurements in the set, the second lowest has 1, the third lowest has 2... So this is simply the index of the sorted measuement. These need to be normalized to a percent of the total sample rather than an integer number due to varied sub-sample sizes.\n",
        "\n",
        "The cumulative distribution function is then the index of the value (normalized to a maximum of 1) as a function of the value (normalized to a mean of 1)."
      ]
    },
    {
      "cell_type": "code",
      "metadata": {
        "id": "Ogy10HlmvNCs",
        "colab_type": "code",
        "outputId": "0a4a79e3-1651-4231-be4e-d3f88951ccc4",
        "colab": {
          "base_uri": "https://localhost:8080/",
          "height": 90
        }
      },
      "source": [
        "tau_sort = np.zeros_like(tau_normd)\n",
        "\n",
        "for i in range(len(tau_normd)):\n",
        "  for j in range(len(tau_normd[i])):\n",
        "    tau_sort[i,j] = np.sort(tau_normd[i,j].values)\n",
        "\n",
        "tau_sort[1]"
      ],
      "execution_count": 45,
      "outputs": [
        {
          "output_type": "execute_result",
          "data": {
            "text/plain": [
              "array([array([1.01179314e-02, 1.02565171e-02, 1.02747986e-02, ...,\n",
              "       1.00244457e+01, 1.03540890e+01, 1.39519032e+01]),\n",
              "       array([1.01323487e-03, 1.04063643e-03, 1.05495997e-03, ...,\n",
              "       1.05860163e+01, 1.09341264e+01, 1.47334906e+01])], dtype=object)"
            ]
          },
          "metadata": {
            "tags": []
          },
          "execution_count": 45
        }
      ]
    },
    {
      "cell_type": "code",
      "metadata": {
        "id": "xCGf3knbSb1r",
        "colab_type": "code",
        "colab": {
          "base_uri": "https://localhost:8080/",
          "height": 352
        },
        "outputId": "51d46dc0-1754-48fb-ab6f-744dc65101a2"
      },
      "source": [
        "for i in range(len(tau_sort)):\n",
        "  pl.plot(tau_sort[i][0],np.linspace(0,1,num=len(tau_sort[i][0])),'.',\n",
        "          markersize=2, label='Mag '+str(mag_list[i]))\n",
        "pl.legend(markerscale=6)\n",
        "pl.ylabel(r'$P(x)\\quad$(unitless)')\n",
        "pl.xlabel(r'$x\\equiv R_s\\tau\\quad$(unitless)')\n",
        "pl.xscale('log')\n",
        "pl.title('Scaled Inter-Event Earthquake Times\\nthreshold=0.01')\n"
      ],
      "execution_count": 46,
      "outputs": [
        {
          "output_type": "execute_result",
          "data": {
            "text/plain": [
              "Text(0.5, 1.0, 'Scaled Inter-Event Earthquake Times\\nthreshold=0.01')"
            ]
          },
          "metadata": {
            "tags": []
          },
          "execution_count": 46
        },
        {
          "output_type": "display_data",
          "data": {
            "image/png": "[encoded data removed]",
            "text/plain": [
              "<Figure size 432x288 with 1 Axes>"
            ]
          },
          "metadata": {
            "tags": []
          }
        }
      ]
    },
    {
      "cell_type": "code",
      "metadata": {
        "id": "yJmzYFBVJRn4",
        "colab_type": "code",
        "colab": {
          "base_uri": "https://localhost:8080/",
          "height": 352
        },
        "outputId": "74d67d03-4d72-453d-e85b-75cb01aa4c8a"
      },
      "source": [
        "for i in range(len(tau_sort)):\n",
        "  pl.plot(tau_sort[i][1],np.linspace(0,1,num=len(tau_sort[i][1])),'.',\n",
        "          markersize=2,label='Mag '+str(mag_list[i]))\n",
        "pl.legend(markerscale=6)\n",
        "pl.ylabel(r'$P(x)\\quad$(unitless)')\n",
        "pl.xlabel(r'$x\\equiv R_s\\tau\\quad$(unitless)')\n",
        "pl.xscale('log')\n",
        "pl.title('Scaled Inter-Event Earthquake Times\\nthreshold=0.001')\n"
      ],
      "execution_count": 47,
      "outputs": [
        {
          "output_type": "execute_result",
          "data": {
            "text/plain": [
              "Text(0.5, 1.0, 'Scaled Inter-Event Earthquake Times\\nthreshold=0.001')"
            ]
          },
          "metadata": {
            "tags": []
          },
          "execution_count": 47
        },
        {
          "output_type": "display_data",
          "data": {
            "image/png": "[encoded data removed]",
            "text/plain": [
              "<Figure size 432x288 with 1 Axes>"
            ]
          },
          "metadata": {
            "tags": []
          }
        }
      ]
    },
    {
      "cell_type": "code",
      "metadata": {
        "id": "eYY5X1izMVmb",
        "colab_type": "code",
        "colab": {
          "base_uri": "https://localhost:8080/",
          "height": 35
        },
        "outputId": "7b02caac-ac8b-4ff8-88f2-e1d7acea2b81"
      },
      "source": [
        "print(stats.ks_2samp(tau_normd[0][0].values,tau_normd[4][0].values).pvalue)"
      ],
      "execution_count": 48,
      "outputs": [
        {
          "output_type": "stream",
          "text": [
            "0.10857153243367323\n"
          ],
          "name": "stdout"
        }
      ]
    },
    {
      "cell_type": "markdown",
      "metadata": {
        "id": "hFoIKo7oM1tb",
        "colab_type": "text"
      },
      "source": [
        "Okay since the above code works then this should be easy"
      ]
    },
    {
      "cell_type": "code",
      "metadata": {
        "id": "c-MKfXCsMufr",
        "colab_type": "code",
        "colab": {
          "base_uri": "https://localhost:8080/",
          "height": 599
        },
        "outputId": "7e1ac0e1-69d4-49ce-ce5a-f08b66506f9f"
      },
      "source": [
        "ks_pvals = np.ones([2,5,5])\n",
        "#ks_pvals\n",
        "\n",
        "\n",
        "for i1 in range(5):\n",
        "  for i2 in range(i1):\n",
        "    for thr in range(2):\n",
        "      ks_pvals[thr,i1,i2] = stats.ks_2samp(tau_normd[i1,thr].values,tau_normd[i2,thr].values).pvalue\n",
        "      ks_pvals[thr,i2,i1] = ks_pvals[thr,i1,i2]\n",
        "\n",
        "pl.imshow(ks_pvals[0]);\n",
        "pl.axis('off')\n",
        "cb = pl.colorbar()\n",
        "cb.ax.set_ylabel(r'$p$-value')\n",
        "pl.title(\"KS test results\\nthreshold=0.01\");\n",
        "\n",
        "pl.show()\n",
        "\n",
        "pl.imshow(ks_pvals[1]);\n",
        "pl.axis('off')\n",
        "cb = pl.colorbar()\n",
        "cb.ax.set_ylabel(r'$p$-value')\n",
        "pl.title(\"KS test results\\nthreshold=0.001\");"
      ],
      "execution_count": 49,
      "outputs": [
        {
          "output_type": "display_data",
          "data": {
            "image/png": "[encoded data removed]",
            "text/plain": [
              "<Figure size 432x288 with 2 Axes>"
            ]
          },
          "metadata": {
            "tags": []
          }
        },
        {
          "output_type": "display_data",
          "data": {
            "image/png": "[encoded data removed]",
            "text/plain": [
              "<Figure size 432x288 with 2 Axes>"
            ]
          },
          "metadata": {
            "tags": []
          }
        }
      ]
    },
    {
      "cell_type": "code",
      "metadata": {
        "id": "Tlco3RsyNBtw",
        "colab_type": "code",
        "colab": {
          "base_uri": "https://localhost:8080/",
          "height": 599
        },
        "outputId": "88184028-2290-422a-cb67-3f94a54e5c52"
      },
      "source": [
        "#import matplotlib.colors as colors\n",
        "\n",
        "pl.imshow(ks_pvals[0],vmin=0.05, vmax=0.05);\n",
        "pl.axis('off')\n",
        "cb = pl.colorbar()\n",
        "cb.cmap.set_under('r')\n",
        "cb.cmap.set_over('w')\n",
        "cb.remove()\n",
        "pl.title(\"KS test significance\\nthreshold=0.01\");\n",
        "\n",
        "pl.show()\n",
        "\n",
        "pl.imshow(ks_pvals[1],vmin=0.05, vmax=0.05);\n",
        "pl.axis('off')\n",
        "cb = pl.colorbar()\n",
        "cb.cmap.set_under('r')\n",
        "cb.cmap.set_over('w')\n",
        "cb.remove()\n",
        "pl.title(\"KS test significance\\nthreshold=0.001\");"
      ],
      "execution_count": 50,
      "outputs": [
        {
          "output_type": "display_data",
          "data": {
            "image/png": "[encoded data removed]",
            "text/plain": [
              "<Figure size 432x288 with 1 Axes>"
            ]
          },
          "metadata": {
            "tags": []
          }
        },
        {
          "output_type": "display_data",
          "data": {
            "image/png": "[encoded data removed]",
            "text/plain": [
              "<Figure size 432x288 with 1 Axes>"
            ]
          },
          "metadata": {
            "tags": []
          }
        }
      ]
    },
    {
      "cell_type": "markdown",
      "metadata": {
        "id": "ITFddSHCyaOS",
        "colab_type": "text"
      },
      "source": [
        "I did not need to change my significance threshold $\\alpha$ in order to see some significance. This is most likely because the KS test is ill-suited for such large datasets. I've found some literature on issues with the KS test in general as well.\n",
        "\n",
        "Note that both the tests that gave significant results were found when comparing the largest dataset to another. With so many points to compare, there may be an increase in the probability of finding statistically significant results that the test does not account for."
      ]
    }
  ]
}