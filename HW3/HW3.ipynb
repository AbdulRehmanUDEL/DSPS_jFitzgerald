{
  "nbformat": 4,
  "nbformat_minor": 0,
  "metadata": {
    "colab": {
      "name": "HW3.ipynb",
      "version": "0.3.2",
      "provenance": [],
      "collapsed_sections": []
    },
    "kernelspec": {
      "name": "python3",
      "display_name": "Python 3"
    }
  },
  "cells": [
    {
      "cell_type": "code",
      "metadata": {
        "id": "ly4r_qnEPqFt",
        "colab_type": "code",
        "outputId": "66ae27c6-4f0f-4299-cf2a-0763b1f98966",
        "colab": {
          "base_uri": "https://localhost:8080/",
          "height": 129
        }
      },
      "source": [
        "import pandas as pd\n",
        "%pylab inline\n",
        "import numpy as np\n",
        "import pylab as pl\n",
        "import scipy as sp\n",
        "from scipy import stats\n",
        "%pylab inline\n",
        "pl.style.use(\"https://raw.githubusercontent.com/fedhere/DSPS/master/fbb.mplstyle\")"
      ],
      "execution_count": 76,
      "outputs": [
        {
          "output_type": "stream",
          "text": [
            "Populating the interactive namespace from numpy and matplotlib\n",
            "Populating the interactive namespace from numpy and matplotlib\n"
          ],
          "name": "stdout"
        },
        {
          "output_type": "stream",
          "text": [
            "/usr/local/lib/python3.6/dist-packages/IPython/core/magics/pylab.py:161: UserWarning: pylab import has clobbered these variables: ['test']\n",
            "`%matplotlib` prevents importing * from pylab and numpy\n",
            "  \"\\n`%matplotlib` prevents importing * from pylab and numpy\"\n"
          ],
          "name": "stderr"
        }
      ]
    },
    {
      "cell_type": "markdown",
      "metadata": {
        "id": "GoROv1ZcP65I",
        "colab_type": "text"
      },
      "source": [
        "I extracted precipitations records for Willmington from 2000/01/01 through today. \n",
        "The goal is to extract from these data the daily precipitation starting on 2018/01/01 and assess if these data are different from a population with mean $\\mu = 0.14$ standard deviation $\\sigma= 0.38$. \n",
        "\n",
        "Set a p-value at $2\\sigma$:  $p=0.05$"
      ]
    },
    {
      "cell_type": "code",
      "metadata": {
        "id": "ptBGYViVPt7E",
        "colab_type": "code",
        "outputId": "3ee013f4-a3b1-433d-fadc-0cc11641a62f",
        "colab": {
          "base_uri": "https://localhost:8080/",
          "height": 55
        }
      },
      "source": [
        "rain = pd.read_csv(\"https://raw.githubusercontent.com/fedhere/DSPS/master/labs/1865331.csv\")\n",
        "rain.columns"
      ],
      "execution_count": 2,
      "outputs": [
        {
          "output_type": "execute_result",
          "data": {
            "text/plain": [
              "Index(['STATION', 'NAME', 'DATE', 'PRCP', 'SNOW', 'SNWD', 'WESD', 'WESF'], dtype='object')"
            ]
          },
          "metadata": {
            "tags": []
          },
          "execution_count": 2
        }
      ]
    },
    {
      "cell_type": "markdown",
      "metadata": {
        "id": "lsWadx6NPywP",
        "colab_type": "text"
      },
      "source": [
        "\n",
        "The $Z$ statistics is : $Z = \\frac{\\bar{X} - \\mu }{s}$ and $s = \\sigma / \\sqrt(N)$ (you should know what all those symbols mean)\n",
        "\n",
        "1. Extract from the dataframe above the columns \"DATE\" and \"PRCP\" (precipitation)\n",
        "\n",
        "2. Convert the dataframe DATE from ```string``` to ```datetime``` type\n",
        " using pd.datetime() \n",
        "    \n",
        "3. Select the data rows with date later than 2018/01/01. \n",
        "    If your data type conversion worked well you should be able to set the condition as ```rain[<newcolumnname>]> pd.datetime(\"2018/01/01\")```\n",
        "    use the technique called \"broadcasting\" to select the rows: \n",
        "    \n",
        "    ```rain[ rain[<newcolumnname>]> pd.datetime(\"2018/01/01\")]``` which you can save as a new dataframe\n",
        "    \n",
        "4. Calculate the mean of the sample you created $\\bar{X}$ and plug it in  the numerator of the $Z$ statistics: $\\bar{X}- \\mu$\n",
        "\n",
        "5. Calculate the size of the sample and plug it in the formula. Now you have $Z$\n",
        "\n",
        "6. Knowing the distribution of $Z\\sim N(\\mu=0, \\sigma=1)$ and with a confidence $p=0.05$, did you find that the time period 2018/01/01---today has a statistically significant different amount of rain?  \n",
        "    "
      ]
    },
    {
      "cell_type": "code",
      "metadata": {
        "id": "ncJKVT8GPvcD",
        "colab_type": "code",
        "outputId": "6bc6b591-9876-4a47-a6f0-4db89058c725",
        "colab": {
          "base_uri": "https://localhost:8080/",
          "height": 35
        }
      },
      "source": [
        "rainonly=rain[[\"DATE\",\"PRCP\"]]\n",
        "rainonly.head()\n",
        "rainonly.DATE.dtype"
      ],
      "execution_count": 3,
      "outputs": [
        {
          "output_type": "execute_result",
          "data": {
            "text/plain": [
              "dtype('O')"
            ]
          },
          "metadata": {
            "tags": []
          },
          "execution_count": 3
        }
      ]
    },
    {
      "cell_type": "code",
      "metadata": {
        "id": "WJO6GuXn4kF2",
        "colab_type": "code",
        "outputId": "42919880-a192-4278-809c-a316c9d88754",
        "colab": {
          "base_uri": "https://localhost:8080/",
          "height": 147
        }
      },
      "source": [
        "rainonly['DATE']=pd.to_datetime(rainonly.DATE)"
      ],
      "execution_count": 4,
      "outputs": [
        {
          "output_type": "stream",
          "text": [
            "/usr/local/lib/python3.6/dist-packages/ipykernel_launcher.py:1: SettingWithCopyWarning: \n",
            "A value is trying to be set on a copy of a slice from a DataFrame.\n",
            "Try using .loc[row_indexer,col_indexer] = value instead\n",
            "\n",
            "See the caveats in the documentation: http://pandas.pydata.org/pandas-docs/stable/indexing.html#indexing-view-versus-copy\n",
            "  \"\"\"Entry point for launching an IPython kernel.\n"
          ],
          "name": "stderr"
        }
      ]
    },
    {
      "cell_type": "code",
      "metadata": {
        "id": "Ycv7jZcR5okm",
        "colab_type": "code",
        "outputId": "0115f534-e8bb-4882-a1e5-515be7c8dee0",
        "colab": {
          "base_uri": "https://localhost:8080/",
          "height": 206
        }
      },
      "source": [
        "rainonly.head()"
      ],
      "execution_count": 5,
      "outputs": [
        {
          "output_type": "execute_result",
          "data": {
            "text/html": [
              "<div>\n",
              "<style scoped>\n",
              "    .dataframe tbody tr th:only-of-type {\n",
              "        vertical-align: middle;\n",
              "    }\n",
              "\n",
              "    .dataframe tbody tr th {\n",
              "        vertical-align: top;\n",
              "    }\n",
              "\n",
              "    .dataframe thead th {\n",
              "        text-align: right;\n",
              "    }\n",
              "</style>\n",
              "<table border=\"1\" class=\"dataframe\">\n",
              "  <thead>\n",
              "    <tr style=\"text-align: right;\">\n",
              "      <th></th>\n",
              "      <th>DATE</th>\n",
              "      <th>PRCP</th>\n",
              "    </tr>\n",
              "  </thead>\n",
              "  <tbody>\n",
              "    <tr>\n",
              "      <th>0</th>\n",
              "      <td>2010-01-01</td>\n",
              "      <td>0.28</td>\n",
              "    </tr>\n",
              "    <tr>\n",
              "      <th>1</th>\n",
              "      <td>2010-01-02</td>\n",
              "      <td>0.00</td>\n",
              "    </tr>\n",
              "    <tr>\n",
              "      <th>2</th>\n",
              "      <td>2010-01-03</td>\n",
              "      <td>0.00</td>\n",
              "    </tr>\n",
              "    <tr>\n",
              "      <th>3</th>\n",
              "      <td>2010-01-04</td>\n",
              "      <td>0.00</td>\n",
              "    </tr>\n",
              "    <tr>\n",
              "      <th>4</th>\n",
              "      <td>2010-01-05</td>\n",
              "      <td>0.00</td>\n",
              "    </tr>\n",
              "  </tbody>\n",
              "</table>\n",
              "</div>"
            ],
            "text/plain": [
              "        DATE  PRCP\n",
              "0 2010-01-01  0.28\n",
              "1 2010-01-02  0.00\n",
              "2 2010-01-03  0.00\n",
              "3 2010-01-04  0.00\n",
              "4 2010-01-05  0.00"
            ]
          },
          "metadata": {
            "tags": []
          },
          "execution_count": 5
        }
      ]
    },
    {
      "cell_type": "code",
      "metadata": {
        "id": "oZGaUmKP726A",
        "colab_type": "code",
        "colab": {}
      },
      "source": [
        "recent = rainonly[rainonly['DATE']>pd.to_datetime(\"2018/01/01\")]"
      ],
      "execution_count": 0,
      "outputs": []
    },
    {
      "cell_type": "code",
      "metadata": {
        "id": "RE7vowHR8mnq",
        "colab_type": "code",
        "outputId": "a68738b0-20db-41e2-b51f-7459567a83c3",
        "colab": {
          "base_uri": "https://localhost:8080/",
          "height": 300
        }
      },
      "source": [
        "recent.describe()"
      ],
      "execution_count": 7,
      "outputs": [
        {
          "output_type": "execute_result",
          "data": {
            "text/html": [
              "<div>\n",
              "<style scoped>\n",
              "    .dataframe tbody tr th:only-of-type {\n",
              "        vertical-align: middle;\n",
              "    }\n",
              "\n",
              "    .dataframe tbody tr th {\n",
              "        vertical-align: top;\n",
              "    }\n",
              "\n",
              "    .dataframe thead th {\n",
              "        text-align: right;\n",
              "    }\n",
              "</style>\n",
              "<table border=\"1\" class=\"dataframe\">\n",
              "  <thead>\n",
              "    <tr style=\"text-align: right;\">\n",
              "      <th></th>\n",
              "      <th>PRCP</th>\n",
              "    </tr>\n",
              "  </thead>\n",
              "  <tbody>\n",
              "    <tr>\n",
              "      <th>count</th>\n",
              "      <td>615.000000</td>\n",
              "    </tr>\n",
              "    <tr>\n",
              "      <th>mean</th>\n",
              "      <td>0.162504</td>\n",
              "    </tr>\n",
              "    <tr>\n",
              "      <th>std</th>\n",
              "      <td>0.365007</td>\n",
              "    </tr>\n",
              "    <tr>\n",
              "      <th>min</th>\n",
              "      <td>0.000000</td>\n",
              "    </tr>\n",
              "    <tr>\n",
              "      <th>25%</th>\n",
              "      <td>0.000000</td>\n",
              "    </tr>\n",
              "    <tr>\n",
              "      <th>50%</th>\n",
              "      <td>0.000000</td>\n",
              "    </tr>\n",
              "    <tr>\n",
              "      <th>75%</th>\n",
              "      <td>0.120000</td>\n",
              "    </tr>\n",
              "    <tr>\n",
              "      <th>max</th>\n",
              "      <td>2.450000</td>\n",
              "    </tr>\n",
              "  </tbody>\n",
              "</table>\n",
              "</div>"
            ],
            "text/plain": [
              "             PRCP\n",
              "count  615.000000\n",
              "mean     0.162504\n",
              "std      0.365007\n",
              "min      0.000000\n",
              "25%      0.000000\n",
              "50%      0.000000\n",
              "75%      0.120000\n",
              "max      2.450000"
            ]
          },
          "metadata": {
            "tags": []
          },
          "execution_count": 7
        }
      ]
    },
    {
      "cell_type": "code",
      "metadata": {
        "id": "7Oe-h_g-8zLA",
        "colab_type": "code",
        "outputId": "4b9e9176-d2f8-4077-b52f-3eb3f49d329f",
        "colab": {
          "base_uri": "https://localhost:8080/",
          "height": 182
        }
      },
      "source": [
        "rainonly.PRCP.describe()"
      ],
      "execution_count": 8,
      "outputs": [
        {
          "output_type": "execute_result",
          "data": {
            "text/plain": [
              "count    3538.000000\n",
              "mean        0.137340\n",
              "std         0.382174\n",
              "min         0.000000\n",
              "25%         0.000000\n",
              "50%         0.000000\n",
              "75%         0.070000\n",
              "max         6.960000\n",
              "Name: PRCP, dtype: float64"
            ]
          },
          "metadata": {
            "tags": []
          },
          "execution_count": 8
        }
      ]
    },
    {
      "cell_type": "markdown",
      "metadata": {
        "id": "_MVkFRWBbdDv",
        "colab_type": "text"
      },
      "source": [
        "this is $\\frac{\\bar X-\\mu}{\\sigma}\\sqrt{N}$:"
      ]
    },
    {
      "cell_type": "code",
      "metadata": {
        "id": "x1L4DUz789o2",
        "colab_type": "code",
        "outputId": "c022016b-a3c1-4b68-b5c7-c127ce2e0556",
        "colab": {
          "base_uri": "https://localhost:8080/",
          "height": 35
        }
      },
      "source": [
        "(0.162504-0.137340)/(0.38*(615**(-0.5)))"
      ],
      "execution_count": 9,
      "outputs": [
        {
          "output_type": "execute_result",
          "data": {
            "text/plain": [
              "1.6422287003201257"
            ]
          },
          "metadata": {
            "tags": []
          },
          "execution_count": 9
        }
      ]
    },
    {
      "cell_type": "markdown",
      "metadata": {
        "id": "2wN0kxx190M3",
        "colab_type": "text"
      },
      "source": [
        "No, it does not appear that it is significantly higher. For $p<0.05$, the $z$ value would have to be greater than 2 (or less than -2 for statistically significantly less rainfall)"
      ]
    },
    {
      "cell_type": "markdown",
      "metadata": {
        "id": "_2jcOq03YaX8",
        "colab_type": "text"
      },
      "source": [
        "# `HERE BEGINS PART 2`"
      ]
    },
    {
      "cell_type": "markdown",
      "metadata": {
        "id": "l6E7WQnlcN9e",
        "colab_type": "text"
      },
      "source": [
        "### `1 What is the test's Null Hypothsis that the K-S test tests?`\n",
        "\n",
        "*The K-S test's Null Hypothesis is that the two datasets being compared were generated from the same parent distribution.*\n",
        "\n",
        "---\n",
        "\n",
        "### `2 What is the \"statistic\" or \"pivotal quantity\" that the test uses?`\n",
        "\n",
        "*It bases it's result off of the greatest distance between the two sampless' Cumulative Distribution Functions*\n",
        "\n",
        "---\n",
        "\n",
        "### `3 What does the probability distribution of this statistic depend on?`\n",
        "\n",
        "*The maximum distance noted above and the sizes of the two samples*\n",
        "\n",
        "Specifically the null hyponthesis is rejected at a confidence level $\\alpha$ if the maximum distance between the two CDFs obeys:\n",
        "\n",
        "$\\displaystyle{D_{m,n}>\\sqrt{-\\frac{1}{2}\\ln\\alpha\\cdot \\frac{n+m}{nm}}}$"
      ]
    },
    {
      "cell_type": "code",
      "metadata": {
        "id": "EiGOXjyrYZrt",
        "colab_type": "code",
        "colab": {}
      },
      "source": [
        "quakes_raw=pd.read_csv(\"https://raw.githubusercontent.com/sheamusfitz/DSPS_jFitzgerald/master/HW3/quakes.csv\",sep=\" \")"
      ],
      "execution_count": 0,
      "outputs": []
    },
    {
      "cell_type": "markdown",
      "metadata": {
        "id": "g1l_3GGyg6gT",
        "colab_type": "text"
      },
      "source": [
        "I modified the formatting of this data in a slightly different manner. In vim I ran a search over the data, replacing all instances of \"{space}{space}\" with \"{space}\". I repeated this until there were no more instances of \"{space}{space}\"."
      ]
    },
    {
      "cell_type": "code",
      "metadata": {
        "id": "KdveGytngbN2",
        "colab_type": "code",
        "outputId": "ccf3be02-73a1-49fb-d5e2-6e7647ea47a0",
        "colab": {
          "base_uri": "https://localhost:8080/",
          "height": 226
        }
      },
      "source": [
        "quakes_raw.head()"
      ],
      "execution_count": 11,
      "outputs": [
        {
          "output_type": "execute_result",
          "data": {
            "text/html": [
              "<div>\n",
              "<style scoped>\n",
              "    .dataframe tbody tr th:only-of-type {\n",
              "        vertical-align: middle;\n",
              "    }\n",
              "\n",
              "    .dataframe tbody tr th {\n",
              "        vertical-align: top;\n",
              "    }\n",
              "\n",
              "    .dataframe thead th {\n",
              "        text-align: right;\n",
              "    }\n",
              "</style>\n",
              "<table border=\"1\" class=\"dataframe\">\n",
              "  <thead>\n",
              "    <tr style=\"text-align: right;\">\n",
              "      <th></th>\n",
              "      <th>#YYY/MM/DD</th>\n",
              "      <th>HH:mm:SS.ss</th>\n",
              "      <th>ET</th>\n",
              "      <th>GT</th>\n",
              "      <th>MAG</th>\n",
              "      <th>M</th>\n",
              "      <th>LAT</th>\n",
              "      <th>LON</th>\n",
              "      <th>DEPTH</th>\n",
              "      <th>Q</th>\n",
              "      <th>EVID</th>\n",
              "      <th>NPH</th>\n",
              "      <th>NGRM</th>\n",
              "    </tr>\n",
              "  </thead>\n",
              "  <tbody>\n",
              "    <tr>\n",
              "      <th>0</th>\n",
              "      <td>1984/01/01</td>\n",
              "      <td>01:30:57.52</td>\n",
              "      <td>eq</td>\n",
              "      <td>l</td>\n",
              "      <td>2.02</td>\n",
              "      <td>c</td>\n",
              "      <td>33.246</td>\n",
              "      <td>-116.433</td>\n",
              "      <td>1.6</td>\n",
              "      <td>C</td>\n",
              "      <td>28255.0</td>\n",
              "      <td>13.0</td>\n",
              "      <td>17.0</td>\n",
              "    </tr>\n",
              "    <tr>\n",
              "      <th>1</th>\n",
              "      <td>1984/01/01</td>\n",
              "      <td>05:31:34.16</td>\n",
              "      <td>eq</td>\n",
              "      <td>l</td>\n",
              "      <td>2.12</td>\n",
              "      <td>c</td>\n",
              "      <td>32.945</td>\n",
              "      <td>-116.295</td>\n",
              "      <td>5.4</td>\n",
              "      <td>C</td>\n",
              "      <td>28259.0</td>\n",
              "      <td>18.0</td>\n",
              "      <td>42.0</td>\n",
              "    </tr>\n",
              "    <tr>\n",
              "      <th>2</th>\n",
              "      <td>1984/01/01</td>\n",
              "      <td>06:59:05.14</td>\n",
              "      <td>eq</td>\n",
              "      <td>l</td>\n",
              "      <td>2.43</td>\n",
              "      <td>c</td>\n",
              "      <td>33.343</td>\n",
              "      <td>-117.628</td>\n",
              "      <td>5.6</td>\n",
              "      <td>C</td>\n",
              "      <td>28260.0</td>\n",
              "      <td>13.0</td>\n",
              "      <td>30.0</td>\n",
              "    </tr>\n",
              "    <tr>\n",
              "      <th>3</th>\n",
              "      <td>1984/01/01</td>\n",
              "      <td>11:10:25.29</td>\n",
              "      <td>eq</td>\n",
              "      <td>l</td>\n",
              "      <td>2.07</td>\n",
              "      <td>c</td>\n",
              "      <td>33.668</td>\n",
              "      <td>-116.780</td>\n",
              "      <td>13.8</td>\n",
              "      <td>C</td>\n",
              "      <td>28270.0</td>\n",
              "      <td>19.0</td>\n",
              "      <td>40.0</td>\n",
              "    </tr>\n",
              "    <tr>\n",
              "      <th>4</th>\n",
              "      <td>1984/01/01</td>\n",
              "      <td>19:38:19.79</td>\n",
              "      <td>eq</td>\n",
              "      <td>l</td>\n",
              "      <td>2.13</td>\n",
              "      <td>c</td>\n",
              "      <td>33.963</td>\n",
              "      <td>-116.290</td>\n",
              "      <td>2.7</td>\n",
              "      <td>C</td>\n",
              "      <td>28553.0</td>\n",
              "      <td>40.0</td>\n",
              "      <td>49.0</td>\n",
              "    </tr>\n",
              "  </tbody>\n",
              "</table>\n",
              "</div>"
            ],
            "text/plain": [
              "   #YYY/MM/DD  HH:mm:SS.ss  ET GT   MAG  ... DEPTH  Q     EVID   NPH  NGRM\n",
              "0  1984/01/01  01:30:57.52  eq  l  2.02  ...   1.6  C  28255.0  13.0  17.0\n",
              "1  1984/01/01  05:31:34.16  eq  l  2.12  ...   5.4  C  28259.0  18.0  42.0\n",
              "2  1984/01/01  06:59:05.14  eq  l  2.43  ...   5.6  C  28260.0  13.0  30.0\n",
              "3  1984/01/01  11:10:25.29  eq  l  2.07  ...  13.8  C  28270.0  19.0  40.0\n",
              "4  1984/01/01  19:38:19.79  eq  l  2.13  ...   2.7  C  28553.0  40.0  49.0\n",
              "\n",
              "[5 rows x 13 columns]"
            ]
          },
          "metadata": {
            "tags": []
          },
          "execution_count": 11
        }
      ]
    },
    {
      "cell_type": "code",
      "metadata": {
        "id": "pQy5HexFggLG",
        "colab_type": "code",
        "outputId": "9485aff5-60ac-4a6c-f3cc-3cf8ddbd43f4",
        "colab": {
          "base_uri": "https://localhost:8080/",
          "height": 35
        }
      },
      "source": [
        "quakes_raw.shape"
      ],
      "execution_count": 12,
      "outputs": [
        {
          "output_type": "execute_result",
          "data": {
            "text/plain": [
              "(71446, 13)"
            ]
          },
          "metadata": {
            "tags": []
          },
          "execution_count": 12
        }
      ]
    },
    {
      "cell_type": "code",
      "metadata": {
        "id": "6tmigbLTg1pc",
        "colab_type": "code",
        "outputId": "6f942c5c-549c-4da6-f572-f5f89042c654",
        "colab": {
          "base_uri": "https://localhost:8080/",
          "height": 320
        }
      },
      "source": [
        "quakes_raw.describe()"
      ],
      "execution_count": 13,
      "outputs": [
        {
          "output_type": "execute_result",
          "data": {
            "text/html": [
              "<div>\n",
              "<style scoped>\n",
              "    .dataframe tbody tr th:only-of-type {\n",
              "        vertical-align: middle;\n",
              "    }\n",
              "\n",
              "    .dataframe tbody tr th {\n",
              "        vertical-align: top;\n",
              "    }\n",
              "\n",
              "    .dataframe thead th {\n",
              "        text-align: right;\n",
              "    }\n",
              "</style>\n",
              "<table border=\"1\" class=\"dataframe\">\n",
              "  <thead>\n",
              "    <tr style=\"text-align: right;\">\n",
              "      <th></th>\n",
              "      <th>MAG</th>\n",
              "      <th>LAT</th>\n",
              "      <th>LON</th>\n",
              "      <th>DEPTH</th>\n",
              "      <th>EVID</th>\n",
              "      <th>NPH</th>\n",
              "      <th>NGRM</th>\n",
              "    </tr>\n",
              "  </thead>\n",
              "  <tbody>\n",
              "    <tr>\n",
              "      <th>count</th>\n",
              "      <td>71446.000000</td>\n",
              "      <td>71445.000000</td>\n",
              "      <td>71445.000000</td>\n",
              "      <td>71445.000000</td>\n",
              "      <td>7.144500e+04</td>\n",
              "      <td>71445.000000</td>\n",
              "      <td>71445.000000</td>\n",
              "    </tr>\n",
              "    <tr>\n",
              "      <th>mean</th>\n",
              "      <td>3.411610</td>\n",
              "      <td>33.960072</td>\n",
              "      <td>-116.843646</td>\n",
              "      <td>5.821510</td>\n",
              "      <td>4.147678e+06</td>\n",
              "      <td>32.018980</td>\n",
              "      <td>203.164574</td>\n",
              "    </tr>\n",
              "    <tr>\n",
              "      <th>std</th>\n",
              "      <td>267.281389</td>\n",
              "      <td>1.080535</td>\n",
              "      <td>1.024872</td>\n",
              "      <td>3.976313</td>\n",
              "      <td>3.929716e+06</td>\n",
              "      <td>24.046221</td>\n",
              "      <td>268.520695</td>\n",
              "    </tr>\n",
              "    <tr>\n",
              "      <th>min</th>\n",
              "      <td>2.000000</td>\n",
              "      <td>31.820000</td>\n",
              "      <td>-119.854000</td>\n",
              "      <td>0.000000</td>\n",
              "      <td>2.825500e+04</td>\n",
              "      <td>0.000000</td>\n",
              "      <td>0.000000</td>\n",
              "    </tr>\n",
              "    <tr>\n",
              "      <th>25%</th>\n",
              "      <td>2.120000</td>\n",
              "      <td>33.097000</td>\n",
              "      <td>-117.662000</td>\n",
              "      <td>3.000000</td>\n",
              "      <td>7.420180e+05</td>\n",
              "      <td>16.000000</td>\n",
              "      <td>63.000000</td>\n",
              "    </tr>\n",
              "    <tr>\n",
              "      <th>50%</th>\n",
              "      <td>2.300000</td>\n",
              "      <td>34.045000</td>\n",
              "      <td>-116.580000</td>\n",
              "      <td>5.300000</td>\n",
              "      <td>3.059672e+06</td>\n",
              "      <td>26.000000</td>\n",
              "      <td>122.000000</td>\n",
              "    </tr>\n",
              "    <tr>\n",
              "      <th>75%</th>\n",
              "      <td>2.580000</td>\n",
              "      <td>34.568000</td>\n",
              "      <td>-116.247330</td>\n",
              "      <td>7.100000</td>\n",
              "      <td>9.026978e+06</td>\n",
              "      <td>40.000000</td>\n",
              "      <td>242.000000</td>\n",
              "    </tr>\n",
              "    <tr>\n",
              "      <th>max</th>\n",
              "      <td>71445.000000</td>\n",
              "      <td>36.628000</td>\n",
              "      <td>-114.237000</td>\n",
              "      <td>29.300000</td>\n",
              "      <td>3.736673e+07</td>\n",
              "      <td>554.000000</td>\n",
              "      <td>3846.000000</td>\n",
              "    </tr>\n",
              "  </tbody>\n",
              "</table>\n",
              "</div>"
            ],
            "text/plain": [
              "                MAG           LAT  ...           NPH          NGRM\n",
              "count  71446.000000  71445.000000  ...  71445.000000  71445.000000\n",
              "mean       3.411610     33.960072  ...     32.018980    203.164574\n",
              "std      267.281389      1.080535  ...     24.046221    268.520695\n",
              "min        2.000000     31.820000  ...      0.000000      0.000000\n",
              "25%        2.120000     33.097000  ...     16.000000     63.000000\n",
              "50%        2.300000     34.045000  ...     26.000000    122.000000\n",
              "75%        2.580000     34.568000  ...     40.000000    242.000000\n",
              "max    71445.000000     36.628000  ...    554.000000   3846.000000\n",
              "\n",
              "[8 rows x 7 columns]"
            ]
          },
          "metadata": {
            "tags": []
          },
          "execution_count": 13
        }
      ]
    },
    {
      "cell_type": "markdown",
      "metadata": {
        "id": "SWRC1qCQhug2",
        "colab_type": "text"
      },
      "source": [
        "whoops, it's taking the number of events as a magnitude, that's no good!"
      ]
    },
    {
      "cell_type": "code",
      "metadata": {
        "id": "p5iu5WaYhlGK",
        "colab_type": "code",
        "colab": {}
      },
      "source": [
        "quakes_raw = quakes_raw.drop([71445],axis=0)"
      ],
      "execution_count": 0,
      "outputs": []
    },
    {
      "cell_type": "code",
      "metadata": {
        "id": "ahbikFKPid6S",
        "colab_type": "code",
        "outputId": "00bdd138-f94f-46a2-c02d-daee6e18836f",
        "colab": {
          "base_uri": "https://localhost:8080/",
          "height": 320
        }
      },
      "source": [
        "quakes_raw.describe()"
      ],
      "execution_count": 15,
      "outputs": [
        {
          "output_type": "execute_result",
          "data": {
            "text/html": [
              "<div>\n",
              "<style scoped>\n",
              "    .dataframe tbody tr th:only-of-type {\n",
              "        vertical-align: middle;\n",
              "    }\n",
              "\n",
              "    .dataframe tbody tr th {\n",
              "        vertical-align: top;\n",
              "    }\n",
              "\n",
              "    .dataframe thead th {\n",
              "        text-align: right;\n",
              "    }\n",
              "</style>\n",
              "<table border=\"1\" class=\"dataframe\">\n",
              "  <thead>\n",
              "    <tr style=\"text-align: right;\">\n",
              "      <th></th>\n",
              "      <th>MAG</th>\n",
              "      <th>LAT</th>\n",
              "      <th>LON</th>\n",
              "      <th>DEPTH</th>\n",
              "      <th>EVID</th>\n",
              "      <th>NPH</th>\n",
              "      <th>NGRM</th>\n",
              "    </tr>\n",
              "  </thead>\n",
              "  <tbody>\n",
              "    <tr>\n",
              "      <th>count</th>\n",
              "      <td>71445.000000</td>\n",
              "      <td>71445.000000</td>\n",
              "      <td>71445.000000</td>\n",
              "      <td>71445.000000</td>\n",
              "      <td>7.144500e+04</td>\n",
              "      <td>71445.000000</td>\n",
              "      <td>71445.000000</td>\n",
              "    </tr>\n",
              "    <tr>\n",
              "      <th>mean</th>\n",
              "      <td>2.411658</td>\n",
              "      <td>33.960072</td>\n",
              "      <td>-116.843646</td>\n",
              "      <td>5.821510</td>\n",
              "      <td>4.147678e+06</td>\n",
              "      <td>32.018980</td>\n",
              "      <td>203.164574</td>\n",
              "    </tr>\n",
              "    <tr>\n",
              "      <th>std</th>\n",
              "      <td>0.405114</td>\n",
              "      <td>1.080535</td>\n",
              "      <td>1.024872</td>\n",
              "      <td>3.976313</td>\n",
              "      <td>3.929716e+06</td>\n",
              "      <td>24.046221</td>\n",
              "      <td>268.520695</td>\n",
              "    </tr>\n",
              "    <tr>\n",
              "      <th>min</th>\n",
              "      <td>2.000000</td>\n",
              "      <td>31.820000</td>\n",
              "      <td>-119.854000</td>\n",
              "      <td>0.000000</td>\n",
              "      <td>2.825500e+04</td>\n",
              "      <td>0.000000</td>\n",
              "      <td>0.000000</td>\n",
              "    </tr>\n",
              "    <tr>\n",
              "      <th>25%</th>\n",
              "      <td>2.120000</td>\n",
              "      <td>33.097000</td>\n",
              "      <td>-117.662000</td>\n",
              "      <td>3.000000</td>\n",
              "      <td>7.420180e+05</td>\n",
              "      <td>16.000000</td>\n",
              "      <td>63.000000</td>\n",
              "    </tr>\n",
              "    <tr>\n",
              "      <th>50%</th>\n",
              "      <td>2.300000</td>\n",
              "      <td>34.045000</td>\n",
              "      <td>-116.580000</td>\n",
              "      <td>5.300000</td>\n",
              "      <td>3.059672e+06</td>\n",
              "      <td>26.000000</td>\n",
              "      <td>122.000000</td>\n",
              "    </tr>\n",
              "    <tr>\n",
              "      <th>75%</th>\n",
              "      <td>2.580000</td>\n",
              "      <td>34.568000</td>\n",
              "      <td>-116.247330</td>\n",
              "      <td>7.100000</td>\n",
              "      <td>9.026978e+06</td>\n",
              "      <td>40.000000</td>\n",
              "      <td>242.000000</td>\n",
              "    </tr>\n",
              "    <tr>\n",
              "      <th>max</th>\n",
              "      <td>7.100000</td>\n",
              "      <td>36.628000</td>\n",
              "      <td>-114.237000</td>\n",
              "      <td>29.300000</td>\n",
              "      <td>3.736673e+07</td>\n",
              "      <td>554.000000</td>\n",
              "      <td>3846.000000</td>\n",
              "    </tr>\n",
              "  </tbody>\n",
              "</table>\n",
              "</div>"
            ],
            "text/plain": [
              "                MAG           LAT  ...           NPH          NGRM\n",
              "count  71445.000000  71445.000000  ...  71445.000000  71445.000000\n",
              "mean       2.411658     33.960072  ...     32.018980    203.164574\n",
              "std        0.405114      1.080535  ...     24.046221    268.520695\n",
              "min        2.000000     31.820000  ...      0.000000      0.000000\n",
              "25%        2.120000     33.097000  ...     16.000000     63.000000\n",
              "50%        2.300000     34.045000  ...     26.000000    122.000000\n",
              "75%        2.580000     34.568000  ...     40.000000    242.000000\n",
              "max        7.100000     36.628000  ...    554.000000   3846.000000\n",
              "\n",
              "[8 rows x 7 columns]"
            ]
          },
          "metadata": {
            "tags": []
          },
          "execution_count": 15
        }
      ]
    },
    {
      "cell_type": "markdown",
      "metadata": {
        "id": "TTExXK5mitR8",
        "colab_type": "text"
      },
      "source": [
        "much better"
      ]
    },
    {
      "cell_type": "code",
      "metadata": {
        "id": "dQOMVYY1is-n",
        "colab_type": "code",
        "outputId": "0c6f72fe-8778-4a12-bbf9-bc0679b0c405",
        "colab": {
          "base_uri": "https://localhost:8080/",
          "height": 226
        }
      },
      "source": [
        "quakes_raw=quakes_raw.rename(index=str,columns={\"#YYY/MM/DD\": \"date\", \"HH:mm:SS.ss\": \"time\", \"MAG\": \"mag\"});\n",
        "quakes_raw.head()"
      ],
      "execution_count": 16,
      "outputs": [
        {
          "output_type": "execute_result",
          "data": {
            "text/html": [
              "<div>\n",
              "<style scoped>\n",
              "    .dataframe tbody tr th:only-of-type {\n",
              "        vertical-align: middle;\n",
              "    }\n",
              "\n",
              "    .dataframe tbody tr th {\n",
              "        vertical-align: top;\n",
              "    }\n",
              "\n",
              "    .dataframe thead th {\n",
              "        text-align: right;\n",
              "    }\n",
              "</style>\n",
              "<table border=\"1\" class=\"dataframe\">\n",
              "  <thead>\n",
              "    <tr style=\"text-align: right;\">\n",
              "      <th></th>\n",
              "      <th>date</th>\n",
              "      <th>time</th>\n",
              "      <th>ET</th>\n",
              "      <th>GT</th>\n",
              "      <th>mag</th>\n",
              "      <th>M</th>\n",
              "      <th>LAT</th>\n",
              "      <th>LON</th>\n",
              "      <th>DEPTH</th>\n",
              "      <th>Q</th>\n",
              "      <th>EVID</th>\n",
              "      <th>NPH</th>\n",
              "      <th>NGRM</th>\n",
              "    </tr>\n",
              "  </thead>\n",
              "  <tbody>\n",
              "    <tr>\n",
              "      <th>0</th>\n",
              "      <td>1984/01/01</td>\n",
              "      <td>01:30:57.52</td>\n",
              "      <td>eq</td>\n",
              "      <td>l</td>\n",
              "      <td>2.02</td>\n",
              "      <td>c</td>\n",
              "      <td>33.246</td>\n",
              "      <td>-116.433</td>\n",
              "      <td>1.6</td>\n",
              "      <td>C</td>\n",
              "      <td>28255.0</td>\n",
              "      <td>13.0</td>\n",
              "      <td>17.0</td>\n",
              "    </tr>\n",
              "    <tr>\n",
              "      <th>1</th>\n",
              "      <td>1984/01/01</td>\n",
              "      <td>05:31:34.16</td>\n",
              "      <td>eq</td>\n",
              "      <td>l</td>\n",
              "      <td>2.12</td>\n",
              "      <td>c</td>\n",
              "      <td>32.945</td>\n",
              "      <td>-116.295</td>\n",
              "      <td>5.4</td>\n",
              "      <td>C</td>\n",
              "      <td>28259.0</td>\n",
              "      <td>18.0</td>\n",
              "      <td>42.0</td>\n",
              "    </tr>\n",
              "    <tr>\n",
              "      <th>2</th>\n",
              "      <td>1984/01/01</td>\n",
              "      <td>06:59:05.14</td>\n",
              "      <td>eq</td>\n",
              "      <td>l</td>\n",
              "      <td>2.43</td>\n",
              "      <td>c</td>\n",
              "      <td>33.343</td>\n",
              "      <td>-117.628</td>\n",
              "      <td>5.6</td>\n",
              "      <td>C</td>\n",
              "      <td>28260.0</td>\n",
              "      <td>13.0</td>\n",
              "      <td>30.0</td>\n",
              "    </tr>\n",
              "    <tr>\n",
              "      <th>3</th>\n",
              "      <td>1984/01/01</td>\n",
              "      <td>11:10:25.29</td>\n",
              "      <td>eq</td>\n",
              "      <td>l</td>\n",
              "      <td>2.07</td>\n",
              "      <td>c</td>\n",
              "      <td>33.668</td>\n",
              "      <td>-116.780</td>\n",
              "      <td>13.8</td>\n",
              "      <td>C</td>\n",
              "      <td>28270.0</td>\n",
              "      <td>19.0</td>\n",
              "      <td>40.0</td>\n",
              "    </tr>\n",
              "    <tr>\n",
              "      <th>4</th>\n",
              "      <td>1984/01/01</td>\n",
              "      <td>19:38:19.79</td>\n",
              "      <td>eq</td>\n",
              "      <td>l</td>\n",
              "      <td>2.13</td>\n",
              "      <td>c</td>\n",
              "      <td>33.963</td>\n",
              "      <td>-116.290</td>\n",
              "      <td>2.7</td>\n",
              "      <td>C</td>\n",
              "      <td>28553.0</td>\n",
              "      <td>40.0</td>\n",
              "      <td>49.0</td>\n",
              "    </tr>\n",
              "  </tbody>\n",
              "</table>\n",
              "</div>"
            ],
            "text/plain": [
              "         date         time  ET GT   mag  ... DEPTH  Q     EVID   NPH  NGRM\n",
              "0  1984/01/01  01:30:57.52  eq  l  2.02  ...   1.6  C  28255.0  13.0  17.0\n",
              "1  1984/01/01  05:31:34.16  eq  l  2.12  ...   5.4  C  28259.0  18.0  42.0\n",
              "2  1984/01/01  06:59:05.14  eq  l  2.43  ...   5.6  C  28260.0  13.0  30.0\n",
              "3  1984/01/01  11:10:25.29  eq  l  2.07  ...  13.8  C  28270.0  19.0  40.0\n",
              "4  1984/01/01  19:38:19.79  eq  l  2.13  ...   2.7  C  28553.0  40.0  49.0\n",
              "\n",
              "[5 rows x 13 columns]"
            ]
          },
          "metadata": {
            "tags": []
          },
          "execution_count": 16
        }
      ]
    },
    {
      "cell_type": "code",
      "metadata": {
        "id": "4dwnUYAGiktY",
        "colab_type": "code",
        "outputId": "c1362e74-ead2-4427-af65-f1c69205c5dd",
        "colab": {
          "base_uri": "https://localhost:8080/",
          "height": 206
        }
      },
      "source": [
        "eqdata = quakes_raw[[\"date\",\"time\",\"mag\"]]\n",
        "eqdata.head()\n",
        "\n",
        "#rainonly=rain[[\"DATE\",\"PRCP\"]]\n",
        "#rainonly.head()\n",
        "#rainonly.DATE.dtype"
      ],
      "execution_count": 17,
      "outputs": [
        {
          "output_type": "execute_result",
          "data": {
            "text/html": [
              "<div>\n",
              "<style scoped>\n",
              "    .dataframe tbody tr th:only-of-type {\n",
              "        vertical-align: middle;\n",
              "    }\n",
              "\n",
              "    .dataframe tbody tr th {\n",
              "        vertical-align: top;\n",
              "    }\n",
              "\n",
              "    .dataframe thead th {\n",
              "        text-align: right;\n",
              "    }\n",
              "</style>\n",
              "<table border=\"1\" class=\"dataframe\">\n",
              "  <thead>\n",
              "    <tr style=\"text-align: right;\">\n",
              "      <th></th>\n",
              "      <th>date</th>\n",
              "      <th>time</th>\n",
              "      <th>mag</th>\n",
              "    </tr>\n",
              "  </thead>\n",
              "  <tbody>\n",
              "    <tr>\n",
              "      <th>0</th>\n",
              "      <td>1984/01/01</td>\n",
              "      <td>01:30:57.52</td>\n",
              "      <td>2.02</td>\n",
              "    </tr>\n",
              "    <tr>\n",
              "      <th>1</th>\n",
              "      <td>1984/01/01</td>\n",
              "      <td>05:31:34.16</td>\n",
              "      <td>2.12</td>\n",
              "    </tr>\n",
              "    <tr>\n",
              "      <th>2</th>\n",
              "      <td>1984/01/01</td>\n",
              "      <td>06:59:05.14</td>\n",
              "      <td>2.43</td>\n",
              "    </tr>\n",
              "    <tr>\n",
              "      <th>3</th>\n",
              "      <td>1984/01/01</td>\n",
              "      <td>11:10:25.29</td>\n",
              "      <td>2.07</td>\n",
              "    </tr>\n",
              "    <tr>\n",
              "      <th>4</th>\n",
              "      <td>1984/01/01</td>\n",
              "      <td>19:38:19.79</td>\n",
              "      <td>2.13</td>\n",
              "    </tr>\n",
              "  </tbody>\n",
              "</table>\n",
              "</div>"
            ],
            "text/plain": [
              "         date         time   mag\n",
              "0  1984/01/01  01:30:57.52  2.02\n",
              "1  1984/01/01  05:31:34.16  2.12\n",
              "2  1984/01/01  06:59:05.14  2.43\n",
              "3  1984/01/01  11:10:25.29  2.07\n",
              "4  1984/01/01  19:38:19.79  2.13"
            ]
          },
          "metadata": {
            "tags": []
          },
          "execution_count": 17
        }
      ]
    },
    {
      "cell_type": "code",
      "metadata": {
        "id": "70bhPPt5jzzL",
        "colab_type": "code",
        "outputId": "19784c75-dbbe-4484-dfec-701001285cfd",
        "colab": {
          "base_uri": "https://localhost:8080/",
          "height": 35
        }
      },
      "source": [
        "eqdata.date.dtype, eqdata.time.dtype"
      ],
      "execution_count": 18,
      "outputs": [
        {
          "output_type": "execute_result",
          "data": {
            "text/plain": [
              "(dtype('O'), dtype('O'))"
            ]
          },
          "metadata": {
            "tags": []
          },
          "execution_count": 18
        }
      ]
    },
    {
      "cell_type": "code",
      "metadata": {
        "id": "dBFr4jnGkZxM",
        "colab_type": "code",
        "outputId": "87eb79e5-d5fa-4796-88d4-5a8f32ee7fc3",
        "colab": {
          "base_uri": "https://localhost:8080/",
          "height": 206
        }
      },
      "source": [
        "eqdata.head()"
      ],
      "execution_count": 19,
      "outputs": [
        {
          "output_type": "execute_result",
          "data": {
            "text/html": [
              "<div>\n",
              "<style scoped>\n",
              "    .dataframe tbody tr th:only-of-type {\n",
              "        vertical-align: middle;\n",
              "    }\n",
              "\n",
              "    .dataframe tbody tr th {\n",
              "        vertical-align: top;\n",
              "    }\n",
              "\n",
              "    .dataframe thead th {\n",
              "        text-align: right;\n",
              "    }\n",
              "</style>\n",
              "<table border=\"1\" class=\"dataframe\">\n",
              "  <thead>\n",
              "    <tr style=\"text-align: right;\">\n",
              "      <th></th>\n",
              "      <th>date</th>\n",
              "      <th>time</th>\n",
              "      <th>mag</th>\n",
              "    </tr>\n",
              "  </thead>\n",
              "  <tbody>\n",
              "    <tr>\n",
              "      <th>0</th>\n",
              "      <td>1984/01/01</td>\n",
              "      <td>01:30:57.52</td>\n",
              "      <td>2.02</td>\n",
              "    </tr>\n",
              "    <tr>\n",
              "      <th>1</th>\n",
              "      <td>1984/01/01</td>\n",
              "      <td>05:31:34.16</td>\n",
              "      <td>2.12</td>\n",
              "    </tr>\n",
              "    <tr>\n",
              "      <th>2</th>\n",
              "      <td>1984/01/01</td>\n",
              "      <td>06:59:05.14</td>\n",
              "      <td>2.43</td>\n",
              "    </tr>\n",
              "    <tr>\n",
              "      <th>3</th>\n",
              "      <td>1984/01/01</td>\n",
              "      <td>11:10:25.29</td>\n",
              "      <td>2.07</td>\n",
              "    </tr>\n",
              "    <tr>\n",
              "      <th>4</th>\n",
              "      <td>1984/01/01</td>\n",
              "      <td>19:38:19.79</td>\n",
              "      <td>2.13</td>\n",
              "    </tr>\n",
              "  </tbody>\n",
              "</table>\n",
              "</div>"
            ],
            "text/plain": [
              "         date         time   mag\n",
              "0  1984/01/01  01:30:57.52  2.02\n",
              "1  1984/01/01  05:31:34.16  2.12\n",
              "2  1984/01/01  06:59:05.14  2.43\n",
              "3  1984/01/01  11:10:25.29  2.07\n",
              "4  1984/01/01  19:38:19.79  2.13"
            ]
          },
          "metadata": {
            "tags": []
          },
          "execution_count": 19
        }
      ]
    },
    {
      "cell_type": "code",
      "metadata": {
        "id": "abS21c0AklZp",
        "colab_type": "code",
        "outputId": "10d3e0c7-d878-4c25-84d7-3dd95734468a",
        "colab": {
          "base_uri": "https://localhost:8080/",
          "height": 35
        }
      },
      "source": [
        "test=[1,3,5];\n",
        "test[1]\n",
        "eqdata['date'][2]\n",
        "eqdata['time'][2]"
      ],
      "execution_count": 20,
      "outputs": [
        {
          "output_type": "execute_result",
          "data": {
            "text/plain": [
              "'06:59:05.14'"
            ]
          },
          "metadata": {
            "tags": []
          },
          "execution_count": 20
        }
      ]
    },
    {
      "cell_type": "code",
      "metadata": {
        "id": "x9J6Sh5mk4Pq",
        "colab_type": "code",
        "colab": {}
      },
      "source": [
        "#pd.to_datetime(eqdata['date'][2]*eqdata['time'][2])"
      ],
      "execution_count": 0,
      "outputs": []
    },
    {
      "cell_type": "code",
      "metadata": {
        "id": "wd1McWpMmVB9",
        "colab_type": "code",
        "outputId": "fb738b9f-8f90-49d3-b286-086055d0ea9c",
        "colab": {
          "base_uri": "https://localhost:8080/",
          "height": 35
        }
      },
      "source": [
        "timestamps=np.empty(len(eqdata),dtype=pd.datetime)\n",
        "print(timestamps)"
      ],
      "execution_count": 22,
      "outputs": [
        {
          "output_type": "stream",
          "text": [
            "[None None None ... None None None]\n"
          ],
          "name": "stdout"
        }
      ]
    },
    {
      "cell_type": "markdown",
      "metadata": {
        "id": "Xx7txlIG1Bun",
        "colab_type": "text"
      },
      "source": [
        "There were a few entries with a time of `\"HH:MM:60.00\"` which the pandas disliked, so again I replaced all instances of `:60.00` with `:59.99`."
      ]
    },
    {
      "cell_type": "code",
      "metadata": {
        "id": "8G7Q3zMHorno",
        "colab_type": "code",
        "outputId": "e35d6e46-d6c6-4eb4-ab17-2baae40a44e2",
        "colab": {
          "base_uri": "https://localhost:8080/",
          "height": 35
        }
      },
      "source": [
        "for i in range(len(eqdata)):\n",
        "  #print(i)\n",
        "  thisdate=f\"{eqdata['date'][i]} {eqdata['time'][i]}\"\n",
        "  #print(timestamps[i])\n",
        "  thisdate=pd.to_datetime(thisdate)\n",
        "  timestamps[i]=thisdate#pd.to_datetime(thisdate, format=\"%Y/%m/%d %H:%M:%S.%f\")\n",
        "  #print(timestamps[i],\"\\n\")\n",
        "print(\"done\")"
      ],
      "execution_count": 23,
      "outputs": [
        {
          "output_type": "stream",
          "text": [
            "done\n"
          ],
          "name": "stdout"
        }
      ]
    },
    {
      "cell_type": "code",
      "metadata": {
        "id": "FrvhOKZ8pJC-",
        "colab_type": "code",
        "outputId": "ef218343-5fa9-4718-ee8c-41502cadf69f",
        "colab": {
          "base_uri": "https://localhost:8080/",
          "height": 147
        }
      },
      "source": [
        "eqdata['timestamps']=timestamps"
      ],
      "execution_count": 24,
      "outputs": [
        {
          "output_type": "stream",
          "text": [
            "/usr/local/lib/python3.6/dist-packages/ipykernel_launcher.py:1: SettingWithCopyWarning: \n",
            "A value is trying to be set on a copy of a slice from a DataFrame.\n",
            "Try using .loc[row_indexer,col_indexer] = value instead\n",
            "\n",
            "See the caveats in the documentation: http://pandas.pydata.org/pandas-docs/stable/indexing.html#indexing-view-versus-copy\n",
            "  \"\"\"Entry point for launching an IPython kernel.\n"
          ],
          "name": "stderr"
        }
      ]
    },
    {
      "cell_type": "code",
      "metadata": {
        "id": "_vhX_sOJrZFd",
        "colab_type": "code",
        "outputId": "da4463dc-90cf-4e6c-c5db-24915ed8f208",
        "colab": {
          "base_uri": "https://localhost:8080/",
          "height": 1000
        }
      },
      "source": [
        "eqdata"
      ],
      "execution_count": 25,
      "outputs": [
        {
          "output_type": "execute_result",
          "data": {
            "text/html": [
              "<div>\n",
              "<style scoped>\n",
              "    .dataframe tbody tr th:only-of-type {\n",
              "        vertical-align: middle;\n",
              "    }\n",
              "\n",
              "    .dataframe tbody tr th {\n",
              "        vertical-align: top;\n",
              "    }\n",
              "\n",
              "    .dataframe thead th {\n",
              "        text-align: right;\n",
              "    }\n",
              "</style>\n",
              "<table border=\"1\" class=\"dataframe\">\n",
              "  <thead>\n",
              "    <tr style=\"text-align: right;\">\n",
              "      <th></th>\n",
              "      <th>date</th>\n",
              "      <th>time</th>\n",
              "      <th>mag</th>\n",
              "      <th>timestamps</th>\n",
              "    </tr>\n",
              "  </thead>\n",
              "  <tbody>\n",
              "    <tr>\n",
              "      <th>0</th>\n",
              "      <td>1984/01/01</td>\n",
              "      <td>01:30:57.52</td>\n",
              "      <td>2.02</td>\n",
              "      <td>1984-01-01 01:30:57.520</td>\n",
              "    </tr>\n",
              "    <tr>\n",
              "      <th>1</th>\n",
              "      <td>1984/01/01</td>\n",
              "      <td>05:31:34.16</td>\n",
              "      <td>2.12</td>\n",
              "      <td>1984-01-01 05:31:34.160</td>\n",
              "    </tr>\n",
              "    <tr>\n",
              "      <th>2</th>\n",
              "      <td>1984/01/01</td>\n",
              "      <td>06:59:05.14</td>\n",
              "      <td>2.43</td>\n",
              "      <td>1984-01-01 06:59:05.140</td>\n",
              "    </tr>\n",
              "    <tr>\n",
              "      <th>3</th>\n",
              "      <td>1984/01/01</td>\n",
              "      <td>11:10:25.29</td>\n",
              "      <td>2.07</td>\n",
              "      <td>1984-01-01 11:10:25.290</td>\n",
              "    </tr>\n",
              "    <tr>\n",
              "      <th>4</th>\n",
              "      <td>1984/01/01</td>\n",
              "      <td>19:38:19.79</td>\n",
              "      <td>2.13</td>\n",
              "      <td>1984-01-01 19:38:19.790</td>\n",
              "    </tr>\n",
              "    <tr>\n",
              "      <th>5</th>\n",
              "      <td>1984/01/01</td>\n",
              "      <td>19:39:19.67</td>\n",
              "      <td>2.13</td>\n",
              "      <td>1984-01-01 19:39:19.670</td>\n",
              "    </tr>\n",
              "    <tr>\n",
              "      <th>6</th>\n",
              "      <td>1984/01/01</td>\n",
              "      <td>20:19:47.21</td>\n",
              "      <td>2.02</td>\n",
              "      <td>1984-01-01 20:19:47.210</td>\n",
              "    </tr>\n",
              "    <tr>\n",
              "      <th>7</th>\n",
              "      <td>1984/01/02</td>\n",
              "      <td>05:00:12.44</td>\n",
              "      <td>3.24</td>\n",
              "      <td>1984-01-02 05:00:12.440</td>\n",
              "    </tr>\n",
              "    <tr>\n",
              "      <th>8</th>\n",
              "      <td>1984/01/02</td>\n",
              "      <td>05:02:17.29</td>\n",
              "      <td>2.17</td>\n",
              "      <td>1984-01-02 05:02:17.290</td>\n",
              "    </tr>\n",
              "    <tr>\n",
              "      <th>9</th>\n",
              "      <td>1984/01/02</td>\n",
              "      <td>06:18:52.16</td>\n",
              "      <td>2.48</td>\n",
              "      <td>1984-01-02 06:18:52.160</td>\n",
              "    </tr>\n",
              "    <tr>\n",
              "      <th>10</th>\n",
              "      <td>1984/01/02</td>\n",
              "      <td>13:26:50.45</td>\n",
              "      <td>2.65</td>\n",
              "      <td>1984-01-02 13:26:50.450</td>\n",
              "    </tr>\n",
              "    <tr>\n",
              "      <th>11</th>\n",
              "      <td>1984/01/02</td>\n",
              "      <td>14:01:05.85</td>\n",
              "      <td>2.44</td>\n",
              "      <td>1984-01-02 14:01:05.850</td>\n",
              "    </tr>\n",
              "    <tr>\n",
              "      <th>12</th>\n",
              "      <td>1984/01/02</td>\n",
              "      <td>18:43:18.09</td>\n",
              "      <td>2.10</td>\n",
              "      <td>1984-01-02 18:43:18.090</td>\n",
              "    </tr>\n",
              "    <tr>\n",
              "      <th>13</th>\n",
              "      <td>1984/01/03</td>\n",
              "      <td>06:37:11.36</td>\n",
              "      <td>2.41</td>\n",
              "      <td>1984-01-03 06:37:11.360</td>\n",
              "    </tr>\n",
              "    <tr>\n",
              "      <th>14</th>\n",
              "      <td>1984/01/03</td>\n",
              "      <td>10:52:01.17</td>\n",
              "      <td>2.29</td>\n",
              "      <td>1984-01-03 10:52:01.170</td>\n",
              "    </tr>\n",
              "    <tr>\n",
              "      <th>15</th>\n",
              "      <td>1984/01/03</td>\n",
              "      <td>13:26:56.21</td>\n",
              "      <td>2.09</td>\n",
              "      <td>1984-01-03 13:26:56.210</td>\n",
              "    </tr>\n",
              "    <tr>\n",
              "      <th>16</th>\n",
              "      <td>1984/01/03</td>\n",
              "      <td>19:44:09.71</td>\n",
              "      <td>3.17</td>\n",
              "      <td>1984-01-03 19:44:09.710</td>\n",
              "    </tr>\n",
              "    <tr>\n",
              "      <th>17</th>\n",
              "      <td>1984/01/04</td>\n",
              "      <td>03:39:11.87</td>\n",
              "      <td>2.03</td>\n",
              "      <td>1984-01-04 03:39:11.870</td>\n",
              "    </tr>\n",
              "    <tr>\n",
              "      <th>18</th>\n",
              "      <td>1984/01/04</td>\n",
              "      <td>06:05:10.56</td>\n",
              "      <td>2.80</td>\n",
              "      <td>1984-01-04 06:05:10.560</td>\n",
              "    </tr>\n",
              "    <tr>\n",
              "      <th>19</th>\n",
              "      <td>1984/01/04</td>\n",
              "      <td>06:17:22.59</td>\n",
              "      <td>2.75</td>\n",
              "      <td>1984-01-04 06:17:22.590</td>\n",
              "    </tr>\n",
              "    <tr>\n",
              "      <th>20</th>\n",
              "      <td>1984/01/04</td>\n",
              "      <td>09:30:11.96</td>\n",
              "      <td>2.92</td>\n",
              "      <td>1984-01-04 09:30:11.960</td>\n",
              "    </tr>\n",
              "    <tr>\n",
              "      <th>21</th>\n",
              "      <td>1984/01/04</td>\n",
              "      <td>11:43:05.02</td>\n",
              "      <td>2.32</td>\n",
              "      <td>1984-01-04 11:43:05.020</td>\n",
              "    </tr>\n",
              "    <tr>\n",
              "      <th>22</th>\n",
              "      <td>1984/01/04</td>\n",
              "      <td>12:19:28.30</td>\n",
              "      <td>2.07</td>\n",
              "      <td>1984-01-04 12:19:28.300</td>\n",
              "    </tr>\n",
              "    <tr>\n",
              "      <th>23</th>\n",
              "      <td>1984/01/04</td>\n",
              "      <td>16:36:55.35</td>\n",
              "      <td>2.00</td>\n",
              "      <td>1984-01-04 16:36:55.350</td>\n",
              "    </tr>\n",
              "    <tr>\n",
              "      <th>24</th>\n",
              "      <td>1984/01/05</td>\n",
              "      <td>08:06:31.89</td>\n",
              "      <td>2.58</td>\n",
              "      <td>1984-01-05 08:06:31.890</td>\n",
              "    </tr>\n",
              "    <tr>\n",
              "      <th>25</th>\n",
              "      <td>1984/01/05</td>\n",
              "      <td>16:26:02.75</td>\n",
              "      <td>3.11</td>\n",
              "      <td>1984-01-05 16:26:02.750</td>\n",
              "    </tr>\n",
              "    <tr>\n",
              "      <th>26</th>\n",
              "      <td>1984/01/05</td>\n",
              "      <td>18:04:03.30</td>\n",
              "      <td>2.15</td>\n",
              "      <td>1984-01-05 18:04:03.300</td>\n",
              "    </tr>\n",
              "    <tr>\n",
              "      <th>27</th>\n",
              "      <td>1984/01/05</td>\n",
              "      <td>18:56:05.80</td>\n",
              "      <td>2.43</td>\n",
              "      <td>1984-01-05 18:56:05.800</td>\n",
              "    </tr>\n",
              "    <tr>\n",
              "      <th>28</th>\n",
              "      <td>1984/01/05</td>\n",
              "      <td>19:49:26.45</td>\n",
              "      <td>2.19</td>\n",
              "      <td>1984-01-05 19:49:26.450</td>\n",
              "    </tr>\n",
              "    <tr>\n",
              "      <th>29</th>\n",
              "      <td>1984/01/05</td>\n",
              "      <td>19:55:53.03</td>\n",
              "      <td>2.10</td>\n",
              "      <td>1984-01-05 19:55:53.030</td>\n",
              "    </tr>\n",
              "    <tr>\n",
              "      <th>...</th>\n",
              "      <td>...</td>\n",
              "      <td>...</td>\n",
              "      <td>...</td>\n",
              "      <td>...</td>\n",
              "    </tr>\n",
              "    <tr>\n",
              "      <th>71415</th>\n",
              "      <td>2005/12/12</td>\n",
              "      <td>07:08:19.86</td>\n",
              "      <td>2.29</td>\n",
              "      <td>2005-12-12 07:08:19.860</td>\n",
              "    </tr>\n",
              "    <tr>\n",
              "      <th>71416</th>\n",
              "      <td>2005/12/13</td>\n",
              "      <td>08:32:13.13</td>\n",
              "      <td>2.41</td>\n",
              "      <td>2005-12-13 08:32:13.130</td>\n",
              "    </tr>\n",
              "    <tr>\n",
              "      <th>71417</th>\n",
              "      <td>2005/12/13</td>\n",
              "      <td>13:44:14.03</td>\n",
              "      <td>2.31</td>\n",
              "      <td>2005-12-13 13:44:14.030</td>\n",
              "    </tr>\n",
              "    <tr>\n",
              "      <th>71418</th>\n",
              "      <td>2005/12/14</td>\n",
              "      <td>07:06:22.84</td>\n",
              "      <td>2.78</td>\n",
              "      <td>2005-12-14 07:06:22.840</td>\n",
              "    </tr>\n",
              "    <tr>\n",
              "      <th>71419</th>\n",
              "      <td>2005/12/14</td>\n",
              "      <td>08:05:14.29</td>\n",
              "      <td>2.10</td>\n",
              "      <td>2005-12-14 08:05:14.290</td>\n",
              "    </tr>\n",
              "    <tr>\n",
              "      <th>71420</th>\n",
              "      <td>2005/12/15</td>\n",
              "      <td>04:51:15.82</td>\n",
              "      <td>2.06</td>\n",
              "      <td>2005-12-15 04:51:15.820</td>\n",
              "    </tr>\n",
              "    <tr>\n",
              "      <th>71421</th>\n",
              "      <td>2005/12/15</td>\n",
              "      <td>05:50:28.36</td>\n",
              "      <td>2.48</td>\n",
              "      <td>2005-12-15 05:50:28.360</td>\n",
              "    </tr>\n",
              "    <tr>\n",
              "      <th>71422</th>\n",
              "      <td>2005/12/15</td>\n",
              "      <td>11:01:52.01</td>\n",
              "      <td>2.27</td>\n",
              "      <td>2005-12-15 11:01:52.010</td>\n",
              "    </tr>\n",
              "    <tr>\n",
              "      <th>71423</th>\n",
              "      <td>2005/12/15</td>\n",
              "      <td>17:45:23.54</td>\n",
              "      <td>2.22</td>\n",
              "      <td>2005-12-15 17:45:23.540</td>\n",
              "    </tr>\n",
              "    <tr>\n",
              "      <th>71424</th>\n",
              "      <td>2005/12/16</td>\n",
              "      <td>11:05:13.42</td>\n",
              "      <td>2.28</td>\n",
              "      <td>2005-12-16 11:05:13.420</td>\n",
              "    </tr>\n",
              "    <tr>\n",
              "      <th>71425</th>\n",
              "      <td>2005/12/17</td>\n",
              "      <td>02:15:27.49</td>\n",
              "      <td>3.61</td>\n",
              "      <td>2005-12-17 02:15:27.490</td>\n",
              "    </tr>\n",
              "    <tr>\n",
              "      <th>71426</th>\n",
              "      <td>2005/12/17</td>\n",
              "      <td>02:17:02.92</td>\n",
              "      <td>2.35</td>\n",
              "      <td>2005-12-17 02:17:02.920</td>\n",
              "    </tr>\n",
              "    <tr>\n",
              "      <th>71427</th>\n",
              "      <td>2005/12/17</td>\n",
              "      <td>21:45:46.04</td>\n",
              "      <td>2.95</td>\n",
              "      <td>2005-12-17 21:45:46.040</td>\n",
              "    </tr>\n",
              "    <tr>\n",
              "      <th>71428</th>\n",
              "      <td>2005/12/18</td>\n",
              "      <td>02:32:42.75</td>\n",
              "      <td>2.04</td>\n",
              "      <td>2005-12-18 02:32:42.750</td>\n",
              "    </tr>\n",
              "    <tr>\n",
              "      <th>71429</th>\n",
              "      <td>2005/12/18</td>\n",
              "      <td>23:33:10.74</td>\n",
              "      <td>2.09</td>\n",
              "      <td>2005-12-18 23:33:10.740</td>\n",
              "    </tr>\n",
              "    <tr>\n",
              "      <th>71430</th>\n",
              "      <td>2005/12/19</td>\n",
              "      <td>03:04:48.56</td>\n",
              "      <td>2.84</td>\n",
              "      <td>2005-12-19 03:04:48.560</td>\n",
              "    </tr>\n",
              "    <tr>\n",
              "      <th>71431</th>\n",
              "      <td>2005/12/19</td>\n",
              "      <td>09:14:57.70</td>\n",
              "      <td>2.47</td>\n",
              "      <td>2005-12-19 09:14:57.700</td>\n",
              "    </tr>\n",
              "    <tr>\n",
              "      <th>71432</th>\n",
              "      <td>2005/12/19</td>\n",
              "      <td>15:28:40.96</td>\n",
              "      <td>2.01</td>\n",
              "      <td>2005-12-19 15:28:40.960</td>\n",
              "    </tr>\n",
              "    <tr>\n",
              "      <th>71433</th>\n",
              "      <td>2005/12/19</td>\n",
              "      <td>23:41:33.40</td>\n",
              "      <td>2.13</td>\n",
              "      <td>2005-12-19 23:41:33.400</td>\n",
              "    </tr>\n",
              "    <tr>\n",
              "      <th>71434</th>\n",
              "      <td>2005/12/20</td>\n",
              "      <td>22:20:01.79</td>\n",
              "      <td>2.21</td>\n",
              "      <td>2005-12-20 22:20:01.790</td>\n",
              "    </tr>\n",
              "    <tr>\n",
              "      <th>71435</th>\n",
              "      <td>2005/12/21</td>\n",
              "      <td>11:37:52.64</td>\n",
              "      <td>2.15</td>\n",
              "      <td>2005-12-21 11:37:52.640</td>\n",
              "    </tr>\n",
              "    <tr>\n",
              "      <th>71436</th>\n",
              "      <td>2005/12/22</td>\n",
              "      <td>02:38:25.20</td>\n",
              "      <td>2.12</td>\n",
              "      <td>2005-12-22 02:38:25.200</td>\n",
              "    </tr>\n",
              "    <tr>\n",
              "      <th>71437</th>\n",
              "      <td>2005/12/22</td>\n",
              "      <td>04:39:47.13</td>\n",
              "      <td>2.00</td>\n",
              "      <td>2005-12-22 04:39:47.130</td>\n",
              "    </tr>\n",
              "    <tr>\n",
              "      <th>71438</th>\n",
              "      <td>2005/12/22</td>\n",
              "      <td>06:38:08.71</td>\n",
              "      <td>2.29</td>\n",
              "      <td>2005-12-22 06:38:08.710</td>\n",
              "    </tr>\n",
              "    <tr>\n",
              "      <th>71439</th>\n",
              "      <td>2005/12/22</td>\n",
              "      <td>15:08:11.38</td>\n",
              "      <td>2.07</td>\n",
              "      <td>2005-12-22 15:08:11.380</td>\n",
              "    </tr>\n",
              "    <tr>\n",
              "      <th>71440</th>\n",
              "      <td>2005/12/22</td>\n",
              "      <td>16:56:36.88</td>\n",
              "      <td>2.39</td>\n",
              "      <td>2005-12-22 16:56:36.880</td>\n",
              "    </tr>\n",
              "    <tr>\n",
              "      <th>71441</th>\n",
              "      <td>2005/12/24</td>\n",
              "      <td>17:39:22.34</td>\n",
              "      <td>2.49</td>\n",
              "      <td>2005-12-24 17:39:22.340</td>\n",
              "    </tr>\n",
              "    <tr>\n",
              "      <th>71442</th>\n",
              "      <td>2005/12/24</td>\n",
              "      <td>20:33:45.30</td>\n",
              "      <td>2.10</td>\n",
              "      <td>2005-12-24 20:33:45.300</td>\n",
              "    </tr>\n",
              "    <tr>\n",
              "      <th>71443</th>\n",
              "      <td>2005/12/25</td>\n",
              "      <td>04:41:04.69</td>\n",
              "      <td>2.16</td>\n",
              "      <td>2005-12-25 04:41:04.690</td>\n",
              "    </tr>\n",
              "    <tr>\n",
              "      <th>71444</th>\n",
              "      <td>2005/12/25</td>\n",
              "      <td>20:24:10.77</td>\n",
              "      <td>2.26</td>\n",
              "      <td>2005-12-25 20:24:10.770</td>\n",
              "    </tr>\n",
              "  </tbody>\n",
              "</table>\n",
              "<p>71445 rows × 4 columns</p>\n",
              "</div>"
            ],
            "text/plain": [
              "             date         time   mag              timestamps\n",
              "0      1984/01/01  01:30:57.52  2.02 1984-01-01 01:30:57.520\n",
              "1      1984/01/01  05:31:34.16  2.12 1984-01-01 05:31:34.160\n",
              "2      1984/01/01  06:59:05.14  2.43 1984-01-01 06:59:05.140\n",
              "3      1984/01/01  11:10:25.29  2.07 1984-01-01 11:10:25.290\n",
              "4      1984/01/01  19:38:19.79  2.13 1984-01-01 19:38:19.790\n",
              "5      1984/01/01  19:39:19.67  2.13 1984-01-01 19:39:19.670\n",
              "6      1984/01/01  20:19:47.21  2.02 1984-01-01 20:19:47.210\n",
              "7      1984/01/02  05:00:12.44  3.24 1984-01-02 05:00:12.440\n",
              "8      1984/01/02  05:02:17.29  2.17 1984-01-02 05:02:17.290\n",
              "9      1984/01/02  06:18:52.16  2.48 1984-01-02 06:18:52.160\n",
              "10     1984/01/02  13:26:50.45  2.65 1984-01-02 13:26:50.450\n",
              "11     1984/01/02  14:01:05.85  2.44 1984-01-02 14:01:05.850\n",
              "12     1984/01/02  18:43:18.09  2.10 1984-01-02 18:43:18.090\n",
              "13     1984/01/03  06:37:11.36  2.41 1984-01-03 06:37:11.360\n",
              "14     1984/01/03  10:52:01.17  2.29 1984-01-03 10:52:01.170\n",
              "15     1984/01/03  13:26:56.21  2.09 1984-01-03 13:26:56.210\n",
              "16     1984/01/03  19:44:09.71  3.17 1984-01-03 19:44:09.710\n",
              "17     1984/01/04  03:39:11.87  2.03 1984-01-04 03:39:11.870\n",
              "18     1984/01/04  06:05:10.56  2.80 1984-01-04 06:05:10.560\n",
              "19     1984/01/04  06:17:22.59  2.75 1984-01-04 06:17:22.590\n",
              "20     1984/01/04  09:30:11.96  2.92 1984-01-04 09:30:11.960\n",
              "21     1984/01/04  11:43:05.02  2.32 1984-01-04 11:43:05.020\n",
              "22     1984/01/04  12:19:28.30  2.07 1984-01-04 12:19:28.300\n",
              "23     1984/01/04  16:36:55.35  2.00 1984-01-04 16:36:55.350\n",
              "24     1984/01/05  08:06:31.89  2.58 1984-01-05 08:06:31.890\n",
              "25     1984/01/05  16:26:02.75  3.11 1984-01-05 16:26:02.750\n",
              "26     1984/01/05  18:04:03.30  2.15 1984-01-05 18:04:03.300\n",
              "27     1984/01/05  18:56:05.80  2.43 1984-01-05 18:56:05.800\n",
              "28     1984/01/05  19:49:26.45  2.19 1984-01-05 19:49:26.450\n",
              "29     1984/01/05  19:55:53.03  2.10 1984-01-05 19:55:53.030\n",
              "...           ...          ...   ...                     ...\n",
              "71415  2005/12/12  07:08:19.86  2.29 2005-12-12 07:08:19.860\n",
              "71416  2005/12/13  08:32:13.13  2.41 2005-12-13 08:32:13.130\n",
              "71417  2005/12/13  13:44:14.03  2.31 2005-12-13 13:44:14.030\n",
              "71418  2005/12/14  07:06:22.84  2.78 2005-12-14 07:06:22.840\n",
              "71419  2005/12/14  08:05:14.29  2.10 2005-12-14 08:05:14.290\n",
              "71420  2005/12/15  04:51:15.82  2.06 2005-12-15 04:51:15.820\n",
              "71421  2005/12/15  05:50:28.36  2.48 2005-12-15 05:50:28.360\n",
              "71422  2005/12/15  11:01:52.01  2.27 2005-12-15 11:01:52.010\n",
              "71423  2005/12/15  17:45:23.54  2.22 2005-12-15 17:45:23.540\n",
              "71424  2005/12/16  11:05:13.42  2.28 2005-12-16 11:05:13.420\n",
              "71425  2005/12/17  02:15:27.49  3.61 2005-12-17 02:15:27.490\n",
              "71426  2005/12/17  02:17:02.92  2.35 2005-12-17 02:17:02.920\n",
              "71427  2005/12/17  21:45:46.04  2.95 2005-12-17 21:45:46.040\n",
              "71428  2005/12/18  02:32:42.75  2.04 2005-12-18 02:32:42.750\n",
              "71429  2005/12/18  23:33:10.74  2.09 2005-12-18 23:33:10.740\n",
              "71430  2005/12/19  03:04:48.56  2.84 2005-12-19 03:04:48.560\n",
              "71431  2005/12/19  09:14:57.70  2.47 2005-12-19 09:14:57.700\n",
              "71432  2005/12/19  15:28:40.96  2.01 2005-12-19 15:28:40.960\n",
              "71433  2005/12/19  23:41:33.40  2.13 2005-12-19 23:41:33.400\n",
              "71434  2005/12/20  22:20:01.79  2.21 2005-12-20 22:20:01.790\n",
              "71435  2005/12/21  11:37:52.64  2.15 2005-12-21 11:37:52.640\n",
              "71436  2005/12/22  02:38:25.20  2.12 2005-12-22 02:38:25.200\n",
              "71437  2005/12/22  04:39:47.13  2.00 2005-12-22 04:39:47.130\n",
              "71438  2005/12/22  06:38:08.71  2.29 2005-12-22 06:38:08.710\n",
              "71439  2005/12/22  15:08:11.38  2.07 2005-12-22 15:08:11.380\n",
              "71440  2005/12/22  16:56:36.88  2.39 2005-12-22 16:56:36.880\n",
              "71441  2005/12/24  17:39:22.34  2.49 2005-12-24 17:39:22.340\n",
              "71442  2005/12/24  20:33:45.30  2.10 2005-12-24 20:33:45.300\n",
              "71443  2005/12/25  04:41:04.69  2.16 2005-12-25 04:41:04.690\n",
              "71444  2005/12/25  20:24:10.77  2.26 2005-12-25 20:24:10.770\n",
              "\n",
              "[71445 rows x 4 columns]"
            ]
          },
          "metadata": {
            "tags": []
          },
          "execution_count": 25
        }
      ]
    },
    {
      "cell_type": "code",
      "metadata": {
        "id": "0snmVZNX2lHO",
        "colab_type": "code",
        "outputId": "5a03c3e6-8be3-48cc-dfb8-a25800f3ea7e",
        "colab": {
          "base_uri": "https://localhost:8080/",
          "height": 35
        }
      },
      "source": [
        "#testing\n",
        "eqdata['timestamps'][4]-eqdata['timestamps'][3]"
      ],
      "execution_count": 26,
      "outputs": [
        {
          "output_type": "execute_result",
          "data": {
            "text/plain": [
              "Timedelta('0 days 08:27:54.500000')"
            ]
          },
          "metadata": {
            "tags": []
          },
          "execution_count": 26
        }
      ]
    },
    {
      "cell_type": "code",
      "metadata": {
        "id": "d8AqQVGJ54r3",
        "colab_type": "code",
        "outputId": "32f7e932-9e3d-49c9-96f2-845027c032cf",
        "colab": {
          "base_uri": "https://localhost:8080/",
          "height": 1000
        }
      },
      "source": [
        "# create empty container\n",
        "ss = []\n",
        "\n",
        "# loop through all year pairs as year and fraction of year\n",
        "for t in [(1984, 1986.5), \n",
        "          (1990.3, 1992.1), \n",
        "          (1994.6, 1995.6),\n",
        "          (1996.1,1996.5), \n",
        "          (1997,1997.6), \n",
        "          (1997.75,1998.15), \n",
        "          (1998.25,1999.35), \n",
        "          (2000.55,2000.8),\n",
        "          (2000.9 ,2001.25), \n",
        "          (2001.6 ,2002), \n",
        "          (2002.5 ,2003)]:\n",
        "  \n",
        "    ss.append((pd.to_datetime(int(t[0]), format=\"%Y\") \n",
        "        + pd.Timedelta('%.f days'%((t[0] - int(t[0])) * 365.25)),\n",
        "               pd.to_datetime(int(t[1]), format=\"%Y\") \n",
        "        + pd.Timedelta('%.f days'%((t[1] - int(t[1])) * 365.25))))\n",
        "\n",
        "gooddates=0\n",
        "for i in range(11):\n",
        "  gooddates+=((eqdata.timestamps >= ss[i][0]) & (eqdata.timestamps <= ss[i][1]))\n",
        "\n",
        "gooddates = (gooddates == True ).astype(bool)\n",
        "gooddates"
      ],
      "execution_count": 27,
      "outputs": [
        {
          "output_type": "execute_result",
          "data": {
            "text/plain": [
              "0         True\n",
              "1         True\n",
              "2         True\n",
              "3         True\n",
              "4         True\n",
              "5         True\n",
              "6         True\n",
              "7         True\n",
              "8         True\n",
              "9         True\n",
              "10        True\n",
              "11        True\n",
              "12        True\n",
              "13        True\n",
              "14        True\n",
              "15        True\n",
              "16        True\n",
              "17        True\n",
              "18        True\n",
              "19        True\n",
              "20        True\n",
              "21        True\n",
              "22        True\n",
              "23        True\n",
              "24        True\n",
              "25        True\n",
              "26        True\n",
              "27        True\n",
              "28        True\n",
              "29        True\n",
              "         ...  \n",
              "71415    False\n",
              "71416    False\n",
              "71417    False\n",
              "71418    False\n",
              "71419    False\n",
              "71420    False\n",
              "71421    False\n",
              "71422    False\n",
              "71423    False\n",
              "71424    False\n",
              "71425    False\n",
              "71426    False\n",
              "71427    False\n",
              "71428    False\n",
              "71429    False\n",
              "71430    False\n",
              "71431    False\n",
              "71432    False\n",
              "71433    False\n",
              "71434    False\n",
              "71435    False\n",
              "71436    False\n",
              "71437    False\n",
              "71438    False\n",
              "71439    False\n",
              "71440    False\n",
              "71441    False\n",
              "71442    False\n",
              "71443    False\n",
              "71444    False\n",
              "Name: timestamps, Length: 71445, dtype: bool"
            ]
          },
          "metadata": {
            "tags": []
          },
          "execution_count": 27
        }
      ]
    },
    {
      "cell_type": "code",
      "metadata": {
        "id": "w_V8dqt880Ia",
        "colab_type": "code",
        "outputId": "619c9ac1-5072-45e7-f67e-a8f14d40a096",
        "colab": {
          "base_uri": "https://localhost:8080/",
          "height": 35
        }
      },
      "source": [
        "print(gooddates.sum())"
      ],
      "execution_count": 28,
      "outputs": [
        {
          "output_type": "stream",
          "text": [
            "17386\n"
          ],
          "name": "stdout"
        }
      ]
    },
    {
      "cell_type": "code",
      "metadata": {
        "id": "n5YQAQeS_Nl0",
        "colab_type": "code",
        "colab": {}
      },
      "source": [
        "eqgood = eqdata.where(gooddates).dropna()"
      ],
      "execution_count": 0,
      "outputs": []
    },
    {
      "cell_type": "code",
      "metadata": {
        "id": "C8BL-8WRAvpa",
        "colab_type": "code",
        "outputId": "3da4a3d6-00be-41bc-b5ca-120e486d24ff",
        "colab": {
          "base_uri": "https://localhost:8080/",
          "height": 206
        }
      },
      "source": [
        "eqgood.head()"
      ],
      "execution_count": 30,
      "outputs": [
        {
          "output_type": "execute_result",
          "data": {
            "text/html": [
              "<div>\n",
              "<style scoped>\n",
              "    .dataframe tbody tr th:only-of-type {\n",
              "        vertical-align: middle;\n",
              "    }\n",
              "\n",
              "    .dataframe tbody tr th {\n",
              "        vertical-align: top;\n",
              "    }\n",
              "\n",
              "    .dataframe thead th {\n",
              "        text-align: right;\n",
              "    }\n",
              "</style>\n",
              "<table border=\"1\" class=\"dataframe\">\n",
              "  <thead>\n",
              "    <tr style=\"text-align: right;\">\n",
              "      <th></th>\n",
              "      <th>date</th>\n",
              "      <th>time</th>\n",
              "      <th>mag</th>\n",
              "      <th>timestamps</th>\n",
              "    </tr>\n",
              "  </thead>\n",
              "  <tbody>\n",
              "    <tr>\n",
              "      <th>0</th>\n",
              "      <td>1984/01/01</td>\n",
              "      <td>01:30:57.52</td>\n",
              "      <td>2.02</td>\n",
              "      <td>1984-01-01 01:30:57.520</td>\n",
              "    </tr>\n",
              "    <tr>\n",
              "      <th>1</th>\n",
              "      <td>1984/01/01</td>\n",
              "      <td>05:31:34.16</td>\n",
              "      <td>2.12</td>\n",
              "      <td>1984-01-01 05:31:34.160</td>\n",
              "    </tr>\n",
              "    <tr>\n",
              "      <th>2</th>\n",
              "      <td>1984/01/01</td>\n",
              "      <td>06:59:05.14</td>\n",
              "      <td>2.43</td>\n",
              "      <td>1984-01-01 06:59:05.140</td>\n",
              "    </tr>\n",
              "    <tr>\n",
              "      <th>3</th>\n",
              "      <td>1984/01/01</td>\n",
              "      <td>11:10:25.29</td>\n",
              "      <td>2.07</td>\n",
              "      <td>1984-01-01 11:10:25.290</td>\n",
              "    </tr>\n",
              "    <tr>\n",
              "      <th>4</th>\n",
              "      <td>1984/01/01</td>\n",
              "      <td>19:38:19.79</td>\n",
              "      <td>2.13</td>\n",
              "      <td>1984-01-01 19:38:19.790</td>\n",
              "    </tr>\n",
              "  </tbody>\n",
              "</table>\n",
              "</div>"
            ],
            "text/plain": [
              "         date         time   mag              timestamps\n",
              "0  1984/01/01  01:30:57.52  2.02 1984-01-01 01:30:57.520\n",
              "1  1984/01/01  05:31:34.16  2.12 1984-01-01 05:31:34.160\n",
              "2  1984/01/01  06:59:05.14  2.43 1984-01-01 06:59:05.140\n",
              "3  1984/01/01  11:10:25.29  2.07 1984-01-01 11:10:25.290\n",
              "4  1984/01/01  19:38:19.79  2.13 1984-01-01 19:38:19.790"
            ]
          },
          "metadata": {
            "tags": []
          },
          "execution_count": 30
        }
      ]
    },
    {
      "cell_type": "code",
      "metadata": {
        "id": "HxoYCJy4VBWn",
        "colab_type": "code",
        "outputId": "b4979d0d-6f96-478b-f440-441daf871885",
        "colab": {
          "base_uri": "https://localhost:8080/",
          "height": 35
        }
      },
      "source": [
        "eqgood['timestamps'][13000]"
      ],
      "execution_count": 31,
      "outputs": [
        {
          "output_type": "execute_result",
          "data": {
            "text/plain": [
              "Timestamp('1998-05-01 11:05:50.420000')"
            ]
          },
          "metadata": {
            "tags": []
          },
          "execution_count": 31
        }
      ]
    },
    {
      "cell_type": "markdown",
      "metadata": {
        "id": "_DNDaG2XVSpL",
        "colab_type": "text"
      },
      "source": [
        "okay cool it does what i want"
      ]
    },
    {
      "cell_type": "code",
      "metadata": {
        "id": "oTnLDgcTZBV6",
        "colab_type": "code",
        "colab": {}
      },
      "source": [
        "tilnext=np.diff(pd.Series(eqgood.timestamps).array)"
      ],
      "execution_count": 0,
      "outputs": []
    },
    {
      "cell_type": "code",
      "metadata": {
        "id": "AhYRR1hqZ3ht",
        "colab_type": "code",
        "outputId": "27c214f3-e23b-4f43-ab56-f1ad82300f5f",
        "colab": {
          "base_uri": "https://localhost:8080/",
          "height": 72
        }
      },
      "source": [
        "tilnext"
      ],
      "execution_count": 33,
      "outputs": [
        {
          "output_type": "execute_result",
          "data": {
            "text/plain": [
              "array([14436640000000,  5250980000000, 15080150000000, ...,\n",
              "        1459920000000, 19148060000000, 37530890000000],\n",
              "      dtype='timedelta64[ns]')"
            ]
          },
          "metadata": {
            "tags": []
          },
          "execution_count": 33
        }
      ]
    },
    {
      "cell_type": "code",
      "metadata": {
        "id": "ban90MxDZ4eo",
        "colab_type": "code",
        "colab": {}
      },
      "source": [
        "if tilnext[0].astype(int)!=0:\n",
        "  tilnext=np.insert(tilnext, 0,0)"
      ],
      "execution_count": 0,
      "outputs": []
    },
    {
      "cell_type": "code",
      "metadata": {
        "id": "ua9Vxu0zaOGk",
        "colab_type": "code",
        "outputId": "59131e53-7b82-47f5-f795-41ecac8decef",
        "colab": {
          "base_uri": "https://localhost:8080/",
          "height": 72
        }
      },
      "source": [
        "tilnext"
      ],
      "execution_count": 35,
      "outputs": [
        {
          "output_type": "execute_result",
          "data": {
            "text/plain": [
              "array([             0, 14436640000000,  5250980000000, ...,\n",
              "        1459920000000, 19148060000000, 37530890000000],\n",
              "      dtype='timedelta64[ns]')"
            ]
          },
          "metadata": {
            "tags": []
          },
          "execution_count": 35
        }
      ]
    },
    {
      "cell_type": "code",
      "metadata": {
        "id": "ZqguDLUZasVN",
        "colab_type": "code",
        "colab": {}
      },
      "source": [
        "eqgood['tilnext']=tilnext.astype(int)"
      ],
      "execution_count": 0,
      "outputs": []
    },
    {
      "cell_type": "code",
      "metadata": {
        "id": "oV6ac0kZbULj",
        "colab_type": "code",
        "outputId": "aeef4de2-8ace-4aa8-e632-521e07a0514a",
        "colab": {
          "base_uri": "https://localhost:8080/",
          "height": 206
        }
      },
      "source": [
        "eqgood.head()"
      ],
      "execution_count": 37,
      "outputs": [
        {
          "output_type": "execute_result",
          "data": {
            "text/html": [
              "<div>\n",
              "<style scoped>\n",
              "    .dataframe tbody tr th:only-of-type {\n",
              "        vertical-align: middle;\n",
              "    }\n",
              "\n",
              "    .dataframe tbody tr th {\n",
              "        vertical-align: top;\n",
              "    }\n",
              "\n",
              "    .dataframe thead th {\n",
              "        text-align: right;\n",
              "    }\n",
              "</style>\n",
              "<table border=\"1\" class=\"dataframe\">\n",
              "  <thead>\n",
              "    <tr style=\"text-align: right;\">\n",
              "      <th></th>\n",
              "      <th>date</th>\n",
              "      <th>time</th>\n",
              "      <th>mag</th>\n",
              "      <th>timestamps</th>\n",
              "      <th>tilnext</th>\n",
              "    </tr>\n",
              "  </thead>\n",
              "  <tbody>\n",
              "    <tr>\n",
              "      <th>0</th>\n",
              "      <td>1984/01/01</td>\n",
              "      <td>01:30:57.52</td>\n",
              "      <td>2.02</td>\n",
              "      <td>1984-01-01 01:30:57.520</td>\n",
              "      <td>0</td>\n",
              "    </tr>\n",
              "    <tr>\n",
              "      <th>1</th>\n",
              "      <td>1984/01/01</td>\n",
              "      <td>05:31:34.16</td>\n",
              "      <td>2.12</td>\n",
              "      <td>1984-01-01 05:31:34.160</td>\n",
              "      <td>14436640000000</td>\n",
              "    </tr>\n",
              "    <tr>\n",
              "      <th>2</th>\n",
              "      <td>1984/01/01</td>\n",
              "      <td>06:59:05.14</td>\n",
              "      <td>2.43</td>\n",
              "      <td>1984-01-01 06:59:05.140</td>\n",
              "      <td>5250980000000</td>\n",
              "    </tr>\n",
              "    <tr>\n",
              "      <th>3</th>\n",
              "      <td>1984/01/01</td>\n",
              "      <td>11:10:25.29</td>\n",
              "      <td>2.07</td>\n",
              "      <td>1984-01-01 11:10:25.290</td>\n",
              "      <td>15080150000000</td>\n",
              "    </tr>\n",
              "    <tr>\n",
              "      <th>4</th>\n",
              "      <td>1984/01/01</td>\n",
              "      <td>19:38:19.79</td>\n",
              "      <td>2.13</td>\n",
              "      <td>1984-01-01 19:38:19.790</td>\n",
              "      <td>30474500000000</td>\n",
              "    </tr>\n",
              "  </tbody>\n",
              "</table>\n",
              "</div>"
            ],
            "text/plain": [
              "         date         time   mag              timestamps         tilnext\n",
              "0  1984/01/01  01:30:57.52  2.02 1984-01-01 01:30:57.520               0\n",
              "1  1984/01/01  05:31:34.16  2.12 1984-01-01 05:31:34.160  14436640000000\n",
              "2  1984/01/01  06:59:05.14  2.43 1984-01-01 06:59:05.140   5250980000000\n",
              "3  1984/01/01  11:10:25.29  2.07 1984-01-01 11:10:25.290  15080150000000\n",
              "4  1984/01/01  19:38:19.79  2.13 1984-01-01 19:38:19.790  30474500000000"
            ]
          },
          "metadata": {
            "tags": []
          },
          "execution_count": 37
        }
      ]
    },
    {
      "cell_type": "code",
      "metadata": {
        "id": "XK2xmBm4bViF",
        "colab_type": "code",
        "colab": {}
      },
      "source": [
        "eqgood = eqgood.drop(['0'],axis=0)"
      ],
      "execution_count": 0,
      "outputs": []
    },
    {
      "cell_type": "code",
      "metadata": {
        "id": "_7Gq6FL_bsSy",
        "colab_type": "code",
        "outputId": "90b44479-c8a1-4fd4-9b8b-86990f5bd20b",
        "colab": {
          "base_uri": "https://localhost:8080/",
          "height": 206
        }
      },
      "source": [
        "eqgood.head()"
      ],
      "execution_count": 39,
      "outputs": [
        {
          "output_type": "execute_result",
          "data": {
            "text/html": [
              "<div>\n",
              "<style scoped>\n",
              "    .dataframe tbody tr th:only-of-type {\n",
              "        vertical-align: middle;\n",
              "    }\n",
              "\n",
              "    .dataframe tbody tr th {\n",
              "        vertical-align: top;\n",
              "    }\n",
              "\n",
              "    .dataframe thead th {\n",
              "        text-align: right;\n",
              "    }\n",
              "</style>\n",
              "<table border=\"1\" class=\"dataframe\">\n",
              "  <thead>\n",
              "    <tr style=\"text-align: right;\">\n",
              "      <th></th>\n",
              "      <th>date</th>\n",
              "      <th>time</th>\n",
              "      <th>mag</th>\n",
              "      <th>timestamps</th>\n",
              "      <th>tilnext</th>\n",
              "    </tr>\n",
              "  </thead>\n",
              "  <tbody>\n",
              "    <tr>\n",
              "      <th>1</th>\n",
              "      <td>1984/01/01</td>\n",
              "      <td>05:31:34.16</td>\n",
              "      <td>2.12</td>\n",
              "      <td>1984-01-01 05:31:34.160</td>\n",
              "      <td>14436640000000</td>\n",
              "    </tr>\n",
              "    <tr>\n",
              "      <th>2</th>\n",
              "      <td>1984/01/01</td>\n",
              "      <td>06:59:05.14</td>\n",
              "      <td>2.43</td>\n",
              "      <td>1984-01-01 06:59:05.140</td>\n",
              "      <td>5250980000000</td>\n",
              "    </tr>\n",
              "    <tr>\n",
              "      <th>3</th>\n",
              "      <td>1984/01/01</td>\n",
              "      <td>11:10:25.29</td>\n",
              "      <td>2.07</td>\n",
              "      <td>1984-01-01 11:10:25.290</td>\n",
              "      <td>15080150000000</td>\n",
              "    </tr>\n",
              "    <tr>\n",
              "      <th>4</th>\n",
              "      <td>1984/01/01</td>\n",
              "      <td>19:38:19.79</td>\n",
              "      <td>2.13</td>\n",
              "      <td>1984-01-01 19:38:19.790</td>\n",
              "      <td>30474500000000</td>\n",
              "    </tr>\n",
              "    <tr>\n",
              "      <th>5</th>\n",
              "      <td>1984/01/01</td>\n",
              "      <td>19:39:19.67</td>\n",
              "      <td>2.13</td>\n",
              "      <td>1984-01-01 19:39:19.670</td>\n",
              "      <td>59880000000</td>\n",
              "    </tr>\n",
              "  </tbody>\n",
              "</table>\n",
              "</div>"
            ],
            "text/plain": [
              "         date         time   mag              timestamps         tilnext\n",
              "1  1984/01/01  05:31:34.16  2.12 1984-01-01 05:31:34.160  14436640000000\n",
              "2  1984/01/01  06:59:05.14  2.43 1984-01-01 06:59:05.140   5250980000000\n",
              "3  1984/01/01  11:10:25.29  2.07 1984-01-01 11:10:25.290  15080150000000\n",
              "4  1984/01/01  19:38:19.79  2.13 1984-01-01 19:38:19.790  30474500000000\n",
              "5  1984/01/01  19:39:19.67  2.13 1984-01-01 19:39:19.670     59880000000"
            ]
          },
          "metadata": {
            "tags": []
          },
          "execution_count": 39
        }
      ]
    },
    {
      "cell_type": "code",
      "metadata": {
        "id": "MZWwSz48cGIQ",
        "colab_type": "code",
        "outputId": "ba936dd7-15c5-493d-cc82-d10b94b2305c",
        "colab": {
          "base_uri": "https://localhost:8080/",
          "height": 300
        }
      },
      "source": [
        "eqgood.describe()"
      ],
      "execution_count": 40,
      "outputs": [
        {
          "output_type": "execute_result",
          "data": {
            "text/html": [
              "<div>\n",
              "<style scoped>\n",
              "    .dataframe tbody tr th:only-of-type {\n",
              "        vertical-align: middle;\n",
              "    }\n",
              "\n",
              "    .dataframe tbody tr th {\n",
              "        vertical-align: top;\n",
              "    }\n",
              "\n",
              "    .dataframe thead th {\n",
              "        text-align: right;\n",
              "    }\n",
              "</style>\n",
              "<table border=\"1\" class=\"dataframe\">\n",
              "  <thead>\n",
              "    <tr style=\"text-align: right;\">\n",
              "      <th></th>\n",
              "      <th>mag</th>\n",
              "      <th>tilnext</th>\n",
              "    </tr>\n",
              "  </thead>\n",
              "  <tbody>\n",
              "    <tr>\n",
              "      <th>count</th>\n",
              "      <td>17385.000000</td>\n",
              "      <td>1.738500e+04</td>\n",
              "    </tr>\n",
              "    <tr>\n",
              "      <th>mean</th>\n",
              "      <td>2.385727</td>\n",
              "      <td>3.448969e+13</td>\n",
              "    </tr>\n",
              "    <tr>\n",
              "      <th>std</th>\n",
              "      <td>0.384233</td>\n",
              "      <td>1.149716e+15</td>\n",
              "    </tr>\n",
              "    <tr>\n",
              "      <th>min</th>\n",
              "      <td>2.000000</td>\n",
              "      <td>1.700000e+08</td>\n",
              "    </tr>\n",
              "    <tr>\n",
              "      <th>25%</th>\n",
              "      <td>2.110000</td>\n",
              "      <td>2.921420e+12</td>\n",
              "    </tr>\n",
              "    <tr>\n",
              "      <th>50%</th>\n",
              "      <td>2.280000</td>\n",
              "      <td>9.667640e+12</td>\n",
              "    </tr>\n",
              "    <tr>\n",
              "      <th>75%</th>\n",
              "      <td>2.540000</td>\n",
              "      <td>2.320878e+13</td>\n",
              "    </tr>\n",
              "    <tr>\n",
              "      <th>max</th>\n",
              "      <td>5.800000</td>\n",
              "      <td>1.199903e+17</td>\n",
              "    </tr>\n",
              "  </tbody>\n",
              "</table>\n",
              "</div>"
            ],
            "text/plain": [
              "                mag       tilnext\n",
              "count  17385.000000  1.738500e+04\n",
              "mean       2.385727  3.448969e+13\n",
              "std        0.384233  1.149716e+15\n",
              "min        2.000000  1.700000e+08\n",
              "25%        2.110000  2.921420e+12\n",
              "50%        2.280000  9.667640e+12\n",
              "75%        2.540000  2.320878e+13\n",
              "max        5.800000  1.199903e+17"
            ]
          },
          "metadata": {
            "tags": []
          },
          "execution_count": 40
        }
      ]
    },
    {
      "cell_type": "code",
      "metadata": {
        "id": "P8Mzq4JMcQGh",
        "colab_type": "code",
        "outputId": "305dfc13-ce70-43e1-9c0e-0903bf92c48d",
        "colab": {
          "base_uri": "https://localhost:8080/",
          "height": 434
        }
      },
      "source": [
        "pl.hist(eqgood.tilnext,log=True)"
      ],
      "execution_count": 41,
      "outputs": [
        {
          "output_type": "execute_result",
          "data": {
            "text/plain": [
              "(array([1.7379e+04, 3.0000e+00, 0.0000e+00, 1.0000e+00, 0.0000e+00,\n",
              "        0.0000e+00, 1.0000e+00, 0.0000e+00, 0.0000e+00, 1.0000e+00]),\n",
              " array([1.70000000e+08, 1.19990336e+16, 2.39980671e+16, 3.59971005e+16,\n",
              "        4.79961340e+16, 5.99951674e+16, 7.19942009e+16, 8.39932343e+16,\n",
              "        9.59922678e+16, 1.07991301e+17, 1.19990335e+17]),\n",
              " <a list of 10 Patch objects>)"
            ]
          },
          "metadata": {
            "tags": []
          },
          "execution_count": 41
        },
        {
          "output_type": "stream",
          "text": [
            "/usr/local/lib/python3.6/dist-packages/matplotlib/font_manager.py:1241: UserWarning: findfont: Font family ['[\"sans-serif\"]'] not found. Falling back to DejaVu Sans.\n",
            "  (prop.get_family(), self.defaultFamily[fontext]))\n"
          ],
          "name": "stderr"
        },
        {
          "output_type": "display_data",
          "data": {
            "image/png": "[encoded data removed]",
            "text/plain": [
              "<Figure size 432x288 with 1 Axes>"
            ]
          },
          "metadata": {
            "tags": []
          }
        }
      ]
    },
    {
      "cell_type": "markdown",
      "metadata": {
        "id": "_aHlqmfZcx-O",
        "colab_type": "text"
      },
      "source": [
        "$\\color{red}{PLOT LABELS}$"
      ]
    },
    {
      "cell_type": "code",
      "metadata": {
        "id": "q4a12KmkctOP",
        "colab_type": "code",
        "outputId": "fec70d30-9d1e-4b72-b289-2ef98765ebc4",
        "colab": {
          "base_uri": "https://localhost:8080/",
          "height": 300
        }
      },
      "source": [
        "eqgood = eqgood[eqgood.tilnext <= 2.5*10**15]\n",
        "eqgood.describe()"
      ],
      "execution_count": 42,
      "outputs": [
        {
          "output_type": "execute_result",
          "data": {
            "text/html": [
              "<div>\n",
              "<style scoped>\n",
              "    .dataframe tbody tr th:only-of-type {\n",
              "        vertical-align: middle;\n",
              "    }\n",
              "\n",
              "    .dataframe tbody tr th {\n",
              "        vertical-align: top;\n",
              "    }\n",
              "\n",
              "    .dataframe thead th {\n",
              "        text-align: right;\n",
              "    }\n",
              "</style>\n",
              "<table border=\"1\" class=\"dataframe\">\n",
              "  <thead>\n",
              "    <tr style=\"text-align: right;\">\n",
              "      <th></th>\n",
              "      <th>mag</th>\n",
              "      <th>tilnext</th>\n",
              "    </tr>\n",
              "  </thead>\n",
              "  <tbody>\n",
              "    <tr>\n",
              "      <th>count</th>\n",
              "      <td>17375.000000</td>\n",
              "      <td>1.737500e+04</td>\n",
              "    </tr>\n",
              "    <tr>\n",
              "      <th>mean</th>\n",
              "      <td>2.385844</td>\n",
              "      <td>1.685512e+13</td>\n",
              "    </tr>\n",
              "    <tr>\n",
              "      <th>std</th>\n",
              "      <td>0.384292</td>\n",
              "      <td>2.039204e+13</td>\n",
              "    </tr>\n",
              "    <tr>\n",
              "      <th>min</th>\n",
              "      <td>2.000000</td>\n",
              "      <td>1.700000e+08</td>\n",
              "    </tr>\n",
              "    <tr>\n",
              "      <th>25%</th>\n",
              "      <td>2.110000</td>\n",
              "      <td>2.920040e+12</td>\n",
              "    </tr>\n",
              "    <tr>\n",
              "      <th>50%</th>\n",
              "      <td>2.280000</td>\n",
              "      <td>9.657150e+12</td>\n",
              "    </tr>\n",
              "    <tr>\n",
              "      <th>75%</th>\n",
              "      <td>2.540000</td>\n",
              "      <td>2.313566e+13</td>\n",
              "    </tr>\n",
              "    <tr>\n",
              "      <th>max</th>\n",
              "      <td>5.800000</td>\n",
              "      <td>2.365828e+14</td>\n",
              "    </tr>\n",
              "  </tbody>\n",
              "</table>\n",
              "</div>"
            ],
            "text/plain": [
              "                mag       tilnext\n",
              "count  17375.000000  1.737500e+04\n",
              "mean       2.385844  1.685512e+13\n",
              "std        0.384292  2.039204e+13\n",
              "min        2.000000  1.700000e+08\n",
              "25%        2.110000  2.920040e+12\n",
              "50%        2.280000  9.657150e+12\n",
              "75%        2.540000  2.313566e+13\n",
              "max        5.800000  2.365828e+14"
            ]
          },
          "metadata": {
            "tags": []
          },
          "execution_count": 42
        }
      ]
    },
    {
      "cell_type": "code",
      "metadata": {
        "id": "LUw4ZF2Udbke",
        "colab_type": "code",
        "outputId": "21f119c1-791f-4487-d4b3-7fd5ed07e871",
        "colab": {
          "base_uri": "https://localhost:8080/",
          "height": 415
        }
      },
      "source": [
        "pl.hist(eqgood.tilnext,log=True)"
      ],
      "execution_count": 43,
      "outputs": [
        {
          "output_type": "execute_result",
          "data": {
            "text/plain": [
              "(array([1.3135e+04, 2.8150e+03, 9.4600e+02, 3.1700e+02, 1.0100e+02,\n",
              "        4.2000e+01, 1.0000e+01, 4.0000e+00, 2.0000e+00, 3.0000e+00]),\n",
              " array([1.70000000e+08, 2.36584280e+13, 4.73166860e+13, 7.09749440e+13,\n",
              "        9.46332020e+13, 1.18291460e+14, 1.41949718e+14, 1.65607976e+14,\n",
              "        1.89266234e+14, 2.12924492e+14, 2.36582750e+14]),\n",
              " <a list of 10 Patch objects>)"
            ]
          },
          "metadata": {
            "tags": []
          },
          "execution_count": 43
        },
        {
          "output_type": "display_data",
          "data": {
            "image/png": "[encoded data removed]",
            "text/plain": [
              "<Figure size 432x288 with 1 Axes>"
            ]
          },
          "metadata": {
            "tags": []
          }
        }
      ]
    },
    {
      "cell_type": "markdown",
      "metadata": {
        "id": "ZxEfTb2ha-pm",
        "colab_type": "text"
      },
      "source": [
        "I'm selecting an $\\alpha$ threshold of $3\\sigma$.\n",
        "\n",
        "\n",
        "**I need to make a key for these variables...**\n",
        "\n",
        "variable|meaning\n",
        "-----|-----\n",
        "$d_{kl}$  |  ks statistic between sets k,l\n",
        "$N_e$  |  effective number of datapoints (definition here is strange)\n",
        "$M_i$ | some magnitude specific to the sample/subset\n",
        "$R_i$ | the occurrence rate for events of magnitude greater than $M_i$\n",
        "$\\tau$ | the inter-event time. note: $\\langle\\tau\\rangle_i=R_i^{-1}$\n",
        "\n",
        "\n",
        "\n"
      ]
    },
    {
      "cell_type": "code",
      "metadata": {
        "id": "wJoP0UT9lVC4",
        "colab_type": "code",
        "outputId": "061bedac-190e-420c-a21b-d3ff47c870ae",
        "colab": {
          "base_uri": "https://localhost:8080/",
          "height": 54
        }
      },
      "source": [
        "eqgood.tilnext.values"
      ],
      "execution_count": 44,
      "outputs": [
        {
          "output_type": "execute_result",
          "data": {
            "text/plain": [
              "array([14436640000000,  5250980000000, 15080150000000, ...,\n",
              "        1459920000000, 19148060000000, 37530890000000])"
            ]
          },
          "metadata": {
            "tags": []
          },
          "execution_count": 44
        }
      ]
    },
    {
      "cell_type": "code",
      "metadata": {
        "id": "ZALYrzr0d4no",
        "colab_type": "code",
        "outputId": "80136586-1686-4a2c-bd5f-d8ae5174e5b1",
        "colab": {
          "base_uri": "https://localhost:8080/",
          "height": 1000
        }
      },
      "source": [
        "thresholds = [0.01,0.001]\n",
        "mag_list = [2.0,2.5,3.0,3.5,4.0]\n",
        "\n",
        "tau_normd=np.empty([len(mag_list),len(thresholds)],dtype='O')\n",
        "\n",
        "#print(tau_normd)\n",
        "\n",
        "for threshold in thresholds:\n",
        "  i = thresholds.index(threshold)\n",
        "  for mk in range(len(mag_list)):\n",
        "    tau_normd[mk][i]=eqgood.tilnext.where(eqgood.mag>mag_list[mk]).dropna()\n",
        "    for _ in [1,2,3]:\n",
        "      rk = 1/np.mean(tau_normd[mk][i])\n",
        "      #print(rk)\n",
        "      tau_normd[mk][i] = tau_normd[mk][i].where(tau_normd[mk][i]*rk>threshold).dropna()*rk\n",
        "    #there were two lines in the pseudocode that were unnecessary, but I'll do them anyways.\n",
        "    rk = 1/np.mean(tau_normd[mk][i])\n",
        "    tau_normd[mk][i] = tau_normd[mk][i]*rk\n",
        "      \n",
        "    print(\"\\n\\n\")\n",
        "  for mk in range(len(mag_list)):\n",
        "    for ml in range(mk+1,len(mag_list)):\n",
        "      print(mk,ml)\n",
        "      print(stats.ks_2samp(tau_normd[mk][i].values,tau_normd[ml][i].values))\n",
        "      \n",
        "\n",
        "for i in range(5):\n",
        "  for j in [0,1]:\n",
        "    print(len(tau_normd[i][j]))"
      ],
      "execution_count": 55,
      "outputs": [
        {
          "output_type": "stream",
          "text": [
            "\n",
            "\n",
            "\n",
            "\n",
            "\n",
            "\n",
            "\n",
            "\n",
            "\n",
            "\n",
            "\n",
            "\n",
            "\n",
            "\n",
            "\n",
            "0 1\n",
            "Ks_2sampResult(statistic=0.01646401614679427, pvalue=0.2988924217300161)\n",
            "0 2\n",
            "Ks_2sampResult(statistic=0.026143467057560765, pvalue=0.46579212837991557)\n",
            "0 3\n",
            "Ks_2sampResult(statistic=0.07063699966478432, pvalue=0.07869015564429575)\n",
            "0 4\n",
            "Ks_2sampResult(statistic=0.12829356999554092, pvalue=0.10857153243367323)\n",
            "1 2\n",
            "Ks_2sampResult(statistic=0.021496139481659394, pvalue=1.0)\n",
            "1 3\n",
            "Ks_2sampResult(statistic=0.060674947049273745, pvalue=0.1976817322234541)\n",
            "1 4\n",
            "Ks_2sampResult(statistic=0.12631452677036267, pvalue=0.11297757155874633)\n",
            "2 3\n",
            "Ks_2sampResult(statistic=0.05313430764467883, pvalue=0.44653933946712554)\n",
            "2 4\n",
            "Ks_2sampResult(statistic=0.12705959423512128, pvalue=0.1269977872439345)\n",
            "3 4\n",
            "Ks_2sampResult(statistic=0.09144913269289522, pvalue=0.5631282678202599)\n",
            "\n",
            "\n",
            "\n",
            "\n",
            "\n",
            "\n",
            "\n",
            "\n",
            "\n",
            "\n",
            "\n",
            "\n",
            "\n",
            "\n",
            "\n",
            "0 1\n",
            "Ks_2sampResult(statistic=0.022693722952343426, pvalue=0.044826450192210744)\n",
            "0 2\n",
            "Ks_2sampResult(statistic=0.037953932216514386, pvalue=0.0767506784664994)\n",
            "0 3\n",
            "Ks_2sampResult(statistic=0.08224477807680222, pvalue=0.01816493801413496)\n",
            "0 4\n",
            "Ks_2sampResult(statistic=0.12462853664073303, pvalue=0.10964147614060792)\n",
            "1 2\n",
            "Ks_2sampResult(statistic=0.02617627102781872, pvalue=1.0)\n",
            "1 3\n",
            "Ks_2sampResult(statistic=0.06215274379483894, pvalue=0.14900908581100847)\n",
            "1 4\n",
            "Ks_2sampResult(statistic=0.11955260457968755, pvalue=0.13195407953605476)\n",
            "2 3\n",
            "Ks_2sampResult(statistic=0.04922042543325798, pvalue=0.5001271528884628)\n",
            "2 4\n",
            "Ks_2sampResult(statistic=0.11901759915944313, pvalue=0.15492363346812021)\n",
            "3 4\n",
            "Ks_2sampResult(statistic=0.0799220857057237, pvalue=0.6935673499229381)\n",
            "15799\n",
            "16496\n",
            "4496\n",
            "4749\n",
            "1132\n",
            "1215\n",
            "331\n",
            "355\n",
            "89\n",
            "94\n"
          ],
          "name": "stdout"
        }
      ]
    },
    {
      "cell_type": "markdown",
      "metadata": {
        "id": "pvWuzo6gP46t",
        "colab_type": "text"
      },
      "source": [
        "## An explanation of my cumulative probability distribution method\n",
        "So the cumulative distribution function plots the percentage of all entries with associated times shorter than the given value, for all values in the array.\n",
        "\n",
        "Equivalently, I could just sort the array, enumerate each entry, and divide the enumeration by the number of entries. That is: the lowest entry has 0 shorter measurements in the set, the second lowest has 1, the third lowest has 2... So this is simply the index of the sorted measuement. These need to be normalized to a percent of the total sample rather than an integer number due to varied sub-sample sizes.\n",
        "\n",
        "The cumulative distribution function is then the index of the value (normalized to a maximum of 1) as a function of the value (normalized to a mean of 1)."
      ]
    },
    {
      "cell_type": "code",
      "metadata": {
        "id": "-MeM6WeEVJZZ",
        "colab_type": "code",
        "outputId": "278d24c6-733a-4c48-f4d5-968967e7c03a",
        "colab": {
          "base_uri": "https://localhost:8080/",
          "height": 285
        }
      },
      "source": [
        "pl.plot(np.sort(tau_normd[0][1].values),',')"
      ],
      "execution_count": 65,
      "outputs": [
        {
          "output_type": "execute_result",
          "data": {
            "text/plain": [
              "[<matplotlib.lines.Line2D at 0x7fd27868a940>]"
            ]
          },
          "metadata": {
            "tags": []
          },
          "execution_count": 65
        },
        {
          "output_type": "display_data",
          "data": {
            "image/png": "[encoded data removed]",
            "text/plain": [
              "<Figure size 432x288 with 1 Axes>"
            ]
          },
          "metadata": {
            "tags": []
          }
        }
      ]
    },
    {
      "cell_type": "code",
      "metadata": {
        "id": "Ogy10HlmvNCs",
        "colab_type": "code",
        "outputId": "564b426c-d2dd-4fcd-92b8-d9adede1ad9d",
        "colab": {
          "base_uri": "https://localhost:8080/",
          "height": 110
        }
      },
      "source": [
        "tau_sort = np.zeros_like(tau_normd)\n",
        "\n",
        "for i in range(len(tau_normd)):\n",
        "  for j in range(len(tau_normd[i])):\n",
        "    tau_sort[i,j] = np.sort(tau_normd[i,j].values)\n",
        "\n",
        "tau_sort[1]"
      ],
      "execution_count": 67,
      "outputs": [
        {
          "output_type": "execute_result",
          "data": {
            "text/plain": [
              "array([array([1.01179314e-02, 1.02565171e-02, 1.02747986e-02, ...,\n",
              "       1.00244457e+01, 1.03540890e+01, 1.39519032e+01]),\n",
              "       array([1.01323487e-03, 1.04063643e-03, 1.05495997e-03, ...,\n",
              "       1.05860163e+01, 1.09341264e+01, 1.47334906e+01])], dtype=object)"
            ]
          },
          "metadata": {
            "tags": []
          },
          "execution_count": 67
        }
      ]
    },
    {
      "cell_type": "code",
      "metadata": {
        "id": "xCGf3knbSb1r",
        "colab_type": "code",
        "colab": {
          "base_uri": "https://localhost:8080/",
          "height": 271
        },
        "outputId": "dd511ff8-2163-412d-ce1d-9ebcf5e677f5"
      },
      "source": [
        "for i in range(len(tau_sort)):\n",
        "  pl.plot(tau_sort[i][0],np.linspace(0,1,num=len(tau_sort[i][0])),'.')\n",
        "\n",
        "pl.xscale('log')\n"
      ],
      "execution_count": 81,
      "outputs": [
        {
          "output_type": "display_data",
          "data": {
            "image/png": "[encoded data removed]",
            "text/plain": [
              "<Figure size 432x288 with 1 Axes>"
            ]
          },
          "metadata": {
            "tags": []
          }
        }
      ]
    },
    {
      "cell_type": "code",
      "metadata": {
        "id": "yJmzYFBVJRn4",
        "colab_type": "code",
        "colab": {}
      },
      "source": [
        ""
      ],
      "execution_count": 0,
      "outputs": []
    }
  ]
}