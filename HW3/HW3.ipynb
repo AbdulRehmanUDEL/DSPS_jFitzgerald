{
  "nbformat": 4,
  "nbformat_minor": 0,
  "metadata": {
    "colab": {
      "name": "HW3.ipynb",
      "version": "0.3.2",
      "provenance": [],
      "collapsed_sections": []
    },
    "kernelspec": {
      "name": "python3",
      "display_name": "Python 3"
    }
  },
  "cells": [
    {
      "cell_type": "code",
      "metadata": {
        "id": "ly4r_qnEPqFt",
        "colab_type": "code",
<<<<<<< HEAD
        "outputId": "26a80b65-2a55-471a-93f3-3c12d5d85147",
        "colab": {
          "base_uri": "https://localhost:8080/",
          "height": 54
=======
        "outputId": "66ae27c6-4f0f-4299-cf2a-0763b1f98966",
        "colab": {
          "base_uri": "https://localhost:8080/",
          "height": 129
>>>>>>> dfc3095670ba2e42b209b2a9afab0fb30280b0f1
        }
      },
      "source": [
        "import pandas as pd\n",
        "%pylab inline\n",
        "import numpy as np\n",
        "import pylab as pl\n",
        "import scipy as sp\n",
        "from scipy import stats\n",
        "%pylab inline\n",
        "pl.style.use(\"https://raw.githubusercontent.com/fedhere/DSPS/master/fbb.mplstyle\")"
      ],
<<<<<<< HEAD
      "execution_count": 1,
=======
      "execution_count": 76,
>>>>>>> dfc3095670ba2e42b209b2a9afab0fb30280b0f1
      "outputs": [
        {
          "output_type": "stream",
          "text": [
            "Populating the interactive namespace from numpy and matplotlib\n",
            "Populating the interactive namespace from numpy and matplotlib\n"
          ],
          "name": "stdout"
<<<<<<< HEAD
=======
        },
        {
          "output_type": "stream",
          "text": [
            "/usr/local/lib/python3.6/dist-packages/IPython/core/magics/pylab.py:161: UserWarning: pylab import has clobbered these variables: ['test']\n",
            "`%matplotlib` prevents importing * from pylab and numpy\n",
            "  \"\\n`%matplotlib` prevents importing * from pylab and numpy\"\n"
          ],
          "name": "stderr"
>>>>>>> dfc3095670ba2e42b209b2a9afab0fb30280b0f1
        }
      ]
    },
    {
      "cell_type": "markdown",
      "metadata": {
        "id": "GoROv1ZcP65I",
        "colab_type": "text"
      },
      "source": [
        "I extracted precipitations records for Willmington from 2000/01/01 through today. \n",
        "The goal is to extract from these data the daily precipitation starting on 2018/01/01 and assess if these data are different from a population with mean $\\mu = 0.14$ standard deviation $\\sigma= 0.38$. \n",
        "\n",
        "Set a p-value at $2\\sigma$:  $p=0.05$"
      ]
    },
    {
      "cell_type": "code",
      "metadata": {
        "id": "ptBGYViVPt7E",
        "colab_type": "code",
<<<<<<< HEAD
        "outputId": "47c8d1b7-d631-44c4-a8c4-cef3bf244400",
=======
        "outputId": "3ee013f4-a3b1-433d-fadc-0cc11641a62f",
>>>>>>> dfc3095670ba2e42b209b2a9afab0fb30280b0f1
        "colab": {
          "base_uri": "https://localhost:8080/",
          "height": 55
        }
      },
      "source": [
        "rain = pd.read_csv(\"https://raw.githubusercontent.com/fedhere/DSPS/master/labs/1865331.csv\")\n",
        "rain.columns"
      ],
      "execution_count": 2,
      "outputs": [
        {
          "output_type": "execute_result",
          "data": {
            "text/plain": [
              "Index(['STATION', 'NAME', 'DATE', 'PRCP', 'SNOW', 'SNWD', 'WESD', 'WESF'], dtype='object')"
            ]
          },
          "metadata": {
            "tags": []
          },
          "execution_count": 2
        }
      ]
    },
    {
<<<<<<< HEAD
=======
      "cell_type": "markdown",
      "metadata": {
        "id": "lsWadx6NPywP",
        "colab_type": "text"
      },
      "source": [
        "\n",
        "The $Z$ statistics is : $Z = \\frac{\\bar{X} - \\mu }{s}$ and $s = \\sigma / \\sqrt(N)$ (you should know what all those symbols mean)\n",
        "\n",
        "1. Extract from the dataframe above the columns \"DATE\" and \"PRCP\" (precipitation)\n",
        "\n",
        "2. Convert the dataframe DATE from ```string``` to ```datetime``` type\n",
        " using pd.datetime() \n",
        "    \n",
        "3. Select the data rows with date later than 2018/01/01. \n",
        "    If your data type conversion worked well you should be able to set the condition as ```rain[<newcolumnname>]> pd.datetime(\"2018/01/01\")```\n",
        "    use the technique called \"broadcasting\" to select the rows: \n",
        "    \n",
        "    ```rain[ rain[<newcolumnname>]> pd.datetime(\"2018/01/01\")]``` which you can save as a new dataframe\n",
        "    \n",
        "4. Calculate the mean of the sample you created $\\bar{X}$ and plug it in  the numerator of the $Z$ statistics: $\\bar{X}- \\mu$\n",
        "\n",
        "5. Calculate the size of the sample and plug it in the formula. Now you have $Z$\n",
        "\n",
        "6. Knowing the distribution of $Z\\sim N(\\mu=0, \\sigma=1)$ and with a confidence $p=0.05$, did you find that the time period 2018/01/01---today has a statistically significant different amount of rain?  \n",
        "    "
      ]
    },
    {
>>>>>>> dfc3095670ba2e42b209b2a9afab0fb30280b0f1
      "cell_type": "code",
      "metadata": {
        "id": "ncJKVT8GPvcD",
        "colab_type": "code",
<<<<<<< HEAD
        "outputId": "7caad16f-0eab-4ccd-f051-389bdd4d8d94",
=======
        "outputId": "6bc6b591-9876-4a47-a6f0-4db89058c725",
>>>>>>> dfc3095670ba2e42b209b2a9afab0fb30280b0f1
        "colab": {
          "base_uri": "https://localhost:8080/",
          "height": 35
        }
      },
      "source": [
        "rainonly=rain[[\"DATE\",\"PRCP\"]]\n",
        "rainonly.head()\n",
        "rainonly.DATE.dtype"
      ],
      "execution_count": 3,
      "outputs": [
        {
          "output_type": "execute_result",
          "data": {
            "text/plain": [
              "dtype('O')"
            ]
          },
          "metadata": {
            "tags": []
          },
          "execution_count": 3
        }
      ]
    },
    {
      "cell_type": "code",
      "metadata": {
        "id": "WJO6GuXn4kF2",
        "colab_type": "code",
<<<<<<< HEAD
        "outputId": "11b97d82-5c73-4486-eb77-259508439a8a",
=======
        "outputId": "42919880-a192-4278-809c-a316c9d88754",
>>>>>>> dfc3095670ba2e42b209b2a9afab0fb30280b0f1
        "colab": {
          "base_uri": "https://localhost:8080/",
          "height": 147
        }
      },
      "source": [
        "rainonly['DATE']=pd.to_datetime(rainonly.DATE)"
      ],
      "execution_count": 4,
      "outputs": [
        {
          "output_type": "stream",
          "text": [
            "/usr/local/lib/python3.6/dist-packages/ipykernel_launcher.py:1: SettingWithCopyWarning: \n",
            "A value is trying to be set on a copy of a slice from a DataFrame.\n",
            "Try using .loc[row_indexer,col_indexer] = value instead\n",
            "\n",
            "See the caveats in the documentation: http://pandas.pydata.org/pandas-docs/stable/indexing.html#indexing-view-versus-copy\n",
            "  \"\"\"Entry point for launching an IPython kernel.\n"
          ],
          "name": "stderr"
        }
      ]
    },
    {
      "cell_type": "code",
      "metadata": {
        "id": "Ycv7jZcR5okm",
        "colab_type": "code",
<<<<<<< HEAD
        "outputId": "58f69711-5683-46ed-c7ce-a72fe08769d7",
=======
        "outputId": "0115f534-e8bb-4882-a1e5-515be7c8dee0",
>>>>>>> dfc3095670ba2e42b209b2a9afab0fb30280b0f1
        "colab": {
          "base_uri": "https://localhost:8080/",
          "height": 206
        }
      },
      "source": [
        "rainonly.head()"
      ],
      "execution_count": 5,
      "outputs": [
        {
          "output_type": "execute_result",
          "data": {
            "text/html": [
              "<div>\n",
              "<style scoped>\n",
              "    .dataframe tbody tr th:only-of-type {\n",
              "        vertical-align: middle;\n",
              "    }\n",
              "\n",
              "    .dataframe tbody tr th {\n",
              "        vertical-align: top;\n",
              "    }\n",
              "\n",
              "    .dataframe thead th {\n",
              "        text-align: right;\n",
              "    }\n",
              "</style>\n",
              "<table border=\"1\" class=\"dataframe\">\n",
              "  <thead>\n",
              "    <tr style=\"text-align: right;\">\n",
              "      <th></th>\n",
              "      <th>DATE</th>\n",
              "      <th>PRCP</th>\n",
              "    </tr>\n",
              "  </thead>\n",
              "  <tbody>\n",
              "    <tr>\n",
              "      <th>0</th>\n",
              "      <td>2010-01-01</td>\n",
              "      <td>0.28</td>\n",
              "    </tr>\n",
              "    <tr>\n",
              "      <th>1</th>\n",
              "      <td>2010-01-02</td>\n",
              "      <td>0.00</td>\n",
              "    </tr>\n",
              "    <tr>\n",
              "      <th>2</th>\n",
              "      <td>2010-01-03</td>\n",
              "      <td>0.00</td>\n",
              "    </tr>\n",
              "    <tr>\n",
              "      <th>3</th>\n",
              "      <td>2010-01-04</td>\n",
              "      <td>0.00</td>\n",
              "    </tr>\n",
              "    <tr>\n",
              "      <th>4</th>\n",
              "      <td>2010-01-05</td>\n",
              "      <td>0.00</td>\n",
              "    </tr>\n",
              "  </tbody>\n",
              "</table>\n",
              "</div>"
            ],
            "text/plain": [
              "        DATE  PRCP\n",
              "0 2010-01-01  0.28\n",
              "1 2010-01-02  0.00\n",
              "2 2010-01-03  0.00\n",
              "3 2010-01-04  0.00\n",
              "4 2010-01-05  0.00"
            ]
          },
          "metadata": {
            "tags": []
          },
          "execution_count": 5
        }
      ]
    },
    {
      "cell_type": "code",
      "metadata": {
        "id": "oZGaUmKP726A",
        "colab_type": "code",
        "colab": {}
      },
      "source": [
        "recent = rainonly[rainonly['DATE']>pd.to_datetime(\"2018/01/01\")]"
      ],
      "execution_count": 0,
      "outputs": []
    },
    {
      "cell_type": "code",
      "metadata": {
        "id": "RE7vowHR8mnq",
        "colab_type": "code",
<<<<<<< HEAD
        "outputId": "f2ab763e-2721-4a7d-ff6a-fe6712851031",
=======
        "outputId": "a68738b0-20db-41e2-b51f-7459567a83c3",
>>>>>>> dfc3095670ba2e42b209b2a9afab0fb30280b0f1
        "colab": {
          "base_uri": "https://localhost:8080/",
          "height": 300
        }
      },
      "source": [
        "recent.describe()"
      ],
      "execution_count": 7,
      "outputs": [
        {
          "output_type": "execute_result",
          "data": {
            "text/html": [
              "<div>\n",
              "<style scoped>\n",
              "    .dataframe tbody tr th:only-of-type {\n",
              "        vertical-align: middle;\n",
              "    }\n",
              "\n",
              "    .dataframe tbody tr th {\n",
              "        vertical-align: top;\n",
              "    }\n",
              "\n",
              "    .dataframe thead th {\n",
              "        text-align: right;\n",
              "    }\n",
              "</style>\n",
              "<table border=\"1\" class=\"dataframe\">\n",
              "  <thead>\n",
              "    <tr style=\"text-align: right;\">\n",
              "      <th></th>\n",
              "      <th>PRCP</th>\n",
              "    </tr>\n",
              "  </thead>\n",
              "  <tbody>\n",
              "    <tr>\n",
              "      <th>count</th>\n",
              "      <td>615.000000</td>\n",
              "    </tr>\n",
              "    <tr>\n",
              "      <th>mean</th>\n",
              "      <td>0.162504</td>\n",
              "    </tr>\n",
              "    <tr>\n",
              "      <th>std</th>\n",
              "      <td>0.365007</td>\n",
              "    </tr>\n",
              "    <tr>\n",
              "      <th>min</th>\n",
              "      <td>0.000000</td>\n",
              "    </tr>\n",
              "    <tr>\n",
              "      <th>25%</th>\n",
              "      <td>0.000000</td>\n",
              "    </tr>\n",
              "    <tr>\n",
              "      <th>50%</th>\n",
              "      <td>0.000000</td>\n",
              "    </tr>\n",
              "    <tr>\n",
              "      <th>75%</th>\n",
              "      <td>0.120000</td>\n",
              "    </tr>\n",
              "    <tr>\n",
              "      <th>max</th>\n",
              "      <td>2.450000</td>\n",
              "    </tr>\n",
              "  </tbody>\n",
              "</table>\n",
              "</div>"
            ],
            "text/plain": [
              "             PRCP\n",
              "count  615.000000\n",
              "mean     0.162504\n",
              "std      0.365007\n",
              "min      0.000000\n",
              "25%      0.000000\n",
              "50%      0.000000\n",
              "75%      0.120000\n",
              "max      2.450000"
            ]
          },
          "metadata": {
            "tags": []
          },
          "execution_count": 7
        }
      ]
    },
    {
      "cell_type": "code",
      "metadata": {
        "id": "7Oe-h_g-8zLA",
        "colab_type": "code",
<<<<<<< HEAD
        "outputId": "3d9be5e8-ddb0-4164-84f7-da00c59277e4",
=======
        "outputId": "4b9e9176-d2f8-4077-b52f-3eb3f49d329f",
>>>>>>> dfc3095670ba2e42b209b2a9afab0fb30280b0f1
        "colab": {
          "base_uri": "https://localhost:8080/",
          "height": 182
        }
      },
      "source": [
        "rainonly.PRCP.describe()"
      ],
      "execution_count": 8,
      "outputs": [
        {
          "output_type": "execute_result",
          "data": {
            "text/plain": [
              "count    3538.000000\n",
              "mean        0.137340\n",
              "std         0.382174\n",
              "min         0.000000\n",
              "25%         0.000000\n",
              "50%         0.000000\n",
              "75%         0.070000\n",
              "max         6.960000\n",
              "Name: PRCP, dtype: float64"
            ]
          },
          "metadata": {
            "tags": []
          },
          "execution_count": 8
        }
      ]
    },
    {
      "cell_type": "markdown",
      "metadata": {
        "id": "_MVkFRWBbdDv",
        "colab_type": "text"
      },
      "source": [
        "this is $\\frac{\\bar X-\\mu}{\\sigma}\\sqrt{N}$:"
      ]
    },
    {
      "cell_type": "code",
      "metadata": {
        "id": "x1L4DUz789o2",
        "colab_type": "code",
<<<<<<< HEAD
        "outputId": "467ec0cc-e677-4fd2-9676-0d55ace590b6",
=======
        "outputId": "c022016b-a3c1-4b68-b5c7-c127ce2e0556",
>>>>>>> dfc3095670ba2e42b209b2a9afab0fb30280b0f1
        "colab": {
          "base_uri": "https://localhost:8080/",
          "height": 35
        }
      },
      "source": [
<<<<<<< HEAD
        "print(\"z =\",(0.162504-0.137340)/(0.38*(615**(-0.5))))"
=======
        "(0.162504-0.137340)/(0.38*(615**(-0.5)))"
>>>>>>> dfc3095670ba2e42b209b2a9afab0fb30280b0f1
      ],
      "execution_count": 9,
      "outputs": [
        {
<<<<<<< HEAD
          "output_type": "stream",
          "text": [
            "z = 1.6422287003201257\n"
          ],
          "name": "stdout"
=======
          "output_type": "execute_result",
          "data": {
            "text/plain": [
              "1.6422287003201257"
            ]
          },
          "metadata": {
            "tags": []
          },
          "execution_count": 9
>>>>>>> dfc3095670ba2e42b209b2a9afab0fb30280b0f1
        }
      ]
    },
    {
      "cell_type": "markdown",
      "metadata": {
        "id": "2wN0kxx190M3",
        "colab_type": "text"
      },
      "source": [
        "No, it does not appear that it is significantly higher. For $p<0.05$, the $z$ value would have to be greater than 2 (or less than -2 for statistically significantly less rainfall)"
      ]
    },
    {
      "cell_type": "markdown",
      "metadata": {
        "id": "_2jcOq03YaX8",
        "colab_type": "text"
      },
      "source": [
        "# `HERE BEGINS PART 2`"
      ]
    },
    {
      "cell_type": "markdown",
      "metadata": {
        "id": "l6E7WQnlcN9e",
        "colab_type": "text"
      },
      "source": [
        "### `1 What is the test's Null Hypothsis that the K-S test tests?`\n",
        "\n",
        "*The K-S test's Null Hypothesis is that the two datasets being compared were generated from the same parent distribution.*\n",
        "\n",
        "---\n",
        "\n",
        "### `2 What is the \"statistic\" or \"pivotal quantity\" that the test uses?`\n",
        "\n",
        "*It bases it's result off of the greatest distance between the two sampless' Cumulative Distribution Functions*\n",
        "\n",
        "---\n",
        "\n",
        "### `3 What does the probability distribution of this statistic depend on?`\n",
        "\n",
        "*The maximum distance noted above and the sizes of the two samples*\n",
        "\n",
        "Specifically the null hyponthesis is rejected at a confidence level $\\alpha$ if the maximum distance between the two CDFs obeys:\n",
        "\n",
        "$\\displaystyle{D_{m,n}>\\sqrt{-\\frac{1}{2}\\ln\\alpha\\cdot \\frac{n+m}{nm}}}$"
      ]
    },
    {
      "cell_type": "code",
      "metadata": {
        "id": "EiGOXjyrYZrt",
        "colab_type": "code",
        "colab": {}
      },
      "source": [
        "quakes_raw=pd.read_csv(\"https://raw.githubusercontent.com/sheamusfitz/DSPS_jFitzgerald/master/HW3/quakes.csv\",sep=\" \")"
      ],
      "execution_count": 0,
      "outputs": []
    },
    {
      "cell_type": "markdown",
      "metadata": {
        "id": "g1l_3GGyg6gT",
        "colab_type": "text"
      },
      "source": [
        "I modified the formatting of this data in a slightly different manner. In vim I ran a search over the data, replacing all instances of \"{space}{space}\" with \"{space}\". I repeated this until there were no more instances of \"{space}{space}\"."
      ]
    },
    {
      "cell_type": "code",
      "metadata": {
        "id": "KdveGytngbN2",
        "colab_type": "code",
<<<<<<< HEAD
        "outputId": "1904e2a7-e321-4e82-d637-356bd4a08bde",
=======
        "outputId": "ccf3be02-73a1-49fb-d5e2-6e7647ea47a0",
>>>>>>> dfc3095670ba2e42b209b2a9afab0fb30280b0f1
        "colab": {
          "base_uri": "https://localhost:8080/",
          "height": 226
        }
      },
      "source": [
        "quakes_raw.head()"
      ],
      "execution_count": 11,
      "outputs": [
        {
          "output_type": "execute_result",
          "data": {
            "text/html": [
              "<div>\n",
              "<style scoped>\n",
              "    .dataframe tbody tr th:only-of-type {\n",
              "        vertical-align: middle;\n",
              "    }\n",
              "\n",
              "    .dataframe tbody tr th {\n",
              "        vertical-align: top;\n",
              "    }\n",
              "\n",
              "    .dataframe thead th {\n",
              "        text-align: right;\n",
              "    }\n",
              "</style>\n",
              "<table border=\"1\" class=\"dataframe\">\n",
              "  <thead>\n",
              "    <tr style=\"text-align: right;\">\n",
              "      <th></th>\n",
              "      <th>#YYY/MM/DD</th>\n",
              "      <th>HH:mm:SS.ss</th>\n",
              "      <th>ET</th>\n",
              "      <th>GT</th>\n",
              "      <th>MAG</th>\n",
              "      <th>M</th>\n",
              "      <th>LAT</th>\n",
              "      <th>LON</th>\n",
              "      <th>DEPTH</th>\n",
              "      <th>Q</th>\n",
              "      <th>EVID</th>\n",
              "      <th>NPH</th>\n",
              "      <th>NGRM</th>\n",
              "    </tr>\n",
              "  </thead>\n",
              "  <tbody>\n",
              "    <tr>\n",
              "      <th>0</th>\n",
              "      <td>1984/01/01</td>\n",
              "      <td>01:30:57.52</td>\n",
              "      <td>eq</td>\n",
              "      <td>l</td>\n",
              "      <td>2.02</td>\n",
              "      <td>c</td>\n",
              "      <td>33.246</td>\n",
              "      <td>-116.433</td>\n",
              "      <td>1.6</td>\n",
              "      <td>C</td>\n",
              "      <td>28255.0</td>\n",
              "      <td>13.0</td>\n",
              "      <td>17.0</td>\n",
              "    </tr>\n",
              "    <tr>\n",
              "      <th>1</th>\n",
              "      <td>1984/01/01</td>\n",
              "      <td>05:31:34.16</td>\n",
              "      <td>eq</td>\n",
              "      <td>l</td>\n",
              "      <td>2.12</td>\n",
              "      <td>c</td>\n",
              "      <td>32.945</td>\n",
              "      <td>-116.295</td>\n",
              "      <td>5.4</td>\n",
              "      <td>C</td>\n",
              "      <td>28259.0</td>\n",
              "      <td>18.0</td>\n",
              "      <td>42.0</td>\n",
              "    </tr>\n",
              "    <tr>\n",
              "      <th>2</th>\n",
              "      <td>1984/01/01</td>\n",
              "      <td>06:59:05.14</td>\n",
              "      <td>eq</td>\n",
              "      <td>l</td>\n",
              "      <td>2.43</td>\n",
              "      <td>c</td>\n",
              "      <td>33.343</td>\n",
              "      <td>-117.628</td>\n",
              "      <td>5.6</td>\n",
              "      <td>C</td>\n",
              "      <td>28260.0</td>\n",
              "      <td>13.0</td>\n",
              "      <td>30.0</td>\n",
              "    </tr>\n",
              "    <tr>\n",
              "      <th>3</th>\n",
              "      <td>1984/01/01</td>\n",
              "      <td>11:10:25.29</td>\n",
              "      <td>eq</td>\n",
              "      <td>l</td>\n",
              "      <td>2.07</td>\n",
              "      <td>c</td>\n",
              "      <td>33.668</td>\n",
              "      <td>-116.780</td>\n",
              "      <td>13.8</td>\n",
              "      <td>C</td>\n",
              "      <td>28270.0</td>\n",
              "      <td>19.0</td>\n",
              "      <td>40.0</td>\n",
              "    </tr>\n",
              "    <tr>\n",
              "      <th>4</th>\n",
              "      <td>1984/01/01</td>\n",
              "      <td>19:38:19.79</td>\n",
              "      <td>eq</td>\n",
              "      <td>l</td>\n",
              "      <td>2.13</td>\n",
              "      <td>c</td>\n",
              "      <td>33.963</td>\n",
              "      <td>-116.290</td>\n",
              "      <td>2.7</td>\n",
              "      <td>C</td>\n",
              "      <td>28553.0</td>\n",
              "      <td>40.0</td>\n",
              "      <td>49.0</td>\n",
              "    </tr>\n",
              "  </tbody>\n",
              "</table>\n",
              "</div>"
            ],
            "text/plain": [
              "   #YYY/MM/DD  HH:mm:SS.ss  ET GT   MAG  ... DEPTH  Q     EVID   NPH  NGRM\n",
              "0  1984/01/01  01:30:57.52  eq  l  2.02  ...   1.6  C  28255.0  13.0  17.0\n",
              "1  1984/01/01  05:31:34.16  eq  l  2.12  ...   5.4  C  28259.0  18.0  42.0\n",
              "2  1984/01/01  06:59:05.14  eq  l  2.43  ...   5.6  C  28260.0  13.0  30.0\n",
              "3  1984/01/01  11:10:25.29  eq  l  2.07  ...  13.8  C  28270.0  19.0  40.0\n",
              "4  1984/01/01  19:38:19.79  eq  l  2.13  ...   2.7  C  28553.0  40.0  49.0\n",
              "\n",
              "[5 rows x 13 columns]"
            ]
          },
          "metadata": {
            "tags": []
          },
          "execution_count": 11
        }
      ]
    },
    {
      "cell_type": "code",
      "metadata": {
        "id": "pQy5HexFggLG",
        "colab_type": "code",
<<<<<<< HEAD
        "outputId": "b7ec8cbd-4f14-4c5a-e94e-4719e7fa7a2d",
=======
        "outputId": "9485aff5-60ac-4a6c-f3cc-3cf8ddbd43f4",
>>>>>>> dfc3095670ba2e42b209b2a9afab0fb30280b0f1
        "colab": {
          "base_uri": "https://localhost:8080/",
          "height": 35
        }
      },
      "source": [
        "quakes_raw.shape"
      ],
      "execution_count": 12,
      "outputs": [
        {
          "output_type": "execute_result",
          "data": {
            "text/plain": [
              "(71446, 13)"
            ]
          },
          "metadata": {
            "tags": []
          },
          "execution_count": 12
        }
      ]
    },
    {
      "cell_type": "code",
      "metadata": {
        "id": "6tmigbLTg1pc",
        "colab_type": "code",
<<<<<<< HEAD
        "outputId": "0ed20a45-a219-438a-81f4-2dd389feebd6",
=======
        "outputId": "6f942c5c-549c-4da6-f572-f5f89042c654",
>>>>>>> dfc3095670ba2e42b209b2a9afab0fb30280b0f1
        "colab": {
          "base_uri": "https://localhost:8080/",
          "height": 320
        }
      },
      "source": [
        "quakes_raw.describe()"
      ],
      "execution_count": 13,
      "outputs": [
        {
          "output_type": "execute_result",
          "data": {
            "text/html": [
              "<div>\n",
              "<style scoped>\n",
              "    .dataframe tbody tr th:only-of-type {\n",
              "        vertical-align: middle;\n",
              "    }\n",
              "\n",
              "    .dataframe tbody tr th {\n",
              "        vertical-align: top;\n",
              "    }\n",
              "\n",
              "    .dataframe thead th {\n",
              "        text-align: right;\n",
              "    }\n",
              "</style>\n",
              "<table border=\"1\" class=\"dataframe\">\n",
              "  <thead>\n",
              "    <tr style=\"text-align: right;\">\n",
              "      <th></th>\n",
              "      <th>MAG</th>\n",
              "      <th>LAT</th>\n",
              "      <th>LON</th>\n",
              "      <th>DEPTH</th>\n",
              "      <th>EVID</th>\n",
              "      <th>NPH</th>\n",
              "      <th>NGRM</th>\n",
              "    </tr>\n",
              "  </thead>\n",
              "  <tbody>\n",
              "    <tr>\n",
              "      <th>count</th>\n",
              "      <td>71446.000000</td>\n",
              "      <td>71445.000000</td>\n",
              "      <td>71445.000000</td>\n",
              "      <td>71445.000000</td>\n",
              "      <td>7.144500e+04</td>\n",
              "      <td>71445.000000</td>\n",
              "      <td>71445.000000</td>\n",
              "    </tr>\n",
              "    <tr>\n",
              "      <th>mean</th>\n",
              "      <td>3.411610</td>\n",
              "      <td>33.960072</td>\n",
              "      <td>-116.843646</td>\n",
              "      <td>5.821510</td>\n",
              "      <td>4.147678e+06</td>\n",
              "      <td>32.018980</td>\n",
              "      <td>203.164574</td>\n",
              "    </tr>\n",
              "    <tr>\n",
              "      <th>std</th>\n",
              "      <td>267.281389</td>\n",
              "      <td>1.080535</td>\n",
              "      <td>1.024872</td>\n",
              "      <td>3.976313</td>\n",
              "      <td>3.929716e+06</td>\n",
              "      <td>24.046221</td>\n",
              "      <td>268.520695</td>\n",
              "    </tr>\n",
              "    <tr>\n",
              "      <th>min</th>\n",
              "      <td>2.000000</td>\n",
              "      <td>31.820000</td>\n",
              "      <td>-119.854000</td>\n",
              "      <td>0.000000</td>\n",
              "      <td>2.825500e+04</td>\n",
              "      <td>0.000000</td>\n",
              "      <td>0.000000</td>\n",
              "    </tr>\n",
              "    <tr>\n",
              "      <th>25%</th>\n",
              "      <td>2.120000</td>\n",
              "      <td>33.097000</td>\n",
              "      <td>-117.662000</td>\n",
              "      <td>3.000000</td>\n",
              "      <td>7.420180e+05</td>\n",
              "      <td>16.000000</td>\n",
              "      <td>63.000000</td>\n",
              "    </tr>\n",
              "    <tr>\n",
              "      <th>50%</th>\n",
              "      <td>2.300000</td>\n",
              "      <td>34.045000</td>\n",
              "      <td>-116.580000</td>\n",
              "      <td>5.300000</td>\n",
              "      <td>3.059672e+06</td>\n",
              "      <td>26.000000</td>\n",
              "      <td>122.000000</td>\n",
              "    </tr>\n",
              "    <tr>\n",
              "      <th>75%</th>\n",
              "      <td>2.580000</td>\n",
              "      <td>34.568000</td>\n",
              "      <td>-116.247330</td>\n",
              "      <td>7.100000</td>\n",
              "      <td>9.026978e+06</td>\n",
              "      <td>40.000000</td>\n",
              "      <td>242.000000</td>\n",
              "    </tr>\n",
              "    <tr>\n",
              "      <th>max</th>\n",
              "      <td>71445.000000</td>\n",
              "      <td>36.628000</td>\n",
              "      <td>-114.237000</td>\n",
              "      <td>29.300000</td>\n",
              "      <td>3.736673e+07</td>\n",
              "      <td>554.000000</td>\n",
              "      <td>3846.000000</td>\n",
              "    </tr>\n",
              "  </tbody>\n",
              "</table>\n",
              "</div>"
            ],
            "text/plain": [
              "                MAG           LAT  ...           NPH          NGRM\n",
              "count  71446.000000  71445.000000  ...  71445.000000  71445.000000\n",
              "mean       3.411610     33.960072  ...     32.018980    203.164574\n",
              "std      267.281389      1.080535  ...     24.046221    268.520695\n",
              "min        2.000000     31.820000  ...      0.000000      0.000000\n",
              "25%        2.120000     33.097000  ...     16.000000     63.000000\n",
              "50%        2.300000     34.045000  ...     26.000000    122.000000\n",
              "75%        2.580000     34.568000  ...     40.000000    242.000000\n",
              "max    71445.000000     36.628000  ...    554.000000   3846.000000\n",
              "\n",
              "[8 rows x 7 columns]"
            ]
          },
          "metadata": {
            "tags": []
          },
          "execution_count": 13
        }
      ]
    },
    {
      "cell_type": "markdown",
      "metadata": {
        "id": "SWRC1qCQhug2",
        "colab_type": "text"
      },
      "source": [
        "whoops, it's taking the number of events as a magnitude, that's no good!"
      ]
    },
    {
      "cell_type": "code",
      "metadata": {
        "id": "p5iu5WaYhlGK",
        "colab_type": "code",
        "colab": {}
      },
      "source": [
        "quakes_raw = quakes_raw.drop([71445],axis=0)"
      ],
      "execution_count": 0,
      "outputs": []
    },
    {
      "cell_type": "code",
      "metadata": {
        "id": "ahbikFKPid6S",
        "colab_type": "code",
<<<<<<< HEAD
        "outputId": "8256cced-27b2-4a25-dc62-98e9417a9492",
=======
        "outputId": "00bdd138-f94f-46a2-c02d-daee6e18836f",
>>>>>>> dfc3095670ba2e42b209b2a9afab0fb30280b0f1
        "colab": {
          "base_uri": "https://localhost:8080/",
          "height": 320
        }
      },
      "source": [
        "quakes_raw.describe()"
      ],
      "execution_count": 15,
      "outputs": [
        {
          "output_type": "execute_result",
          "data": {
            "text/html": [
              "<div>\n",
              "<style scoped>\n",
              "    .dataframe tbody tr th:only-of-type {\n",
              "        vertical-align: middle;\n",
              "    }\n",
              "\n",
              "    .dataframe tbody tr th {\n",
              "        vertical-align: top;\n",
              "    }\n",
              "\n",
              "    .dataframe thead th {\n",
              "        text-align: right;\n",
              "    }\n",
              "</style>\n",
              "<table border=\"1\" class=\"dataframe\">\n",
              "  <thead>\n",
              "    <tr style=\"text-align: right;\">\n",
              "      <th></th>\n",
              "      <th>MAG</th>\n",
              "      <th>LAT</th>\n",
              "      <th>LON</th>\n",
              "      <th>DEPTH</th>\n",
              "      <th>EVID</th>\n",
              "      <th>NPH</th>\n",
              "      <th>NGRM</th>\n",
              "    </tr>\n",
              "  </thead>\n",
              "  <tbody>\n",
              "    <tr>\n",
              "      <th>count</th>\n",
              "      <td>71445.000000</td>\n",
              "      <td>71445.000000</td>\n",
              "      <td>71445.000000</td>\n",
              "      <td>71445.000000</td>\n",
              "      <td>7.144500e+04</td>\n",
              "      <td>71445.000000</td>\n",
              "      <td>71445.000000</td>\n",
              "    </tr>\n",
              "    <tr>\n",
              "      <th>mean</th>\n",
              "      <td>2.411658</td>\n",
              "      <td>33.960072</td>\n",
              "      <td>-116.843646</td>\n",
              "      <td>5.821510</td>\n",
              "      <td>4.147678e+06</td>\n",
              "      <td>32.018980</td>\n",
              "      <td>203.164574</td>\n",
              "    </tr>\n",
              "    <tr>\n",
              "      <th>std</th>\n",
              "      <td>0.405114</td>\n",
              "      <td>1.080535</td>\n",
              "      <td>1.024872</td>\n",
              "      <td>3.976313</td>\n",
              "      <td>3.929716e+06</td>\n",
              "      <td>24.046221</td>\n",
              "      <td>268.520695</td>\n",
              "    </tr>\n",
              "    <tr>\n",
              "      <th>min</th>\n",
              "      <td>2.000000</td>\n",
              "      <td>31.820000</td>\n",
              "      <td>-119.854000</td>\n",
              "      <td>0.000000</td>\n",
              "      <td>2.825500e+04</td>\n",
              "      <td>0.000000</td>\n",
              "      <td>0.000000</td>\n",
              "    </tr>\n",
              "    <tr>\n",
              "      <th>25%</th>\n",
              "      <td>2.120000</td>\n",
              "      <td>33.097000</td>\n",
              "      <td>-117.662000</td>\n",
              "      <td>3.000000</td>\n",
              "      <td>7.420180e+05</td>\n",
              "      <td>16.000000</td>\n",
              "      <td>63.000000</td>\n",
              "    </tr>\n",
              "    <tr>\n",
              "      <th>50%</th>\n",
              "      <td>2.300000</td>\n",
              "      <td>34.045000</td>\n",
              "      <td>-116.580000</td>\n",
              "      <td>5.300000</td>\n",
              "      <td>3.059672e+06</td>\n",
              "      <td>26.000000</td>\n",
              "      <td>122.000000</td>\n",
              "    </tr>\n",
              "    <tr>\n",
              "      <th>75%</th>\n",
              "      <td>2.580000</td>\n",
              "      <td>34.568000</td>\n",
              "      <td>-116.247330</td>\n",
              "      <td>7.100000</td>\n",
              "      <td>9.026978e+06</td>\n",
              "      <td>40.000000</td>\n",
              "      <td>242.000000</td>\n",
              "    </tr>\n",
              "    <tr>\n",
              "      <th>max</th>\n",
              "      <td>7.100000</td>\n",
              "      <td>36.628000</td>\n",
              "      <td>-114.237000</td>\n",
              "      <td>29.300000</td>\n",
              "      <td>3.736673e+07</td>\n",
              "      <td>554.000000</td>\n",
              "      <td>3846.000000</td>\n",
              "    </tr>\n",
              "  </tbody>\n",
              "</table>\n",
              "</div>"
            ],
            "text/plain": [
              "                MAG           LAT  ...           NPH          NGRM\n",
              "count  71445.000000  71445.000000  ...  71445.000000  71445.000000\n",
              "mean       2.411658     33.960072  ...     32.018980    203.164574\n",
              "std        0.405114      1.080535  ...     24.046221    268.520695\n",
              "min        2.000000     31.820000  ...      0.000000      0.000000\n",
              "25%        2.120000     33.097000  ...     16.000000     63.000000\n",
              "50%        2.300000     34.045000  ...     26.000000    122.000000\n",
              "75%        2.580000     34.568000  ...     40.000000    242.000000\n",
              "max        7.100000     36.628000  ...    554.000000   3846.000000\n",
              "\n",
              "[8 rows x 7 columns]"
            ]
          },
          "metadata": {
            "tags": []
          },
          "execution_count": 15
        }
      ]
    },
    {
      "cell_type": "markdown",
      "metadata": {
        "id": "TTExXK5mitR8",
        "colab_type": "text"
      },
      "source": [
        "much better"
      ]
    },
    {
      "cell_type": "code",
      "metadata": {
        "id": "dQOMVYY1is-n",
        "colab_type": "code",
<<<<<<< HEAD
        "outputId": "9cfbbbaf-3c57-4d7b-cb5e-37c211f0d052",
        "colab": {
          "base_uri": "https://localhost:8080/",
          "height": 206
=======
        "outputId": "0c6f72fe-8778-4a12-bbf9-bc0679b0c405",
        "colab": {
          "base_uri": "https://localhost:8080/",
          "height": 226
>>>>>>> dfc3095670ba2e42b209b2a9afab0fb30280b0f1
        }
      },
      "source": [
        "quakes_raw=quakes_raw.rename(index=str,columns={\"#YYY/MM/DD\": \"date\", \"HH:mm:SS.ss\": \"time\", \"MAG\": \"mag\"});\n",
        "quakes_raw.head()"
      ],
      "execution_count": 16,
      "outputs": [
        {
          "output_type": "execute_result",
          "data": {
            "text/html": [
              "<div>\n",
              "<style scoped>\n",
              "    .dataframe tbody tr th:only-of-type {\n",
              "        vertical-align: middle;\n",
              "    }\n",
              "\n",
              "    .dataframe tbody tr th {\n",
              "        vertical-align: top;\n",
              "    }\n",
              "\n",
              "    .dataframe thead th {\n",
              "        text-align: right;\n",
              "    }\n",
              "</style>\n",
              "<table border=\"1\" class=\"dataframe\">\n",
              "  <thead>\n",
              "    <tr style=\"text-align: right;\">\n",
              "      <th></th>\n",
              "      <th>date</th>\n",
              "      <th>time</th>\n",
              "      <th>ET</th>\n",
              "      <th>GT</th>\n",
              "      <th>mag</th>\n",
              "      <th>M</th>\n",
              "      <th>LAT</th>\n",
              "      <th>LON</th>\n",
              "      <th>DEPTH</th>\n",
              "      <th>Q</th>\n",
              "      <th>EVID</th>\n",
              "      <th>NPH</th>\n",
              "      <th>NGRM</th>\n",
              "    </tr>\n",
              "  </thead>\n",
              "  <tbody>\n",
              "    <tr>\n",
              "      <th>0</th>\n",
              "      <td>1984/01/01</td>\n",
              "      <td>01:30:57.52</td>\n",
              "      <td>eq</td>\n",
              "      <td>l</td>\n",
              "      <td>2.02</td>\n",
              "      <td>c</td>\n",
              "      <td>33.246</td>\n",
              "      <td>-116.433</td>\n",
              "      <td>1.6</td>\n",
              "      <td>C</td>\n",
              "      <td>28255.0</td>\n",
              "      <td>13.0</td>\n",
              "      <td>17.0</td>\n",
              "    </tr>\n",
              "    <tr>\n",
              "      <th>1</th>\n",
              "      <td>1984/01/01</td>\n",
              "      <td>05:31:34.16</td>\n",
              "      <td>eq</td>\n",
              "      <td>l</td>\n",
              "      <td>2.12</td>\n",
              "      <td>c</td>\n",
              "      <td>32.945</td>\n",
              "      <td>-116.295</td>\n",
              "      <td>5.4</td>\n",
              "      <td>C</td>\n",
              "      <td>28259.0</td>\n",
              "      <td>18.0</td>\n",
              "      <td>42.0</td>\n",
              "    </tr>\n",
              "    <tr>\n",
              "      <th>2</th>\n",
              "      <td>1984/01/01</td>\n",
              "      <td>06:59:05.14</td>\n",
              "      <td>eq</td>\n",
              "      <td>l</td>\n",
              "      <td>2.43</td>\n",
              "      <td>c</td>\n",
              "      <td>33.343</td>\n",
              "      <td>-117.628</td>\n",
              "      <td>5.6</td>\n",
              "      <td>C</td>\n",
              "      <td>28260.0</td>\n",
              "      <td>13.0</td>\n",
              "      <td>30.0</td>\n",
              "    </tr>\n",
              "    <tr>\n",
              "      <th>3</th>\n",
              "      <td>1984/01/01</td>\n",
              "      <td>11:10:25.29</td>\n",
              "      <td>eq</td>\n",
              "      <td>l</td>\n",
              "      <td>2.07</td>\n",
              "      <td>c</td>\n",
              "      <td>33.668</td>\n",
              "      <td>-116.780</td>\n",
              "      <td>13.8</td>\n",
              "      <td>C</td>\n",
              "      <td>28270.0</td>\n",
              "      <td>19.0</td>\n",
              "      <td>40.0</td>\n",
              "    </tr>\n",
              "    <tr>\n",
              "      <th>4</th>\n",
              "      <td>1984/01/01</td>\n",
              "      <td>19:38:19.79</td>\n",
              "      <td>eq</td>\n",
              "      <td>l</td>\n",
              "      <td>2.13</td>\n",
              "      <td>c</td>\n",
              "      <td>33.963</td>\n",
              "      <td>-116.290</td>\n",
              "      <td>2.7</td>\n",
              "      <td>C</td>\n",
              "      <td>28553.0</td>\n",
              "      <td>40.0</td>\n",
              "      <td>49.0</td>\n",
              "    </tr>\n",
              "  </tbody>\n",
              "</table>\n",
              "</div>"
            ],
            "text/plain": [
              "         date         time  ET GT   mag  ... DEPTH  Q     EVID   NPH  NGRM\n",
              "0  1984/01/01  01:30:57.52  eq  l  2.02  ...   1.6  C  28255.0  13.0  17.0\n",
              "1  1984/01/01  05:31:34.16  eq  l  2.12  ...   5.4  C  28259.0  18.0  42.0\n",
              "2  1984/01/01  06:59:05.14  eq  l  2.43  ...   5.6  C  28260.0  13.0  30.0\n",
              "3  1984/01/01  11:10:25.29  eq  l  2.07  ...  13.8  C  28270.0  19.0  40.0\n",
              "4  1984/01/01  19:38:19.79  eq  l  2.13  ...   2.7  C  28553.0  40.0  49.0\n",
              "\n",
              "[5 rows x 13 columns]"
            ]
          },
          "metadata": {
            "tags": []
          },
          "execution_count": 16
        }
      ]
    },
    {
      "cell_type": "code",
      "metadata": {
        "id": "4dwnUYAGiktY",
        "colab_type": "code",
<<<<<<< HEAD
        "outputId": "fe7b74c8-d6dd-4742-f246-b296a7608334",
=======
        "outputId": "c1362e74-ead2-4427-af65-f1c69205c5dd",
>>>>>>> dfc3095670ba2e42b209b2a9afab0fb30280b0f1
        "colab": {
          "base_uri": "https://localhost:8080/",
          "height": 206
        }
      },
      "source": [
        "eqdata = quakes_raw[[\"date\",\"time\",\"mag\"]]\n",
        "eqdata.head()\n",
        "\n",
        "#rainonly=rain[[\"DATE\",\"PRCP\"]]\n",
        "#rainonly.head()\n",
        "#rainonly.DATE.dtype"
      ],
      "execution_count": 17,
      "outputs": [
        {
          "output_type": "execute_result",
          "data": {
            "text/html": [
              "<div>\n",
              "<style scoped>\n",
              "    .dataframe tbody tr th:only-of-type {\n",
              "        vertical-align: middle;\n",
              "    }\n",
              "\n",
              "    .dataframe tbody tr th {\n",
              "        vertical-align: top;\n",
              "    }\n",
              "\n",
              "    .dataframe thead th {\n",
              "        text-align: right;\n",
              "    }\n",
              "</style>\n",
              "<table border=\"1\" class=\"dataframe\">\n",
              "  <thead>\n",
              "    <tr style=\"text-align: right;\">\n",
              "      <th></th>\n",
              "      <th>date</th>\n",
              "      <th>time</th>\n",
              "      <th>mag</th>\n",
              "    </tr>\n",
              "  </thead>\n",
              "  <tbody>\n",
              "    <tr>\n",
              "      <th>0</th>\n",
              "      <td>1984/01/01</td>\n",
              "      <td>01:30:57.52</td>\n",
              "      <td>2.02</td>\n",
              "    </tr>\n",
              "    <tr>\n",
              "      <th>1</th>\n",
              "      <td>1984/01/01</td>\n",
              "      <td>05:31:34.16</td>\n",
              "      <td>2.12</td>\n",
              "    </tr>\n",
              "    <tr>\n",
              "      <th>2</th>\n",
              "      <td>1984/01/01</td>\n",
              "      <td>06:59:05.14</td>\n",
              "      <td>2.43</td>\n",
              "    </tr>\n",
              "    <tr>\n",
              "      <th>3</th>\n",
              "      <td>1984/01/01</td>\n",
              "      <td>11:10:25.29</td>\n",
              "      <td>2.07</td>\n",
              "    </tr>\n",
              "    <tr>\n",
              "      <th>4</th>\n",
              "      <td>1984/01/01</td>\n",
              "      <td>19:38:19.79</td>\n",
              "      <td>2.13</td>\n",
              "    </tr>\n",
              "  </tbody>\n",
              "</table>\n",
              "</div>"
            ],
            "text/plain": [
              "         date         time   mag\n",
              "0  1984/01/01  01:30:57.52  2.02\n",
              "1  1984/01/01  05:31:34.16  2.12\n",
              "2  1984/01/01  06:59:05.14  2.43\n",
              "3  1984/01/01  11:10:25.29  2.07\n",
              "4  1984/01/01  19:38:19.79  2.13"
            ]
          },
          "metadata": {
            "tags": []
          },
          "execution_count": 17
        }
      ]
    },
    {
      "cell_type": "code",
      "metadata": {
        "id": "70bhPPt5jzzL",
        "colab_type": "code",
<<<<<<< HEAD
        "outputId": "c5b1c38e-c391-4f7d-f427-a74ef35bb076",
=======
        "outputId": "19784c75-dbbe-4484-dfec-701001285cfd",
>>>>>>> dfc3095670ba2e42b209b2a9afab0fb30280b0f1
        "colab": {
          "base_uri": "https://localhost:8080/",
          "height": 35
        }
      },
      "source": [
        "eqdata.date.dtype, eqdata.time.dtype"
      ],
      "execution_count": 18,
      "outputs": [
        {
          "output_type": "execute_result",
          "data": {
            "text/plain": [
              "(dtype('O'), dtype('O'))"
            ]
          },
          "metadata": {
            "tags": []
          },
          "execution_count": 18
        }
      ]
    },
    {
      "cell_type": "code",
      "metadata": {
        "id": "dBFr4jnGkZxM",
        "colab_type": "code",
<<<<<<< HEAD
        "outputId": "3978c692-f8fd-49b7-d299-bb17bbc21c63",
=======
        "outputId": "87eb79e5-d5fa-4796-88d4-5a8f32ee7fc3",
>>>>>>> dfc3095670ba2e42b209b2a9afab0fb30280b0f1
        "colab": {
          "base_uri": "https://localhost:8080/",
          "height": 206
        }
      },
      "source": [
        "eqdata.head()"
      ],
      "execution_count": 19,
      "outputs": [
        {
          "output_type": "execute_result",
          "data": {
            "text/html": [
              "<div>\n",
              "<style scoped>\n",
              "    .dataframe tbody tr th:only-of-type {\n",
              "        vertical-align: middle;\n",
              "    }\n",
              "\n",
              "    .dataframe tbody tr th {\n",
              "        vertical-align: top;\n",
              "    }\n",
              "\n",
              "    .dataframe thead th {\n",
              "        text-align: right;\n",
              "    }\n",
              "</style>\n",
              "<table border=\"1\" class=\"dataframe\">\n",
              "  <thead>\n",
              "    <tr style=\"text-align: right;\">\n",
              "      <th></th>\n",
              "      <th>date</th>\n",
              "      <th>time</th>\n",
              "      <th>mag</th>\n",
              "    </tr>\n",
              "  </thead>\n",
              "  <tbody>\n",
              "    <tr>\n",
              "      <th>0</th>\n",
              "      <td>1984/01/01</td>\n",
              "      <td>01:30:57.52</td>\n",
              "      <td>2.02</td>\n",
              "    </tr>\n",
              "    <tr>\n",
              "      <th>1</th>\n",
              "      <td>1984/01/01</td>\n",
              "      <td>05:31:34.16</td>\n",
              "      <td>2.12</td>\n",
              "    </tr>\n",
              "    <tr>\n",
              "      <th>2</th>\n",
              "      <td>1984/01/01</td>\n",
              "      <td>06:59:05.14</td>\n",
              "      <td>2.43</td>\n",
              "    </tr>\n",
              "    <tr>\n",
              "      <th>3</th>\n",
              "      <td>1984/01/01</td>\n",
              "      <td>11:10:25.29</td>\n",
              "      <td>2.07</td>\n",
              "    </tr>\n",
              "    <tr>\n",
              "      <th>4</th>\n",
              "      <td>1984/01/01</td>\n",
              "      <td>19:38:19.79</td>\n",
              "      <td>2.13</td>\n",
              "    </tr>\n",
              "  </tbody>\n",
              "</table>\n",
              "</div>"
            ],
            "text/plain": [
              "         date         time   mag\n",
              "0  1984/01/01  01:30:57.52  2.02\n",
              "1  1984/01/01  05:31:34.16  2.12\n",
              "2  1984/01/01  06:59:05.14  2.43\n",
              "3  1984/01/01  11:10:25.29  2.07\n",
              "4  1984/01/01  19:38:19.79  2.13"
            ]
          },
          "metadata": {
            "tags": []
          },
          "execution_count": 19
        }
      ]
    },
    {
      "cell_type": "code",
      "metadata": {
        "id": "abS21c0AklZp",
        "colab_type": "code",
<<<<<<< HEAD
        "outputId": "fd537f7b-3da5-43d2-8f8c-ca30ab78aaa0",
=======
        "outputId": "10d3e0c7-d878-4c25-84d7-3dd95734468a",
>>>>>>> dfc3095670ba2e42b209b2a9afab0fb30280b0f1
        "colab": {
          "base_uri": "https://localhost:8080/",
          "height": 35
        }
      },
      "source": [
<<<<<<< HEAD
        "print(eqdata['date'][2],\n",
        "eqdata['time'][2])"
=======
        "test=[1,3,5];\n",
        "test[1]\n",
        "eqdata['date'][2]\n",
        "eqdata['time'][2]"
>>>>>>> dfc3095670ba2e42b209b2a9afab0fb30280b0f1
      ],
      "execution_count": 20,
      "outputs": [
        {
<<<<<<< HEAD
          "output_type": "stream",
          "text": [
            "1984/01/01 06:59:05.14\n"
          ],
          "name": "stdout"
=======
          "output_type": "execute_result",
          "data": {
            "text/plain": [
              "'06:59:05.14'"
            ]
          },
          "metadata": {
            "tags": []
          },
          "execution_count": 20
>>>>>>> dfc3095670ba2e42b209b2a9afab0fb30280b0f1
        }
      ]
    },
    {
      "cell_type": "code",
      "metadata": {
<<<<<<< HEAD
        "id": "wd1McWpMmVB9",
        "colab_type": "code",
        "outputId": "74ca48c9-9f2f-4be1-c112-68e6cf807446",
=======
        "id": "x9J6Sh5mk4Pq",
        "colab_type": "code",
        "colab": {}
      },
      "source": [
        "#pd.to_datetime(eqdata['date'][2]*eqdata['time'][2])"
      ],
      "execution_count": 0,
      "outputs": []
    },
    {
      "cell_type": "code",
      "metadata": {
        "id": "wd1McWpMmVB9",
        "colab_type": "code",
        "outputId": "fb738b9f-8f90-49d3-b286-086055d0ea9c",
>>>>>>> dfc3095670ba2e42b209b2a9afab0fb30280b0f1
        "colab": {
          "base_uri": "https://localhost:8080/",
          "height": 35
        }
      },
      "source": [
        "timestamps=np.empty(len(eqdata),dtype=pd.datetime)\n",
        "print(timestamps)"
      ],
<<<<<<< HEAD
      "execution_count": 21,
=======
      "execution_count": 22,
>>>>>>> dfc3095670ba2e42b209b2a9afab0fb30280b0f1
      "outputs": [
        {
          "output_type": "stream",
          "text": [
            "[None None None ... None None None]\n"
          ],
          "name": "stdout"
        }
      ]
    },
    {
      "cell_type": "markdown",
      "metadata": {
        "id": "Xx7txlIG1Bun",
        "colab_type": "text"
      },
      "source": [
<<<<<<< HEAD
        "There were a few entries with a time of `\"HH:MM:60.00\"` which the pandas disliked, so again I replaced all instances of `:60.00` with `:59.99`. I'm assuming that *~5* entries of *~70000* being shifted by *0.01 s* will be a negligible change."
=======
        "There were a few entries with a time of `\"HH:MM:60.00\"` which the pandas disliked, so again I replaced all instances of `:60.00` with `:59.99`."
>>>>>>> dfc3095670ba2e42b209b2a9afab0fb30280b0f1
      ]
    },
    {
      "cell_type": "code",
      "metadata": {
        "id": "8G7Q3zMHorno",
        "colab_type": "code",
<<<<<<< HEAD
        "outputId": "538d14f9-05c1-48fb-94dd-f6b2d98d0cff",
=======
        "outputId": "e35d6e46-d6c6-4eb4-ab17-2baae40a44e2",
>>>>>>> dfc3095670ba2e42b209b2a9afab0fb30280b0f1
        "colab": {
          "base_uri": "https://localhost:8080/",
          "height": 35
        }
      },
      "source": [
        "for i in range(len(eqdata)):\n",
        "  #print(i)\n",
        "  thisdate=f\"{eqdata['date'][i]} {eqdata['time'][i]}\"\n",
        "  #print(timestamps[i])\n",
        "  thisdate=pd.to_datetime(thisdate)\n",
        "  timestamps[i]=thisdate#pd.to_datetime(thisdate, format=\"%Y/%m/%d %H:%M:%S.%f\")\n",
        "  #print(timestamps[i],\"\\n\")\n",
        "print(\"done\")"
      ],
<<<<<<< HEAD
      "execution_count": 22,
=======
      "execution_count": 23,
>>>>>>> dfc3095670ba2e42b209b2a9afab0fb30280b0f1
      "outputs": [
        {
          "output_type": "stream",
          "text": [
            "done\n"
          ],
          "name": "stdout"
        }
      ]
    },
    {
      "cell_type": "code",
      "metadata": {
        "id": "FrvhOKZ8pJC-",
        "colab_type": "code",
<<<<<<< HEAD
        "outputId": "5db16f6a-21a3-4d20-bc0f-a8e567942f45",
=======
        "outputId": "ef218343-5fa9-4718-ee8c-41502cadf69f",
>>>>>>> dfc3095670ba2e42b209b2a9afab0fb30280b0f1
        "colab": {
          "base_uri": "https://localhost:8080/",
          "height": 147
        }
      },
      "source": [
        "eqdata['timestamps']=timestamps"
      ],
<<<<<<< HEAD
      "execution_count": 23,
=======
      "execution_count": 24,
>>>>>>> dfc3095670ba2e42b209b2a9afab0fb30280b0f1
      "outputs": [
        {
          "output_type": "stream",
          "text": [
            "/usr/local/lib/python3.6/dist-packages/ipykernel_launcher.py:1: SettingWithCopyWarning: \n",
            "A value is trying to be set on a copy of a slice from a DataFrame.\n",
            "Try using .loc[row_indexer,col_indexer] = value instead\n",
            "\n",
            "See the caveats in the documentation: http://pandas.pydata.org/pandas-docs/stable/indexing.html#indexing-view-versus-copy\n",
            "  \"\"\"Entry point for launching an IPython kernel.\n"
          ],
          "name": "stderr"
        }
      ]
    },
    {
      "cell_type": "code",
      "metadata": {
        "id": "_vhX_sOJrZFd",
        "colab_type": "code",
<<<<<<< HEAD
        "outputId": "e4ce3a10-5406-4ae5-de19-2257a1226f64",
        "colab": {
          "base_uri": "https://localhost:8080/",
          "height": 206
        }
      },
      "source": [
        "eqdata.head()"
      ],
      "execution_count": 24,
=======
        "outputId": "da4463dc-90cf-4e6c-c5db-24915ed8f208",
        "colab": {
          "base_uri": "https://localhost:8080/",
          "height": 1000
        }
      },
      "source": [
        "eqdata"
      ],
      "execution_count": 25,
>>>>>>> dfc3095670ba2e42b209b2a9afab0fb30280b0f1
      "outputs": [
        {
          "output_type": "execute_result",
          "data": {
            "text/html": [
              "<div>\n",
              "<style scoped>\n",
              "    .dataframe tbody tr th:only-of-type {\n",
              "        vertical-align: middle;\n",
              "    }\n",
              "\n",
              "    .dataframe tbody tr th {\n",
              "        vertical-align: top;\n",
              "    }\n",
              "\n",
              "    .dataframe thead th {\n",
              "        text-align: right;\n",
              "    }\n",
              "</style>\n",
              "<table border=\"1\" class=\"dataframe\">\n",
              "  <thead>\n",
              "    <tr style=\"text-align: right;\">\n",
              "      <th></th>\n",
              "      <th>date</th>\n",
              "      <th>time</th>\n",
              "      <th>mag</th>\n",
              "      <th>timestamps</th>\n",
              "    </tr>\n",
              "  </thead>\n",
              "  <tbody>\n",
              "    <tr>\n",
              "      <th>0</th>\n",
              "      <td>1984/01/01</td>\n",
              "      <td>01:30:57.52</td>\n",
              "      <td>2.02</td>\n",
              "      <td>1984-01-01 01:30:57.520</td>\n",
              "    </tr>\n",
              "    <tr>\n",
              "      <th>1</th>\n",
              "      <td>1984/01/01</td>\n",
              "      <td>05:31:34.16</td>\n",
              "      <td>2.12</td>\n",
              "      <td>1984-01-01 05:31:34.160</td>\n",
              "    </tr>\n",
              "    <tr>\n",
              "      <th>2</th>\n",
              "      <td>1984/01/01</td>\n",
              "      <td>06:59:05.14</td>\n",
              "      <td>2.43</td>\n",
              "      <td>1984-01-01 06:59:05.140</td>\n",
              "    </tr>\n",
              "    <tr>\n",
              "      <th>3</th>\n",
              "      <td>1984/01/01</td>\n",
              "      <td>11:10:25.29</td>\n",
              "      <td>2.07</td>\n",
              "      <td>1984-01-01 11:10:25.290</td>\n",
              "    </tr>\n",
              "    <tr>\n",
              "      <th>4</th>\n",
              "      <td>1984/01/01</td>\n",
              "      <td>19:38:19.79</td>\n",
              "      <td>2.13</td>\n",
              "      <td>1984-01-01 19:38:19.790</td>\n",
              "    </tr>\n",
<<<<<<< HEAD
              "  </tbody>\n",
              "</table>\n",
              "</div>"
            ],
            "text/plain": [
              "         date         time   mag              timestamps\n",
              "0  1984/01/01  01:30:57.52  2.02 1984-01-01 01:30:57.520\n",
              "1  1984/01/01  05:31:34.16  2.12 1984-01-01 05:31:34.160\n",
              "2  1984/01/01  06:59:05.14  2.43 1984-01-01 06:59:05.140\n",
              "3  1984/01/01  11:10:25.29  2.07 1984-01-01 11:10:25.290\n",
              "4  1984/01/01  19:38:19.79  2.13 1984-01-01 19:38:19.790"
=======
              "    <tr>\n",
              "      <th>5</th>\n",
              "      <td>1984/01/01</td>\n",
              "      <td>19:39:19.67</td>\n",
              "      <td>2.13</td>\n",
              "      <td>1984-01-01 19:39:19.670</td>\n",
              "    </tr>\n",
              "    <tr>\n",
              "      <th>6</th>\n",
              "      <td>1984/01/01</td>\n",
              "      <td>20:19:47.21</td>\n",
              "      <td>2.02</td>\n",
              "      <td>1984-01-01 20:19:47.210</td>\n",
              "    </tr>\n",
              "    <tr>\n",
              "      <th>7</th>\n",
              "      <td>1984/01/02</td>\n",
              "      <td>05:00:12.44</td>\n",
              "      <td>3.24</td>\n",
              "      <td>1984-01-02 05:00:12.440</td>\n",
              "    </tr>\n",
              "    <tr>\n",
              "      <th>8</th>\n",
              "      <td>1984/01/02</td>\n",
              "      <td>05:02:17.29</td>\n",
              "      <td>2.17</td>\n",
              "      <td>1984-01-02 05:02:17.290</td>\n",
              "    </tr>\n",
              "    <tr>\n",
              "      <th>9</th>\n",
              "      <td>1984/01/02</td>\n",
              "      <td>06:18:52.16</td>\n",
              "      <td>2.48</td>\n",
              "      <td>1984-01-02 06:18:52.160</td>\n",
              "    </tr>\n",
              "    <tr>\n",
              "      <th>10</th>\n",
              "      <td>1984/01/02</td>\n",
              "      <td>13:26:50.45</td>\n",
              "      <td>2.65</td>\n",
              "      <td>1984-01-02 13:26:50.450</td>\n",
              "    </tr>\n",
              "    <tr>\n",
              "      <th>11</th>\n",
              "      <td>1984/01/02</td>\n",
              "      <td>14:01:05.85</td>\n",
              "      <td>2.44</td>\n",
              "      <td>1984-01-02 14:01:05.850</td>\n",
              "    </tr>\n",
              "    <tr>\n",
              "      <th>12</th>\n",
              "      <td>1984/01/02</td>\n",
              "      <td>18:43:18.09</td>\n",
              "      <td>2.10</td>\n",
              "      <td>1984-01-02 18:43:18.090</td>\n",
              "    </tr>\n",
              "    <tr>\n",
              "      <th>13</th>\n",
              "      <td>1984/01/03</td>\n",
              "      <td>06:37:11.36</td>\n",
              "      <td>2.41</td>\n",
              "      <td>1984-01-03 06:37:11.360</td>\n",
              "    </tr>\n",
              "    <tr>\n",
              "      <th>14</th>\n",
              "      <td>1984/01/03</td>\n",
              "      <td>10:52:01.17</td>\n",
              "      <td>2.29</td>\n",
              "      <td>1984-01-03 10:52:01.170</td>\n",
              "    </tr>\n",
              "    <tr>\n",
              "      <th>15</th>\n",
              "      <td>1984/01/03</td>\n",
              "      <td>13:26:56.21</td>\n",
              "      <td>2.09</td>\n",
              "      <td>1984-01-03 13:26:56.210</td>\n",
              "    </tr>\n",
              "    <tr>\n",
              "      <th>16</th>\n",
              "      <td>1984/01/03</td>\n",
              "      <td>19:44:09.71</td>\n",
              "      <td>3.17</td>\n",
              "      <td>1984-01-03 19:44:09.710</td>\n",
              "    </tr>\n",
              "    <tr>\n",
              "      <th>17</th>\n",
              "      <td>1984/01/04</td>\n",
              "      <td>03:39:11.87</td>\n",
              "      <td>2.03</td>\n",
              "      <td>1984-01-04 03:39:11.870</td>\n",
              "    </tr>\n",
              "    <tr>\n",
              "      <th>18</th>\n",
              "      <td>1984/01/04</td>\n",
              "      <td>06:05:10.56</td>\n",
              "      <td>2.80</td>\n",
              "      <td>1984-01-04 06:05:10.560</td>\n",
              "    </tr>\n",
              "    <tr>\n",
              "      <th>19</th>\n",
              "      <td>1984/01/04</td>\n",
              "      <td>06:17:22.59</td>\n",
              "      <td>2.75</td>\n",
              "      <td>1984-01-04 06:17:22.590</td>\n",
              "    </tr>\n",
              "    <tr>\n",
              "      <th>20</th>\n",
              "      <td>1984/01/04</td>\n",
              "      <td>09:30:11.96</td>\n",
              "      <td>2.92</td>\n",
              "      <td>1984-01-04 09:30:11.960</td>\n",
              "    </tr>\n",
              "    <tr>\n",
              "      <th>21</th>\n",
              "      <td>1984/01/04</td>\n",
              "      <td>11:43:05.02</td>\n",
              "      <td>2.32</td>\n",
              "      <td>1984-01-04 11:43:05.020</td>\n",
              "    </tr>\n",
              "    <tr>\n",
              "      <th>22</th>\n",
              "      <td>1984/01/04</td>\n",
              "      <td>12:19:28.30</td>\n",
              "      <td>2.07</td>\n",
              "      <td>1984-01-04 12:19:28.300</td>\n",
              "    </tr>\n",
              "    <tr>\n",
              "      <th>23</th>\n",
              "      <td>1984/01/04</td>\n",
              "      <td>16:36:55.35</td>\n",
              "      <td>2.00</td>\n",
              "      <td>1984-01-04 16:36:55.350</td>\n",
              "    </tr>\n",
              "    <tr>\n",
              "      <th>24</th>\n",
              "      <td>1984/01/05</td>\n",
              "      <td>08:06:31.89</td>\n",
              "      <td>2.58</td>\n",
              "      <td>1984-01-05 08:06:31.890</td>\n",
              "    </tr>\n",
              "    <tr>\n",
              "      <th>25</th>\n",
              "      <td>1984/01/05</td>\n",
              "      <td>16:26:02.75</td>\n",
              "      <td>3.11</td>\n",
              "      <td>1984-01-05 16:26:02.750</td>\n",
              "    </tr>\n",
              "    <tr>\n",
              "      <th>26</th>\n",
              "      <td>1984/01/05</td>\n",
              "      <td>18:04:03.30</td>\n",
              "      <td>2.15</td>\n",
              "      <td>1984-01-05 18:04:03.300</td>\n",
              "    </tr>\n",
              "    <tr>\n",
              "      <th>27</th>\n",
              "      <td>1984/01/05</td>\n",
              "      <td>18:56:05.80</td>\n",
              "      <td>2.43</td>\n",
              "      <td>1984-01-05 18:56:05.800</td>\n",
              "    </tr>\n",
              "    <tr>\n",
              "      <th>28</th>\n",
              "      <td>1984/01/05</td>\n",
              "      <td>19:49:26.45</td>\n",
              "      <td>2.19</td>\n",
              "      <td>1984-01-05 19:49:26.450</td>\n",
              "    </tr>\n",
              "    <tr>\n",
              "      <th>29</th>\n",
              "      <td>1984/01/05</td>\n",
              "      <td>19:55:53.03</td>\n",
              "      <td>2.10</td>\n",
              "      <td>1984-01-05 19:55:53.030</td>\n",
              "    </tr>\n",
              "    <tr>\n",
              "      <th>...</th>\n",
              "      <td>...</td>\n",
              "      <td>...</td>\n",
              "      <td>...</td>\n",
              "      <td>...</td>\n",
              "    </tr>\n",
              "    <tr>\n",
              "      <th>71415</th>\n",
              "      <td>2005/12/12</td>\n",
              "      <td>07:08:19.86</td>\n",
              "      <td>2.29</td>\n",
              "      <td>2005-12-12 07:08:19.860</td>\n",
              "    </tr>\n",
              "    <tr>\n",
              "      <th>71416</th>\n",
              "      <td>2005/12/13</td>\n",
              "      <td>08:32:13.13</td>\n",
              "      <td>2.41</td>\n",
              "      <td>2005-12-13 08:32:13.130</td>\n",
              "    </tr>\n",
              "    <tr>\n",
              "      <th>71417</th>\n",
              "      <td>2005/12/13</td>\n",
              "      <td>13:44:14.03</td>\n",
              "      <td>2.31</td>\n",
              "      <td>2005-12-13 13:44:14.030</td>\n",
              "    </tr>\n",
              "    <tr>\n",
              "      <th>71418</th>\n",
              "      <td>2005/12/14</td>\n",
              "      <td>07:06:22.84</td>\n",
              "      <td>2.78</td>\n",
              "      <td>2005-12-14 07:06:22.840</td>\n",
              "    </tr>\n",
              "    <tr>\n",
              "      <th>71419</th>\n",
              "      <td>2005/12/14</td>\n",
              "      <td>08:05:14.29</td>\n",
              "      <td>2.10</td>\n",
              "      <td>2005-12-14 08:05:14.290</td>\n",
              "    </tr>\n",
              "    <tr>\n",
              "      <th>71420</th>\n",
              "      <td>2005/12/15</td>\n",
              "      <td>04:51:15.82</td>\n",
              "      <td>2.06</td>\n",
              "      <td>2005-12-15 04:51:15.820</td>\n",
              "    </tr>\n",
              "    <tr>\n",
              "      <th>71421</th>\n",
              "      <td>2005/12/15</td>\n",
              "      <td>05:50:28.36</td>\n",
              "      <td>2.48</td>\n",
              "      <td>2005-12-15 05:50:28.360</td>\n",
              "    </tr>\n",
              "    <tr>\n",
              "      <th>71422</th>\n",
              "      <td>2005/12/15</td>\n",
              "      <td>11:01:52.01</td>\n",
              "      <td>2.27</td>\n",
              "      <td>2005-12-15 11:01:52.010</td>\n",
              "    </tr>\n",
              "    <tr>\n",
              "      <th>71423</th>\n",
              "      <td>2005/12/15</td>\n",
              "      <td>17:45:23.54</td>\n",
              "      <td>2.22</td>\n",
              "      <td>2005-12-15 17:45:23.540</td>\n",
              "    </tr>\n",
              "    <tr>\n",
              "      <th>71424</th>\n",
              "      <td>2005/12/16</td>\n",
              "      <td>11:05:13.42</td>\n",
              "      <td>2.28</td>\n",
              "      <td>2005-12-16 11:05:13.420</td>\n",
              "    </tr>\n",
              "    <tr>\n",
              "      <th>71425</th>\n",
              "      <td>2005/12/17</td>\n",
              "      <td>02:15:27.49</td>\n",
              "      <td>3.61</td>\n",
              "      <td>2005-12-17 02:15:27.490</td>\n",
              "    </tr>\n",
              "    <tr>\n",
              "      <th>71426</th>\n",
              "      <td>2005/12/17</td>\n",
              "      <td>02:17:02.92</td>\n",
              "      <td>2.35</td>\n",
              "      <td>2005-12-17 02:17:02.920</td>\n",
              "    </tr>\n",
              "    <tr>\n",
              "      <th>71427</th>\n",
              "      <td>2005/12/17</td>\n",
              "      <td>21:45:46.04</td>\n",
              "      <td>2.95</td>\n",
              "      <td>2005-12-17 21:45:46.040</td>\n",
              "    </tr>\n",
              "    <tr>\n",
              "      <th>71428</th>\n",
              "      <td>2005/12/18</td>\n",
              "      <td>02:32:42.75</td>\n",
              "      <td>2.04</td>\n",
              "      <td>2005-12-18 02:32:42.750</td>\n",
              "    </tr>\n",
              "    <tr>\n",
              "      <th>71429</th>\n",
              "      <td>2005/12/18</td>\n",
              "      <td>23:33:10.74</td>\n",
              "      <td>2.09</td>\n",
              "      <td>2005-12-18 23:33:10.740</td>\n",
              "    </tr>\n",
              "    <tr>\n",
              "      <th>71430</th>\n",
              "      <td>2005/12/19</td>\n",
              "      <td>03:04:48.56</td>\n",
              "      <td>2.84</td>\n",
              "      <td>2005-12-19 03:04:48.560</td>\n",
              "    </tr>\n",
              "    <tr>\n",
              "      <th>71431</th>\n",
              "      <td>2005/12/19</td>\n",
              "      <td>09:14:57.70</td>\n",
              "      <td>2.47</td>\n",
              "      <td>2005-12-19 09:14:57.700</td>\n",
              "    </tr>\n",
              "    <tr>\n",
              "      <th>71432</th>\n",
              "      <td>2005/12/19</td>\n",
              "      <td>15:28:40.96</td>\n",
              "      <td>2.01</td>\n",
              "      <td>2005-12-19 15:28:40.960</td>\n",
              "    </tr>\n",
              "    <tr>\n",
              "      <th>71433</th>\n",
              "      <td>2005/12/19</td>\n",
              "      <td>23:41:33.40</td>\n",
              "      <td>2.13</td>\n",
              "      <td>2005-12-19 23:41:33.400</td>\n",
              "    </tr>\n",
              "    <tr>\n",
              "      <th>71434</th>\n",
              "      <td>2005/12/20</td>\n",
              "      <td>22:20:01.79</td>\n",
              "      <td>2.21</td>\n",
              "      <td>2005-12-20 22:20:01.790</td>\n",
              "    </tr>\n",
              "    <tr>\n",
              "      <th>71435</th>\n",
              "      <td>2005/12/21</td>\n",
              "      <td>11:37:52.64</td>\n",
              "      <td>2.15</td>\n",
              "      <td>2005-12-21 11:37:52.640</td>\n",
              "    </tr>\n",
              "    <tr>\n",
              "      <th>71436</th>\n",
              "      <td>2005/12/22</td>\n",
              "      <td>02:38:25.20</td>\n",
              "      <td>2.12</td>\n",
              "      <td>2005-12-22 02:38:25.200</td>\n",
              "    </tr>\n",
              "    <tr>\n",
              "      <th>71437</th>\n",
              "      <td>2005/12/22</td>\n",
              "      <td>04:39:47.13</td>\n",
              "      <td>2.00</td>\n",
              "      <td>2005-12-22 04:39:47.130</td>\n",
              "    </tr>\n",
              "    <tr>\n",
              "      <th>71438</th>\n",
              "      <td>2005/12/22</td>\n",
              "      <td>06:38:08.71</td>\n",
              "      <td>2.29</td>\n",
              "      <td>2005-12-22 06:38:08.710</td>\n",
              "    </tr>\n",
              "    <tr>\n",
              "      <th>71439</th>\n",
              "      <td>2005/12/22</td>\n",
              "      <td>15:08:11.38</td>\n",
              "      <td>2.07</td>\n",
              "      <td>2005-12-22 15:08:11.380</td>\n",
              "    </tr>\n",
              "    <tr>\n",
              "      <th>71440</th>\n",
              "      <td>2005/12/22</td>\n",
              "      <td>16:56:36.88</td>\n",
              "      <td>2.39</td>\n",
              "      <td>2005-12-22 16:56:36.880</td>\n",
              "    </tr>\n",
              "    <tr>\n",
              "      <th>71441</th>\n",
              "      <td>2005/12/24</td>\n",
              "      <td>17:39:22.34</td>\n",
              "      <td>2.49</td>\n",
              "      <td>2005-12-24 17:39:22.340</td>\n",
              "    </tr>\n",
              "    <tr>\n",
              "      <th>71442</th>\n",
              "      <td>2005/12/24</td>\n",
              "      <td>20:33:45.30</td>\n",
              "      <td>2.10</td>\n",
              "      <td>2005-12-24 20:33:45.300</td>\n",
              "    </tr>\n",
              "    <tr>\n",
              "      <th>71443</th>\n",
              "      <td>2005/12/25</td>\n",
              "      <td>04:41:04.69</td>\n",
              "      <td>2.16</td>\n",
              "      <td>2005-12-25 04:41:04.690</td>\n",
              "    </tr>\n",
              "    <tr>\n",
              "      <th>71444</th>\n",
              "      <td>2005/12/25</td>\n",
              "      <td>20:24:10.77</td>\n",
              "      <td>2.26</td>\n",
              "      <td>2005-12-25 20:24:10.770</td>\n",
              "    </tr>\n",
              "  </tbody>\n",
              "</table>\n",
              "<p>71445 rows × 4 columns</p>\n",
              "</div>"
            ],
            "text/plain": [
              "             date         time   mag              timestamps\n",
              "0      1984/01/01  01:30:57.52  2.02 1984-01-01 01:30:57.520\n",
              "1      1984/01/01  05:31:34.16  2.12 1984-01-01 05:31:34.160\n",
              "2      1984/01/01  06:59:05.14  2.43 1984-01-01 06:59:05.140\n",
              "3      1984/01/01  11:10:25.29  2.07 1984-01-01 11:10:25.290\n",
              "4      1984/01/01  19:38:19.79  2.13 1984-01-01 19:38:19.790\n",
              "5      1984/01/01  19:39:19.67  2.13 1984-01-01 19:39:19.670\n",
              "6      1984/01/01  20:19:47.21  2.02 1984-01-01 20:19:47.210\n",
              "7      1984/01/02  05:00:12.44  3.24 1984-01-02 05:00:12.440\n",
              "8      1984/01/02  05:02:17.29  2.17 1984-01-02 05:02:17.290\n",
              "9      1984/01/02  06:18:52.16  2.48 1984-01-02 06:18:52.160\n",
              "10     1984/01/02  13:26:50.45  2.65 1984-01-02 13:26:50.450\n",
              "11     1984/01/02  14:01:05.85  2.44 1984-01-02 14:01:05.850\n",
              "12     1984/01/02  18:43:18.09  2.10 1984-01-02 18:43:18.090\n",
              "13     1984/01/03  06:37:11.36  2.41 1984-01-03 06:37:11.360\n",
              "14     1984/01/03  10:52:01.17  2.29 1984-01-03 10:52:01.170\n",
              "15     1984/01/03  13:26:56.21  2.09 1984-01-03 13:26:56.210\n",
              "16     1984/01/03  19:44:09.71  3.17 1984-01-03 19:44:09.710\n",
              "17     1984/01/04  03:39:11.87  2.03 1984-01-04 03:39:11.870\n",
              "18     1984/01/04  06:05:10.56  2.80 1984-01-04 06:05:10.560\n",
              "19     1984/01/04  06:17:22.59  2.75 1984-01-04 06:17:22.590\n",
              "20     1984/01/04  09:30:11.96  2.92 1984-01-04 09:30:11.960\n",
              "21     1984/01/04  11:43:05.02  2.32 1984-01-04 11:43:05.020\n",
              "22     1984/01/04  12:19:28.30  2.07 1984-01-04 12:19:28.300\n",
              "23     1984/01/04  16:36:55.35  2.00 1984-01-04 16:36:55.350\n",
              "24     1984/01/05  08:06:31.89  2.58 1984-01-05 08:06:31.890\n",
              "25     1984/01/05  16:26:02.75  3.11 1984-01-05 16:26:02.750\n",
              "26     1984/01/05  18:04:03.30  2.15 1984-01-05 18:04:03.300\n",
              "27     1984/01/05  18:56:05.80  2.43 1984-01-05 18:56:05.800\n",
              "28     1984/01/05  19:49:26.45  2.19 1984-01-05 19:49:26.450\n",
              "29     1984/01/05  19:55:53.03  2.10 1984-01-05 19:55:53.030\n",
              "...           ...          ...   ...                     ...\n",
              "71415  2005/12/12  07:08:19.86  2.29 2005-12-12 07:08:19.860\n",
              "71416  2005/12/13  08:32:13.13  2.41 2005-12-13 08:32:13.130\n",
              "71417  2005/12/13  13:44:14.03  2.31 2005-12-13 13:44:14.030\n",
              "71418  2005/12/14  07:06:22.84  2.78 2005-12-14 07:06:22.840\n",
              "71419  2005/12/14  08:05:14.29  2.10 2005-12-14 08:05:14.290\n",
              "71420  2005/12/15  04:51:15.82  2.06 2005-12-15 04:51:15.820\n",
              "71421  2005/12/15  05:50:28.36  2.48 2005-12-15 05:50:28.360\n",
              "71422  2005/12/15  11:01:52.01  2.27 2005-12-15 11:01:52.010\n",
              "71423  2005/12/15  17:45:23.54  2.22 2005-12-15 17:45:23.540\n",
              "71424  2005/12/16  11:05:13.42  2.28 2005-12-16 11:05:13.420\n",
              "71425  2005/12/17  02:15:27.49  3.61 2005-12-17 02:15:27.490\n",
              "71426  2005/12/17  02:17:02.92  2.35 2005-12-17 02:17:02.920\n",
              "71427  2005/12/17  21:45:46.04  2.95 2005-12-17 21:45:46.040\n",
              "71428  2005/12/18  02:32:42.75  2.04 2005-12-18 02:32:42.750\n",
              "71429  2005/12/18  23:33:10.74  2.09 2005-12-18 23:33:10.740\n",
              "71430  2005/12/19  03:04:48.56  2.84 2005-12-19 03:04:48.560\n",
              "71431  2005/12/19  09:14:57.70  2.47 2005-12-19 09:14:57.700\n",
              "71432  2005/12/19  15:28:40.96  2.01 2005-12-19 15:28:40.960\n",
              "71433  2005/12/19  23:41:33.40  2.13 2005-12-19 23:41:33.400\n",
              "71434  2005/12/20  22:20:01.79  2.21 2005-12-20 22:20:01.790\n",
              "71435  2005/12/21  11:37:52.64  2.15 2005-12-21 11:37:52.640\n",
              "71436  2005/12/22  02:38:25.20  2.12 2005-12-22 02:38:25.200\n",
              "71437  2005/12/22  04:39:47.13  2.00 2005-12-22 04:39:47.130\n",
              "71438  2005/12/22  06:38:08.71  2.29 2005-12-22 06:38:08.710\n",
              "71439  2005/12/22  15:08:11.38  2.07 2005-12-22 15:08:11.380\n",
              "71440  2005/12/22  16:56:36.88  2.39 2005-12-22 16:56:36.880\n",
              "71441  2005/12/24  17:39:22.34  2.49 2005-12-24 17:39:22.340\n",
              "71442  2005/12/24  20:33:45.30  2.10 2005-12-24 20:33:45.300\n",
              "71443  2005/12/25  04:41:04.69  2.16 2005-12-25 04:41:04.690\n",
              "71444  2005/12/25  20:24:10.77  2.26 2005-12-25 20:24:10.770\n",
              "\n",
              "[71445 rows x 4 columns]"
>>>>>>> dfc3095670ba2e42b209b2a9afab0fb30280b0f1
            ]
          },
          "metadata": {
            "tags": []
          },
<<<<<<< HEAD
          "execution_count": 24
=======
          "execution_count": 25
>>>>>>> dfc3095670ba2e42b209b2a9afab0fb30280b0f1
        }
      ]
    },
    {
      "cell_type": "code",
      "metadata": {
        "id": "0snmVZNX2lHO",
        "colab_type": "code",
<<<<<<< HEAD
        "outputId": "a0d7043e-6445-448c-f08f-8afb80588767",
=======
        "outputId": "5a03c3e6-8be3-48cc-dfb8-a25800f3ea7e",
>>>>>>> dfc3095670ba2e42b209b2a9afab0fb30280b0f1
        "colab": {
          "base_uri": "https://localhost:8080/",
          "height": 35
        }
      },
      "source": [
        "#testing\n",
        "eqdata['timestamps'][4]-eqdata['timestamps'][3]"
      ],
<<<<<<< HEAD
      "execution_count": 25,
=======
      "execution_count": 26,
>>>>>>> dfc3095670ba2e42b209b2a9afab0fb30280b0f1
      "outputs": [
        {
          "output_type": "execute_result",
          "data": {
            "text/plain": [
              "Timedelta('0 days 08:27:54.500000')"
            ]
          },
          "metadata": {
            "tags": []
          },
<<<<<<< HEAD
          "execution_count": 25
=======
          "execution_count": 26
>>>>>>> dfc3095670ba2e42b209b2a9afab0fb30280b0f1
        }
      ]
    },
    {
      "cell_type": "code",
      "metadata": {
        "id": "d8AqQVGJ54r3",
        "colab_type": "code",
<<<<<<< HEAD
        "outputId": "dffe4b45-c7c5-4b7d-f643-2603b1eec298",
        "colab": {
          "base_uri": "https://localhost:8080/",
          "height": 127
=======
        "outputId": "32f7e932-9e3d-49c9-96f2-845027c032cf",
        "colab": {
          "base_uri": "https://localhost:8080/",
          "height": 1000
>>>>>>> dfc3095670ba2e42b209b2a9afab0fb30280b0f1
        }
      },
      "source": [
        "# create empty container\n",
        "ss = []\n",
        "\n",
        "# loop through all year pairs as year and fraction of year\n",
        "for t in [(1984, 1986.5), \n",
        "          (1990.3, 1992.1), \n",
        "          (1994.6, 1995.6),\n",
        "          (1996.1,1996.5), \n",
        "          (1997,1997.6), \n",
        "          (1997.75,1998.15), \n",
        "          (1998.25,1999.35), \n",
        "          (2000.55,2000.8),\n",
        "          (2000.9 ,2001.25), \n",
        "          (2001.6 ,2002), \n",
        "          (2002.5 ,2003)]:\n",
        "  \n",
        "    ss.append((pd.to_datetime(int(t[0]), format=\"%Y\") \n",
        "        + pd.Timedelta('%.f days'%((t[0] - int(t[0])) * 365.25)),\n",
        "               pd.to_datetime(int(t[1]), format=\"%Y\") \n",
        "        + pd.Timedelta('%.f days'%((t[1] - int(t[1])) * 365.25))))\n",
        "\n",
        "gooddates=0\n",
        "for i in range(11):\n",
        "  gooddates+=((eqdata.timestamps >= ss[i][0]) & (eqdata.timestamps <= ss[i][1]))\n",
        "\n",
        "gooddates = (gooddates == True ).astype(bool)\n",
<<<<<<< HEAD
        "gooddates.head()"
      ],
      "execution_count": 26,
=======
        "gooddates"
      ],
      "execution_count": 27,
>>>>>>> dfc3095670ba2e42b209b2a9afab0fb30280b0f1
      "outputs": [
        {
          "output_type": "execute_result",
          "data": {
            "text/plain": [
<<<<<<< HEAD
              "0    True\n",
              "1    True\n",
              "2    True\n",
              "3    True\n",
              "4    True\n",
              "Name: timestamps, dtype: bool"
=======
              "0         True\n",
              "1         True\n",
              "2         True\n",
              "3         True\n",
              "4         True\n",
              "5         True\n",
              "6         True\n",
              "7         True\n",
              "8         True\n",
              "9         True\n",
              "10        True\n",
              "11        True\n",
              "12        True\n",
              "13        True\n",
              "14        True\n",
              "15        True\n",
              "16        True\n",
              "17        True\n",
              "18        True\n",
              "19        True\n",
              "20        True\n",
              "21        True\n",
              "22        True\n",
              "23        True\n",
              "24        True\n",
              "25        True\n",
              "26        True\n",
              "27        True\n",
              "28        True\n",
              "29        True\n",
              "         ...  \n",
              "71415    False\n",
              "71416    False\n",
              "71417    False\n",
              "71418    False\n",
              "71419    False\n",
              "71420    False\n",
              "71421    False\n",
              "71422    False\n",
              "71423    False\n",
              "71424    False\n",
              "71425    False\n",
              "71426    False\n",
              "71427    False\n",
              "71428    False\n",
              "71429    False\n",
              "71430    False\n",
              "71431    False\n",
              "71432    False\n",
              "71433    False\n",
              "71434    False\n",
              "71435    False\n",
              "71436    False\n",
              "71437    False\n",
              "71438    False\n",
              "71439    False\n",
              "71440    False\n",
              "71441    False\n",
              "71442    False\n",
              "71443    False\n",
              "71444    False\n",
              "Name: timestamps, Length: 71445, dtype: bool"
>>>>>>> dfc3095670ba2e42b209b2a9afab0fb30280b0f1
            ]
          },
          "metadata": {
            "tags": []
          },
<<<<<<< HEAD
          "execution_count": 26
=======
          "execution_count": 27
>>>>>>> dfc3095670ba2e42b209b2a9afab0fb30280b0f1
        }
      ]
    },
    {
      "cell_type": "code",
      "metadata": {
        "id": "w_V8dqt880Ia",
        "colab_type": "code",
<<<<<<< HEAD
        "outputId": "d7d31c3c-e048-4f8f-d92c-830dd187e13f",
=======
        "outputId": "619c9ac1-5072-45e7-f67e-a8f14d40a096",
>>>>>>> dfc3095670ba2e42b209b2a9afab0fb30280b0f1
        "colab": {
          "base_uri": "https://localhost:8080/",
          "height": 35
        }
      },
      "source": [
<<<<<<< HEAD
        "print(gooddates.sum(), len(gooddates))"
      ],
      "execution_count": 27,
=======
        "print(gooddates.sum())"
      ],
      "execution_count": 28,
>>>>>>> dfc3095670ba2e42b209b2a9afab0fb30280b0f1
      "outputs": [
        {
          "output_type": "stream",
          "text": [
<<<<<<< HEAD
            "17386 71445\n"
=======
            "17386\n"
>>>>>>> dfc3095670ba2e42b209b2a9afab0fb30280b0f1
          ],
          "name": "stdout"
        }
      ]
    },
    {
      "cell_type": "code",
      "metadata": {
        "id": "n5YQAQeS_Nl0",
        "colab_type": "code",
        "colab": {}
      },
      "source": [
        "eqgood = eqdata.where(gooddates).dropna()"
      ],
      "execution_count": 0,
      "outputs": []
    },
    {
      "cell_type": "code",
      "metadata": {
        "id": "C8BL-8WRAvpa",
        "colab_type": "code",
<<<<<<< HEAD
        "outputId": "293fd133-2b9a-43c8-d602-479b06bae780",
=======
        "outputId": "3da4a3d6-00be-41bc-b5ca-120e486d24ff",
>>>>>>> dfc3095670ba2e42b209b2a9afab0fb30280b0f1
        "colab": {
          "base_uri": "https://localhost:8080/",
          "height": 206
        }
      },
      "source": [
        "eqgood.head()"
      ],
<<<<<<< HEAD
      "execution_count": 29,
=======
      "execution_count": 30,
>>>>>>> dfc3095670ba2e42b209b2a9afab0fb30280b0f1
      "outputs": [
        {
          "output_type": "execute_result",
          "data": {
            "text/html": [
              "<div>\n",
              "<style scoped>\n",
              "    .dataframe tbody tr th:only-of-type {\n",
              "        vertical-align: middle;\n",
              "    }\n",
              "\n",
              "    .dataframe tbody tr th {\n",
              "        vertical-align: top;\n",
              "    }\n",
              "\n",
              "    .dataframe thead th {\n",
              "        text-align: right;\n",
              "    }\n",
              "</style>\n",
              "<table border=\"1\" class=\"dataframe\">\n",
              "  <thead>\n",
              "    <tr style=\"text-align: right;\">\n",
              "      <th></th>\n",
              "      <th>date</th>\n",
              "      <th>time</th>\n",
              "      <th>mag</th>\n",
              "      <th>timestamps</th>\n",
              "    </tr>\n",
              "  </thead>\n",
              "  <tbody>\n",
              "    <tr>\n",
              "      <th>0</th>\n",
              "      <td>1984/01/01</td>\n",
              "      <td>01:30:57.52</td>\n",
              "      <td>2.02</td>\n",
              "      <td>1984-01-01 01:30:57.520</td>\n",
              "    </tr>\n",
              "    <tr>\n",
              "      <th>1</th>\n",
              "      <td>1984/01/01</td>\n",
              "      <td>05:31:34.16</td>\n",
              "      <td>2.12</td>\n",
              "      <td>1984-01-01 05:31:34.160</td>\n",
              "    </tr>\n",
              "    <tr>\n",
              "      <th>2</th>\n",
              "      <td>1984/01/01</td>\n",
              "      <td>06:59:05.14</td>\n",
              "      <td>2.43</td>\n",
              "      <td>1984-01-01 06:59:05.140</td>\n",
              "    </tr>\n",
              "    <tr>\n",
              "      <th>3</th>\n",
              "      <td>1984/01/01</td>\n",
              "      <td>11:10:25.29</td>\n",
              "      <td>2.07</td>\n",
              "      <td>1984-01-01 11:10:25.290</td>\n",
              "    </tr>\n",
              "    <tr>\n",
              "      <th>4</th>\n",
              "      <td>1984/01/01</td>\n",
              "      <td>19:38:19.79</td>\n",
              "      <td>2.13</td>\n",
              "      <td>1984-01-01 19:38:19.790</td>\n",
              "    </tr>\n",
              "  </tbody>\n",
              "</table>\n",
              "</div>"
            ],
            "text/plain": [
              "         date         time   mag              timestamps\n",
              "0  1984/01/01  01:30:57.52  2.02 1984-01-01 01:30:57.520\n",
              "1  1984/01/01  05:31:34.16  2.12 1984-01-01 05:31:34.160\n",
              "2  1984/01/01  06:59:05.14  2.43 1984-01-01 06:59:05.140\n",
              "3  1984/01/01  11:10:25.29  2.07 1984-01-01 11:10:25.290\n",
              "4  1984/01/01  19:38:19.79  2.13 1984-01-01 19:38:19.790"
            ]
          },
          "metadata": {
            "tags": []
          },
<<<<<<< HEAD
          "execution_count": 29
=======
          "execution_count": 30
>>>>>>> dfc3095670ba2e42b209b2a9afab0fb30280b0f1
        }
      ]
    },
    {
      "cell_type": "code",
      "metadata": {
        "id": "HxoYCJy4VBWn",
        "colab_type": "code",
<<<<<<< HEAD
        "outputId": "431718c7-15ae-4214-eb58-09e5afd91d32",
=======
        "outputId": "b4979d0d-6f96-478b-f440-441daf871885",
>>>>>>> dfc3095670ba2e42b209b2a9afab0fb30280b0f1
        "colab": {
          "base_uri": "https://localhost:8080/",
          "height": 35
        }
      },
      "source": [
        "eqgood['timestamps'][13000]"
      ],
<<<<<<< HEAD
      "execution_count": 30,
=======
      "execution_count": 31,
>>>>>>> dfc3095670ba2e42b209b2a9afab0fb30280b0f1
      "outputs": [
        {
          "output_type": "execute_result",
          "data": {
            "text/plain": [
              "Timestamp('1998-05-01 11:05:50.420000')"
            ]
          },
          "metadata": {
            "tags": []
          },
<<<<<<< HEAD
          "execution_count": 30
=======
          "execution_count": 31
>>>>>>> dfc3095670ba2e42b209b2a9afab0fb30280b0f1
        }
      ]
    },
    {
      "cell_type": "markdown",
      "metadata": {
        "id": "_DNDaG2XVSpL",
        "colab_type": "text"
      },
      "source": [
<<<<<<< HEAD
        "Okay cool it does what I want. Also, running `eqgood['timestamps'][70000]` gives an error, which is also what I want."
=======
        "okay cool it does what i want"
>>>>>>> dfc3095670ba2e42b209b2a9afab0fb30280b0f1
      ]
    },
    {
      "cell_type": "code",
      "metadata": {
        "id": "oTnLDgcTZBV6",
        "colab_type": "code",
        "colab": {}
      },
      "source": [
        "tilnext=np.diff(pd.Series(eqgood.timestamps).array)"
      ],
      "execution_count": 0,
      "outputs": []
    },
    {
      "cell_type": "code",
      "metadata": {
        "id": "AhYRR1hqZ3ht",
        "colab_type": "code",
<<<<<<< HEAD
        "outputId": "ee3f3318-c603-4e0b-9b2b-2a87e1137f1d",
=======
        "outputId": "27c214f3-e23b-4f43-ab56-f1ad82300f5f",
>>>>>>> dfc3095670ba2e42b209b2a9afab0fb30280b0f1
        "colab": {
          "base_uri": "https://localhost:8080/",
          "height": 72
        }
      },
      "source": [
        "tilnext"
      ],
<<<<<<< HEAD
      "execution_count": 32,
=======
      "execution_count": 33,
>>>>>>> dfc3095670ba2e42b209b2a9afab0fb30280b0f1
      "outputs": [
        {
          "output_type": "execute_result",
          "data": {
            "text/plain": [
              "array([14436640000000,  5250980000000, 15080150000000, ...,\n",
              "        1459920000000, 19148060000000, 37530890000000],\n",
              "      dtype='timedelta64[ns]')"
            ]
          },
          "metadata": {
            "tags": []
          },
<<<<<<< HEAD
          "execution_count": 32
=======
          "execution_count": 33
>>>>>>> dfc3095670ba2e42b209b2a9afab0fb30280b0f1
        }
      ]
    },
    {
      "cell_type": "code",
      "metadata": {
        "id": "ban90MxDZ4eo",
        "colab_type": "code",
        "colab": {}
      },
      "source": [
        "if tilnext[0].astype(int)!=0:\n",
<<<<<<< HEAD
        "  tilnext=np.insert(tilnext, 0,0)\n",
        "\n",
        "# i put this block here as a loop because i didnt want to run it again and \n",
        "# accidentally get a bunch of 0's inserted into the beginning of the array."
=======
        "  tilnext=np.insert(tilnext, 0,0)"
>>>>>>> dfc3095670ba2e42b209b2a9afab0fb30280b0f1
      ],
      "execution_count": 0,
      "outputs": []
    },
    {
      "cell_type": "code",
      "metadata": {
        "id": "ua9Vxu0zaOGk",
        "colab_type": "code",
<<<<<<< HEAD
        "outputId": "aad8bbe1-9918-47f1-d8b2-5ef2cd05583b",
=======
        "outputId": "59131e53-7b82-47f5-f795-41ecac8decef",
>>>>>>> dfc3095670ba2e42b209b2a9afab0fb30280b0f1
        "colab": {
          "base_uri": "https://localhost:8080/",
          "height": 72
        }
      },
      "source": [
        "tilnext"
      ],
<<<<<<< HEAD
      "execution_count": 34,
=======
      "execution_count": 35,
>>>>>>> dfc3095670ba2e42b209b2a9afab0fb30280b0f1
      "outputs": [
        {
          "output_type": "execute_result",
          "data": {
            "text/plain": [
              "array([             0, 14436640000000,  5250980000000, ...,\n",
              "        1459920000000, 19148060000000, 37530890000000],\n",
              "      dtype='timedelta64[ns]')"
            ]
          },
          "metadata": {
            "tags": []
          },
<<<<<<< HEAD
          "execution_count": 34
=======
          "execution_count": 35
>>>>>>> dfc3095670ba2e42b209b2a9afab0fb30280b0f1
        }
      ]
    },
    {
      "cell_type": "code",
      "metadata": {
        "id": "ZqguDLUZasVN",
        "colab_type": "code",
        "colab": {}
      },
      "source": [
        "eqgood['tilnext']=tilnext.astype(int)"
      ],
      "execution_count": 0,
      "outputs": []
    },
    {
      "cell_type": "code",
      "metadata": {
        "id": "oV6ac0kZbULj",
        "colab_type": "code",
<<<<<<< HEAD
        "outputId": "c3c61a79-57f7-49e3-9411-906e762773ae",
=======
        "outputId": "aeef4de2-8ace-4aa8-e632-521e07a0514a",
>>>>>>> dfc3095670ba2e42b209b2a9afab0fb30280b0f1
        "colab": {
          "base_uri": "https://localhost:8080/",
          "height": 206
        }
      },
      "source": [
        "eqgood.head()"
      ],
<<<<<<< HEAD
      "execution_count": 36,
=======
      "execution_count": 37,
>>>>>>> dfc3095670ba2e42b209b2a9afab0fb30280b0f1
      "outputs": [
        {
          "output_type": "execute_result",
          "data": {
            "text/html": [
              "<div>\n",
              "<style scoped>\n",
              "    .dataframe tbody tr th:only-of-type {\n",
              "        vertical-align: middle;\n",
              "    }\n",
              "\n",
              "    .dataframe tbody tr th {\n",
              "        vertical-align: top;\n",
              "    }\n",
              "\n",
              "    .dataframe thead th {\n",
              "        text-align: right;\n",
              "    }\n",
              "</style>\n",
              "<table border=\"1\" class=\"dataframe\">\n",
              "  <thead>\n",
              "    <tr style=\"text-align: right;\">\n",
              "      <th></th>\n",
              "      <th>date</th>\n",
              "      <th>time</th>\n",
              "      <th>mag</th>\n",
              "      <th>timestamps</th>\n",
              "      <th>tilnext</th>\n",
              "    </tr>\n",
              "  </thead>\n",
              "  <tbody>\n",
              "    <tr>\n",
              "      <th>0</th>\n",
              "      <td>1984/01/01</td>\n",
              "      <td>01:30:57.52</td>\n",
              "      <td>2.02</td>\n",
              "      <td>1984-01-01 01:30:57.520</td>\n",
              "      <td>0</td>\n",
              "    </tr>\n",
              "    <tr>\n",
              "      <th>1</th>\n",
              "      <td>1984/01/01</td>\n",
              "      <td>05:31:34.16</td>\n",
              "      <td>2.12</td>\n",
              "      <td>1984-01-01 05:31:34.160</td>\n",
              "      <td>14436640000000</td>\n",
              "    </tr>\n",
              "    <tr>\n",
              "      <th>2</th>\n",
              "      <td>1984/01/01</td>\n",
              "      <td>06:59:05.14</td>\n",
              "      <td>2.43</td>\n",
              "      <td>1984-01-01 06:59:05.140</td>\n",
              "      <td>5250980000000</td>\n",
              "    </tr>\n",
              "    <tr>\n",
              "      <th>3</th>\n",
              "      <td>1984/01/01</td>\n",
              "      <td>11:10:25.29</td>\n",
              "      <td>2.07</td>\n",
              "      <td>1984-01-01 11:10:25.290</td>\n",
              "      <td>15080150000000</td>\n",
              "    </tr>\n",
              "    <tr>\n",
              "      <th>4</th>\n",
              "      <td>1984/01/01</td>\n",
              "      <td>19:38:19.79</td>\n",
              "      <td>2.13</td>\n",
              "      <td>1984-01-01 19:38:19.790</td>\n",
              "      <td>30474500000000</td>\n",
              "    </tr>\n",
              "  </tbody>\n",
              "</table>\n",
              "</div>"
            ],
            "text/plain": [
              "         date         time   mag              timestamps         tilnext\n",
              "0  1984/01/01  01:30:57.52  2.02 1984-01-01 01:30:57.520               0\n",
              "1  1984/01/01  05:31:34.16  2.12 1984-01-01 05:31:34.160  14436640000000\n",
              "2  1984/01/01  06:59:05.14  2.43 1984-01-01 06:59:05.140   5250980000000\n",
              "3  1984/01/01  11:10:25.29  2.07 1984-01-01 11:10:25.290  15080150000000\n",
              "4  1984/01/01  19:38:19.79  2.13 1984-01-01 19:38:19.790  30474500000000"
            ]
          },
          "metadata": {
            "tags": []
          },
<<<<<<< HEAD
          "execution_count": 36
=======
          "execution_count": 37
>>>>>>> dfc3095670ba2e42b209b2a9afab0fb30280b0f1
        }
      ]
    },
    {
      "cell_type": "code",
      "metadata": {
        "id": "XK2xmBm4bViF",
        "colab_type": "code",
        "colab": {}
      },
      "source": [
        "eqgood = eqgood.drop(['0'],axis=0)"
      ],
      "execution_count": 0,
      "outputs": []
    },
    {
      "cell_type": "code",
      "metadata": {
        "id": "_7Gq6FL_bsSy",
        "colab_type": "code",
<<<<<<< HEAD
        "outputId": "cc3f5576-0b28-4107-96cc-bfe033e50ca6",
=======
        "outputId": "90b44479-c8a1-4fd4-9b8b-86990f5bd20b",
>>>>>>> dfc3095670ba2e42b209b2a9afab0fb30280b0f1
        "colab": {
          "base_uri": "https://localhost:8080/",
          "height": 206
        }
      },
      "source": [
        "eqgood.head()"
      ],
<<<<<<< HEAD
      "execution_count": 38,
=======
      "execution_count": 39,
>>>>>>> dfc3095670ba2e42b209b2a9afab0fb30280b0f1
      "outputs": [
        {
          "output_type": "execute_result",
          "data": {
            "text/html": [
              "<div>\n",
              "<style scoped>\n",
              "    .dataframe tbody tr th:only-of-type {\n",
              "        vertical-align: middle;\n",
              "    }\n",
              "\n",
              "    .dataframe tbody tr th {\n",
              "        vertical-align: top;\n",
              "    }\n",
              "\n",
              "    .dataframe thead th {\n",
              "        text-align: right;\n",
              "    }\n",
              "</style>\n",
              "<table border=\"1\" class=\"dataframe\">\n",
              "  <thead>\n",
              "    <tr style=\"text-align: right;\">\n",
              "      <th></th>\n",
              "      <th>date</th>\n",
              "      <th>time</th>\n",
              "      <th>mag</th>\n",
              "      <th>timestamps</th>\n",
              "      <th>tilnext</th>\n",
              "    </tr>\n",
              "  </thead>\n",
              "  <tbody>\n",
              "    <tr>\n",
              "      <th>1</th>\n",
              "      <td>1984/01/01</td>\n",
              "      <td>05:31:34.16</td>\n",
              "      <td>2.12</td>\n",
              "      <td>1984-01-01 05:31:34.160</td>\n",
              "      <td>14436640000000</td>\n",
              "    </tr>\n",
              "    <tr>\n",
              "      <th>2</th>\n",
              "      <td>1984/01/01</td>\n",
              "      <td>06:59:05.14</td>\n",
              "      <td>2.43</td>\n",
              "      <td>1984-01-01 06:59:05.140</td>\n",
              "      <td>5250980000000</td>\n",
              "    </tr>\n",
              "    <tr>\n",
              "      <th>3</th>\n",
              "      <td>1984/01/01</td>\n",
              "      <td>11:10:25.29</td>\n",
              "      <td>2.07</td>\n",
              "      <td>1984-01-01 11:10:25.290</td>\n",
              "      <td>15080150000000</td>\n",
              "    </tr>\n",
              "    <tr>\n",
              "      <th>4</th>\n",
              "      <td>1984/01/01</td>\n",
              "      <td>19:38:19.79</td>\n",
              "      <td>2.13</td>\n",
              "      <td>1984-01-01 19:38:19.790</td>\n",
              "      <td>30474500000000</td>\n",
              "    </tr>\n",
              "    <tr>\n",
              "      <th>5</th>\n",
              "      <td>1984/01/01</td>\n",
              "      <td>19:39:19.67</td>\n",
              "      <td>2.13</td>\n",
              "      <td>1984-01-01 19:39:19.670</td>\n",
              "      <td>59880000000</td>\n",
              "    </tr>\n",
              "  </tbody>\n",
              "</table>\n",
              "</div>"
            ],
            "text/plain": [
              "         date         time   mag              timestamps         tilnext\n",
              "1  1984/01/01  05:31:34.16  2.12 1984-01-01 05:31:34.160  14436640000000\n",
              "2  1984/01/01  06:59:05.14  2.43 1984-01-01 06:59:05.140   5250980000000\n",
              "3  1984/01/01  11:10:25.29  2.07 1984-01-01 11:10:25.290  15080150000000\n",
              "4  1984/01/01  19:38:19.79  2.13 1984-01-01 19:38:19.790  30474500000000\n",
              "5  1984/01/01  19:39:19.67  2.13 1984-01-01 19:39:19.670     59880000000"
            ]
          },
          "metadata": {
            "tags": []
          },
<<<<<<< HEAD
          "execution_count": 38
=======
          "execution_count": 39
>>>>>>> dfc3095670ba2e42b209b2a9afab0fb30280b0f1
        }
      ]
    },
    {
      "cell_type": "code",
      "metadata": {
        "id": "MZWwSz48cGIQ",
        "colab_type": "code",
<<<<<<< HEAD
        "outputId": "76900e3d-655b-4e8f-fbe0-6d0cdc0e6fc9",
=======
        "outputId": "ba936dd7-15c5-493d-cc82-d10b94b2305c",
>>>>>>> dfc3095670ba2e42b209b2a9afab0fb30280b0f1
        "colab": {
          "base_uri": "https://localhost:8080/",
          "height": 300
        }
      },
      "source": [
        "eqgood.describe()"
      ],
<<<<<<< HEAD
      "execution_count": 39,
=======
      "execution_count": 40,
>>>>>>> dfc3095670ba2e42b209b2a9afab0fb30280b0f1
      "outputs": [
        {
          "output_type": "execute_result",
          "data": {
            "text/html": [
              "<div>\n",
              "<style scoped>\n",
              "    .dataframe tbody tr th:only-of-type {\n",
              "        vertical-align: middle;\n",
              "    }\n",
              "\n",
              "    .dataframe tbody tr th {\n",
              "        vertical-align: top;\n",
              "    }\n",
              "\n",
              "    .dataframe thead th {\n",
              "        text-align: right;\n",
              "    }\n",
              "</style>\n",
              "<table border=\"1\" class=\"dataframe\">\n",
              "  <thead>\n",
              "    <tr style=\"text-align: right;\">\n",
              "      <th></th>\n",
              "      <th>mag</th>\n",
              "      <th>tilnext</th>\n",
              "    </tr>\n",
              "  </thead>\n",
              "  <tbody>\n",
              "    <tr>\n",
              "      <th>count</th>\n",
              "      <td>17385.000000</td>\n",
              "      <td>1.738500e+04</td>\n",
              "    </tr>\n",
              "    <tr>\n",
              "      <th>mean</th>\n",
              "      <td>2.385727</td>\n",
              "      <td>3.448969e+13</td>\n",
              "    </tr>\n",
              "    <tr>\n",
              "      <th>std</th>\n",
              "      <td>0.384233</td>\n",
              "      <td>1.149716e+15</td>\n",
              "    </tr>\n",
              "    <tr>\n",
              "      <th>min</th>\n",
              "      <td>2.000000</td>\n",
              "      <td>1.700000e+08</td>\n",
              "    </tr>\n",
              "    <tr>\n",
              "      <th>25%</th>\n",
              "      <td>2.110000</td>\n",
              "      <td>2.921420e+12</td>\n",
              "    </tr>\n",
              "    <tr>\n",
              "      <th>50%</th>\n",
              "      <td>2.280000</td>\n",
              "      <td>9.667640e+12</td>\n",
              "    </tr>\n",
              "    <tr>\n",
              "      <th>75%</th>\n",
              "      <td>2.540000</td>\n",
              "      <td>2.320878e+13</td>\n",
              "    </tr>\n",
              "    <tr>\n",
              "      <th>max</th>\n",
              "      <td>5.800000</td>\n",
              "      <td>1.199903e+17</td>\n",
              "    </tr>\n",
              "  </tbody>\n",
              "</table>\n",
              "</div>"
            ],
            "text/plain": [
              "                mag       tilnext\n",
              "count  17385.000000  1.738500e+04\n",
              "mean       2.385727  3.448969e+13\n",
              "std        0.384233  1.149716e+15\n",
              "min        2.000000  1.700000e+08\n",
              "25%        2.110000  2.921420e+12\n",
              "50%        2.280000  9.667640e+12\n",
              "75%        2.540000  2.320878e+13\n",
              "max        5.800000  1.199903e+17"
            ]
          },
          "metadata": {
            "tags": []
          },
<<<<<<< HEAD
          "execution_count": 39
=======
          "execution_count": 40
>>>>>>> dfc3095670ba2e42b209b2a9afab0fb30280b0f1
        }
      ]
    },
    {
<<<<<<< HEAD
      "cell_type": "markdown",
      "metadata": {
        "id": "AWEngcDSs_wF",
        "colab_type": "text"
      },
      "source": [
        "I'm rescaling the axes in the following two plots to show the time in days rather than nanoseconds, because then the issue is much clearer."
      ]
    },
    {
=======
>>>>>>> dfc3095670ba2e42b209b2a9afab0fb30280b0f1
      "cell_type": "code",
      "metadata": {
        "id": "P8Mzq4JMcQGh",
        "colab_type": "code",
<<<<<<< HEAD
        "outputId": "748e33a5-1ebc-4794-d21c-1db24ef82957",
        "colab": {
          "base_uri": "https://localhost:8080/",
          "height": 363
        }
      },
      "source": [
        "data_scaled = eqgood.tilnext*10**-9/3600/24\n",
        "\n",
        "pl.hist(data_scaled,log=True)\n",
        "pl.title('Earthquake time spacing')\n",
        "pl.xlabel('time between events (days)')\n",
        "pl.ylabel('counts')"
      ],
      "execution_count": 40,
=======
        "outputId": "305dfc13-ce70-43e1-9c0e-0903bf92c48d",
        "colab": {
          "base_uri": "https://localhost:8080/",
          "height": 434
        }
      },
      "source": [
        "pl.hist(eqgood.tilnext,log=True)"
      ],
      "execution_count": 41,
>>>>>>> dfc3095670ba2e42b209b2a9afab0fb30280b0f1
      "outputs": [
        {
          "output_type": "execute_result",
          "data": {
            "text/plain": [
<<<<<<< HEAD
              "Text(0, 0.5, 'counts')"
=======
              "(array([1.7379e+04, 3.0000e+00, 0.0000e+00, 1.0000e+00, 0.0000e+00,\n",
              "        0.0000e+00, 1.0000e+00, 0.0000e+00, 0.0000e+00, 1.0000e+00]),\n",
              " array([1.70000000e+08, 1.19990336e+16, 2.39980671e+16, 3.59971005e+16,\n",
              "        4.79961340e+16, 5.99951674e+16, 7.19942009e+16, 8.39932343e+16,\n",
              "        9.59922678e+16, 1.07991301e+17, 1.19990335e+17]),\n",
              " <a list of 10 Patch objects>)"
>>>>>>> dfc3095670ba2e42b209b2a9afab0fb30280b0f1
            ]
          },
          "metadata": {
            "tags": []
          },
<<<<<<< HEAD
          "execution_count": 40
=======
          "execution_count": 41
>>>>>>> dfc3095670ba2e42b209b2a9afab0fb30280b0f1
        },
        {
          "output_type": "stream",
          "text": [
            "/usr/local/lib/python3.6/dist-packages/matplotlib/font_manager.py:1241: UserWarning: findfont: Font family ['[\"sans-serif\"]'] not found. Falling back to DejaVu Sans.\n",
            "  (prop.get_family(), self.defaultFamily[fontext]))\n"
          ],
          "name": "stderr"
        },
        {
          "output_type": "display_data",
          "data": {
<<<<<<< HEAD
            "image/png": "iVBORw0KGgoAAAANSUhEUgAAAY8AAAEhCAYAAACHjCx5AAAABHNCSVQICAgIfAhkiAAAAAlwSFlz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\n",
=======
            "image/png": "iVBORw0KGgoAAAANSUhEUgAAAXwAAAEMCAYAAADHxQ0LAAAABHNCSVQICAgIfAhkiAAAAAlwSFlz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\n",
>>>>>>> dfc3095670ba2e42b209b2a9afab0fb30280b0f1
            "text/plain": [
              "<Figure size 432x288 with 1 Axes>"
            ]
          },
          "metadata": {
            "tags": []
          }
        }
      ]
    },
    {
<<<<<<< HEAD
=======
      "cell_type": "markdown",
      "metadata": {
        "id": "_aHlqmfZcx-O",
        "colab_type": "text"
      },
      "source": [
        "$\\color{red}{PLOT LABELS}$"
      ]
    },
    {
>>>>>>> dfc3095670ba2e42b209b2a9afab0fb30280b0f1
      "cell_type": "code",
      "metadata": {
        "id": "q4a12KmkctOP",
        "colab_type": "code",
<<<<<<< HEAD
        "outputId": "db655cf0-db70-45bf-d8c0-86bfe3614d4a",
=======
        "outputId": "fec70d30-9d1e-4b72-b289-2ef98765ebc4",
>>>>>>> dfc3095670ba2e42b209b2a9afab0fb30280b0f1
        "colab": {
          "base_uri": "https://localhost:8080/",
          "height": 300
        }
      },
      "source": [
        "eqgood = eqgood[eqgood.tilnext <= 2.5*10**15]\n",
        "eqgood.describe()"
      ],
<<<<<<< HEAD
      "execution_count": 41,
=======
      "execution_count": 42,
>>>>>>> dfc3095670ba2e42b209b2a9afab0fb30280b0f1
      "outputs": [
        {
          "output_type": "execute_result",
          "data": {
            "text/html": [
              "<div>\n",
              "<style scoped>\n",
              "    .dataframe tbody tr th:only-of-type {\n",
              "        vertical-align: middle;\n",
              "    }\n",
              "\n",
              "    .dataframe tbody tr th {\n",
              "        vertical-align: top;\n",
              "    }\n",
              "\n",
              "    .dataframe thead th {\n",
              "        text-align: right;\n",
              "    }\n",
              "</style>\n",
              "<table border=\"1\" class=\"dataframe\">\n",
              "  <thead>\n",
              "    <tr style=\"text-align: right;\">\n",
              "      <th></th>\n",
              "      <th>mag</th>\n",
              "      <th>tilnext</th>\n",
              "    </tr>\n",
              "  </thead>\n",
              "  <tbody>\n",
              "    <tr>\n",
              "      <th>count</th>\n",
              "      <td>17375.000000</td>\n",
              "      <td>1.737500e+04</td>\n",
              "    </tr>\n",
              "    <tr>\n",
              "      <th>mean</th>\n",
              "      <td>2.385844</td>\n",
              "      <td>1.685512e+13</td>\n",
              "    </tr>\n",
              "    <tr>\n",
              "      <th>std</th>\n",
              "      <td>0.384292</td>\n",
              "      <td>2.039204e+13</td>\n",
              "    </tr>\n",
              "    <tr>\n",
              "      <th>min</th>\n",
              "      <td>2.000000</td>\n",
              "      <td>1.700000e+08</td>\n",
              "    </tr>\n",
              "    <tr>\n",
              "      <th>25%</th>\n",
              "      <td>2.110000</td>\n",
              "      <td>2.920040e+12</td>\n",
              "    </tr>\n",
              "    <tr>\n",
              "      <th>50%</th>\n",
              "      <td>2.280000</td>\n",
              "      <td>9.657150e+12</td>\n",
              "    </tr>\n",
              "    <tr>\n",
              "      <th>75%</th>\n",
              "      <td>2.540000</td>\n",
              "      <td>2.313566e+13</td>\n",
              "    </tr>\n",
              "    <tr>\n",
              "      <th>max</th>\n",
              "      <td>5.800000</td>\n",
              "      <td>2.365828e+14</td>\n",
              "    </tr>\n",
              "  </tbody>\n",
              "</table>\n",
              "</div>"
            ],
            "text/plain": [
              "                mag       tilnext\n",
              "count  17375.000000  1.737500e+04\n",
              "mean       2.385844  1.685512e+13\n",
              "std        0.384292  2.039204e+13\n",
              "min        2.000000  1.700000e+08\n",
              "25%        2.110000  2.920040e+12\n",
              "50%        2.280000  9.657150e+12\n",
              "75%        2.540000  2.313566e+13\n",
              "max        5.800000  2.365828e+14"
            ]
          },
          "metadata": {
            "tags": []
          },
<<<<<<< HEAD
          "execution_count": 41
=======
          "execution_count": 42
>>>>>>> dfc3095670ba2e42b209b2a9afab0fb30280b0f1
        }
      ]
    },
    {
      "cell_type": "code",
      "metadata": {
        "id": "LUw4ZF2Udbke",
        "colab_type": "code",
<<<<<<< HEAD
        "outputId": "f6ec561e-2ae5-469d-d851-26ebc97e3de1",
        "colab": {
          "base_uri": "https://localhost:8080/",
          "height": 324
        }
      },
      "source": [
        "data_scaled = eqgood.tilnext*10**-9/3600/24\n",
        "\n",
        "pl.hist(data_scaled,log=True)\n",
        "pl.title('Earthquake time spacing')\n",
        "pl.xlabel('time between events (days)')\n",
        "pl.ylabel('counts')"
      ],
      "execution_count": 42,
=======
        "outputId": "21f119c1-791f-4487-d4b3-7fd5ed07e871",
        "colab": {
          "base_uri": "https://localhost:8080/",
          "height": 415
        }
      },
      "source": [
        "pl.hist(eqgood.tilnext,log=True)"
      ],
      "execution_count": 43,
>>>>>>> dfc3095670ba2e42b209b2a9afab0fb30280b0f1
      "outputs": [
        {
          "output_type": "execute_result",
          "data": {
            "text/plain": [
<<<<<<< HEAD
              "Text(0, 0.5, 'counts')"
=======
              "(array([1.3135e+04, 2.8150e+03, 9.4600e+02, 3.1700e+02, 1.0100e+02,\n",
              "        4.2000e+01, 1.0000e+01, 4.0000e+00, 2.0000e+00, 3.0000e+00]),\n",
              " array([1.70000000e+08, 2.36584280e+13, 4.73166860e+13, 7.09749440e+13,\n",
              "        9.46332020e+13, 1.18291460e+14, 1.41949718e+14, 1.65607976e+14,\n",
              "        1.89266234e+14, 2.12924492e+14, 2.36582750e+14]),\n",
              " <a list of 10 Patch objects>)"
>>>>>>> dfc3095670ba2e42b209b2a9afab0fb30280b0f1
            ]
          },
          "metadata": {
            "tags": []
          },
<<<<<<< HEAD
          "execution_count": 42
=======
          "execution_count": 43
>>>>>>> dfc3095670ba2e42b209b2a9afab0fb30280b0f1
        },
        {
          "output_type": "display_data",
          "data": {
<<<<<<< HEAD
            "image/png": "iVBORw0KGgoAAAANSUhEUgAAAY8AAAEhCAYAAACHjCx5AAAABHNCSVQICAgIfAhkiAAAAAlwSFlz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\ngg==\n",
=======
            "image/png": "iVBORw0KGgoAAAANSUhEUgAAAXwAAAEMCAYAAADHxQ0LAAAABHNCSVQICAgIfAhkiAAAAAlwSFlz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\nAAAASUVORK5CYII=\n",
>>>>>>> dfc3095670ba2e42b209b2a9afab0fb30280b0f1
            "text/plain": [
              "<Figure size 432x288 with 1 Axes>"
            ]
          },
          "metadata": {
            "tags": []
          }
        }
      ]
    },
    {
      "cell_type": "markdown",
      "metadata": {
        "id": "ZxEfTb2ha-pm",
        "colab_type": "text"
      },
      "source": [
<<<<<<< HEAD
        "I'm selecting an $\\alpha$ threshold of $3\\sigma$."
=======
        "I'm selecting an $\\alpha$ threshold of $3\\sigma$.\n",
        "\n",
        "\n",
        "**I need to make a key for these variables...**\n",
        "\n",
        "variable|meaning\n",
        "-----|-----\n",
        "$d_{kl}$  |  ks statistic between sets k,l\n",
        "$N_e$  |  effective number of datapoints (definition here is strange)\n",
        "$M_i$ | some magnitude specific to the sample/subset\n",
        "$R_i$ | the occurrence rate for events of magnitude greater than $M_i$\n",
        "$\\tau$ | the inter-event time. note: $\\langle\\tau\\rangle_i=R_i^{-1}$\n",
        "\n",
        "\n",
        "\n"
>>>>>>> dfc3095670ba2e42b209b2a9afab0fb30280b0f1
      ]
    },
    {
      "cell_type": "code",
      "metadata": {
        "id": "wJoP0UT9lVC4",
        "colab_type": "code",
<<<<<<< HEAD
        "outputId": "e3568d4f-ffc2-4364-eb4b-59166eb926a1",
=======
        "outputId": "061bedac-190e-420c-a21b-d3ff47c870ae",
>>>>>>> dfc3095670ba2e42b209b2a9afab0fb30280b0f1
        "colab": {
          "base_uri": "https://localhost:8080/",
          "height": 54
        }
      },
      "source": [
        "eqgood.tilnext.values"
      ],
<<<<<<< HEAD
      "execution_count": 43,
=======
      "execution_count": 44,
>>>>>>> dfc3095670ba2e42b209b2a9afab0fb30280b0f1
      "outputs": [
        {
          "output_type": "execute_result",
          "data": {
            "text/plain": [
              "array([14436640000000,  5250980000000, 15080150000000, ...,\n",
              "        1459920000000, 19148060000000, 37530890000000])"
            ]
          },
          "metadata": {
            "tags": []
          },
<<<<<<< HEAD
          "execution_count": 43
=======
          "execution_count": 44
>>>>>>> dfc3095670ba2e42b209b2a9afab0fb30280b0f1
        }
      ]
    },
    {
      "cell_type": "code",
      "metadata": {
        "id": "ZALYrzr0d4no",
        "colab_type": "code",
<<<<<<< HEAD
        "outputId": "26f673e0-ce22-411f-c814-a18ff67da80d",
        "colab": {
          "base_uri": "https://localhost:8080/",
          "height": 972
        }
      },
      "source": [
        "thresholds = [0.01, 0.001]\n",
        "mag_list = [2.0, 2.5, 3.0, 3.5, 4.0]\n",
=======
        "outputId": "80136586-1686-4a2c-bd5f-d8ae5174e5b1",
        "colab": {
          "base_uri": "https://localhost:8080/",
          "height": 1000
        }
      },
      "source": [
        "thresholds = [0.01,0.001]\n",
        "mag_list = [2.0,2.5,3.0,3.5,4.0]\n",
>>>>>>> dfc3095670ba2e42b209b2a9afab0fb30280b0f1
        "\n",
        "tau_normd=np.empty([len(mag_list),len(thresholds)],dtype='O')\n",
        "\n",
        "#print(tau_normd)\n",
        "\n",
        "for threshold in thresholds:\n",
        "  i = thresholds.index(threshold)\n",
        "  for mk in range(len(mag_list)):\n",
        "    tau_normd[mk][i]=eqgood.tilnext.where(eqgood.mag>mag_list[mk]).dropna()\n",
<<<<<<< HEAD
        "    for _ in [1,2]:\n",
        "      rk = 1/np.mean(tau_normd[mk][i].values)\n",
        "      #print(rk)\n",
        "      tau_normd[mk][i] = tau_normd[mk][i].where(tau_normd[mk][i]*rk>threshold).dropna()*rk\n",
        "    #there were two lines in the pseudocode that were unnecessary, but I'll do them anyways.\n",
        "    rk = 1/np.mean(tau_normd[mk][i].values)\n",
        "    tau_normd[mk][i] = tau_normd[mk][i]*rk\n",
        "  print('---')\n",
        "  for mk in range(len(mag_list)):\n",
        "    for ml in range(mk):\n",
        "      print(mk,ml)\n",
        "      print(stats.ks_2samp(tau_normd[mk][i].values,tau_normd[ml][i].values))\n",
        "      \n",
        "for j in [0,1]:\n",
        "  for i in range(5):\n",
        "    print(len(tau_normd[i][j]))"
      ],
      "execution_count": 44,
=======
        "    for _ in [1,2,3]:\n",
        "      rk = 1/np.mean(tau_normd[mk][i])\n",
        "      #print(rk)\n",
        "      tau_normd[mk][i] = tau_normd[mk][i].where(tau_normd[mk][i]*rk>threshold).dropna()*rk\n",
        "    #there were two lines in the pseudocode that were unnecessary, but I'll do them anyways.\n",
        "    rk = 1/np.mean(tau_normd[mk][i])\n",
        "    tau_normd[mk][i] = tau_normd[mk][i]*rk\n",
        "      \n",
        "    print(\"\\n\\n\")\n",
        "  for mk in range(len(mag_list)):\n",
        "    for ml in range(mk+1,len(mag_list)):\n",
        "      print(mk,ml)\n",
        "      print(stats.ks_2samp(tau_normd[mk][i].values,tau_normd[ml][i].values))\n",
        "      \n",
        "\n",
        "for i in range(5):\n",
        "  for j in [0,1]:\n",
        "    print(len(tau_normd[i][j]))"
      ],
      "execution_count": 55,
>>>>>>> dfc3095670ba2e42b209b2a9afab0fb30280b0f1
      "outputs": [
        {
          "output_type": "stream",
          "text": [
<<<<<<< HEAD
            "---\n",
            "1 0\n",
            "Ks_2sampResult(statistic=0.01646401614679427, pvalue=0.2988924217300161)\n",
            "2 0\n",
            "Ks_2sampResult(statistic=0.026143467057560765, pvalue=0.46579212837991557)\n",
            "2 1\n",
            "Ks_2sampResult(statistic=0.021496139481659394, pvalue=1.0)\n",
            "3 0\n",
            "Ks_2sampResult(statistic=0.07063699966478432, pvalue=0.07869015564429575)\n",
            "3 1\n",
            "Ks_2sampResult(statistic=0.060674947049273745, pvalue=0.1976817322234541)\n",
            "3 2\n",
            "Ks_2sampResult(statistic=0.05313430764467883, pvalue=0.44653933946712554)\n",
            "4 0\n",
            "Ks_2sampResult(statistic=0.12829356999554092, pvalue=0.10857153243367323)\n",
            "4 1\n",
            "Ks_2sampResult(statistic=0.12631452677036267, pvalue=0.11297757155874633)\n",
            "4 2\n",
            "Ks_2sampResult(statistic=0.12705959423512128, pvalue=0.1269977872439345)\n",
            "4 3\n",
            "Ks_2sampResult(statistic=0.09144913269289522, pvalue=0.5631282678202599)\n",
            "---\n",
            "1 0\n",
            "Ks_2sampResult(statistic=0.022693722952343426, pvalue=0.044826450192210744)\n",
            "2 0\n",
            "Ks_2sampResult(statistic=0.037953932216514386, pvalue=0.0767506784664994)\n",
            "2 1\n",
            "Ks_2sampResult(statistic=0.02617627102781872, pvalue=1.0)\n",
            "3 0\n",
            "Ks_2sampResult(statistic=0.08224477807680222, pvalue=0.01816493801413496)\n",
            "3 1\n",
            "Ks_2sampResult(statistic=0.06215274379483894, pvalue=0.14900908581100847)\n",
            "3 2\n",
            "Ks_2sampResult(statistic=0.04922042543325798, pvalue=0.5001271528884628)\n",
            "4 0\n",
            "Ks_2sampResult(statistic=0.12462853664073303, pvalue=0.10964147614060792)\n",
            "4 1\n",
            "Ks_2sampResult(statistic=0.11955260457968755, pvalue=0.13195407953605476)\n",
            "4 2\n",
            "Ks_2sampResult(statistic=0.11901759915944313, pvalue=0.15492363346812021)\n",
            "4 3\n",
            "Ks_2sampResult(statistic=0.0799220857057237, pvalue=0.6935673499229381)\n",
            "15799\n",
            "4496\n",
            "1132\n",
            "331\n",
            "89\n",
            "16496\n",
            "4749\n",
            "1215\n",
            "355\n",
=======
            "\n",
            "\n",
            "\n",
            "\n",
            "\n",
            "\n",
            "\n",
            "\n",
            "\n",
            "\n",
            "\n",
            "\n",
            "\n",
            "\n",
            "\n",
            "0 1\n",
            "Ks_2sampResult(statistic=0.01646401614679427, pvalue=0.2988924217300161)\n",
            "0 2\n",
            "Ks_2sampResult(statistic=0.026143467057560765, pvalue=0.46579212837991557)\n",
            "0 3\n",
            "Ks_2sampResult(statistic=0.07063699966478432, pvalue=0.07869015564429575)\n",
            "0 4\n",
            "Ks_2sampResult(statistic=0.12829356999554092, pvalue=0.10857153243367323)\n",
            "1 2\n",
            "Ks_2sampResult(statistic=0.021496139481659394, pvalue=1.0)\n",
            "1 3\n",
            "Ks_2sampResult(statistic=0.060674947049273745, pvalue=0.1976817322234541)\n",
            "1 4\n",
            "Ks_2sampResult(statistic=0.12631452677036267, pvalue=0.11297757155874633)\n",
            "2 3\n",
            "Ks_2sampResult(statistic=0.05313430764467883, pvalue=0.44653933946712554)\n",
            "2 4\n",
            "Ks_2sampResult(statistic=0.12705959423512128, pvalue=0.1269977872439345)\n",
            "3 4\n",
            "Ks_2sampResult(statistic=0.09144913269289522, pvalue=0.5631282678202599)\n",
            "\n",
            "\n",
            "\n",
            "\n",
            "\n",
            "\n",
            "\n",
            "\n",
            "\n",
            "\n",
            "\n",
            "\n",
            "\n",
            "\n",
            "\n",
            "0 1\n",
            "Ks_2sampResult(statistic=0.022693722952343426, pvalue=0.044826450192210744)\n",
            "0 2\n",
            "Ks_2sampResult(statistic=0.037953932216514386, pvalue=0.0767506784664994)\n",
            "0 3\n",
            "Ks_2sampResult(statistic=0.08224477807680222, pvalue=0.01816493801413496)\n",
            "0 4\n",
            "Ks_2sampResult(statistic=0.12462853664073303, pvalue=0.10964147614060792)\n",
            "1 2\n",
            "Ks_2sampResult(statistic=0.02617627102781872, pvalue=1.0)\n",
            "1 3\n",
            "Ks_2sampResult(statistic=0.06215274379483894, pvalue=0.14900908581100847)\n",
            "1 4\n",
            "Ks_2sampResult(statistic=0.11955260457968755, pvalue=0.13195407953605476)\n",
            "2 3\n",
            "Ks_2sampResult(statistic=0.04922042543325798, pvalue=0.5001271528884628)\n",
            "2 4\n",
            "Ks_2sampResult(statistic=0.11901759915944313, pvalue=0.15492363346812021)\n",
            "3 4\n",
            "Ks_2sampResult(statistic=0.0799220857057237, pvalue=0.6935673499229381)\n",
            "15799\n",
            "16496\n",
            "4496\n",
            "4749\n",
            "1132\n",
            "1215\n",
            "331\n",
            "355\n",
            "89\n",
>>>>>>> dfc3095670ba2e42b209b2a9afab0fb30280b0f1
            "94\n"
          ],
          "name": "stdout"
        }
      ]
    },
    {
      "cell_type": "markdown",
      "metadata": {
<<<<<<< HEAD
        "id": "XEAqBC-H4MJ2",
        "colab_type": "text"
      },
      "source": [
        "\n",
        "$m= 0.01$ | $N$  | $M\\geq2.0$ | $M\\geq2.5$| $M\\geq3.0$ | $M\\geq3.5$ | $M\\geq4.0$ | \n",
        "--- | --- |--- |--- |--- |--- |--- | \n",
        "$M\\geq2.0$ | $15799$ |-    |29.9%  |46.6% |7.9%   |10.9%\n",
        "$M\\geq2.5$ | $4496$ | 0.016| -     |100%  |19.8%  |11.3%\n",
        "$M\\geq3.0$ | $1132$ | 0.026| 0.021 |-     |50.0%  |15.5%\n",
        "$M\\geq3.5$ | $331$  | 0.070| 0.061 |0.049 | -     |56.3%\n",
        "$M\\geq4.0$ | $89$   | 0.128| 0.126 |0.119 | 0.080 | -\n",
        "\n",
        "$m= 0.001$ | $N$  | $M\\geq2.0$ | $M\\geq2.5$| $M\\geq3.0$ | $M\\geq3.5$ | $M\\geq4.0$ | \n",
        "--- | --- | --- | --- |---| ---| --- |\n",
        "$M\\geq2.0$ | $16496$|-     |4.5%  |7.7%  |1.8%   |11.0%\n",
        "$M\\geq2.5$ | $4749$ | 0.023|-     |100%  |14.9%  |13.2%\n",
        "$M\\geq3.0$ | $1215$ | 0.038|0.026 |-     |50.0%  |15.5%\n",
        "$M\\geq3.5$ | $335$  | 0.082|0.062 |0.049 | -     |69.4%\n",
        "$M\\geq4.0$ |  $94$  | 0.125|0.112 |0.119 | 0.080 |-\n",
        "\n"
      ]
    },
    {
      "cell_type": "markdown",
      "metadata": {
        "id": "71NHEKky9TYJ",
        "colab_type": "text"
      },
      "source": [
        "According to this table (specifically for *m=0.001*) it appears that the scaling hypothesis can be rejected. However, the K.S. test may have an issue with datasets this large. See the analysis given in the very last cell of this notebook."
      ]
    },
    {
      "cell_type": "markdown",
      "metadata": {
=======
>>>>>>> dfc3095670ba2e42b209b2a9afab0fb30280b0f1
        "id": "pvWuzo6gP46t",
        "colab_type": "text"
      },
      "source": [
        "## An explanation of my cumulative probability distribution method\n",
        "So the cumulative distribution function plots the percentage of all entries with associated times shorter than the given value, for all values in the array.\n",
        "\n",
        "Equivalently, I could just sort the array, enumerate each entry, and divide the enumeration by the number of entries. That is: the lowest entry has 0 shorter measurements in the set, the second lowest has 1, the third lowest has 2... So this is simply the index of the sorted measuement. These need to be normalized to a percent of the total sample rather than an integer number due to varied sub-sample sizes.\n",
        "\n",
        "The cumulative distribution function is then the index of the value (normalized to a maximum of 1) as a function of the value (normalized to a mean of 1)."
      ]
    },
    {
      "cell_type": "code",
      "metadata": {
<<<<<<< HEAD
        "id": "Ogy10HlmvNCs",
        "colab_type": "code",
        "outputId": "0a4a79e3-1651-4231-be4e-d3f88951ccc4",
        "colab": {
          "base_uri": "https://localhost:8080/",
          "height": 90
        }
      },
      "source": [
        "tau_sort = np.zeros_like(tau_normd)\n",
        "\n",
        "for i in range(len(tau_normd)):\n",
        "  for j in range(len(tau_normd[i])):\n",
        "    tau_sort[i,j] = np.sort(tau_normd[i,j].values)\n",
        "\n",
        "tau_sort[1]"
      ],
      "execution_count": 45,
      "outputs": [
        {
          "output_type": "execute_result",
          "data": {
            "text/plain": [
              "array([array([1.01179314e-02, 1.02565171e-02, 1.02747986e-02, ...,\n",
              "       1.00244457e+01, 1.03540890e+01, 1.39519032e+01]),\n",
              "       array([1.01323487e-03, 1.04063643e-03, 1.05495997e-03, ...,\n",
              "       1.05860163e+01, 1.09341264e+01, 1.47334906e+01])], dtype=object)"
            ]
          },
          "metadata": {
            "tags": []
          },
          "execution_count": 45
        }
      ]
    },
    {
      "cell_type": "code",
      "metadata": {
        "id": "xCGf3knbSb1r",
        "colab_type": "code",
        "colab": {
          "base_uri": "https://localhost:8080/",
          "height": 352
        },
        "outputId": "51d46dc0-1754-48fb-ab6f-744dc65101a2"
      },
      "source": [
        "for i in range(len(tau_sort)):\n",
        "  pl.plot(tau_sort[i][0],np.linspace(0,1,num=len(tau_sort[i][0])),'.',\n",
        "          markersize=2, label='Mag '+str(mag_list[i]))\n",
        "pl.legend(markerscale=6)\n",
        "pl.ylabel(r'$P(x)\\quad$(unitless)')\n",
        "pl.xlabel(r'$x\\equiv R_s\\tau\\quad$(unitless)')\n",
        "pl.xscale('log')\n",
        "pl.title('Scaled Inter-Event Earthquake Times\\nthreshold=0.01')\n"
      ],
      "execution_count": 46,
      "outputs": [
        {
          "output_type": "execute_result",
          "data": {
            "text/plain": [
              "Text(0.5, 1.0, 'Scaled Inter-Event Earthquake Times\\nthreshold=0.01')"
            ]
          },
          "metadata": {
            "tags": []
          },
          "execution_count": 46
        },
        {
          "output_type": "display_data",
          "data": {
            "image/png": "iVBORw0KGgoAAAANSUhEUgAAAY4AAAE9CAYAAAAcWoWnAAAABHNCSVQICAgIfAhkiAAAAAlwSFlz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\nxqzTAy4VAAAAAElFTkSuQmCC\n",
            "text/plain": [
              "<Figure size 432x288 with 1 Axes>"
            ]
          },
          "metadata": {
            "tags": []
          }
        }
      ]
    },
    {
      "cell_type": "code",
      "metadata": {
        "id": "yJmzYFBVJRn4",
        "colab_type": "code",
        "colab": {
          "base_uri": "https://localhost:8080/",
          "height": 352
        },
        "outputId": "74d67d03-4d72-453d-e85b-75cb01aa4c8a"
      },
      "source": [
        "for i in range(len(tau_sort)):\n",
        "  pl.plot(tau_sort[i][1],np.linspace(0,1,num=len(tau_sort[i][1])),'.',\n",
        "          markersize=2,label='Mag '+str(mag_list[i]))\n",
        "pl.legend(markerscale=6)\n",
        "pl.ylabel(r'$P(x)\\quad$(unitless)')\n",
        "pl.xlabel(r'$x\\equiv R_s\\tau\\quad$(unitless)')\n",
        "pl.xscale('log')\n",
        "pl.title('Scaled Inter-Event Earthquake Times\\nthreshold=0.001')\n"
      ],
      "execution_count": 47,
=======
        "id": "-MeM6WeEVJZZ",
        "colab_type": "code",
        "outputId": "278d24c6-733a-4c48-f4d5-968967e7c03a",
        "colab": {
          "base_uri": "https://localhost:8080/",
          "height": 285
        }
      },
      "source": [
        "pl.plot(np.sort(tau_normd[0][1].values),',')"
      ],
      "execution_count": 65,
>>>>>>> dfc3095670ba2e42b209b2a9afab0fb30280b0f1
      "outputs": [
        {
          "output_type": "execute_result",
          "data": {
            "text/plain": [
<<<<<<< HEAD
              "Text(0.5, 1.0, 'Scaled Inter-Event Earthquake Times\\nthreshold=0.001')"
=======
              "[<matplotlib.lines.Line2D at 0x7fd27868a940>]"
>>>>>>> dfc3095670ba2e42b209b2a9afab0fb30280b0f1
            ]
          },
          "metadata": {
            "tags": []
          },
<<<<<<< HEAD
          "execution_count": 47
=======
          "execution_count": 65
>>>>>>> dfc3095670ba2e42b209b2a9afab0fb30280b0f1
        },
        {
          "output_type": "display_data",
          "data": {
<<<<<<< HEAD
            "image/png": "iVBORw0KGgoAAAANSUhEUgAAAY4AAAE9CAYAAAAcWoWnAAAABHNCSVQICAgIfAhkiAAAAAlwSFlz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\n1iEAAAAASUVORK5CYII=\n",
=======
            "image/png": "iVBORw0KGgoAAAANSUhEUgAAAYIAAAD6CAYAAACs/ECRAAAABHNCSVQICAgIfAhkiAAAAAlwSFlz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\n",
>>>>>>> dfc3095670ba2e42b209b2a9afab0fb30280b0f1
            "text/plain": [
              "<Figure size 432x288 with 1 Axes>"
            ]
          },
          "metadata": {
            "tags": []
          }
        }
      ]
    },
    {
      "cell_type": "code",
      "metadata": {
<<<<<<< HEAD
        "id": "eYY5X1izMVmb",
        "colab_type": "code",
        "colab": {
          "base_uri": "https://localhost:8080/",
          "height": 35
        },
        "outputId": "7b02caac-ac8b-4ff8-88f2-e1d7acea2b81"
      },
      "source": [
        "print(stats.ks_2samp(tau_normd[0][0].values,tau_normd[4][0].values).pvalue)"
      ],
      "execution_count": 48,
      "outputs": [
        {
          "output_type": "stream",
          "text": [
            "0.10857153243367323\n"
          ],
          "name": "stdout"
        }
      ]
    },
    {
      "cell_type": "markdown",
      "metadata": {
        "id": "hFoIKo7oM1tb",
        "colab_type": "text"
      },
      "source": [
        "Okay since the above code works then this should be easy"
      ]
    },
    {
      "cell_type": "code",
      "metadata": {
        "id": "c-MKfXCsMufr",
        "colab_type": "code",
        "colab": {
          "base_uri": "https://localhost:8080/",
          "height": 599
        },
        "outputId": "7e1ac0e1-69d4-49ce-ce5a-f08b66506f9f"
      },
      "source": [
        "ks_pvals = np.ones([2,5,5])\n",
        "#ks_pvals\n",
        "\n",
        "\n",
        "for i1 in range(5):\n",
        "  for i2 in range(i1):\n",
        "    for thr in range(2):\n",
        "      ks_pvals[thr,i1,i2] = stats.ks_2samp(tau_normd[i1,thr].values,tau_normd[i2,thr].values).pvalue\n",
        "      ks_pvals[thr,i2,i1] = ks_pvals[thr,i1,i2]\n",
        "\n",
        "pl.imshow(ks_pvals[0]);\n",
        "pl.axis('off')\n",
        "cb = pl.colorbar()\n",
        "cb.ax.set_ylabel(r'$p$-value')\n",
        "pl.title(\"KS test results\\nthreshold=0.01\");\n",
        "\n",
        "pl.show()\n",
        "\n",
        "pl.imshow(ks_pvals[1]);\n",
        "pl.axis('off')\n",
        "cb = pl.colorbar()\n",
        "cb.ax.set_ylabel(r'$p$-value')\n",
        "pl.title(\"KS test results\\nthreshold=0.001\");"
      ],
      "execution_count": 49,
      "outputs": [
        {
          "output_type": "display_data",
          "data": {
            "image/png": "iVBORw0KGgoAAAANSUhEUgAAAUIAAAEjCAYAAABHBQhjAAAABHNCSVQICAgIfAhkiAAAAAlwSFlz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\nAAAASUVORK5CYII=\n",
            "text/plain": [
              "<Figure size 432x288 with 2 Axes>"
=======
        "id": "Ogy10HlmvNCs",
        "colab_type": "code",
        "outputId": "564b426c-d2dd-4fcd-92b8-d9adede1ad9d",
        "colab": {
          "base_uri": "https://localhost:8080/",
          "height": 110
        }
      },
      "source": [
        "tau_sort = np.zeros_like(tau_normd)\n",
        "\n",
        "for i in range(len(tau_normd)):\n",
        "  for j in range(len(tau_normd[i])):\n",
        "    tau_sort[i,j] = np.sort(tau_normd[i,j].values)\n",
        "\n",
        "tau_sort[1]"
      ],
      "execution_count": 67,
      "outputs": [
        {
          "output_type": "execute_result",
          "data": {
            "text/plain": [
              "array([array([1.01179314e-02, 1.02565171e-02, 1.02747986e-02, ...,\n",
              "       1.00244457e+01, 1.03540890e+01, 1.39519032e+01]),\n",
              "       array([1.01323487e-03, 1.04063643e-03, 1.05495997e-03, ...,\n",
              "       1.05860163e+01, 1.09341264e+01, 1.47334906e+01])], dtype=object)"
>>>>>>> dfc3095670ba2e42b209b2a9afab0fb30280b0f1
            ]
          },
          "metadata": {
            "tags": []
<<<<<<< HEAD
          }
        },
        {
          "output_type": "display_data",
          "data": {
            "image/png": "iVBORw0KGgoAAAANSUhEUgAAAUIAAAEjCAYAAABHBQhjAAAABHNCSVQICAgIfAhkiAAAAAlwSFlz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\nTkSuQmCC\n",
            "text/plain": [
              "<Figure size 432x288 with 2 Axes>"
            ]
          },
          "metadata": {
            "tags": []
          }
=======
          },
          "execution_count": 67
>>>>>>> dfc3095670ba2e42b209b2a9afab0fb30280b0f1
        }
      ]
    },
    {
      "cell_type": "code",
      "metadata": {
<<<<<<< HEAD
        "id": "Tlco3RsyNBtw",
        "colab_type": "code",
        "colab": {
          "base_uri": "https://localhost:8080/",
          "height": 599
        },
        "outputId": "88184028-2290-422a-cb67-3f94a54e5c52"
      },
      "source": [
        "#import matplotlib.colors as colors\n",
        "\n",
        "pl.imshow(ks_pvals[0],vmin=0.05, vmax=0.05);\n",
        "pl.axis('off')\n",
        "cb = pl.colorbar()\n",
        "cb.cmap.set_under('r')\n",
        "cb.cmap.set_over('w')\n",
        "cb.remove()\n",
        "pl.title(\"KS test significance\\nthreshold=0.01\");\n",
        "\n",
        "pl.show()\n",
        "\n",
        "pl.imshow(ks_pvals[1],vmin=0.05, vmax=0.05);\n",
        "pl.axis('off')\n",
        "cb = pl.colorbar()\n",
        "cb.cmap.set_under('r')\n",
        "cb.cmap.set_over('w')\n",
        "cb.remove()\n",
        "pl.title(\"KS test significance\\nthreshold=0.001\");"
      ],
      "execution_count": 50,
=======
        "id": "xCGf3knbSb1r",
        "colab_type": "code",
        "colab": {
          "base_uri": "https://localhost:8080/",
          "height": 271
        },
        "outputId": "dd511ff8-2163-412d-ce1d-9ebcf5e677f5"
      },
      "source": [
        "for i in range(len(tau_sort)):\n",
        "  pl.plot(tau_sort[i][0],np.linspace(0,1,num=len(tau_sort[i][0])),'.')\n",
        "\n",
        "pl.xscale('log')\n"
      ],
      "execution_count": 81,
>>>>>>> dfc3095670ba2e42b209b2a9afab0fb30280b0f1
      "outputs": [
        {
          "output_type": "display_data",
          "data": {
<<<<<<< HEAD
            "image/png": "iVBORw0KGgoAAAANSUhEUgAAAPQAAAEjCAYAAAAFYyzdAAAABHNCSVQICAgIfAhkiAAAAAlwSFlz\nAAALEgAACxIB0t1+/AAAADl0RVh0U29mdHdhcmUAbWF0cGxvdGxpYiB2ZXJzaW9uIDMuMC4zLCBo\ndHRwOi8vbWF0cGxvdGxpYi5vcmcvnQurowAAGBpJREFUeJzt3X9UzXkex/FXP0g/qIRQZmQyjRSi\nWK1M69e0lRiG9XvkoDEYRxkmO37EOGfHwXImjWqVXzP0a22IGKqZJsdQmuUYZLbCdo38KP0i/bj7\nh3PvuO69JcL29nqcM+eYe7/f7/3eus++fX99Mrh3754SRCSC4ateASJqPgyaSBAGTSQIgyYShEET\nCcKgiQRh0K+BoKAgBAQEvLTXCwgIQFBQkNbjCQkJ+OCDD+Dp6QkPDw8oFApERUWp/03Pr8UEnZOT\nAw8PD+zevVvnc97e3vDx8cGVK1fUj589exbBwcEICAiAp6cnRo0ahRkzZmDDhg3473//+1SvGRUV\nhfLy8mZ9L/pERUUhIyPjpbzWy5adnY3169eje/fu+OyzzxAWFgZra+tXvVriGL/qFXhemZmZCA0N\nhY2NDbZu3Qp7e3sAQGJiIr788kvY2dnBz88Ptra2KCkpQWFhIY4ePQo3Nzf1tPrk5OQgOjoa/v7+\naNu27Qt/L9HR0fDz84O3t3ezLjc8PBxK5cu7figxMREGBgYaj/30008AgBUrVsDS0lL9+KxZs/Dh\nhx+idevWL239JGvRQaempmL16tV48803ER4ejo4dOwIAamtrERERgc6dO2PPnj2wsLDQmK+mpgZV\nVVWvYpVfiVatWr3U19MV5507dwBAI2YAMDY2hrFxi/4Y/l9psV/JxMRErF+/Hs7OztiyZYvGB6W0\ntBTl5eXw8PDQihl49AF/8oP1pNWrVyMlJQUAMGbMGPXjc+bMwdy5cwEAFRUViI2NRVpaGm7evAlz\nc3MMHDgQ8+bN09j6V1dXY+fOnTh69Chu3ryJVq1awdbWFoMHD8aiRYugUCjUr5GSkqJ+XQA4c+aM\n3nWsr6/Hvn37cPDgQSgUChgYGMDGxgb9+vVDaGioOpSgoCDcuHEDBw4c0Jg/LS0N//jHP3D16lVY\nW1tjzJgx6NOnDxYsWICVK1di9OjRAICDBw9izZo1iIiIwKVLl5CUlITi4mJ06dIFgYGB8Pf311hu\nQEAAunTpgsjISI33BgAeHh4AgP79+yMyMhJRUVGIjo5GcnIyunbtqp6uoqICu3btQnp6OhQKBUxN\nTdG9e3dMnDgRo0aNAgAUFhZi3759OHv2LG7evIm6ujo4ODhg/PjxGDt2rMY6qV4nISEBKSkpOHz4\nMEpKStC9e3fMnz8ff/zjH7W+vmlpaYiLi0NeXh5qamo0vmeqH5JKpRJJSUlITk5GQUEBDA0N4ezs\njNmzZ8Pd3V3v9+5FaZFBx8bGIiIiAu7u7ti4cSPMzMw0nrexsYGZmRlyc3NRWFiI7t27N/k1xo0b\nh8rKSmRkZGDx4sWwsrICAPTs2RPAow/crFmzcPPmTYwePRo9evTAnTt3kJiYiMDAQOzatQtdunQB\nAKxfvx4HDhyAn58fpk6ditraWly/fh3Z2dkAAGtra4SFhWHVqlVwc3PT+jDqExMTg8jISHh5eWHc\nuHEwMjJCUVERMjMz8fDhwwa3fMeOHcPnn38Oe3t7zJ49G8bGxjh06BAyMzP1zhMREYHq6mqMGzcO\nrVq1QlJSEsLCwtCtWzf07dtX5zyq9/avf/0Lubm5CAsLA/Doe6RPeXk5Zs+ejfz8fAwfPhzjx49H\nfX09Ll++jMzMTHXQOTk5yM3NhZeXF7p27Yr79+/jxIkTWLduHUpKShAYGKi17LCwMBgbG6u/D3v3\n7sWSJUuQlJSk8QMlIiICsbGxcHBwwJQpU2BjY4OioiKkpaUhKChIHfTKlStx7NgxDBs2DKNHj8bD\nhw+RmpqKBQsW4Msvv8S7776r932+CC0u6KSkJBQVFcHb2xvr1q3T+eudgYEB5syZgy1btmDSpElw\ncnKCq6srevfuDQ8PD3To0KHR1+nTpw969uyJjIwMeHt7a3yzAWDbtm1QKBSIiYnB22+/rX7c398f\nkydPRmRkJFavXg0AyMjIgKenp/r/n2RqagpfX1+sWrUKXbt2ha+v71N9LTIyMuDg4IBNmzZpPL5w\n4cIG56utrcXmzZthbW2NHTt2oF27dgCA8ePHY/LkyXrne/jwIXbu3Kn+MA8fPhxjx45FfHy83qBV\n7+306dPIzc19qve2detW5OfnIzQ0FOPGjdN4rr6+Xv1vX19fjB8/XuP5KVOmYN68edi5cyemT5+u\n9UPNysoKmzZtUu/jDxgwADNnzsQ///lPLFiwAABw4cIFxMbGwt3dHZs3b4aJiYl6ftU0AJCeno7U\n1FSt9Zw0aRJmzZqFTZs2YejQoVrHE16kFnOUW+X27dsAADs7uwYPpEybNg0bN27EoEGDUFBQgLi4\nOKxcuRL+/v5Yu3YtHjx48MzroFQqkZqaCjc3N3Tq1AmlpaXq/0xNTeHi4qI+CAQAFhYWyM/Px6+/\n/vrMr6mLhYUFiouL8fPPPzdpvkuXLuHWrVvw9/dXxwwAZmZmWoE87oMPPtDYH+/UqRPeeOMNXL9+\nvekrr0d9fT2+++47ODg4aMUMAIaGv39kTU1N1f+urq5GaWkpysrK8Ic//AGVlZUoLCzUmn/SpEka\ngfXu3RtmZmYa7+HIkSMAgPnz52vEDDzaWKjmP3LkCMzNzeHt7a3xGaioqICXlxcUCgWuXbv2bF+I\nZ9TittAffvghzp49i2+++QZKpRKLFy/WO+3QoUMxdOhQ1NXVoaCgAKdPn0ZcXBwOHDgAIyMjLF++\n/JnWoaSkBPfu3cOpU6cwcuRIndM8/sELDg7GqlWrMHnyZNjZ2cHd3R1eXl7w8vLSmK6pPv74Y3z6\n6aeYM2cOOnbsiP79+2PIkCEYPnx4gwfCVOd833zzTa3ndD2mYmdnp/WYpaUlfvvtt2dYe91UUQ4e\nPLjRaauqqhAVFYXjx4/j5s2bWs+XlZVpPabvPdy7d0/9/9evX4eBgYF690qfwsJCVFZW4r333tM7\nzd27dxv8mja3Fhd0mzZt8Pe//x3BwcH49ttvoVQqERwc3OA8RkZGcHR0hKOjI3x9ffH+++8jJSUF\ny5Ytg5GRUZPXQXUKaODAgZgxY0aj07/77rtITk5GVlYWzp49izNnziA5ORlubm7YunXrMx+F7tOn\nD/bv349Tp04hOzsb2dnZOHr0KGJiYhAdHd3ogb+m0ve1epmnxB73+eef48cff8T7778PNzc3WFpa\nwtDQECdPnlR/Np6k7wfok9M+viXWR6lUwtraGmvXrtU7zVtvvfUU76T5tLiggUdRb9q0CSEhIdi7\ndy+USiVCQkKeal4rKyvY29vj0qVLKC0tbfDgjL5vqLW1Ndq2bYvKykoMGjToqV7X0tISvr6+8PX1\nhVKpRHh4OHbt2oXvv/8eI0aMeKpl6GJmZoZhw4Zh2LBhAB5djaU6CDd9+nSd86gO1l29elXrOV2P\nvUxWVlZo164d8vLyGpyuvLwcP/74I3x9fREaGqrx3OnTp59rHd544w2cPHkSV65cQe/evfVO161b\nN1y7dg2urq5aB2ZflRa3D63Spk0b9T7yvn37sGHDBvVzDx48QE5Ojs75rl27hoKCAlhZWTV6pZJq\nH+3JX90MDQ3h4+ODCxcu4MSJEzrnvXv3LgCgrq5O60ozAwMDODk5aS3bzMxM56+J+pSWlmo99s47\n7wCAxq+QT+rVqxc6dOiAQ4cOabxeVVUVkpKSnvr1XwRDQ0OMGjUKBQUFSE5O1npetSVVbWmf3LLe\nvn1b53xN4ePjA+DRwbmamhq96+Dn54f6+nps3bpV53JU595fpha5hVZRRb1kyRLExcVBqVTi008/\nxYMHD/DRRx/hrbfewuDBg9GtWzcAj/Z5Dh8+jOrqaixdurTR/VdXV1cAwFdffQUfHx+YmJigR48e\ncHR0xMcff4x///vfCA0NxYgRI+Di4oJWrVrht99+Q1ZWFt555x2sXr0aVVVV+POf/wwvLy84OTmh\nffv2KCoqQlJSEtq1awcvLy/167m4uOD06dPYuXMnOnfuDAMDA/UpGl0mTJgAFxcXuLi4oGPHjrh9\n+zb279+PVq1aNTifsbExFi1ahBUrVmDmzJkICAiAkZERDh06BEtLS/U57Vdl3rx5yM7OxhdffIFT\np06hX79+UCqVuHz5Murq6rBmzRqYm5tj0KBBOHLkCExMTODs7IwbN25g//796Nq1a4M/0BrTu3dv\nzJgxA7t27cK0adMwcuRI2NjYQKFQIC0tDTt27EDbtm0xfPhwjB49GvHx8bh06RKGDBkCKysrFBcX\n4/z587h+/fpz/3BpqhYdNACYmJhgw4YNWLJkCeLj41FfX4+QkBCsWLECP/30E3744QfcuXMH1dXV\nsLa2hpubG/7yl7881Un/vn37YuHChUhKSsK6detQV1eHOXPmwNHRERYWFti+fTv27NmD48eP44cf\nfoCRkRE6deqEvn37qs8lt2nTBpMmTcKZM2dw5swZVFVVoUOHDhg6dChmzpypvroNAJYtW4b169cj\nNjYWlZWVANBgmFOnTsXJkycRFxeHiooKWFtbw9XVFTNnztQ4laaLj48PjI2NsX37dkRFRaF9+/YY\nM2YMHB0dsXTpUq2juy9Tu3btEBMTg9jYWKSnpyMjIwPm5uZwcHDAxIkT1dOtXbsW4eHhyMzMREpK\nCrp164Z58+bB2NgYa9asea51WLhwId5++23Ex8dj9+7dqK+vh62tLTw9PdGmTRv1dCtXroS7uzv2\n79+PnTt3oqamBjY2NnBycsL8+fOfax2ehQEHCaTH7dmzB1u2bEFMTIz6NxRqOVrsPjQ9n5qaGtTV\n1Wk8VlVVhYSEBFhaWqr3xallafG/ctOzKSoqwqJFizBy5Eh07doVd+7cwaFDh6BQKPDZZ5+99Bs6\nqHkw6NeUlZUVXFxckJqaipKSEvW5+gULFui9WIb+/3EfmkgQ7kMTCcKgiQRh0I85ePAgPDw89F5l\n9qp5eHjovQXzeTR1oL4XtR70/F7Lg2KXL1/G999/D39/f637nOnVyMrKwvbt23HlyhW0bt0aHh4e\nWLhwoc67o553GRcuXMCRI0dw8eJFXLlyBffv39cYoaUley230Hl5eYiOjsaNGzde9aoQHg31s3jx\nYlRXV+OTTz7BtGnTkJubi9mzZ+PWrVvNvoysrCwkJCSgvLy80VskW5rXcgv9IlVWVsLc3PxVr0aL\nUVtbiw0bNsDW1hbR0dHqu5Y8PT0xY8YMREVF4a9//WuzLmP8+PGYPn06TE1NceLECZw7d+7FvcGX\n7LULWjVYHAB89NFH6sf9/PwwYMAAAI9Gzdi9e3ejg+F5eHjAz88Pvr6+iIqKQl5eHnr16oXIyEgA\nzTeI4JPOnTuH8PBwXLx4ESYmJvD29kZwcLDWLXxXrlxBVFQUcnNzcf/+fdjZ2cHf3x9Tp059qvvA\n//Of/2Dz5s34+eef0bp1awwePLjRe8+bKicnB7du3UJQUJDG+js5OaF///747rvvsGzZsgbHR2vq\nMhq6Zbale+2C/tOf/qS+KykwMFA9gKC9vb36XuCmDIZ38eJFpKenY+zYsfDz81M/3pyDCD4uLy8P\nwcHB8Pf3h4+PD3JycpCcnAwDAwONrdAvv/yCoKAgGBsbY8KECbCxsUFmZia++uor5OXl4Ysvvmjw\n61RUVIS5c+fi4cOHmDhxImxtbZGZmYlPPvlE5/RlZWUa4301xMzMTD181C+//AIAOq8bd3V1RXZ2\nNq5evdrgQAHNsQwpXruge/bsCVdXV+zfvx+DBg1Sb5WB32/ub8pgePn5+QgPD9ca6KA5BxF83K+/\n/oqYmBi4uLgA+H100oMHD2Lx4sXqLdTGjRtRU1ODmJgY9X7ixIkTsXz5chw9ehQBAQEYOHCg3tf5\n+uuvUVZWhq+//lp9Z9qECROwdOlSXL58WWv6adOmPfUxiccPQKnGiOvUqZPWdKo70W7dutVgjM2x\nDCleu6CfRlMGw+vZs6dWzLoGEVRpbBBBR0fHBtfN1dVVHbOKu7s7srKyoFAo4OjoiLt37+LcuXPw\n9vbWOOhjYGCAwMBAHD9+HBkZGXqDrq+vR2ZmJnr16qVxm6mBgQGmT5+u88/1NGXgxcfDUs2j69px\n1S2cjS23OZYhBYPWoSmD4ekaAO5FDiKob92A30cpUZ1P7tGjh9a0Dg4OMDQ0RFFRkc71Ah6NtlJV\nVaVzPHNdywSgdxjfxqjuLdY1Mkh1dbXGNC9yGVIwaB2aMhieroEAXuQggs8zSuiLVFJSonU7pj4W\nFhbqwFRjpBcXF8PBwUFjOtXppscHgdClOZYhxWsZ9IseXudVDyKoulgmPz9f67nCwkLU19c3eMGG\ntbU1zMzMdI5rrWuZwKPhlZ9lH9rZ2RkAcP78ea2v1fnz52Fubt7oMLjNsQwpXsugVQeOnmfcqYao\nBhFMSEjAiRMnMHz4cK1p7t69i/bt26Ourg5VVVUaf91S3yCCT6t9+/bo06cPMjMzNfbLlUolduzY\nAQAN/oVLIyMjDBkyBMeOHUN2drZ6P1qpVOr8c77As+9DDxgwAB06dEBycjKmTJmi/t7k5eXh7Nmz\nGD16tMYpq9u3b6OiogKdO3dWb+WbugzJXo93+QRnZ2cYGhoiNjYW5eXlMDU1bfZLQF/EIIJNERIS\ngqCgIMydO1fjtNWpU6fw3nvvNXiEG3g0UN/JkyexePFijdNWJSUlOqd/1n1oY2NjhISEYPny5Zgz\nZw7Gjh2LyspK7N27F1ZWVuo/DKgSHh6OlJQUbNu2TX2GoqnLuHHjBg4fPgzg9984MjMzUVxcDODR\nn9hRnVJsaV7LoDt37owVK1Zg165d+Nvf/oba2lqNC0uaw4sYRLApnJ2d1QMAJiYmqi8sWbhwIaZO\nndro/Pb29oiOjsbmzZsRHx+vvrAkLCyswb8U8SxGjBgBExMTxMTEYMuWLRrXYes6FfW8y1AoFNi2\nbZvGY+np6UhPTwcA9OvXr8UGzQEOiAT5/zxkSkTPhEETCcKgiQRh0ESCMGgiQZr9tFW7du2ae5FE\n9AR9FxxxC00kCIMmEoRBEwnCoIkEYdBEgjBoIkEYNJEgDJpIEAZNJAiDJhKEQRMJwqCJBGHQRIIw\naCJBGDSRIAyaSBAGTSQIgyYShEETCcKgiQRh0ESCMGgiQRg0kSAMmkgQBk0kCIMmEoRBEwnCoIkE\nYdBEgjBoIkEYNJEgDJpIEAZNJAiDJhKEQRMJwqCJBGHQRIIwaCJBGDSRIAyaSBAGTSQIgyYShEET\nCcKgiQRh0ESCMGgiQRg0kSAMmkgQBk0kCIMmEoRBEwnCoIkEYdBEgjBoIkEYNJEgDJpIEAZNJAiD\nJhKEQRMJwqCJBGHQRIIwaCJBGDSRIAyaSBAGTSQIgyYShEETCcKgiQRh0ESCMGgiQRg0kSAMmkgQ\nBk0kCIMmEoRBEwnCoIkEYdBEgjBoIkEYNJEgDJpIEAZNJAiDJhKEQRMJwqCJBGHQRIIwaCJBGDSR\nIAyaSBAGTSQIgyYShEETCcKgiQRh0ESCMGgiQRg0kSAMmkgQBk0kCIMmEoRBEwnCoIkEYdBEgjBo\nIkEYNJEgDJpIEAZNJAiDJhKEQRMJwqCJBGHQRIIwaCJBGDSRIAyaSBAGTSQIgyYShEETCcKgiQRh\n0ESCMGgiQRg0kSAMmkgQBk0kCIMmEoRBEwnCoIkEYdBEgjBoIkEYNJEgDJpIEAZNJAiDJhKEQRMJ\nwqCJBGHQRIIwaCJBGDSRIAyaSBAGTSQIgyYShEETCcKgiQRh0ESCMGgiQRg0kSAMmkgQBk0kCIMm\nEoRBEwnCoIkEYdBEgjBoIkEYNJEgDJpIEAZNJAiDJhKEQRMJwqCJBGHQRIIwaCJBGDSRIAyaSBAG\nTSQIgyYShEETCcKgiQRh0ESCMGgiQRg0kSAMmkgQBk0kCIMmEoRBEwnCoIkEYdBEgjBoIkEYNJEg\nDJpIEAZNJAiDJhKEQRMJwqCJBGHQRIIwaCJBGDSRIAyaSBAGTSQIgyYShEETCcKgiQRh0ESCMGgi\nQRg0kSAMmkgQBk0kCIMmEoRBEwnCoIkEYdBEgjBoIkEYNJEgDJpIEAZNJAiDJhKEQRMJwqCJBGHQ\nRIIwaCJBGDSRIAyaSBAGTSQIgyYShEETCcKgiQRh0ESCMGgiQRg0kSAMmkgQ4+ZeYFlZWXMvkoie\nErfQRIIwaCJBGDSRIAyaSBAGTSQIgyYShEETCcKgiQRh0ESCMGgiQRg0kSAMmkgQBk0kCIMmEoRB\nEwnCoIkEYdBEgjBoIkEYNJEgDJpIEAZNJAiDJhKEQRMJwqCJBGHQRIL8D47jrtFSXdKHAAAAAElF\nTkSuQmCC\n",
            "text/plain": [
              "<Figure size 432x288 with 1 Axes>"
            ]
          },
          "metadata": {
            "tags": []
          }
        },
        {
          "output_type": "display_data",
          "data": {
            "image/png": "iVBORw0KGgoAAAANSUhEUgAAAPQAAAEjCAYAAAAFYyzdAAAABHNCSVQICAgIfAhkiAAAAAlwSFlz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\nkSAMmkgQBk0kCIMmEoRBEwnCoIkE+T+bczdVWXEqhQAAAABJRU5ErkJggg==\n",
=======
            "image/png": "iVBORw0KGgoAAAANSUhEUgAAAXgAAAD+CAYAAAAwAx7XAAAABHNCSVQICAgIfAhkiAAAAAlwSFlz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\nrYC6p3NBEzgAAAAASUVORK5CYII=\n",
>>>>>>> dfc3095670ba2e42b209b2a9afab0fb30280b0f1
            "text/plain": [
              "<Figure size 432x288 with 1 Axes>"
            ]
          },
          "metadata": {
            "tags": []
          }
        }
      ]
    },
    {
<<<<<<< HEAD
      "cell_type": "markdown",
      "metadata": {
        "id": "ITFddSHCyaOS",
        "colab_type": "text"
      },
      "source": [
        "I did not need to change my significance threshold $\\alpha$ in order to see some significance. This is most likely because the KS test is ill-suited for such large datasets. I've found some literature on issues with the KS test in general as well.\n",
        "\n",
        "Note that both the tests that gave significant results were found when comparing the largest dataset to another. With so many points to compare, there may be an increase in the probability of finding statistically significant results that the test does not account for."
      ]
=======
      "cell_type": "code",
      "metadata": {
        "id": "yJmzYFBVJRn4",
        "colab_type": "code",
        "colab": {}
      },
      "source": [
        ""
      ],
      "execution_count": 0,
      "outputs": []
>>>>>>> dfc3095670ba2e42b209b2a9afab0fb30280b0f1
    }
  ]
}