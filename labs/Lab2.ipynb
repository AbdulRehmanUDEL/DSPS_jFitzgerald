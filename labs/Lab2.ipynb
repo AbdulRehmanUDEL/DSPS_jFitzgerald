{
  "nbformat": 4,
  "nbformat_minor": 0,
  "metadata": {
    "colab": {
      "name": "Lab2.ipynb",
      "provenance": [],
      "collapsed_sections": [],
      "include_colab_link": true
    },
    "kernelspec": {
      "name": "python3",
      "display_name": "Python 3"
    }
  },
  "cells": [
    {
      "cell_type": "markdown",
      "metadata": {
        "id": "view-in-github",
        "colab_type": "text"
      },
      "source": [
        "<a href=\"https://colab.research.google.com/github/sheamusfitz/DSPS_jFitzgerald/blob/master/labs/Lab2.ipynb\" target=\"_parent\"><img src=\"https://colab.research.google.com/assets/colab-badge.svg\" alt=\"Open In Colab\"/></a>"
      ]
    },
    {
      "cell_type": "code",
      "metadata": {
        "id": "OH34_V0c22E1",
        "colab_type": "code",
        "outputId": "59eccbb3-2654-46a4-94c0-b24695a250bc",
        "colab": {
          "base_uri": "https://localhost:8080/",
          "height": 129
        }
      },
      "source": [
        "from google.colab import drive\n",
        "drive.mount(\"/content/drive\")"
      ],
      "execution_count": 0,
      "outputs": [
        {
          "output_type": "stream",
          "text": [
            "Go to this URL in a browser: https://accounts.google.com/o/oauth2/auth?client_id=947318989803-6bn6qk8qdgf4n4g3pfee6491hc0brc4i.apps.googleusercontent.com&redirect_uri=urn%3Aietf%3Awg%3Aoauth%3A2.0%3Aoob&scope=email%20https%3A%2F%2Fwww.googleapis.com%2Fauth%2Fdocs.test%20https%3A%2F%2Fwww.googleapis.com%2Fauth%2Fdrive%20https%3A%2F%2Fwww.googleapis.com%2Fauth%2Fdrive.photos.readonly%20https%3A%2F%2Fwww.googleapis.com%2Fauth%2Fpeopleapi.readonly&response_type=code\n",
            "\n",
            "Enter your authorization code:\n",
            "··········\n",
            "Mounted at /content/drive\n"
          ],
          "name": "stdout"
        }
      ]
    },
    {
      "cell_type": "code",
      "metadata": {
        "id": "TglWOaya3j8f",
        "colab_type": "code",
        "outputId": "933e8d87-8971-45e9-faed-689b02d6dc2b",
        "colab": {
          "base_uri": "https://localhost:8080/",
          "height": 35
        }
      },
      "source": [
        "ls"
      ],
      "execution_count": 0,
      "outputs": [
        {
          "output_type": "stream",
          "text": [
            "\u001b[0m\u001b[01;34mdrive\u001b[0m/  \u001b[01;34msample_data\u001b[0m/\n"
          ],
          "name": "stdout"
        }
      ]
    },
    {
      "cell_type": "code",
      "metadata": {
        "id": "OSSA9YWv3tKP",
        "colab_type": "code",
        "outputId": "b811cafc-427f-458f-c130-5dcefc1adea5",
        "colab": {
          "base_uri": "https://localhost:8080/",
          "height": 35
        }
      },
      "source": [
        "ls drive"
      ],
      "execution_count": 0,
      "outputs": [
        {
          "output_type": "stream",
          "text": [
            "\u001b[0m\u001b[01;34m'My Drive'\u001b[0m/\n"
          ],
          "name": "stdout"
        }
      ]
    },
    {
      "cell_type": "code",
      "metadata": {
        "id": "4gyfD_To3wf9",
        "colab_type": "code",
        "outputId": "9ce8df7f-e0bc-4435-f64c-38c3115ecc32",
        "colab": {
          "base_uri": "https://localhost:8080/",
          "height": 752
        }
      },
      "source": [
        "ls drive/'My Drive'"
      ],
      "execution_count": 0,
      "outputs": [
        {
          "output_type": "stream",
          "text": [
            "\u001b[0m\u001b[01;34m'160210 Fitzgerald'\u001b[0m/                         Scanned_20180903-1206.pdf\n",
            " \u001b[01;34m667\u001b[0m/                                       'Scanned_20180903-1207 (1).pdf'\n",
            " Attire_Policies_2.gdoc                      Scanned_20180903-1207.pdf\n",
            " Attire_Policies_2.pdf                       Scanned_20180910-2117.pdf\n",
            "'candidacy 8 18.pdf'                         Scanned_20180910-2118.pdf\n",
            "'cm 10 1 1.pdf'                              Scanned_20180910-2120.pdf\n",
            "'cm 10 3.pdf'                                Scanned_20180910-2121.pdf\n",
            "'cm 10 9.pdf'                                Scanned_20180919-1036.pdf\n",
            " cm81b.pdf                                   Scanned_20180919-1758.pdf\n",
            "'cm 8 3b.pdf'                                Scanned_20180921-2228.pdf\n",
            "'cm 8 4a.pdf'                                Scanned_20181028-1634.pdf\n",
            "'cm 8 4b.pdf'                                Scanned_20181112-1623.pdf\n",
            " cm9-2.pdf                                   Scanned_20181112-1808.pdf\n",
            "'cm9 3abc.pdf'                               Scanned_20181112-1853.pdf\n",
            "'cm9 4.pdf'                                  Scanned_20181112-1920.pdf\n",
            "\u001b[01;34m'Colab Notebooks'\u001b[0m/                           Scanned_20181112-1951.pdf\n",
            " \u001b[01;34mConL,W\u001b[0m/                                     Scanned_20181112-2045.pdf\n",
            "\u001b[01;34m'D&D'\u001b[0m/                                       Scanned_20181113-1915.pdf\n",
            "'em 3 3b.pdf'                                Scanned_20181114-1747.pdf\n",
            "\u001b[01;34m'Fantasy Football'\u001b[0m/                         'Scanned_20181123-2001 (1).pdf'\n",
            "'fci calc.pdf'                               Scanned_20181123-2001.pdf\n",
            " \u001b[01;34mGames\u001b[0m/                                      Scanned_20190201-1614.pdf\n",
            "\u001b[01;34m'Grad School Apps'\u001b[0m/                          Scanned_20190218-1508.pdf\n",
            "'health record disclosure.pdf'               Scanned_20190306-1313.pdf\n",
            " IMG_20180705_095252.jpg                     Scanned_20190319-1711.pdf\n",
            " Newark-Bike-Map-January-25-2018.pdf         Scanned_20190421-2040.pdf\n",
            " p660pr1pt2.pdf                              Scanned_20190422-2103.pdf\n",
            " \u001b[01;34mPersonal\u001b[0m/                                   Scanned_20190518-1535.pdf\n",
            " PodcastAddict_export_20180826_102455.opml   Scanned_20190606-1603.pdf\n",
            " Project4_Fitzgerald.pdf                     SiobhanMagicItem1.pdf\n",
            "'qft f 6.pdf'                                SiobhanMagicItem2.pdf\n",
            " qm_2_3_abc.pdf                              \u001b[01;34mTemple\u001b[0m/\n",
            " Scanned_20180412-1146.pdf                  'thermo 7 4 b.pdf'\n",
            " Scanned_20180412-1847.pdf                  'thermo 74.pdf'\n",
            " Scanned_20180414-1442.pdf                   \u001b[01;34mtransit\u001b[0m/\n",
            " Scanned_20180415-1052.pdf                   Untitled\n",
            " Scanned_20180415-2021.pdf                  'Untitled drawing.gdraw'\n",
            " Scanned_20180825-2007.pdf                  'Untitled Jam'\n",
            " Scanned_20180825-2009.pdf                  'Untitled presentation.gslides'\n",
            " Scanned_20180903-1205.pdf                  'Welcome to Coda'\n"
          ],
          "name": "stdout"
        }
      ]
    },
    {
      "cell_type": "code",
      "metadata": {
        "id": "O6n4Zi_T3y-7",
        "colab_type": "code",
        "outputId": "69b21a19-a871-4100-f117-c9749089ebf9",
        "colab": {
          "base_uri": "https://localhost:8080/",
          "height": 752
        }
      },
      "source": [
        "ls \"drive/My Drive\""
      ],
      "execution_count": 0,
      "outputs": [
        {
          "output_type": "stream",
          "text": [
            "\u001b[0m\u001b[01;34m'160210 Fitzgerald'\u001b[0m/                         Scanned_20180903-1206.pdf\n",
            " \u001b[01;34m667\u001b[0m/                                       'Scanned_20180903-1207 (1).pdf'\n",
            " Attire_Policies_2.gdoc                      Scanned_20180903-1207.pdf\n",
            " Attire_Policies_2.pdf                       Scanned_20180910-2117.pdf\n",
            "'candidacy 8 18.pdf'                         Scanned_20180910-2118.pdf\n",
            "'cm 10 1 1.pdf'                              Scanned_20180910-2120.pdf\n",
            "'cm 10 3.pdf'                                Scanned_20180910-2121.pdf\n",
            "'cm 10 9.pdf'                                Scanned_20180919-1036.pdf\n",
            " cm81b.pdf                                   Scanned_20180919-1758.pdf\n",
            "'cm 8 3b.pdf'                                Scanned_20180921-2228.pdf\n",
            "'cm 8 4a.pdf'                                Scanned_20181028-1634.pdf\n",
            "'cm 8 4b.pdf'                                Scanned_20181112-1623.pdf\n",
            " cm9-2.pdf                                   Scanned_20181112-1808.pdf\n",
            "'cm9 3abc.pdf'                               Scanned_20181112-1853.pdf\n",
            "'cm9 4.pdf'                                  Scanned_20181112-1920.pdf\n",
            "\u001b[01;34m'Colab Notebooks'\u001b[0m/                           Scanned_20181112-1951.pdf\n",
            " \u001b[01;34mConL,W\u001b[0m/                                     Scanned_20181112-2045.pdf\n",
            "\u001b[01;34m'D&D'\u001b[0m/                                       Scanned_20181113-1915.pdf\n",
            "'em 3 3b.pdf'                                Scanned_20181114-1747.pdf\n",
            "\u001b[01;34m'Fantasy Football'\u001b[0m/                         'Scanned_20181123-2001 (1).pdf'\n",
            "'fci calc.pdf'                               Scanned_20181123-2001.pdf\n",
            " \u001b[01;34mGames\u001b[0m/                                      Scanned_20190201-1614.pdf\n",
            "\u001b[01;34m'Grad School Apps'\u001b[0m/                          Scanned_20190218-1508.pdf\n",
            "'health record disclosure.pdf'               Scanned_20190306-1313.pdf\n",
            " IMG_20180705_095252.jpg                     Scanned_20190319-1711.pdf\n",
            " Newark-Bike-Map-January-25-2018.pdf         Scanned_20190421-2040.pdf\n",
            " p660pr1pt2.pdf                              Scanned_20190422-2103.pdf\n",
            " \u001b[01;34mPersonal\u001b[0m/                                   Scanned_20190518-1535.pdf\n",
            " PodcastAddict_export_20180826_102455.opml   Scanned_20190606-1603.pdf\n",
            " Project4_Fitzgerald.pdf                     SiobhanMagicItem1.pdf\n",
            "'qft f 6.pdf'                                SiobhanMagicItem2.pdf\n",
            " qm_2_3_abc.pdf                              \u001b[01;34mTemple\u001b[0m/\n",
            " Scanned_20180412-1146.pdf                  'thermo 7 4 b.pdf'\n",
            " Scanned_20180412-1847.pdf                  'thermo 74.pdf'\n",
            " Scanned_20180414-1442.pdf                   \u001b[01;34mtransit\u001b[0m/\n",
            " Scanned_20180415-1052.pdf                   Untitled\n",
            " Scanned_20180415-2021.pdf                  'Untitled drawing.gdraw'\n",
            " Scanned_20180825-2007.pdf                  'Untitled Jam'\n",
            " Scanned_20180825-2009.pdf                  'Untitled presentation.gslides'\n",
            " Scanned_20180903-1205.pdf                  'Welcome to Coda'\n"
          ],
          "name": "stdout"
        }
      ]
    },
    {
      "cell_type": "code",
      "metadata": {
        "id": "vsvyLaA44h0v",
        "colab_type": "code",
        "outputId": "df33e93e-88c6-4bae-d2c0-2e87f126eeac",
        "colab": {
          "base_uri": "https://localhost:8080/",
          "height": 35
        }
      },
      "source": [
        "mkdir 667/test_dir"
      ],
      "execution_count": 0,
      "outputs": [
        {
          "output_type": "stream",
          "text": [
            "mkdir: cannot create directory ‘667/test_dir’: No such file or directory\n"
          ],
          "name": "stdout"
        }
      ]
    },
    {
      "cell_type": "code",
      "metadata": {
        "id": "8twdvQiW5GXd",
        "colab_type": "code",
        "colab": {}
      },
      "source": [
        "mkdir drive/'My Drive'/667/test_dir"
      ],
      "execution_count": 0,
      "outputs": []
    },
    {
      "cell_type": "code",
      "metadata": {
        "id": "feHN-yWa5Q6q",
        "colab_type": "code",
        "colab": {}
      },
      "source": [
        "cp drive/'My Drive'/Scanned_20180825-2007.pdf drive/'My Drive'/667/test_dir"
      ],
      "execution_count": 0,
      "outputs": []
    },
    {
      "cell_type": "code",
      "metadata": {
        "id": "eQO0W2I-5YUZ",
        "colab_type": "code",
        "colab": {}
      },
      "source": [
        "# We're out of time and I had to leave and he was going way too fast.\n",
        "#I will literally go to the head of the department if I lose points for not\n",
        "# having time to be in class after class."
      ],
      "execution_count": 0,
      "outputs": []
    }
  ]
}