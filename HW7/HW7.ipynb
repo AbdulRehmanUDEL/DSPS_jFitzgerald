{
  "nbformat": 4,
  "nbformat_minor": 0,
  "metadata": {
    "kernelspec": {
      "display_name": "Python 3",
      "language": "python",
      "name": "python3"
    },
    "language_info": {
      "codemirror_mode": {
        "name": "ipython",
        "version": 3
      },
      "file_extension": ".py",
      "mimetype": "text/x-python",
      "name": "python",
      "nbconvert_exporter": "python",
      "pygments_lexer": "ipython3",
      "version": "3.7.4"
    },
    "colab": {
      "name": "shea_HW7.ipynb",
      "provenance": [],
      "collapsed_sections": [],
      "include_colab_link": true
    }
  },
  "cells": [
    {
      "cell_type": "markdown",
      "metadata": {
        "id": "view-in-github",
        "colab_type": "text"
      },
      "source": [
        "<a href=\"https://colab.research.google.com/github/sheamusfitz/DSPS_jFitzgerald/blob/master/HW7/HW7.ipynb\" target=\"_parent\"><img src=\"https://colab.research.google.com/assets/colab-badge.svg\" alt=\"Open In Colab\"/></a>"
      ]
    },
    {
      "cell_type": "markdown",
      "metadata": {
        "id": "j7QccpFtSig3",
        "colab_type": "text"
      },
      "source": [
        "# HW7\n",
        "## Responses by Shea Fitzgerald\n",
        "## Part 1\n",
        "\n",
        "### 1: Obtaining Data"
      ]
    },
    {
      "cell_type": "code",
      "metadata": {
        "id": "7kwod9vPZLbC",
        "colab_type": "code",
        "outputId": "e1369e36-efe0-4d35-e53c-00edad523521",
        "colab": {
          "base_uri": "https://localhost:8080/",
          "height": 129
        }
      },
      "source": [
        "from google.colab import drive\n",
        "drive.mount(\"/content/drive\")"
      ],
      "execution_count": 1,
      "outputs": [
        {
          "output_type": "stream",
          "text": [
            "Go to this URL in a browser: https://accounts.google.com/o/oauth2/auth?client_id=947318989803-6bn6qk8qdgf4n4g3pfee6491hc0brc4i.apps.googleusercontent.com&redirect_uri=urn%3Aietf%3Awg%3Aoauth%3A2.0%3Aoob&scope=email%20https%3A%2F%2Fwww.googleapis.com%2Fauth%2Fdocs.test%20https%3A%2F%2Fwww.googleapis.com%2Fauth%2Fdrive%20https%3A%2F%2Fwww.googleapis.com%2Fauth%2Fdrive.photos.readonly%20https%3A%2F%2Fwww.googleapis.com%2Fauth%2Fpeopleapi.readonly&response_type=code\n",
            "\n",
            "Enter your authorization code:\n",
            "··········\n",
            "Mounted at /content/drive\n"
          ],
          "name": "stdout"
        }
      ]
    },
    {
      "cell_type": "code",
      "metadata": {
        "id": "1uksxmFboFcW",
        "colab_type": "code",
        "colab": {
          "base_uri": "https://localhost:8080/",
          "height": 147
        },
        "outputId": "898d92db-c124-42e7-9364-2b94728c9071"
      },
      "source": [
        "!pip install emcee"
      ],
      "execution_count": 106,
      "outputs": [
        {
          "output_type": "stream",
          "text": [
            "Collecting emcee\n",
            "\u001b[?25l  Downloading https://files.pythonhosted.org/packages/00/08/0d86d0af356d50ff00d741c34a90a971e7ae0a0aeb2bd050bcacfdc34229/emcee-3.0.0-py2.py3-none-any.whl (51kB)\n",
            "\u001b[K     |████████████████████████████████| 61kB 2.3MB/s \n",
            "\u001b[?25hRequirement already satisfied: numpy in /usr/local/lib/python3.6/dist-packages (from emcee) (1.16.5)\n",
            "Installing collected packages: emcee\n",
            "Successfully installed emcee-3.0.0\n"
          ],
          "name": "stdout"
        }
      ]
    },
    {
      "cell_type": "code",
      "metadata": {
        "id": "m3CNGnMySihB",
        "colab_type": "code",
        "colab": {}
      },
      "source": [
        "import pandas as pd\n",
        "import scipy as sp\n",
        "from scipy import stats\n",
        "import matplotlib.pyplot as pl\n",
        "import numpy as np\n",
        "import statsmodels.formula.api as smf\n",
        "import emcee"
      ],
      "execution_count": 0,
      "outputs": []
    },
    {
      "cell_type": "code",
      "metadata": {
        "id": "8AR8xFmfaD4t",
        "colab_type": "code",
        "outputId": "752e133e-42ef-4515-aa94-f90f4f691732",
        "colab": {
          "base_uri": "https://localhost:8080/",
          "height": 35
        }
      },
      "source": [
        "!mkdir \"/content/drive/My Drive/dsps/HW7/\""
      ],
      "execution_count": 3,
      "outputs": [
        {
          "output_type": "stream",
          "text": [
            "mkdir: cannot create directory ‘/content/drive/My Drive/dsps/HW7/’: File exists\n"
          ],
          "name": "stdout"
        }
      ]
    },
    {
      "cell_type": "code",
      "metadata": {
        "id": "Kn-4tOJcaiPU",
        "colab_type": "code",
        "outputId": "c89d7631-c395-436b-c148-bd7381fee4e1",
        "colab": {
          "base_uri": "https://localhost:8080/",
          "height": 35
        }
      },
      "source": [
        "cd \"/content/drive/My Drive/dsps/HW7/\""
      ],
      "execution_count": 4,
      "outputs": [
        {
          "output_type": "stream",
          "text": [
            "/content/drive/My Drive/dsps/HW7\n"
          ],
          "name": "stdout"
        }
      ]
    },
    {
      "cell_type": "code",
      "metadata": {
        "id": "Lo7LsBJ1a6ax",
        "colab_type": "code",
        "outputId": "f4017e55-0ca9-4fa2-f507-351a000dcd6c",
        "colab": {
          "base_uri": "https://localhost:8080/",
          "height": 35
        }
      },
      "source": [
        "ls"
      ],
      "execution_count": 5,
      "outputs": [
        {
          "output_type": "stream",
          "text": [
            "fig1g.txt  try3\n"
          ],
          "name": "stdout"
        }
      ]
    },
    {
      "cell_type": "code",
      "metadata": {
        "scrolled": true,
        "id": "xtC0bJpLSihX",
        "colab_type": "code",
        "outputId": "f94531cb-5e60-411b-aedc-fbb8741a4473",
        "colab": {
          "base_uri": "https://localhost:8080/",
          "height": 35
        }
      },
      "source": [
        "!wget -O fig1g.txt 'https://dataverse.harvard.edu/api/access/datafile/:persistentId?persistentId=doi:10.7910/DVN/9QKJU2/WOMIZQ' -nc"
      ],
      "execution_count": 6,
      "outputs": [
        {
          "output_type": "stream",
          "text": [
            "File ‘fig1g.txt’ already there; not retrieving.\n"
          ],
          "name": "stdout"
        }
      ]
    },
    {
      "cell_type": "code",
      "metadata": {
        "id": "eJkeISMASiho",
        "colab_type": "code",
        "outputId": "1341c914-3358-406b-fedc-21b15f0ec1ca",
        "colab": {
          "base_uri": "https://localhost:8080/",
          "height": 201
        }
      },
      "source": [
        "!head fig1g.txt"
      ],
      "execution_count": 7,
      "outputs": [
        {
          "output_type": "stream",
          "text": [
            "0.247\t0\t0.114\t--\t1.998\t-0.6682\t0.236\t--\t\t0\t0\r\n",
            "0.27\t0.264431\t0.291\t--\t3.008\t0\t1.64\t0\t\t1\t1.62918E-4\r\n",
            "0.29\t0.247896\t0.29\t--\t4.013\t1.117\t2.5\t0.2\t\t1.5\t0.00793369\r\n",
            "0.33\t0.232262\t0.33\t--\t5.006\t2.476\t3.999\t1.538\t\t2\t0.0581891\r\n",
            "0.379\t0.23342\t0.38\t--\t6.015\t4.413\t5\t2.866\t\t2.5\t0.198115\r\n",
            "0.43\t0.270713\t0.43\t--\t7.016\t6.788\t6\t4.529\t\t3\t0.457108\r\n",
            "0.48\t0.397126\t0.48\t--\t8.019\t8.708\t7\t6.788\t\t3.5\t0.842057\r\n",
            "0.53\t0.356825\t0.53\t--\t9.003\t11.058\t8\t9.067\t\t4\t1.34564\r\n",
            "0.619\t0.423466\t0.619\t--\t10.022\t14.668\t9\t11.417\t\t4.5\t1.95456\r\n",
            "0.779\t0.54455\t0.779\t--\t15.131\t25.198\t10\t13.677\t\t5\t2.65456\r\n"
          ],
          "name": "stdout"
        }
      ]
    },
    {
      "cell_type": "code",
      "metadata": {
        "scrolled": false,
        "id": "5zf8i4JKSih8",
        "colab_type": "code",
        "outputId": "daafa0d8-972f-42d2-c964-c93882430d8f",
        "colab": {
          "base_uri": "https://localhost:8080/",
          "height": 206
        }
      },
      "source": [
        "nam18 = pd.read_csv(\"fig1g.txt\", sep=\"\\t\", header=None)\n",
        "nam18.head()"
      ],
      "execution_count": 145,
      "outputs": [
        {
          "output_type": "execute_result",
          "data": {
            "text/html": [
              "<div>\n",
              "<style scoped>\n",
              "    .dataframe tbody tr th:only-of-type {\n",
              "        vertical-align: middle;\n",
              "    }\n",
              "\n",
              "    .dataframe tbody tr th {\n",
              "        vertical-align: top;\n",
              "    }\n",
              "\n",
              "    .dataframe thead th {\n",
              "        text-align: right;\n",
              "    }\n",
              "</style>\n",
              "<table border=\"1\" class=\"dataframe\">\n",
              "  <thead>\n",
              "    <tr style=\"text-align: right;\">\n",
              "      <th></th>\n",
              "      <th>0</th>\n",
              "      <th>1</th>\n",
              "      <th>2</th>\n",
              "      <th>3</th>\n",
              "      <th>4</th>\n",
              "      <th>5</th>\n",
              "      <th>6</th>\n",
              "      <th>7</th>\n",
              "      <th>8</th>\n",
              "      <th>9</th>\n",
              "      <th>10</th>\n",
              "    </tr>\n",
              "  </thead>\n",
              "  <tbody>\n",
              "    <tr>\n",
              "      <th>0</th>\n",
              "      <td>0.247</td>\n",
              "      <td>0.000000</td>\n",
              "      <td>0.114</td>\n",
              "      <td>--</td>\n",
              "      <td>1.998</td>\n",
              "      <td>-0.6682</td>\n",
              "      <td>0.236</td>\n",
              "      <td>--</td>\n",
              "      <td>NaN</td>\n",
              "      <td>0.0</td>\n",
              "      <td>0.000000</td>\n",
              "    </tr>\n",
              "    <tr>\n",
              "      <th>1</th>\n",
              "      <td>0.270</td>\n",
              "      <td>0.264431</td>\n",
              "      <td>0.291</td>\n",
              "      <td>--</td>\n",
              "      <td>3.008</td>\n",
              "      <td>0.0000</td>\n",
              "      <td>1.640</td>\n",
              "      <td>0</td>\n",
              "      <td>NaN</td>\n",
              "      <td>1.0</td>\n",
              "      <td>0.000163</td>\n",
              "    </tr>\n",
              "    <tr>\n",
              "      <th>2</th>\n",
              "      <td>0.290</td>\n",
              "      <td>0.247896</td>\n",
              "      <td>0.290</td>\n",
              "      <td>--</td>\n",
              "      <td>4.013</td>\n",
              "      <td>1.1170</td>\n",
              "      <td>2.500</td>\n",
              "      <td>0.2</td>\n",
              "      <td>NaN</td>\n",
              "      <td>1.5</td>\n",
              "      <td>0.007934</td>\n",
              "    </tr>\n",
              "    <tr>\n",
              "      <th>3</th>\n",
              "      <td>0.330</td>\n",
              "      <td>0.232262</td>\n",
              "      <td>0.330</td>\n",
              "      <td>--</td>\n",
              "      <td>5.006</td>\n",
              "      <td>2.4760</td>\n",
              "      <td>3.999</td>\n",
              "      <td>1.538</td>\n",
              "      <td>NaN</td>\n",
              "      <td>2.0</td>\n",
              "      <td>0.058189</td>\n",
              "    </tr>\n",
              "    <tr>\n",
              "      <th>4</th>\n",
              "      <td>0.379</td>\n",
              "      <td>0.233420</td>\n",
              "      <td>0.380</td>\n",
              "      <td>--</td>\n",
              "      <td>6.015</td>\n",
              "      <td>4.4130</td>\n",
              "      <td>5.000</td>\n",
              "      <td>2.866</td>\n",
              "      <td>NaN</td>\n",
              "      <td>2.5</td>\n",
              "      <td>0.198115</td>\n",
              "    </tr>\n",
              "  </tbody>\n",
              "</table>\n",
              "</div>"
            ],
            "text/plain": [
              "      0         1      2   3      4       5      6      7   8    9         10\n",
              "0  0.247  0.000000  0.114  --  1.998 -0.6682  0.236     -- NaN  0.0  0.000000\n",
              "1  0.270  0.264431  0.291  --  3.008  0.0000  1.640      0 NaN  1.0  0.000163\n",
              "2  0.290  0.247896  0.290  --  4.013  1.1170  2.500    0.2 NaN  1.5  0.007934\n",
              "3  0.330  0.232262  0.330  --  5.006  2.4760  3.999  1.538 NaN  2.0  0.058189\n",
              "4  0.379  0.233420  0.380  --  6.015  4.4130  5.000  2.866 NaN  2.5  0.198115"
            ]
          },
          "metadata": {
            "tags": []
          },
          "execution_count": 145
        }
      ]
    },
    {
      "cell_type": "markdown",
      "metadata": {
        "colab_type": "text",
        "id": "vA4p57DVraNX"
      },
      "source": [
        "### 2: Data Wrangling and Visualization"
      ]
    },
    {
      "cell_type": "code",
      "metadata": {
        "id": "vBIwQmzSjgM4",
        "colab_type": "code",
        "colab": {}
      },
      "source": [
        "# nam18wo8 = nam18.drop(8, axis=1)\n",
        "# # nam18wo8\n",
        "# pd.plotting.scatter_matrix(nam18wo8, figsize=(15,10));"
      ],
      "execution_count": 0,
      "outputs": []
    },
    {
      "cell_type": "code",
      "metadata": {
        "id": "-3gyhDhOlDjR",
        "colab_type": "code",
        "outputId": "0e200c0c-c291-45ff-df1f-ea6a63bc397a",
        "colab": {
          "base_uri": "https://localhost:8080/",
          "height": 363
        }
      },
      "source": [
        "nam18 = pd.read_csv(\"fig1g.txt\", sep=\"\\t\", header=None)\n",
        "tstr = r'$T\\ (K)$'\n",
        "nstr = r'$n^*(10^9cm^2)$'\n",
        "nam18 = nam18.drop(labels = range(2,11), axis=1).dropna().rename(\n",
        "    columns = {0:tstr, 1:nstr})\n",
        "nam18.plot(x=0, y=1, kind='scatter')\n",
        "pl.title('Conduction Band Electron Density', fontsize = 16)\n",
        "txt='Figure 1: The density of electrons present in the conduction band for\\n\\\n",
        "various thicknesses of charge-neutral graphene multilayers. No distinction is\\n\\\n",
        "made between the thicknesses of the multilayers in this plot.'\n",
        "pl.figtext(0.5, -0.2, txt, ha='center', fontsize = 12, wrap = True);\n",
        "\n",
        "\n",
        "0;"
      ],
      "execution_count": 203,
      "outputs": [
        {
          "output_type": "display_data",
          "data": {
            "image/png": "[encoded data removed]",
            "text/plain": [
              "<Figure size 432x288 with 1 Axes>"
            ]
          },
          "metadata": {
            "tags": []
          }
        }
      ]
    },
    {
      "cell_type": "code",
      "metadata": {
        "id": "ocPqvXHF_o5J",
        "colab_type": "code",
        "outputId": "6e2c77b4-c733-41cf-a448-091ec94ce741",
        "colab": {
          "base_uri": "https://localhost:8080/",
          "height": 206
        }
      },
      "source": [
        "nam18.head()"
      ],
      "execution_count": 172,
      "outputs": [
        {
          "output_type": "execute_result",
          "data": {
            "text/html": [
              "<div>\n",
              "<style scoped>\n",
              "    .dataframe tbody tr th:only-of-type {\n",
              "        vertical-align: middle;\n",
              "    }\n",
              "\n",
              "    .dataframe tbody tr th {\n",
              "        vertical-align: top;\n",
              "    }\n",
              "\n",
              "    .dataframe thead th {\n",
              "        text-align: right;\n",
              "    }\n",
              "</style>\n",
              "<table border=\"1\" class=\"dataframe\">\n",
              "  <thead>\n",
              "    <tr style=\"text-align: right;\">\n",
              "      <th></th>\n",
              "      <th>$T\\ (K)$</th>\n",
              "      <th>$n^*(10^9cm^2)$</th>\n",
              "    </tr>\n",
              "  </thead>\n",
              "  <tbody>\n",
              "    <tr>\n",
              "      <th>0</th>\n",
              "      <td>0.247</td>\n",
              "      <td>0.000000</td>\n",
              "    </tr>\n",
              "    <tr>\n",
              "      <th>1</th>\n",
              "      <td>0.270</td>\n",
              "      <td>0.264431</td>\n",
              "    </tr>\n",
              "    <tr>\n",
              "      <th>2</th>\n",
              "      <td>0.290</td>\n",
              "      <td>0.247896</td>\n",
              "    </tr>\n",
              "    <tr>\n",
              "      <th>3</th>\n",
              "      <td>0.330</td>\n",
              "      <td>0.232262</td>\n",
              "    </tr>\n",
              "    <tr>\n",
              "      <th>4</th>\n",
              "      <td>0.379</td>\n",
              "      <td>0.233420</td>\n",
              "    </tr>\n",
              "  </tbody>\n",
              "</table>\n",
              "</div>"
            ],
            "text/plain": [
              "   $T\\ (K)$  $n^*(10^9cm^2)$\n",
              "0     0.247         0.000000\n",
              "1     0.270         0.264431\n",
              "2     0.290         0.247896\n",
              "3     0.330         0.232262\n",
              "4     0.379         0.233420"
            ]
          },
          "metadata": {
            "tags": []
          },
          "execution_count": 172
        }
      ]
    },
    {
      "cell_type": "markdown",
      "metadata": {
        "id": "eyyhgmmmqXZb",
        "colab_type": "text"
      },
      "source": [
        "Trying to do `inplace = True` for multiple functions at once causes issues, this works instead."
      ]
    },
    {
      "cell_type": "markdown",
      "metadata": {
        "id": "nA7ATGTKzf-Q",
        "colab_type": "text"
      },
      "source": [
        "### 667"
      ]
    },
    {
      "cell_type": "code",
      "metadata": {
        "id": "dwsesXbqznlh",
        "colab_type": "code",
        "colab": {}
      },
      "source": [
        "def anypol(x, *coeffs):\n",
        "    \"\"\"\n",
        "    given some { x = [x1,x2,x3,x4,x5,...], a, b, c, d ... } anypol returns\n",
        "    a + b x + c x^2 + d x^3 + ... as an array\n",
        "    i.e. it returns the y-values associated with each given x-velue\n",
        "\n",
        "\n",
        "    x is some array or list of values.\n",
        "\n",
        "    a, b, c, d, ... are coefficients of the polynomial in increasing degree\n",
        "    \"\"\"\n",
        "    func = 0\n",
        "    for i in range(len(coeffs)):\n",
        "        func += coeffs[i] * np.power(x, i)\n",
        "    return func"
      ],
      "execution_count": 0,
      "outputs": []
    },
    {
      "cell_type": "code",
      "metadata": {
        "id": "NfGdUg7r2fgt",
        "colab_type": "code",
        "colab": {}
      },
      "source": [
        "lopt, lcov = sp.optimize.curve_fit(anypol, nam18[tstr], nam18[nstr], p0=[1,1])\n",
        "qopt, qcov = sp.optimize.curve_fit(anypol, nam18[tstr], nam18[nstr], p0=[1,1,1])\n",
        "copt, ccov = sp.optimize.curve_fit(anypol, nam18[tstr], nam18[nstr], p0=[1,1,1,1])"
      ],
      "execution_count": 0,
      "outputs": []
    },
    {
      "cell_type": "markdown",
      "metadata": {
        "id": "bPKZw28cdrYr",
        "colab_type": "text"
      },
      "source": [
        "### 3. Model"
      ]
    },
    {
      "cell_type": "code",
      "metadata": {
        "id": "F7lazgHheAfJ",
        "colab_type": "code",
        "colab": {
          "base_uri": "https://localhost:8080/",
          "height": 452
        },
        "outputId": "b68f59c2-f1c0-469c-ec0c-f1ea0152a9ba"
      },
      "source": [
        "# model1 = smf.ols('nstr ~ tstr', data=nam18).fit()\n",
        "# I can't figure out why the above won't work\n",
        "\n",
        "model_lin = smf.ols('nam18[nstr] ~ nam18[tstr]', data=nam18).fit()\n",
        "model_lin.summary()"
      ],
      "execution_count": 175,
      "outputs": [
        {
          "output_type": "execute_result",
          "data": {
            "text/html": [
              "<table class=\"simpletable\">\n",
              "<caption>OLS Regression Results</caption>\n",
              "<tr>\n",
              "  <th>Dep. Variable:</th>       <td>nam18[nstr]</td>   <th>  R-squared:         </th> <td>   0.982</td>\n",
              "</tr>\n",
              "<tr>\n",
              "  <th>Model:</th>                   <td>OLS</td>       <th>  Adj. R-squared:    </th> <td>   0.982</td>\n",
              "</tr>\n",
              "<tr>\n",
              "  <th>Method:</th>             <td>Least Squares</td>  <th>  F-statistic:       </th> <td>   1813.</td>\n",
              "</tr>\n",
              "<tr>\n",
              "  <th>Date:</th>             <td>Tue, 22 Oct 2019</td> <th>  Prob (F-statistic):</th> <td>2.03e-30</td>\n",
              "</tr>\n",
              "<tr>\n",
              "  <th>Time:</th>                 <td>23:27:58</td>     <th>  Log-Likelihood:    </th> <td> -78.878</td>\n",
              "</tr>\n",
              "<tr>\n",
              "  <th>No. Observations:</th>      <td>    35</td>      <th>  AIC:               </th> <td>   161.8</td>\n",
              "</tr>\n",
              "<tr>\n",
              "  <th>Df Residuals:</th>          <td>    33</td>      <th>  BIC:               </th> <td>   164.9</td>\n",
              "</tr>\n",
              "<tr>\n",
              "  <th>Df Model:</th>              <td>     1</td>      <th>                     </th>     <td> </td>   \n",
              "</tr>\n",
              "<tr>\n",
              "  <th>Covariance Type:</th>      <td>nonrobust</td>    <th>                     </th>     <td> </td>   \n",
              "</tr>\n",
              "</table>\n",
              "<table class=\"simpletable\">\n",
              "<tr>\n",
              "       <td></td>          <th>coef</th>     <th>std err</th>      <th>t</th>      <th>P>|t|</th>  <th>[0.025</th>    <th>0.975]</th>  \n",
              "</tr>\n",
              "<tr>\n",
              "  <th>Intercept</th>   <td>   -1.8884</td> <td>    0.492</td> <td>   -3.841</td> <td> 0.001</td> <td>   -2.889</td> <td>   -0.888</td>\n",
              "</tr>\n",
              "<tr>\n",
              "  <th>nam18[tstr]</th> <td>    1.6176</td> <td>    0.038</td> <td>   42.577</td> <td> 0.000</td> <td>    1.540</td> <td>    1.695</td>\n",
              "</tr>\n",
              "</table>\n",
              "<table class=\"simpletable\">\n",
              "<tr>\n",
              "  <th>Omnibus:</th>       <td> 1.418</td> <th>  Durbin-Watson:     </th> <td>   0.845</td>\n",
              "</tr>\n",
              "<tr>\n",
              "  <th>Prob(Omnibus):</th> <td> 0.492</td> <th>  Jarque-Bera (JB):  </th> <td>   1.041</td>\n",
              "</tr>\n",
              "<tr>\n",
              "  <th>Skew:</th>          <td>-0.420</td> <th>  Prob(JB):          </th> <td>   0.594</td>\n",
              "</tr>\n",
              "<tr>\n",
              "  <th>Kurtosis:</th>      <td> 2.905</td> <th>  Cond. No.          </th> <td>    15.9</td>\n",
              "</tr>\n",
              "</table><br/><br/>Warnings:<br/>[1] Standard Errors assume that the covariance matrix of the errors is correctly specified."
            ],
            "text/plain": [
              "<class 'statsmodels.iolib.summary.Summary'>\n",
              "\"\"\"\n",
              "                            OLS Regression Results                            \n",
              "==============================================================================\n",
              "Dep. Variable:            nam18[nstr]   R-squared:                       0.982\n",
              "Model:                            OLS   Adj. R-squared:                  0.982\n",
              "Method:                 Least Squares   F-statistic:                     1813.\n",
              "Date:                Tue, 22 Oct 2019   Prob (F-statistic):           2.03e-30\n",
              "Time:                        23:27:58   Log-Likelihood:                -78.878\n",
              "No. Observations:                  35   AIC:                             161.8\n",
              "Df Residuals:                      33   BIC:                             164.9\n",
              "Df Model:                           1                                         \n",
              "Covariance Type:            nonrobust                                         \n",
              "===============================================================================\n",
              "                  coef    std err          t      P>|t|      [0.025      0.975]\n",
              "-------------------------------------------------------------------------------\n",
              "Intercept      -1.8884      0.492     -3.841      0.001      -2.889      -0.888\n",
              "nam18[tstr]     1.6176      0.038     42.577      0.000       1.540       1.695\n",
              "==============================================================================\n",
              "Omnibus:                        1.418   Durbin-Watson:                   0.845\n",
              "Prob(Omnibus):                  0.492   Jarque-Bera (JB):                1.041\n",
              "Skew:                          -0.420   Prob(JB):                        0.594\n",
              "Kurtosis:                       2.905   Cond. No.                         15.9\n",
              "==============================================================================\n",
              "\n",
              "Warnings:\n",
              "[1] Standard Errors assume that the covariance matrix of the errors is correctly specified.\n",
              "\"\"\""
            ]
          },
          "metadata": {
            "tags": []
          },
          "execution_count": 175
        }
      ]
    },
    {
      "cell_type": "code",
      "metadata": {
        "id": "bCAb3-Mze0pr",
        "colab_type": "code",
        "colab": {
          "base_uri": "https://localhost:8080/",
          "height": 473
        },
        "outputId": "239ffdf5-8df7-4007-f43e-aa2e57101f8d"
      },
      "source": [
        "model_quad = smf.ols('nam18[nstr] ~ np.power(nam18[tstr], 2) + nam18[tstr]', data=nam18).fit()\n",
        "model_quad.summary()"
      ],
      "execution_count": 176,
      "outputs": [
        {
          "output_type": "execute_result",
          "data": {
            "text/html": [
              "<table class=\"simpletable\">\n",
              "<caption>OLS Regression Results</caption>\n",
              "<tr>\n",
              "  <th>Dep. Variable:</th>       <td>nam18[nstr]</td>   <th>  R-squared:         </th> <td>   0.982</td>\n",
              "</tr>\n",
              "<tr>\n",
              "  <th>Model:</th>                   <td>OLS</td>       <th>  Adj. R-squared:    </th> <td>   0.981</td>\n",
              "</tr>\n",
              "<tr>\n",
              "  <th>Method:</th>             <td>Least Squares</td>  <th>  F-statistic:       </th> <td>   879.5</td>\n",
              "</tr>\n",
              "<tr>\n",
              "  <th>Date:</th>             <td>Tue, 22 Oct 2019</td> <th>  Prob (F-statistic):</th> <td>1.08e-28</td>\n",
              "</tr>\n",
              "<tr>\n",
              "  <th>Time:</th>                 <td>23:27:58</td>     <th>  Log-Likelihood:    </th> <td> -78.866</td>\n",
              "</tr>\n",
              "<tr>\n",
              "  <th>No. Observations:</th>      <td>    35</td>      <th>  AIC:               </th> <td>   163.7</td>\n",
              "</tr>\n",
              "<tr>\n",
              "  <th>Df Residuals:</th>          <td>    32</td>      <th>  BIC:               </th> <td>   168.4</td>\n",
              "</tr>\n",
              "<tr>\n",
              "  <th>Df Model:</th>              <td>     2</td>      <th>                     </th>     <td> </td>   \n",
              "</tr>\n",
              "<tr>\n",
              "  <th>Covariance Type:</th>      <td>nonrobust</td>    <th>                     </th>     <td> </td>   \n",
              "</tr>\n",
              "</table>\n",
              "<table class=\"simpletable\">\n",
              "<tr>\n",
              "              <td></td>                <th>coef</th>     <th>std err</th>      <th>t</th>      <th>P>|t|</th>  <th>[0.025</th>    <th>0.975]</th>  \n",
              "</tr>\n",
              "<tr>\n",
              "  <th>Intercept</th>                <td>   -1.9344</td> <td>    0.592</td> <td>   -3.266</td> <td> 0.003</td> <td>   -3.141</td> <td>   -0.728</td>\n",
              "</tr>\n",
              "<tr>\n",
              "  <th>np.power(nam18[tstr], 2)</th> <td>   -0.0005</td> <td>    0.004</td> <td>   -0.144</td> <td> 0.886</td> <td>   -0.008</td> <td>    0.007</td>\n",
              "</tr>\n",
              "<tr>\n",
              "  <th>nam18[tstr]</th>              <td>    1.6354</td> <td>    0.129</td> <td>   12.652</td> <td> 0.000</td> <td>    1.372</td> <td>    1.899</td>\n",
              "</tr>\n",
              "</table>\n",
              "<table class=\"simpletable\">\n",
              "<tr>\n",
              "  <th>Omnibus:</th>       <td> 1.219</td> <th>  Durbin-Watson:     </th> <td>   0.835</td>\n",
              "</tr>\n",
              "<tr>\n",
              "  <th>Prob(Omnibus):</th> <td> 0.544</td> <th>  Jarque-Bera (JB):  </th> <td>   0.984</td>\n",
              "</tr>\n",
              "<tr>\n",
              "  <th>Skew:</th>          <td>-0.399</td> <th>  Prob(JB):          </th> <td>   0.611</td>\n",
              "</tr>\n",
              "<tr>\n",
              "  <th>Kurtosis:</th>      <td> 2.809</td> <th>  Cond. No.          </th> <td>    608.</td>\n",
              "</tr>\n",
              "</table><br/><br/>Warnings:<br/>[1] Standard Errors assume that the covariance matrix of the errors is correctly specified."
            ],
            "text/plain": [
              "<class 'statsmodels.iolib.summary.Summary'>\n",
              "\"\"\"\n",
              "                            OLS Regression Results                            \n",
              "==============================================================================\n",
              "Dep. Variable:            nam18[nstr]   R-squared:                       0.982\n",
              "Model:                            OLS   Adj. R-squared:                  0.981\n",
              "Method:                 Least Squares   F-statistic:                     879.5\n",
              "Date:                Tue, 22 Oct 2019   Prob (F-statistic):           1.08e-28\n",
              "Time:                        23:27:58   Log-Likelihood:                -78.866\n",
              "No. Observations:                  35   AIC:                             163.7\n",
              "Df Residuals:                      32   BIC:                             168.4\n",
              "Df Model:                           2                                         \n",
              "Covariance Type:            nonrobust                                         \n",
              "============================================================================================\n",
              "                               coef    std err          t      P>|t|      [0.025      0.975]\n",
              "--------------------------------------------------------------------------------------------\n",
              "Intercept                   -1.9344      0.592     -3.266      0.003      -3.141      -0.728\n",
              "np.power(nam18[tstr], 2)    -0.0005      0.004     -0.144      0.886      -0.008       0.007\n",
              "nam18[tstr]                  1.6354      0.129     12.652      0.000       1.372       1.899\n",
              "==============================================================================\n",
              "Omnibus:                        1.219   Durbin-Watson:                   0.835\n",
              "Prob(Omnibus):                  0.544   Jarque-Bera (JB):                0.984\n",
              "Skew:                          -0.399   Prob(JB):                        0.611\n",
              "Kurtosis:                       2.809   Cond. No.                         608.\n",
              "==============================================================================\n",
              "\n",
              "Warnings:\n",
              "[1] Standard Errors assume that the covariance matrix of the errors is correctly specified.\n",
              "\"\"\""
            ]
          },
          "metadata": {
            "tags": []
          },
          "execution_count": 176
        }
      ]
    },
    {
      "cell_type": "code",
      "metadata": {
        "id": "v1vtzziffbRi",
        "colab_type": "code",
        "colab": {
          "base_uri": "https://localhost:8080/",
          "height": 529
        },
        "outputId": "6e72c783-9e15-4d0d-a6c0-1703575b7733"
      },
      "source": [
        "model_cub = smf.ols('nam18[nstr] ~ np.power(nam18[tstr], 3)\\\n",
        " + np.power(nam18[tstr], 2) + nam18[tstr]', data=nam18).fit()\n",
        "model_cub.summary()"
      ],
      "execution_count": 177,
      "outputs": [
        {
          "output_type": "execute_result",
          "data": {
            "text/html": [
              "<table class=\"simpletable\">\n",
              "<caption>OLS Regression Results</caption>\n",
              "<tr>\n",
              "  <th>Dep. Variable:</th>       <td>nam18[nstr]</td>   <th>  R-squared:         </th> <td>   0.993</td>\n",
              "</tr>\n",
              "<tr>\n",
              "  <th>Model:</th>                   <td>OLS</td>       <th>  Adj. R-squared:    </th> <td>   0.992</td>\n",
              "</tr>\n",
              "<tr>\n",
              "  <th>Method:</th>             <td>Least Squares</td>  <th>  F-statistic:       </th> <td>   1433.</td>\n",
              "</tr>\n",
              "<tr>\n",
              "  <th>Date:</th>             <td>Tue, 22 Oct 2019</td> <th>  Prob (F-statistic):</th> <td>2.54e-33</td>\n",
              "</tr>\n",
              "<tr>\n",
              "  <th>Time:</th>                 <td>23:27:59</td>     <th>  Log-Likelihood:    </th> <td> -62.858</td>\n",
              "</tr>\n",
              "<tr>\n",
              "  <th>No. Observations:</th>      <td>    35</td>      <th>  AIC:               </th> <td>   133.7</td>\n",
              "</tr>\n",
              "<tr>\n",
              "  <th>Df Residuals:</th>          <td>    31</td>      <th>  BIC:               </th> <td>   139.9</td>\n",
              "</tr>\n",
              "<tr>\n",
              "  <th>Df Model:</th>              <td>     3</td>      <th>                     </th>     <td> </td>   \n",
              "</tr>\n",
              "<tr>\n",
              "  <th>Covariance Type:</th>      <td>nonrobust</td>    <th>                     </th>     <td> </td>   \n",
              "</tr>\n",
              "</table>\n",
              "<table class=\"simpletable\">\n",
              "<tr>\n",
              "              <td></td>                <th>coef</th>     <th>std err</th>      <th>t</th>      <th>P>|t|</th>  <th>[0.025</th>    <th>0.975]</th>  \n",
              "</tr>\n",
              "<tr>\n",
              "  <th>Intercept</th>                <td>   -0.4186</td> <td>    0.441</td> <td>   -0.949</td> <td> 0.350</td> <td>   -1.318</td> <td>    0.481</td>\n",
              "</tr>\n",
              "<tr>\n",
              "  <th>np.power(nam18[tstr], 3)</th> <td>   -0.0015</td> <td>    0.000</td> <td>   -6.811</td> <td> 0.000</td> <td>   -0.002</td> <td>   -0.001</td>\n",
              "</tr>\n",
              "<tr>\n",
              "  <th>np.power(nam18[tstr], 2)</th> <td>    0.0827</td> <td>    0.012</td> <td>    6.649</td> <td> 0.000</td> <td>    0.057</td> <td>    0.108</td>\n",
              "</tr>\n",
              "<tr>\n",
              "  <th>nam18[tstr]</th>              <td>    0.5900</td> <td>    0.175</td> <td>    3.380</td> <td> 0.002</td> <td>    0.234</td> <td>    0.946</td>\n",
              "</tr>\n",
              "</table>\n",
              "<table class=\"simpletable\">\n",
              "<tr>\n",
              "  <th>Omnibus:</th>       <td> 3.084</td> <th>  Durbin-Watson:     </th> <td>   1.326</td>\n",
              "</tr>\n",
              "<tr>\n",
              "  <th>Prob(Omnibus):</th> <td> 0.214</td> <th>  Jarque-Bera (JB):  </th> <td>   1.813</td>\n",
              "</tr>\n",
              "<tr>\n",
              "  <th>Skew:</th>          <td>-0.397</td> <th>  Prob(JB):          </th> <td>   0.404</td>\n",
              "</tr>\n",
              "<tr>\n",
              "  <th>Kurtosis:</th>      <td> 3.784</td> <th>  Cond. No.          </th> <td>2.64e+04</td>\n",
              "</tr>\n",
              "</table><br/><br/>Warnings:<br/>[1] Standard Errors assume that the covariance matrix of the errors is correctly specified.<br/>[2] The condition number is large, 2.64e+04. This might indicate that there are<br/>strong multicollinearity or other numerical problems."
            ],
            "text/plain": [
              "<class 'statsmodels.iolib.summary.Summary'>\n",
              "\"\"\"\n",
              "                            OLS Regression Results                            \n",
              "==============================================================================\n",
              "Dep. Variable:            nam18[nstr]   R-squared:                       0.993\n",
              "Model:                            OLS   Adj. R-squared:                  0.992\n",
              "Method:                 Least Squares   F-statistic:                     1433.\n",
              "Date:                Tue, 22 Oct 2019   Prob (F-statistic):           2.54e-33\n",
              "Time:                        23:27:59   Log-Likelihood:                -62.858\n",
              "No. Observations:                  35   AIC:                             133.7\n",
              "Df Residuals:                      31   BIC:                             139.9\n",
              "Df Model:                           3                                         \n",
              "Covariance Type:            nonrobust                                         \n",
              "============================================================================================\n",
              "                               coef    std err          t      P>|t|      [0.025      0.975]\n",
              "--------------------------------------------------------------------------------------------\n",
              "Intercept                   -0.4186      0.441     -0.949      0.350      -1.318       0.481\n",
              "np.power(nam18[tstr], 3)    -0.0015      0.000     -6.811      0.000      -0.002      -0.001\n",
              "np.power(nam18[tstr], 2)     0.0827      0.012      6.649      0.000       0.057       0.108\n",
              "nam18[tstr]                  0.5900      0.175      3.380      0.002       0.234       0.946\n",
              "==============================================================================\n",
              "Omnibus:                        3.084   Durbin-Watson:                   1.326\n",
              "Prob(Omnibus):                  0.214   Jarque-Bera (JB):                1.813\n",
              "Skew:                          -0.397   Prob(JB):                        0.404\n",
              "Kurtosis:                       3.784   Cond. No.                     2.64e+04\n",
              "==============================================================================\n",
              "\n",
              "Warnings:\n",
              "[1] Standard Errors assume that the covariance matrix of the errors is correctly specified.\n",
              "[2] The condition number is large, 2.64e+04. This might indicate that there are\n",
              "strong multicollinearity or other numerical problems.\n",
              "\"\"\""
            ]
          },
          "metadata": {
            "tags": []
          },
          "execution_count": 177
        }
      ]
    },
    {
      "cell_type": "code",
      "metadata": {
        "id": "TSXvqfHKnB2d",
        "colab_type": "code",
        "colab": {
          "base_uri": "https://localhost:8080/",
          "height": 72
        },
        "outputId": "0a96ae4d-ffee-4cf0-ca64-a93c1f6d7aaf"
      },
      "source": [
        "print(\"The linear model's log-likelihood:\\t{:0.5f}\".format(model_lin.llf))\n",
        "print(\"The quadratic model's log-likelihood:\\t{:0.5f}\".format(model_quad.llf))\n",
        "print(\"The cubic model's log-likelihood:\\t{:0.5f}\".format(model_cub.llf))"
      ],
      "execution_count": 178,
      "outputs": [
        {
          "output_type": "stream",
          "text": [
            "The linear model's log-likelihood:\t-78.87785\n",
            "The quadratic model's log-likelihood:\t-78.86649\n",
            "The cubic model's log-likelihood:\t-62.85756\n"
          ],
          "name": "stdout"
        }
      ]
    },
    {
      "cell_type": "markdown",
      "metadata": {
        "id": "-NWaXhZXmiqc",
        "colab_type": "text"
      },
      "source": [
        "### 4 Plot"
      ]
    },
    {
      "cell_type": "code",
      "metadata": {
        "id": "ld07DjiUmCvS",
        "colab_type": "code",
        "colab": {
          "base_uri": "https://localhost:8080/",
          "height": 799
        },
        "outputId": "b4878cec-4666-42d3-c62b-f1dcfb44dcc2"
      },
      "source": [
        "xarr = np.arange(0, 40, 0.5)\n",
        "\n",
        "pl.figure(figsize=(15, 9))\n",
        "pl.suptitle('Three Curve Fits', fontsize=20)\n",
        "\n",
        "pl.subplot(121)\n",
        "pl.plot(nam18[tstr] , nam18[nstr], '.', ms=12, label = '$n^*$')\n",
        "pl.plot(xarr, anypol(xarr, *lopt), c='k', label = 'Linear Fit')\n",
        "pl.plot(xarr, anypol(xarr, *qopt), c='C3', label = 'Quadratic Fit')\n",
        "pl.plot(xarr, anypol(xarr, *copt), c='C2', label = 'Cubic Fit')\n",
        "pl.legend()\n",
        "pl.ylabel(nstr)\n",
        "pl.xlabel(tstr)\n",
        "\n",
        "txt='Figure 2: Three curve fits for the data shown in Figure 1. The plot on the\\n\\\n",
        " left shows the full dataset, while the plot on the right shows just a selected\\n\\\n",
        " region of the left plot in order to distinguish between the linear and quadratic fits.'\n",
        "pl.figtext(0.5, -0.2, txt, ha='center', fontsize = 12, wrap = True);\n",
        "\n",
        "pl.subplot(122)\n",
        "pl.plot(nam18[tstr] , nam18[nstr], '.', ms=12, label = '$n^*$')\n",
        "pl.plot(xarr, anypol(xarr, *lopt), c='k', label =  'Linear Fit')\n",
        "pl.plot(xarr, anypol(xarr, *qopt), c='C3', label = 'Quadratic Fit')\n",
        "pl.plot(xarr, anypol(xarr, *copt), c='C2', label = 'Cubic Fit')\n",
        "pl.xlim(0,2)\n",
        "pl.ylim(-.1,1)\n",
        "pl.legend()\n",
        "pl.ylabel(nstr)\n",
        "pl.xlabel(tstr)\n",
        "\n",
        "0;"
      ],
      "execution_count": 207,
      "outputs": [
        {
          "output_type": "display_data",
          "data": {
            "image/png": "[encoded data removed]",
            "text/plain": [
              "<Figure size 1080x648 with 2 Axes>"
            ]
          },
          "metadata": {
            "tags": []
          }
        }
      ]
    },
    {
      "cell_type": "markdown",
      "metadata": {
        "id": "_SS7K6SVn4oW",
        "colab_type": "text"
      },
      "source": [
        "### 5 *Formal* comparison of the models"
      ]
    },
    {
      "cell_type": "markdown",
      "metadata": {
        "id": "VR1j7mLnrw74",
        "colab_type": "text"
      },
      "source": [
        "Taking as our null-hypothesis that **'The simpler model is more accurate'**, testing at a confidence level of $p < 0.05$ with a Likelihood-Ratio Test, we find the following:"
      ]
    },
    {
      "cell_type": "code",
      "metadata": {
        "id": "m1V9xP1InAXJ",
        "colab_type": "code",
        "colab": {
          "base_uri": "https://localhost:8080/",
          "height": 90
        },
        "outputId": "86c257c4-2e16-4acc-eb7b-949def366538"
      },
      "source": [
        "lr_3to2 = model_cub.compare_lr_test(model_quad)\n",
        "lr_3to1 = model_cub.compare_lr_test(model_lin)\n",
        "lr_2to1 = model_quad.compare_lr_test(model_lin)\n",
        "\n",
        "print('model degrees, \\t Likelihood Ratio, \\t p-value, \\t Difference in degrees of freedom')\n",
        "print('2 & 3:\\t\\t', lr_3to2, '\\n1 & 3:\\t\\t', lr_3to1, '\\n1 & 2:\\t\\t', lr_2to1)"
      ],
      "execution_count": 189,
      "outputs": [
        {
          "output_type": "stream",
          "text": [
            "model degrees, \t Likelihood Ratio, \t p-value, \t Difference in degrees of freedom\n",
            "2 & 3:\t\t (32.01784952536279, 1.5276246887173018e-08, 1.0) \n",
            "1 & 3:\t\t (32.04057153068926, 1.1027531159466854e-07, 2.0) \n",
            "1 & 2:\t\t (0.022722005326471617, 0.8801822372588882, 1.0)\n"
          ],
          "name": "stdout"
        }
      ]
    },
    {
      "cell_type": "markdown",
      "metadata": {
        "id": "b7UsDjYtuD3Q",
        "colab_type": "text"
      },
      "source": [
        "Comparing the cubic fit to both the quadratic and linear fits, we find p-values lower than $10^{-7}$. Therefore, for the cubic fit, we reject the null-hypothesis and find that the cubic fit is the best for our data. Comparing the linear to the quadratic fit, there is not enough evidence to reject the null hypothesis ($p\\sim 0.88$), so we find no evidence that the quadratic fit is better than the linear fit.\n",
        "\n",
        "Ranking the three fits from best to worst:\n",
        " \n",
        "1. Cubic fit\n",
        "2. Linear fit\n",
        "3. Quadratic fit\n",
        "\n"
      ]
    }
  ]
}