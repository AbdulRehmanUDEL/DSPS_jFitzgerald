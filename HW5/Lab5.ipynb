{
  "nbformat": 4,
  "nbformat_minor": 0,
  "metadata": {
    "colab": {
      "name": "Lab5.ipynb",
      "provenance": [],
      "collapsed_sections": [],
      "include_colab_link": true
    },
    "kernelspec": {
      "name": "python3",
      "display_name": "Python 3"
    }
  },
  "cells": [
    {
      "cell_type": "markdown",
      "metadata": {
        "id": "view-in-github",
        "colab_type": "text"
      },
      "source": [
        "<a href=\"https://colab.research.google.com/github/sheamusfitz/DSPS_jFitzgerald/blob/master/HW5/Lab5.ipynb\" target=\"_parent\"><img src=\"https://colab.research.google.com/assets/colab-badge.svg\" alt=\"Open In Colab\"/></a>"
      ]
    },
    {
      "cell_type": "code",
      "metadata": {
        "id": "nN_F0QO8GaMc",
        "colab_type": "code",
        "outputId": "145c6b86-50b9-4465-98e5-4d413ad536cd",
        "colab": {
          "base_uri": "https://localhost:8080/",
          "height": 129
        }
      },
      "source": [
        "from google.colab import drive\n",
        "drive.mount(\"/content/drive\")"
      ],
      "execution_count": 0,
      "outputs": [
        {
          "output_type": "stream",
          "text": [
            "Go to this URL in a browser: https://accounts.google.com/o/oauth2/auth?client_id=947318989803-6bn6qk8qdgf4n4g3pfee6491hc0brc4i.apps.googleusercontent.com&redirect_uri=urn%3Aietf%3Awg%3Aoauth%3A2.0%3Aoob&scope=email%20https%3A%2F%2Fwww.googleapis.com%2Fauth%2Fdocs.test%20https%3A%2F%2Fwww.googleapis.com%2Fauth%2Fdrive%20https%3A%2F%2Fwww.googleapis.com%2Fauth%2Fdrive.photos.readonly%20https%3A%2F%2Fwww.googleapis.com%2Fauth%2Fpeopleapi.readonly&response_type=code\n",
            "\n",
            "Enter your authorization code:\n",
            "··········\n",
            "Mounted at /content/drive\n"
          ],
          "name": "stdout"
        }
      ]
    },
    {
      "cell_type": "code",
      "metadata": {
        "id": "K7oPApgXMp_S",
        "colab_type": "code",
        "colab": {}
      },
      "source": [
        "import os\n",
        "import glob"
      ],
      "execution_count": 0,
      "outputs": []
    },
    {
      "cell_type": "code",
      "metadata": {
        "id": "Q46hX7xOGgL0",
        "colab_type": "code",
        "outputId": "e965c094-b83d-42d1-ca78-b8d1f86459d3",
        "colab": {
          "base_uri": "https://localhost:8080/",
          "height": 35
        }
      },
      "source": [
        "pwd"
      ],
      "execution_count": 0,
      "outputs": [
        {
          "output_type": "execute_result",
          "data": {
            "text/plain": [
              "'/content'"
            ]
          },
          "metadata": {
            "tags": []
          },
          "execution_count": 8
        }
      ]
    },
    {
      "cell_type": "code",
      "metadata": {
        "id": "jes2LZ6XGq4V",
        "colab_type": "code",
        "outputId": "66bf1100-9996-4168-f580-15de1149de04",
        "colab": {
          "base_uri": "https://localhost:8080/",
          "height": 35
        }
      },
      "source": [
        "ls"
      ],
      "execution_count": 0,
      "outputs": [
        {
          "output_type": "stream",
          "text": [
            "\u001b[0m\u001b[01;34mdrive\u001b[0m/  \u001b[01;34msample_data\u001b[0m/\n"
          ],
          "name": "stdout"
        }
      ]
    },
    {
      "cell_type": "code",
      "metadata": {
        "id": "eIDrNaWsGtaR",
        "colab_type": "code",
        "outputId": "23ab76be-3eec-4b61-aed2-1c671f4b5268",
        "colab": {
          "base_uri": "https://localhost:8080/",
          "height": 35
        }
      },
      "source": [
        "mkdir \"drive/My Drive/dsps2019\""
      ],
      "execution_count": 0,
      "outputs": [
        {
          "output_type": "stream",
          "text": [
            "mkdir: cannot create directory ‘drive/My Drive/dsps2019’: File exists\n"
          ],
          "name": "stdout"
        }
      ]
    },
    {
      "cell_type": "code",
      "metadata": {
        "id": "my9wSDOBG3er",
        "colab_type": "code",
        "outputId": "960c4418-1729-4bfa-fc79-3860626c7416",
        "colab": {
          "base_uri": "https://localhost:8080/",
          "height": 239
        }
      },
      "source": [
        "!wget https://www2.census.gov/programs-surveys/cbp/datasets/2016/zbp16totals.zip"
      ],
      "execution_count": 0,
      "outputs": [
        {
          "output_type": "stream",
          "text": [
            "--2019-09-27 19:25:45--  https://www2.census.gov/programs-surveys/cbp/datasets/2016/zbp16totals.zip\n",
            "Resolving www2.census.gov (www2.census.gov)... 104.122.40.17, 2600:1407:b800:198::208c, 2600:1407:b800:18a::208c\n",
            "Connecting to www2.census.gov (www2.census.gov)|104.122.40.17|:443... connected.\n",
            "HTTP request sent, awaiting response... 200 OK\n",
            "Length: unspecified [application/zip]\n",
            "Saving to: ‘zbp16totals.zip’\n",
            "\n",
            "zbp16totals.zip         [        <=>         ] 750.30K   383KB/s    in 2.0s    \n",
            "\n",
            "2019-09-27 19:25:48 (383 KB/s) - ‘zbp16totals.zip’ saved [768303]\n",
            "\n"
          ],
          "name": "stdout"
        }
      ]
    },
    {
      "cell_type": "code",
      "metadata": {
        "id": "BAau2xDqHMba",
        "colab_type": "code",
        "outputId": "03df9607-eb95-4271-aac5-2c93cd42ac05",
        "colab": {
          "base_uri": "https://localhost:8080/",
          "height": 74
        }
      },
      "source": [
        "!unzip zbp16totals -d \"drive/My Drive/667/test_dir\""
      ],
      "execution_count": 0,
      "outputs": [
        {
          "output_type": "stream",
          "text": [
            "Archive:  zbp16totals.zip\n",
            "replace drive/My Drive/667/test_dir/zbp16totals.txt? [y]es, [n]o, [A]ll, [N]one, [r]ename: n\n"
          ],
          "name": "stdout"
        }
      ]
    },
    {
      "cell_type": "code",
      "metadata": {
        "id": "i19NRv05IBDd",
        "colab_type": "code",
        "outputId": "4a252b3a-154f-4444-af85-3280611754d5",
        "colab": {
          "base_uri": "https://localhost:8080/",
          "height": 35
        }
      },
      "source": [
        "ls '/content/drive/My Drive/dsps2019'"
      ],
      "execution_count": 0,
      "outputs": [
        {
          "output_type": "stream",
          "text": [
            "Lab5.ipynb  zbp16totals.txt\n"
          ],
          "name": "stdout"
        }
      ]
    },
    {
      "cell_type": "code",
      "metadata": {
        "id": "HzayWSa7Rict",
        "colab_type": "code",
        "outputId": "04a3aadd-6b4d-4e1e-d754-219e6d754e80",
        "colab": {
          "base_uri": "https://localhost:8080/",
          "height": 127
        }
      },
      "source": [
        "path = '/content/drive/My Drive/dsps2019'\n",
        "\n",
        "if len(glob.glob(path+'/*')) == 0:\n",
        "  os.system(\"mkdir drive/My\\ Drive/dsps2019\")\n",
        "  \n",
        "for ii in range(10,16):\n",
        "  \n",
        "  s_year = str(ii)\n",
        "  \n",
        "  cmd_wget = '!wget https://www2.census.gov/programs-surveys/cbp/datasets/20'+s_year+'/zbp'+s_year+'totals.zip'\n",
        "  \n",
        "#   print(cmd_wget)\n",
        "  cmd_unzip = str('!unzip zbp'+s_year+'totals -d '+path)\n",
        "  \n",
        "  print(cmd_unzip)"
      ],
      "execution_count": 0,
      "outputs": [
        {
          "output_type": "stream",
          "text": [
            "!unzip zbp10totals -d /content/drive/My Drive/dsps2019\n",
            "!unzip zbp11totals -d /content/drive/My Drive/dsps2019\n",
            "!unzip zbp12totals -d /content/drive/My Drive/dsps2019\n",
            "!unzip zbp13totals -d /content/drive/My Drive/dsps2019\n",
            "!unzip zbp14totals -d /content/drive/My Drive/dsps2019\n",
            "!unzip zbp15totals -d /content/drive/My Drive/dsps2019\n"
          ],
          "name": "stdout"
        }
      ]
    },
    {
      "cell_type": "code",
      "metadata": {
        "id": "jmj8l_g5Rv4t",
        "colab_type": "code",
        "outputId": "9956899d-d844-4888-c23d-c47b2e087c10",
        "colab": {
          "base_uri": "https://localhost:8080/",
          "height": 54
        }
      },
      "source": [
        "glob.glob(path+'/*')"
      ],
      "execution_count": 0,
      "outputs": [
        {
          "output_type": "execute_result",
          "data": {
            "text/plain": [
              "['/content/drive/My Drive/dsps2019/zbp16totals.txt',\n",
              " '/content/drive/My Drive/dsps2019/Lab5.ipynb']"
            ]
          },
          "metadata": {
            "tags": []
          },
          "execution_count": 68
        }
      ]
    },
    {
      "cell_type": "code",
      "metadata": {
        "id": "5zuO7JkmRwyj",
        "colab_type": "code",
        "colab": {}
      },
      "source": [
        ""
      ],
      "execution_count": 0,
      "outputs": []
    }
  ]
}