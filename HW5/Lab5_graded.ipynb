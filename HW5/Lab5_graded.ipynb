{
 "cells": [
  {
   "cell_type": "markdown",
   "metadata": {
    "colab_type": "text",
    "id": "view-in-github"
   },
   "source": [
    "<a href=\"https://colab.research.google.com/github/sheamusfitz/DSPS_jFitzgerald/blob/master/HW5/Lab5.ipynb\" target=\"_parent\"><img src=\"https://colab.research.google.com/assets/colab-badge.svg\" alt=\"Open In Colab\"/></a>"
   ]
  },
  {
   "cell_type": "code",
   "execution_count": 0,
   "metadata": {
    "colab": {
     "base_uri": "https://localhost:8080/",
     "height": 129
    },
    "colab_type": "code",
    "id": "nN_F0QO8GaMc",
    "outputId": "145c6b86-50b9-4465-98e5-4d413ad536cd"
   },
   "outputs": [
    {
     "name": "stdout",
     "output_type": "stream",
     "text": [
      "Go to this URL in a browser: https://accounts.google.com/o/oauth2/auth?client_id=947318989803-6bn6qk8qdgf4n4g3pfee6491hc0brc4i.apps.googleusercontent.com&redirect_uri=urn%3Aietf%3Awg%3Aoauth%3A2.0%3Aoob&scope=email%20https%3A%2F%2Fwww.googleapis.com%2Fauth%2Fdocs.test%20https%3A%2F%2Fwww.googleapis.com%2Fauth%2Fdrive%20https%3A%2F%2Fwww.googleapis.com%2Fauth%2Fdrive.photos.readonly%20https%3A%2F%2Fwww.googleapis.com%2Fauth%2Fpeopleapi.readonly&response_type=code\n",
      "\n",
      "Enter your authorization code:\n",
      "··········\n",
      "Mounted at /content/drive\n"
     ]
    }
   ],
   "source": [
    "from google.colab import drive\n",
    "drive.mount(\"/content/drive\")"
   ]
  },
  {
   "cell_type": "code",
   "execution_count": 0,
   "metadata": {
    "colab": {},
    "colab_type": "code",
    "id": "K7oPApgXMp_S"
   },
   "outputs": [],
   "source": [
    "import os\n",
    "import glob"
   ]
  },
  {
   "cell_type": "code",
   "execution_count": 0,
   "metadata": {
    "colab": {
     "base_uri": "https://localhost:8080/",
     "height": 35
    },
    "colab_type": "code",
    "id": "Q46hX7xOGgL0",
    "outputId": "e965c094-b83d-42d1-ca78-b8d1f86459d3"
   },
   "outputs": [
    {
     "data": {
      "text/plain": [
       "'/content'"
      ]
     },
     "execution_count": 8,
     "metadata": {
      "tags": []
     },
     "output_type": "execute_result"
    }
   ],
   "source": [
    "pwd"
   ]
  },
  {
   "cell_type": "code",
   "execution_count": 0,
   "metadata": {
    "colab": {
     "base_uri": "https://localhost:8080/",
     "height": 35
    },
    "colab_type": "code",
    "id": "jes2LZ6XGq4V",
    "outputId": "66bf1100-9996-4168-f580-15de1149de04"
   },
   "outputs": [
    {
     "name": "stdout",
     "output_type": "stream",
     "text": [
      "\u001b[0m\u001b[01;34mdrive\u001b[0m/  \u001b[01;34msample_data\u001b[0m/\n"
     ]
    }
   ],
   "source": [
    "ls"
   ]
  },
  {
   "cell_type": "code",
   "execution_count": 0,
   "metadata": {
    "colab": {
     "base_uri": "https://localhost:8080/",
     "height": 35
    },
    "colab_type": "code",
    "id": "eIDrNaWsGtaR",
    "outputId": "23ab76be-3eec-4b61-aed2-1c671f4b5268"
   },
   "outputs": [
    {
     "name": "stdout",
     "output_type": "stream",
     "text": [
      "mkdir: cannot create directory ‘drive/My Drive/dsps2019’: File exists\n"
     ]
    }
   ],
   "source": [
    "mkdir \"drive/My Drive/dsps2019\""
   ]
  },
  {
   "cell_type": "code",
   "execution_count": 0,
   "metadata": {
    "colab": {
     "base_uri": "https://localhost:8080/",
     "height": 239
    },
    "colab_type": "code",
    "id": "my9wSDOBG3er",
    "outputId": "960c4418-1729-4bfa-fc79-3860626c7416"
   },
   "outputs": [
    {
     "name": "stdout",
     "output_type": "stream",
     "text": [
      "--2019-09-27 19:25:45--  https://www2.census.gov/programs-surveys/cbp/datasets/2016/zbp16totals.zip\n",
      "Resolving www2.census.gov (www2.census.gov)... 104.122.40.17, 2600:1407:b800:198::208c, 2600:1407:b800:18a::208c\n",
      "Connecting to www2.census.gov (www2.census.gov)|104.122.40.17|:443... connected.\n",
      "HTTP request sent, awaiting response... 200 OK\n",
      "Length: unspecified [application/zip]\n",
      "Saving to: ‘zbp16totals.zip’\n",
      "\n",
      "zbp16totals.zip         [        <=>         ] 750.30K   383KB/s    in 2.0s    \n",
      "\n",
      "2019-09-27 19:25:48 (383 KB/s) - ‘zbp16totals.zip’ saved [768303]\n",
      "\n"
     ]
    }
   ],
   "source": [
    "!wget https://www2.census.gov/programs-surveys/cbp/datasets/2016/zbp16totals.zip"
   ]
  },
  {
   "cell_type": "code",
   "execution_count": 0,
   "metadata": {
    "colab": {
     "base_uri": "https://localhost:8080/",
     "height": 74
    },
    "colab_type": "code",
    "id": "BAau2xDqHMba",
    "outputId": "03df9607-eb95-4271-aac5-2c93cd42ac05"
   },
   "outputs": [
    {
     "name": "stdout",
     "output_type": "stream",
     "text": [
      "Archive:  zbp16totals.zip\n",
      "replace drive/My Drive/667/test_dir/zbp16totals.txt? [y]es, [n]o, [A]ll, [N]one, [r]ename: n\n"
     ]
    }
   ],
   "source": [
    "!unzip zbp16totals -d \"drive/My Drive/667/test_dir\""
   ]
  },
  {
   "cell_type": "code",
   "execution_count": 0,
   "metadata": {
    "colab": {
     "base_uri": "https://localhost:8080/",
     "height": 35
    },
    "colab_type": "code",
    "id": "i19NRv05IBDd",
    "outputId": "4a252b3a-154f-4444-af85-3280611754d5"
   },
   "outputs": [
    {
     "name": "stdout",
     "output_type": "stream",
     "text": [
      "Lab5.ipynb  zbp16totals.txt\n"
     ]
    }
   ],
   "source": [
    "ls '/content/drive/My Drive/dsps2019'"
   ]
  },
  {
   "cell_type": "code",
   "execution_count": 0,
   "metadata": {
    "colab": {
     "base_uri": "https://localhost:8080/",
     "height": 127
    },
    "colab_type": "code",
    "id": "HzayWSa7Rict",
    "outputId": "04a3aadd-6b4d-4e1e-d754-219e6d754e80"
   },
   "outputs": [
    {
     "name": "stdout",
     "output_type": "stream",
     "text": [
      "!unzip zbp10totals -d /content/drive/My Drive/dsps2019\n",
      "!unzip zbp11totals -d /content/drive/My Drive/dsps2019\n",
      "!unzip zbp12totals -d /content/drive/My Drive/dsps2019\n",
      "!unzip zbp13totals -d /content/drive/My Drive/dsps2019\n",
      "!unzip zbp14totals -d /content/drive/My Drive/dsps2019\n",
      "!unzip zbp15totals -d /content/drive/My Drive/dsps2019\n"
     ]
    }
   ],
   "source": [
    "path = '/content/drive/My Drive/dsps2019'\n",
    "\n",
    "if len(glob.glob(path+'/*')) == 0:\n",
    "  os.system(\"mkdir drive/My\\ Drive/dsps2019\")\n",
    "  \n",
    "for ii in range(10,16):\n",
    "  \n",
    "  s_year = str(ii)\n",
    "  \n",
    "  cmd_wget = '!wget https://www2.census.gov/programs-surveys/cbp/datasets/20'+s_year+'/zbp'+s_year+'totals.zip'\n",
    "  \n",
    "#   print(cmd_wget)\n",
    "  cmd_unzip = str('!unzip zbp'+s_year+'totals -d '+path)\n",
    "  \n",
    "  print(cmd_unzip)"
   ]
  },
  {
   "cell_type": "code",
   "execution_count": 0,
   "metadata": {
    "colab": {
     "base_uri": "https://localhost:8080/",
     "height": 54
    },
    "colab_type": "code",
    "id": "jmj8l_g5Rv4t",
    "outputId": "9956899d-d844-4888-c23d-c47b2e087c10"
   },
   "outputs": [
    {
     "data": {
      "text/plain": [
       "['/content/drive/My Drive/dsps2019/zbp16totals.txt',\n",
       " '/content/drive/My Drive/dsps2019/Lab5.ipynb']"
      ]
     },
     "execution_count": 68,
     "metadata": {
      "tags": []
     },
     "output_type": "execute_result"
    }
   ],
   "source": [
    "glob.glob(path+'/*')"
   ]
  },
  {
   "cell_type": "markdown",
   "metadata": {},
   "source": [
    "<span style=\"color:red\">**-0.2 pt: only save 5 years data not 6 years**</span>"
   ]
  },
  {
   "cell_type": "markdown",
   "metadata": {
    "colab": {},
    "colab_type": "code",
    "id": "5zuO7JkmRwyj"
   },
   "source": [
    "<span style=\"color:red\">**-0.4 pt: not delete downloaded zip files after unzip them**</span>"
   ]
  },
  {
   "cell_type": "code",
   "execution_count": null,
   "metadata": {},
   "outputs": [],
   "source": []
  }
 ],
 "metadata": {
  "colab": {
   "collapsed_sections": [],
   "include_colab_link": true,
   "name": "Lab5.ipynb",
   "provenance": []
  },
  "kernelspec": {
   "display_name": "Python 3",
   "language": "python",
   "name": "python3"
  },
  "language_info": {
   "codemirror_mode": {
    "name": "ipython",
    "version": 3
   },
   "file_extension": ".py",
   "mimetype": "text/x-python",
   "name": "python",
   "nbconvert_exporter": "python",
   "pygments_lexer": "ipython3",
   "version": "3.6.8"
  }
 },
 "nbformat": 4,
 "nbformat_minor": 1
}
