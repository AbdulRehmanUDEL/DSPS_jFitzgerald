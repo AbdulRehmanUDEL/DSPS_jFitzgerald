{
  "nbformat": 4,
  "nbformat_minor": 0,
  "metadata": {
    "colab": {
      "name": "HW4.ipynb",
      "provenance": [],
      "collapsed_sections": [],
      "include_colab_link": true
    },
    "kernelspec": {
      "display_name": "Python 3",
      "language": "python",
      "name": "python3"
    },
    "language_info": {
      "codemirror_mode": {
        "name": "ipython",
        "version": 3
      },
      "file_extension": ".py",
      "mimetype": "text/x-python",
      "name": "python",
      "nbconvert_exporter": "python",
      "pygments_lexer": "ipython3",
      "version": "3.6.7"
    },
    "nbTranslate": {
      "displayLangs": [
        "*"
      ],
      "hotkey": "alt-t",
      "langInMainMenu": true,
      "sourceLang": "en",
      "targetLang": "fr",
      "useGoogleTranslate": true
    },
    "toc": {
      "base_numbering": 1,
      "colors": {
        "hover_highlight": "#DAA520",
        "running_highlight": "#FF0000",
        "selected_highlight": "#FFD700"
      },
      "moveMenuLeft": true,
      "nav_menu": {},
      "navigate_menu": true,
      "number_sections": true,
      "sideBar": true,
      "skip_h1_title": false,
      "threshold": 4,
      "title_cell": "Table of Contents",
      "title_sidebar": "Contents",
      "toc_cell": false,
      "toc_position": {
        "height": "calc(100% - 180px)",
        "left": "10px",
        "top": "150px",
        "width": "165px"
      },
      "toc_section_display": true,
      "toc_window_display": true
    }
  },
  "cells": [
    {
      "cell_type": "markdown",
      "metadata": {
        "id": "view-in-github",
        "colab_type": "text"
      },
      "source": [
        "<a href=\"https://colab.research.google.com/github/sheamusfitz/DSPS_jFitzgerald/blob/master/HW4/HW4.ipynb\" target=\"_parent\"><img src=\"https://colab.research.google.com/assets/colab-badge.svg\" alt=\"Open In Colab\"/></a>"
      ]
    },
    {
      "cell_type": "markdown",
      "metadata": {
        "colab_type": "text",
        "id": "rxa6Xa3jOdCI",
        "run_control": {
          "frozen": false,
          "read_only": false
        }
      },
      "source": [
        "prepared by federica b bianco @fedhere\n",
        "for UDel DSPS PHYS 467/667\n",
        "\n",
        "# testing the significance of Dark Matter"
      ]
    },
    {
      "cell_type": "code",
      "metadata": {
        "ExecuteTime": {
          "end_time": "2019-09-16T17:54:57.244596Z",
          "start_time": "2019-09-16T17:54:57.231090Z"
        },
        "colab_type": "code",
        "id": "Ya2RaOGbOdCJ",
        "outputId": "d8428309-77bf-453a-a7e8-974e557a3836",
        "run_control": {
          "frozen": false,
          "read_only": false
        },
        "colab": {
          "base_uri": "https://localhost:8080/",
          "height": 35
        }
      },
      "source": [
        "import pandas as pd\n",
        "import numpy as np\n",
        "import pylab as pl\n",
        "%pylab inline\n",
        "\n",
        "\n",
        "#package I will use for constants and units conversion \n",
        "import astropy\n",
        "\n",
        "from astropy import units as u\n",
        "\n"
      ],
      "execution_count": 0,
      "outputs": [
        {
          "output_type": "stream",
          "text": [
            "Populating the interactive namespace from numpy and matplotlib\n"
          ],
          "name": "stdout"
        }
      ]
    },
    {
      "cell_type": "markdown",
      "metadata": {
        "colab_type": "text",
        "id": "4qp8A2TG1Gwb",
        "run_control": {
          "frozen": false,
          "read_only": false
        }
      },
      "source": [
        "In 1970 Vera Rubin published a seminal paper: she measured the rotational speed of HII regions in several galaxies and how it changed as a function of distance to the center of the galaxy. If we believe Newtonian gravity (or GR) we expect that _once all of the mass is included_, i.e. at a radius distance from the center of the galaxy larger than the radius of the galaxy itself, the rotational speed will be proportional to $v\\propto\\frac{1}{\\sqrt r}$"
      ]
    },
    {
      "cell_type": "markdown",
      "metadata": {
        "colab_type": "text",
        "id": "j-BDrNseOdCR",
        "run_control": {
          "frozen": false,
          "read_only": false
        }
      },
      "source": [
        "## Propagation of  uncertainties rules\n",
        "\n",
        "below are the basic rules for propagation of uncertainties - use [this as reference](https://github.com/fedhere/DSPS/blob/master/resources/Managing%20Errors%20and%20Uncertainty.pdf)"
      ]
    },
    {
      "cell_type": "markdown",
      "metadata": {
        "colab_type": "text",
        "id": "iCrFipBzOzqp",
        "run_control": {
          "frozen": false,
          "read_only": false
        }
      },
      "source": [
        "\n",
        "\n",
        "\n",
        "$$\n",
        "\\begin{eqnarray}\n",
        "z = x  \\pm y  ~| & ~  &dz = \\sqrt{dx^2 + dy^2} \n",
        "\\\\\n",
        "z = x * y  ~| & ~& dz = |xy|  \\sqrt{\\left(\\frac{dx}{x}\\right)^2 + \n",
        "                                \\left(\\frac{dy}{y}\\right)^2} \\\\\n",
        "z = x / y  ~| & ~& dz = \\left|\\frac{x}{y}\\right| \\sqrt{\\left(\\frac{dx}{x}\\right)^2 + \n",
        "                                                   \\left(\\frac{dy}{y}\\right)^2} \\\\\n",
        "z = x^n ~| & ~& dz = |n| ~ x^{n-1}  dx \\\\\n",
        "z = \\mathrm{c}x ~| & ~& dz = |\\mathrm{c}| ~dx \\\\\n",
        "z = f(x, y) ~| & ~& dz = \\sqrt{\\left(\\frac{\\partial f}{\\partial x}\\right)^2 dx^2 +\\left(\\frac{\\partial f}{\\partial y}\\right)^2 dy^2} \\\\\n",
        "\\end{eqnarray}\n",
        "$$\n"
      ]
    },
    {
      "cell_type": "markdown",
      "metadata": {
        "colab_type": "text",
        "id": "WcF0zlWCOdCX",
        "run_control": {
          "frozen": false,
          "read_only": false
        }
      },
      "source": [
        "# let's assume a Newtonian framework: \n",
        "the velocity of a body in orbit depends only on the gravitational field of the mass that attracts it, and we can assume that mass is concentrated in the center of mass of (the center for simplicity) the system\n",
        "\n",
        "with G the gravitational constant, $r$ the radius, and $m(r)$ the mass contained within that radius we have the orbital velocity $v$:\n"
      ]
    },
    {
      "cell_type": "markdown",
      "metadata": {
        "colab_type": "text",
        "id": "ZON0DKl5Qm2S",
        "run_control": {
          "frozen": false,
          "read_only": false
        }
      },
      "source": [
        "\n",
        "$v^2 = \\frac{G \\cdot m(r)}{r}$\n"
      ]
    },
    {
      "cell_type": "markdown",
      "metadata": {
        "colab_type": "text",
        "id": "lVfy9lJ21xMT",
        "run_control": {
          "frozen": false,
          "read_only": false
        }
      },
      "source": [
        "Derive this $v^2\\propto\\frac{1}{r}$ from Newton's law $F~=~\\frac{GMm}{r^2}$. Write each formula and describe each step. You can use latex (you really just need to know ```\\frac{}``` and ```^```) and this reference\n",
        "https://www.physicsclassroom.com/calcpad/circgrav"
      ]
    },
    {
      "cell_type": "markdown",
      "metadata": {
        "colab_type": "text",
        "id": "HEB7hQojuAQt",
        "run_control": {
          "frozen": false,
          "read_only": false
        }
      },
      "source": [
        "$$\\frac{GMm}{r^2}=\\frac{mv^2}{r}$$\n",
        "\n",
        "The right hand side is $m$ times centripital acceleration.\n",
        "\n",
        "$$\\frac{GM}{r}=v^2$$"
      ]
    },
    {
      "cell_type": "markdown",
      "metadata": {
        "colab_type": "text",
        "id": "KQAEJtWuOdCb",
        "run_control": {
          "frozen": false,
          "read_only": false
        }
      },
      "source": [
        "## M31 rotational curve"
      ]
    },
    {
      "cell_type": "markdown",
      "metadata": {
        "ExecuteTime": {
          "end_time": "2019-08-02T01:34:15.029084Z",
          "start_time": "2019-08-02T01:34:15.026604Z"
        },
        "colab_type": "text",
        "id": "BTaXzFYeOdCc",
        "run_control": {
          "frozen": false,
          "read_only": false
        }
      },
      "source": [
        "# Galaxy Rotational Curves\n",
        "The data comes from [SOFUE 2015](http://www.ioa.s.u-tokyo.ac.jp/~sofue/htdocs/2015m31/2015-pasj-M31MW-DH.pdf)\n",
        "The data are plotted in Figure 3 and 4 for M31 and the Milky Way respectively, and hosted on [this website](http://www.ioa.s.u-tokyo.ac.jp/~sofue/htdocs/2015m31/)\n",
        "As described in the paper: \n",
        "Long and short bars represent modified standard deviations and errors, respectively\n",
        "\n",
        "#### Please read the last paragraphs of Section 2.1 of the paper to understand the meaning of these uncertainties:\n",
        "\n",
        "![figures](https://github.com/fedhere/DSPS/blob/master/HW4/figures.png?raw=1)\n",
        "\n"
      ]
    },
    {
      "cell_type": "markdown",
      "metadata": {
        "ExecuteTime": {
          "end_time": "2019-09-22T00:10:02.465470Z",
          "start_time": "2019-09-22T00:10:02.455255Z"
        },
        "run_control": {
          "frozen": false,
          "read_only": false
        },
        "id": "F3VcOpnCc6y3",
        "colab_type": "text"
      },
      "source": [
        "\n",
        "\n",
        "![text](https://github.com/fedhere/DSPS/blob/master/HW4/text.png?raw=1)\n",
        "\n",
        "### data ingestion\n",
        "Get the data from the github repository https://github.com/fedhere/DSPS/tree/master/HW4 : there are 2 files: mw.csv and m31.csv. Start with M31, the Andromeda galaxy, Vera Rubin's original target."
      ]
    },
    {
      "cell_type": "markdown",
      "metadata": {
        "colab_type": "text",
        "id": "_iFrkUYEV1SS",
        "run_control": {
          "frozen": false,
          "read_only": false
        }
      },
      "source": [
        "Note that the data contains 2 types of uncertainties: one significantly smaller than the other. The ```dv``` uncertainty is the propagation of the uncertainty in the location of the HII line. The uncertainty called ```err``` if the full error budget:  including _all_ sources of uncertainty and not just the uncertainty in measuring the location of the line. Retain both, you will test your hypothesis with each one to see if it matters which uncertainty you choose"
      ]
    },
    {
      "cell_type": "code",
      "metadata": {
        "colab_type": "code",
        "id": "PFYBlhUjt8_e",
        "run_control": {
          "frozen": false,
          "read_only": false
        },
        "outputId": "1f9cc9c7-035e-45ef-d475-20dc0544be95",
        "colab": {
          "base_uri": "https://localhost:8080/",
          "height": 206
        }
      },
      "source": [
        "# your code here\n",
        "m31 = pd.read_csv('https://raw.githubusercontent.com/fedhere/DSPS/master/HW4/m31.csv',header= 1, sep = ',')\n",
        "m31.head()"
      ],
      "execution_count": 0,
      "outputs": [
        {
          "output_type": "execute_result",
          "data": {
            "text/html": [
              "<div>\n",
              "<style scoped>\n",
              "    .dataframe tbody tr th:only-of-type {\n",
              "        vertical-align: middle;\n",
              "    }\n",
              "\n",
              "    .dataframe tbody tr th {\n",
              "        vertical-align: top;\n",
              "    }\n",
              "\n",
              "    .dataframe thead th {\n",
              "        text-align: right;\n",
              "    }\n",
              "</style>\n",
              "<table border=\"1\" class=\"dataframe\">\n",
              "  <thead>\n",
              "    <tr style=\"text-align: right;\">\n",
              "      <th></th>\n",
              "      <th>#R(kpc</th>\n",
              "      <th>V(km/s)</th>\n",
              "      <th>St.dev.</th>\n",
              "      <th>St.error</th>\n",
              "    </tr>\n",
              "  </thead>\n",
              "  <tbody>\n",
              "    <tr>\n",
              "      <th>0</th>\n",
              "      <td>0.100</td>\n",
              "      <td>183.939</td>\n",
              "      <td>0.000</td>\n",
              "      <td>0.000</td>\n",
              "    </tr>\n",
              "    <tr>\n",
              "      <th>1</th>\n",
              "      <td>0.120</td>\n",
              "      <td>190.710</td>\n",
              "      <td>10.265</td>\n",
              "      <td>12.191</td>\n",
              "    </tr>\n",
              "    <tr>\n",
              "      <th>2</th>\n",
              "      <td>0.144</td>\n",
              "      <td>204.141</td>\n",
              "      <td>22.634</td>\n",
              "      <td>21.808</td>\n",
              "    </tr>\n",
              "    <tr>\n",
              "      <th>3</th>\n",
              "      <td>0.173</td>\n",
              "      <td>207.601</td>\n",
              "      <td>4.573</td>\n",
              "      <td>4.200</td>\n",
              "    </tr>\n",
              "    <tr>\n",
              "      <th>4</th>\n",
              "      <td>0.207</td>\n",
              "      <td>210.188</td>\n",
              "      <td>3.943</td>\n",
              "      <td>3.258</td>\n",
              "    </tr>\n",
              "  </tbody>\n",
              "</table>\n",
              "</div>"
            ],
            "text/plain": [
              "   #R(kpc  V(km/s)  St.dev.  St.error\n",
              "0   0.100  183.939    0.000     0.000\n",
              "1   0.120  190.710   10.265    12.191\n",
              "2   0.144  204.141   22.634    21.808\n",
              "3   0.173  207.601    4.573     4.200\n",
              "4   0.207  210.188    3.943     3.258"
            ]
          },
          "metadata": {
            "tags": []
          },
          "execution_count": 2
        }
      ]
    },
    {
      "cell_type": "code",
      "metadata": {
        "colab_type": "code",
        "id": "luL5UrsNQ1M1",
        "outputId": "a2fbeed4-f868-48f6-ead7-2d84bc9eeb3c",
        "run_control": {
          "frozen": false,
          "read_only": false
        },
        "colab": {
          "base_uri": "https://localhost:8080/",
          "height": 206
        }
      },
      "source": [
        "m31= m31.rename(columns={\"#R(kpc\":\"r\",\"V(km/s)\":\"v\", \"St.dev.\":\"dv\" , \"St.error\":\"error\"})\n",
        "m31.head()"
      ],
      "execution_count": 0,
      "outputs": [
        {
          "output_type": "execute_result",
          "data": {
            "text/html": [
              "<div>\n",
              "<style scoped>\n",
              "    .dataframe tbody tr th:only-of-type {\n",
              "        vertical-align: middle;\n",
              "    }\n",
              "\n",
              "    .dataframe tbody tr th {\n",
              "        vertical-align: top;\n",
              "    }\n",
              "\n",
              "    .dataframe thead th {\n",
              "        text-align: right;\n",
              "    }\n",
              "</style>\n",
              "<table border=\"1\" class=\"dataframe\">\n",
              "  <thead>\n",
              "    <tr style=\"text-align: right;\">\n",
              "      <th></th>\n",
              "      <th>r</th>\n",
              "      <th>v</th>\n",
              "      <th>dv</th>\n",
              "      <th>error</th>\n",
              "    </tr>\n",
              "  </thead>\n",
              "  <tbody>\n",
              "    <tr>\n",
              "      <th>0</th>\n",
              "      <td>0.100</td>\n",
              "      <td>183.939</td>\n",
              "      <td>0.000</td>\n",
              "      <td>0.000</td>\n",
              "    </tr>\n",
              "    <tr>\n",
              "      <th>1</th>\n",
              "      <td>0.120</td>\n",
              "      <td>190.710</td>\n",
              "      <td>10.265</td>\n",
              "      <td>12.191</td>\n",
              "    </tr>\n",
              "    <tr>\n",
              "      <th>2</th>\n",
              "      <td>0.144</td>\n",
              "      <td>204.141</td>\n",
              "      <td>22.634</td>\n",
              "      <td>21.808</td>\n",
              "    </tr>\n",
              "    <tr>\n",
              "      <th>3</th>\n",
              "      <td>0.173</td>\n",
              "      <td>207.601</td>\n",
              "      <td>4.573</td>\n",
              "      <td>4.200</td>\n",
              "    </tr>\n",
              "    <tr>\n",
              "      <th>4</th>\n",
              "      <td>0.207</td>\n",
              "      <td>210.188</td>\n",
              "      <td>3.943</td>\n",
              "      <td>3.258</td>\n",
              "    </tr>\n",
              "  </tbody>\n",
              "</table>\n",
              "</div>"
            ],
            "text/plain": [
              "       r        v      dv   error\n",
              "0  0.100  183.939   0.000   0.000\n",
              "1  0.120  190.710  10.265  12.191\n",
              "2  0.144  204.141  22.634  21.808\n",
              "3  0.173  207.601   4.573   4.200\n",
              "4  0.207  210.188   3.943   3.258"
            ]
          },
          "metadata": {
            "tags": []
          },
          "execution_count": 3
        }
      ]
    },
    {
      "cell_type": "code",
      "metadata": {
        "id": "9jeQ_CJ_nIkb",
        "colab_type": "code",
        "colab": {}
      },
      "source": [
        "#m31"
      ],
      "execution_count": 0,
      "outputs": []
    },
    {
      "cell_type": "code",
      "metadata": {
        "ExecuteTime": {
          "end_time": "2019-08-02T01:35:26.395158Z",
          "start_time": "2019-08-02T01:35:26.373338Z"
        },
        "colab_type": "code",
        "id": "QsNRokb1OdCh",
        "outputId": "e5b90e97-037f-4bd1-8454-63114ae3f58a",
        "run_control": {
          "frozen": false,
          "read_only": false
        },
        "colab": {
          "base_uri": "https://localhost:8080/",
          "height": 300
        }
      },
      "source": [
        "m31.describe()"
      ],
      "execution_count": 0,
      "outputs": [
        {
          "output_type": "execute_result",
          "data": {
            "text/html": [
              "<div>\n",
              "<style scoped>\n",
              "    .dataframe tbody tr th:only-of-type {\n",
              "        vertical-align: middle;\n",
              "    }\n",
              "\n",
              "    .dataframe tbody tr th {\n",
              "        vertical-align: top;\n",
              "    }\n",
              "\n",
              "    .dataframe thead th {\n",
              "        text-align: right;\n",
              "    }\n",
              "</style>\n",
              "<table border=\"1\" class=\"dataframe\">\n",
              "  <thead>\n",
              "    <tr style=\"text-align: right;\">\n",
              "      <th></th>\n",
              "      <th>r</th>\n",
              "      <th>v</th>\n",
              "      <th>dv</th>\n",
              "      <th>error</th>\n",
              "    </tr>\n",
              "  </thead>\n",
              "  <tbody>\n",
              "    <tr>\n",
              "      <th>count</th>\n",
              "      <td>55.000000</td>\n",
              "      <td>55.000000</td>\n",
              "      <td>55.000000</td>\n",
              "      <td>55.000000</td>\n",
              "    </tr>\n",
              "    <tr>\n",
              "      <th>mean</th>\n",
              "      <td>205.853182</td>\n",
              "      <td>226.079255</td>\n",
              "      <td>55.034818</td>\n",
              "      <td>16.165855</td>\n",
              "    </tr>\n",
              "    <tr>\n",
              "      <th>std</th>\n",
              "      <td>415.523904</td>\n",
              "      <td>42.799892</td>\n",
              "      <td>49.254792</td>\n",
              "      <td>14.876951</td>\n",
              "    </tr>\n",
              "    <tr>\n",
              "      <th>min</th>\n",
              "      <td>0.100000</td>\n",
              "      <td>121.974000</td>\n",
              "      <td>0.000000</td>\n",
              "      <td>0.000000</td>\n",
              "    </tr>\n",
              "    <tr>\n",
              "      <th>25%</th>\n",
              "      <td>1.177000</td>\n",
              "      <td>208.894500</td>\n",
              "      <td>11.945500</td>\n",
              "      <td>3.224000</td>\n",
              "    </tr>\n",
              "    <tr>\n",
              "      <th>50%</th>\n",
              "      <td>13.737000</td>\n",
              "      <td>229.124000</td>\n",
              "      <td>30.697000</td>\n",
              "      <td>12.065000</td>\n",
              "    </tr>\n",
              "    <tr>\n",
              "      <th>75%</th>\n",
              "      <td>161.675000</td>\n",
              "      <td>244.102500</td>\n",
              "      <td>99.980000</td>\n",
              "      <td>23.641000</td>\n",
              "    </tr>\n",
              "    <tr>\n",
              "      <th>max</th>\n",
              "      <td>1887.071000</td>\n",
              "      <td>414.942000</td>\n",
              "      <td>147.835000</td>\n",
              "      <td>54.110000</td>\n",
              "    </tr>\n",
              "  </tbody>\n",
              "</table>\n",
              "</div>"
            ],
            "text/plain": [
              "                 r           v          dv      error\n",
              "count    55.000000   55.000000   55.000000  55.000000\n",
              "mean    205.853182  226.079255   55.034818  16.165855\n",
              "std     415.523904   42.799892   49.254792  14.876951\n",
              "min       0.100000  121.974000    0.000000   0.000000\n",
              "25%       1.177000  208.894500   11.945500   3.224000\n",
              "50%      13.737000  229.124000   30.697000  12.065000\n",
              "75%     161.675000  244.102500   99.980000  23.641000\n",
              "max    1887.071000  414.942000  147.835000  54.110000"
            ]
          },
          "metadata": {
            "tags": []
          },
          "execution_count": 5
        }
      ]
    },
    {
      "cell_type": "markdown",
      "metadata": {
        "colab_type": "text",
        "id": "Vv0Ut6vOOdCk",
        "run_control": {
          "frozen": false,
          "read_only": false
        }
      },
      "source": [
        "from https://en.wikipedia.org/wiki/Andromeda_Galaxy get the extent of the luminous component of M31 (Andromeda). The distance of the Galaxy multiplied by the angular size will give you this information from basic trigonometry (make sure you convert the units properly, using astropy). Make sure you include the uncertainties! uncertainties in the distance will give you the uncertainty in the size\n",
        "   \n",
        " "
      ]
    },
    {
      "cell_type": "code",
      "metadata": {
        "colab_type": "code",
        "id": "kvIFr6D778ri",
        "run_control": {
          "frozen": false,
          "read_only": false
        },
        "colab": {}
      },
      "source": [
        "apparentSizeM31 = 3.167 #deg\n",
        "distanceM31 = 778 #kpc \n",
        "uncertaintyd = 33 #kpc"
      ],
      "execution_count": 0,
      "outputs": []
    },
    {
      "cell_type": "code",
      "metadata": {
        "ExecuteTime": {
          "end_time": "2019-08-02T01:35:41.413407Z",
          "start_time": "2019-08-02T01:35:41.408764Z"
        },
        "colab_type": "code",
        "id": "tzGNh98hOdCl",
        "outputId": "c80b3707-32ac-4254-b889-215668822dca",
        "run_control": {
          "frozen": false,
          "read_only": false
        },
        "colab": {
          "base_uri": "https://localhost:8080/",
          "height": 35
        }
      },
      "source": [
        "m31angS = apparentSizeM31 * u.degree\n",
        "print(\"Angular Size of the visible component of Andromeda: {:.5f}\".format(m31angS.to(u.rad)  ))"
      ],
      "execution_count": 0,
      "outputs": [
        {
          "output_type": "stream",
          "text": [
            "Angular Size of the visible component of Andromeda: 0.05527 rad\n"
          ],
          "name": "stdout"
        }
      ]
    },
    {
      "cell_type": "markdown",
      "metadata": {
        "colab_type": "text",
        "id": "cOw0Y4KNWTOZ",
        "run_control": {
          "frozen": false,
          "read_only": false
        }
      },
      "source": [
        "Please make sure you print a sensible number of decimal digits! you have a  number of significant digits set by the number of digit in the info you get from wikipedia"
      ]
    },
    {
      "cell_type": "markdown",
      "metadata": {
        "colab_type": "text",
        "id": "hF2wXZ988QgS",
        "run_control": {
          "frozen": false,
          "read_only": false
        }
      },
      "source": [
        "The distance, from Wikipedia, will have an uncertainty. Convert both to kiloparsecs Kpc"
      ]
    },
    {
      "cell_type": "code",
      "metadata": {
        "ExecuteTime": {
          "end_time": "2019-08-02T01:35:42.257553Z",
          "start_time": "2019-08-02T01:35:42.254539Z"
        },
        "colab_type": "code",
        "id": "7-nEP6KrOdCo",
        "run_control": {
          "frozen": false,
          "read_only": false
        },
        "outputId": "99767e7a-c8d2-4671-c10d-fc5173dcb1ca",
        "colab": {
          "base_uri": "https://localhost:8080/",
          "height": 54
        }
      },
      "source": [
        "m31distkpc = distanceM31 * u.kiloparsec\n",
        "m31distun =  uncertaintyd * u.kiloparsec\n",
        "print (m31distkpc,m31distun)\n",
        "print(m31distkpc.to(u.pc))"
      ],
      "execution_count": 0,
      "outputs": [
        {
          "output_type": "stream",
          "text": [
            "778.0 kpc 33.0 kpc\n",
            "778000.0 pc\n"
          ],
          "name": "stdout"
        }
      ]
    },
    {
      "cell_type": "code",
      "metadata": {
        "ExecuteTime": {
          "end_time": "2019-08-02T01:35:42.815232Z",
          "start_time": "2019-08-02T01:35:42.810316Z"
        },
        "colab_type": "code",
        "id": "0y_V9AuFOdCv",
        "outputId": "e4f71000-53d0-47bc-8968-9a2cf6755a61",
        "run_control": {
          "frozen": false,
          "read_only": false
        },
        "colab": {
          "base_uri": "https://localhost:8080/",
          "height": 35
        }
      },
      "source": [
        "# your code here\n",
        "# print(\"Size of the visible component of Andromeda...: \" )\n",
        "\n",
        "m31size = m31distkpc * m31angS.to(u.rad)/u.rad\n",
        "print(\"Diameter of the visible component of Andromeda:{:.2f} \".format(m31size))"
      ],
      "execution_count": 0,
      "outputs": [
        {
          "output_type": "stream",
          "text": [
            "Diameter of the visible component of Andromeda:43.00 kpc \n"
          ],
          "name": "stdout"
        }
      ]
    },
    {
      "cell_type": "markdown",
      "metadata": {
        "colab_type": "text",
        "id": "_pTXgdTL8jv6",
        "run_control": {
          "frozen": false,
          "read_only": false
        }
      },
      "source": [
        "Print the distance like I printed the angular size. \n",
        "\n",
        "To get the physical size of the visible component of andtomeda you can use simple trigonometry: $y = r * sin(\\alpha) ~ \\sim ~ r \\alpha $ for small angles \n",
        "\n",
        "\n",
        "Print the physical size of the Andromeda galaxy (remember decimal digits, proper formatting etc etc). \n"
      ]
    },
    {
      "cell_type": "markdown",
      "metadata": {
        "colab_type": "text",
        "id": "97o52hRhOdCy",
        "run_control": {
          "frozen": false,
          "read_only": false
        }
      },
      "source": [
        "### find the first measurement  in your data table that includes all the luminous mass. \n",
        "\n",
        "What is the smallest radius in your data where the luminous mass is completely included and what is the veolcity at that radius?\n",
        "You can do it by broadcasting (see homework 3)"
      ]
    },
    {
      "cell_type": "code",
      "metadata": {
        "id": "xS-3qV1ty8Dj",
        "colab_type": "code",
        "outputId": "7cb55a9a-1e22-404d-9152-7e204f5bfaac",
        "colab": {
          "base_uri": "https://localhost:8080/",
          "height": 109
        }
      },
      "source": [
        "m31.where(m31.r > (m31size)/2).dropna().iloc[0]"
      ],
      "execution_count": 0,
      "outputs": [
        {
          "output_type": "execute_result",
          "data": {
            "text/plain": [
              "r         23.738\n",
              "v        236.511\n",
              "dv        11.729\n",
              "error      1.580\n",
              "Name: 30, dtype: float64"
            ]
          },
          "metadata": {
            "tags": []
          },
          "execution_count": 54
        }
      ]
    },
    {
      "cell_type": "markdown",
      "metadata": {
        "colab_type": "text",
        "id": "TVWiU84XOdDA",
        "run_control": {
          "frozen": false,
          "read_only": false
        }
      },
      "source": [
        "We expect the velocity to decrease as 1/r if all mass is included: the velocity at a radius twice as far as the radius that includes all the mass should be a factor 2 slower, three times as far a factor 3 slower. "
      ]
    },
    {
      "cell_type": "markdown",
      "metadata": {
        "colab_type": "text",
        "id": "b096Ax33SiXl",
        "run_control": {
          "frozen": false,
          "read_only": false
        }
      },
      "source": [
        "write a function that \n",
        "\n",
        "1. finds the smallest radius in the dataset that is at least N times the radius of the visible galaxy, \n",
        "\n",
        "2. takes as arguments:\n",
        "    - the data and \n",
        "    - N \n",
        "    - the size of the luminous component of the galaxy\n",
        " \n",
        "2. Returns the value of the radius and its uncertainty and the velocity and its uncertainty\n",
        "\n",
        "$$v^2=GM/r\\Rightarrow r=GMv^{-2}$$\n",
        "\n",
        "$$\\delta r=\\left|\\frac{\\partial r}{\\partial v}\\delta v\\right|$$\n",
        "\n",
        "$$\\delta r=\\left|\\frac{-2GM}{v^3}\\delta v\\right|\\qquad\\text{and}\\qquad M=\\frac{v^2 r}{G}$$\n",
        "\n",
        "$$\\delta r=\\frac{G\\frac{v^2r}{G}}{v^3}\\delta v=\\frac{2r\\delta v}{v}$$\n",
        "\n"
      ]
    },
    {
      "cell_type": "code",
      "metadata": {
        "ExecuteTime": {
          "end_time": "2019-08-02T02:07:26.053511Z",
          "start_time": "2019-08-02T02:07:26.046677Z"
        },
        "colab_type": "code",
        "id": "-_O34Bb7OdC2",
        "run_control": {
          "frozen": false,
          "read_only": false
        },
        "outputId": "8c655508-449d-492b-93cb-fd52edbc662a",
        "colab": {
          "base_uri": "https://localhost:8080/",
          "height": 127
        }
      },
      "source": [
        "def small_at_least(gal, gsize, n):\n",
        "  tmp = gal.where(gal.r > (gsize)/2 * n).dropna()\n",
        "  output = tmp.iloc[0]\n",
        "  output['dr'] = 2*output.r*output.dv/output.v\n",
        "  return(output)\n",
        "\n",
        "small_at_least(m31, m31size, 2)"
      ],
      "execution_count": 0,
      "outputs": [
        {
          "output_type": "execute_result",
          "data": {
            "text/plain": [
              "r         70.880000\n",
              "v        218.489000\n",
              "dv       132.355000\n",
              "error     24.657000\n",
              "dr        85.874551\n",
              "Name: 36, dtype: float64"
            ]
          },
          "metadata": {
            "tags": []
          },
          "execution_count": 10
        }
      ]
    },
    {
      "cell_type": "markdown",
      "metadata": {
        "ExecuteTime": {
          "end_time": "2019-08-01T18:13:58.231637Z",
          "start_time": "2019-08-01T18:13:58.229447Z"
        },
        "colab_type": "text",
        "id": "ogu_iquzOdC5",
        "run_control": {
          "frozen": false,
          "read_only": false
        }
      },
      "source": [
        "### data visualization"
      ]
    },
    {
      "cell_type": "markdown",
      "metadata": {
        "colab_type": "text",
        "id": "kJ6MujVJUyel",
        "run_control": {
          "frozen": false,
          "read_only": false
        }
      },
      "source": [
        "make a plot that shows\n",
        "\n",
        "1. the rotational curve of the galaxy (as a line)\n",
        "\n",
        "2. each velocity as an errorbar with error equal to err in the same color as the line in 1\n",
        "\n",
        "3. each velocity as an errorbar with error equal to dv in  the same color but a different line thickness\n",
        "\n",
        "\n",
        "4. the datapoint corresponding to N=1, 2, 3 each in a different color. \n",
        "\n",
        "5. add a legend that indicates the meaning of each color (```pl.legend()```)\n",
        "\n",
        "6. add a text that indicates the velocity and its uncertainty (dv and err) just below the largest errorbar (```pl.text()```)\n",
        "\n",
        "7. limit the x axis to the \"relevant\" portion of the data"
      ]
    },
    {
      "cell_type": "markdown",
      "metadata": {
        "id": "tpjB56WRcu4t",
        "colab_type": "text"
      },
      "source": [
        "#### It is impossible to give any meaningful unceratinties to the radii measurements"
      ]
    },
    {
      "cell_type": "code",
      "metadata": {
        "ExecuteTime": {
          "end_time": "2019-08-02T03:01:27.556063Z",
          "start_time": "2019-08-02T03:01:27.302184Z"
        },
        "colab_type": "code",
        "id": "7IMXYY8BOdC6",
        "outputId": "d90fcc2b-8001-472c-b194-27c2cf6235a1",
        "run_control": {
          "frozen": false,
          "read_only": false
        },
        "colab": {
          "base_uri": "https://localhost:8080/",
          "height": 295
        }
      },
      "source": [
        "def plotGal(gal,rgal):\n",
        "  pl.errorbar(gal.r,gal.v,yerr=gal.dv)\n",
        "  pl.xlim((0,170))\n",
        "  \n",
        "  for n in [1,2,3]:\n",
        "    npoint = small_at_least(gal,rgal,n)\n",
        "    pl.errorbar(npoint.r,npoint.v,yerr=npoint.dv)\n",
        "    pl.text(npoint.r,npoint.v-npoint.dv-40,\"{:0.1f}\\n({:0.1f}, {:0.1f})\".\n",
        "            format(npoint.v,npoint.dv,npoint.error),\n",
        "            verticalalignment='center',horizontalalignment='center')\n",
        "    \n",
        "  for n in [1,2,3]:\n",
        "    npoint = small_at_least(gal,rgal,n)\n",
        "    pl.errorbar(npoint.r,npoint.v,yerr=npoint.error,color='k',elinewidth=6)\n",
        "    \n",
        "    \n",
        "  pl.legend(('v','radius','$2\\\\times radius$','$3\\\\times radius$'))\n",
        "  \n",
        "  pl.xlabel('radius (kpc)')\n",
        "  pl.ylabel('velocity (km/s)')\n",
        "  pl.title('Orbital velocities of stars about the center of the galaxy')\n",
        "  \n",
        "\n",
        "\n",
        "plotGal(m31,m31size)"
      ],
      "execution_count": 59,
      "outputs": [
        {
          "output_type": "display_data",
          "data": {
            "image/png": "[encoded data removed]",
            "text/plain": [
              "<Figure size 432x288 with 1 Axes>"
            ]
          },
          "metadata": {
            "tags": []
          }
        }
      ]
    },
    {
      "cell_type": "markdown",
      "metadata": {
        "colab_type": "text",
        "id": "bIbv3YrhTo0X",
        "run_control": {
          "frozen": false,
          "read_only": false
        }
      },
      "source": [
        "Write a function that for a given dataset and a given luminous radius and a given N \n",
        "  \n",
        "  1) uses the function above to find the radius at least as large as needed and the velocity at that radius, \n",
        "  \n",
        "  2) states the expected drop in rotational velocities according to Newton's law $\\color{red}{v \\propto 1/\\sqrt{r}}$\n",
        "  \n",
        "  3) calculates the ratio of radii and the ratio of velocities at N radii from the center N=1 and N=N (input, e.g. 2, 3 etc) with uncertainties, \n",
        "  \n",
        "  4) and stated whether that ratio is consistent within the uncertainties with Newton's law $\\color{red}{v \\propto 1/\\sqrt{r}}$\n",
        "  \n",
        "Your function should print \n",
        "\n",
        "     - the expected ratio based on the radii, \n",
        "     - the calculated ratio using ```dv```, and its uncertainty, - \n",
        "     - the 2-$\\sigma$ upper and lower limits of the calculated ratio\n",
        "     - whether the expected ratio is within the $2-\\sigma$ of the calculated ratio, \n",
        "  5) and the same using ```err```  instead of ```dv```"
      ]
    },
    {
      "cell_type": "markdown",
      "metadata": {
        "id": "p6lGQNJbjN_P",
        "colab_type": "text"
      },
      "source": [
        "**this** function prints wether the *calculated ratio* is within the $2\\sigma$ range of the *measured* ratio"
      ]
    },
    {
      "cell_type": "code",
      "metadata": {
        "ExecuteTime": {
          "end_time": "2019-08-02T02:22:18.485172Z",
          "start_time": "2019-08-02T02:22:18.477807Z"
        },
        "colab_type": "code",
        "id": "1hhTw8N4OdDB",
        "run_control": {
          "frozen": false,
          "read_only": false
        },
        "outputId": "b60bc14e-e28e-472f-c187-ed406d52ac8a",
        "colab": {
          "base_uri": "https://localhost:8080/",
          "height": 1000
        }
      },
      "source": [
        "# our dataset of \"interest\" (plotted above) includes values up to and\n",
        "# including N=6\n",
        "def vel_compare(gal,gsize,n):\n",
        "  output = small_at_least(gal, gsize, n)\n",
        "  output['predict_v'] = output.r**(-0.5)\n",
        "  \n",
        "  baseline = small_at_least(gal,gsize,1)\n",
        "  baseline['predict_v'] = baseline.r**(-0.5)\n",
        "  \n",
        "  data_ratio = output.v/baseline.v\n",
        "  predict_ratio = output.predict_v/baseline.predict_v\n",
        "  \n",
        "  d_data_ratio = data_ratio * ( (output.dv/output.v)**2  +  (baseline.dv/baseline.v)**2 )**0.5\n",
        "  d_upper_lim = data_ratio + 2*d_data_ratio\n",
        "  d_lower_lim = data_ratio - 2*d_data_ratio\n",
        "  \n",
        "  error_data_ratio = data_ratio * ( (output.error/output.v)**2  +  (baseline.error/baseline.v)**2 )**0.5\n",
        "  error_upper_lim = data_ratio + 2*error_data_ratio\n",
        "  error_lower_lim = data_ratio - 2*error_data_ratio\n",
        "  \n",
        "  print(\"using dv first:\")\n",
        "  \n",
        "  \n",
        "  print(\"The predicted ratio of the velocities is {:.4f}, while the measured\\n\\\n",
        "  velocity ratio is {:.4f}. The 2σ acceptable range for the actual\\n\\\n",
        "  ratio (according to the measured ratio) is between {:.4f} and {:.4f}.\"\n",
        "        .format(predict_ratio, data_ratio, d_lower_lim, d_upper_lim))\n",
        "  \n",
        "  if predict_ratio <= d_upper_lim and predict_ratio >= d_lower_lim:\n",
        "    print(\"The predicted ratio does fall within the 2σ confidence range.\")\n",
        "  else:\n",
        "    print(\"The predicted ratio does *not* fall within the 2σ confidence range.\")\n",
        "  \n",
        "  \n",
        "  \n",
        "  print(\"\\nusing 'error' now:\")\n",
        "  \n",
        "  \n",
        "  print(\"The predicted ratio of the velocities is {:.4f}, while the measured\\n\\\n",
        "  velocity ratio is {:.4f}. The 2σ acceptable range for the actual\\n\\\n",
        "  ratio (according to the measured ratio) is between {:.4f} and {:.4f}.\"\n",
        "        .format(predict_ratio, data_ratio, error_lower_lim, error_upper_lim))\n",
        "  \n",
        "  if predict_ratio <= error_upper_lim and predict_ratio >= error_lower_lim:\n",
        "    print(\"The predicted ratio does fall within the 2σ confidence range.\")\n",
        "  else:\n",
        "    print(\"The predicted ratio does *not* fall within the 2σ confidence range.\")\n",
        "\n",
        "  \n",
        "  #return(data_ratio,predict_ratio)\n",
        "\n",
        "#print(vel_compare(m31,m31size,3))\n",
        "\n",
        "\n",
        "for N in range(2,7):\n",
        "  print(\"N =\",N)\n",
        "  vel_compare(m31,m31size,N)\n",
        "  print(\"\\n---\\n\")\n",
        "  \n",
        "  "
      ],
      "execution_count": 0,
      "outputs": [
        {
          "output_type": "stream",
          "text": [
            "N = 2\n",
            "using dv first:\n",
            "The predicted ratio of the velocities is 0.6945, while the measured\n",
            "  velocity ratio is 1.0024. The 2σ acceptable range for the actual\n",
            "  ratio (according to the measured ratio) is between 0.0721 and 1.9326.\n",
            "The predicted ratio does fall within the 2σ confidence range.\n",
            "\n",
            "using 'error' now:\n",
            "The predicted ratio of the velocities is 0.6945, while the measured\n",
            "  velocity ratio is 1.0024. The 2σ acceptable range for the actual\n",
            "  ratio (according to the measured ratio) is between 0.7996 and 1.2051.\n",
            "The predicted ratio does *not* fall within the 2σ confidence range.\n",
            "\n",
            "---\n",
            "\n",
            "N = 3\n",
            "using dv first:\n",
            "The predicted ratio of the velocities is 0.5787, while the measured\n",
            "  velocity ratio is 0.9238. The 2σ acceptable range for the actual\n",
            "  ratio (according to the measured ratio) is between -0.1992 and 2.0468.\n",
            "The predicted ratio does fall within the 2σ confidence range.\n",
            "\n",
            "using 'error' now:\n",
            "The predicted ratio of the velocities is 0.5787, while the measured\n",
            "  velocity ratio is 0.9238. The 2σ acceptable range for the actual\n",
            "  ratio (according to the measured ratio) is between 0.7149 and 1.1327.\n",
            "The predicted ratio does *not* fall within the 2σ confidence range.\n",
            "\n",
            "---\n",
            "\n",
            "N = 4\n",
            "using dv first:\n",
            "The predicted ratio of the velocities is 0.4823, while the measured\n",
            "  velocity ratio is 0.9006. The 2σ acceptable range for the actual\n",
            "  ratio (according to the measured ratio) is between -0.2230 and 2.0242.\n",
            "The predicted ratio does fall within the 2σ confidence range.\n",
            "\n",
            "using 'error' now:\n",
            "The predicted ratio of the velocities is 0.4823, while the measured\n",
            "  velocity ratio is 0.9006. The 2σ acceptable range for the actual\n",
            "  ratio (according to the measured ratio) is between 0.6524 and 1.1488.\n",
            "The predicted ratio does *not* fall within the 2σ confidence range.\n",
            "\n",
            "---\n",
            "\n",
            "N = 5\n",
            "using dv first:\n",
            "The predicted ratio of the velocities is 0.4402, while the measured\n",
            "  velocity ratio is 0.8346. The 2σ acceptable range for the actual\n",
            "  ratio (according to the measured ratio) is between -0.0633 and 1.7324.\n",
            "The predicted ratio does fall within the 2σ confidence range.\n",
            "\n",
            "using 'error' now:\n",
            "The predicted ratio of the velocities is 0.4402, while the measured\n",
            "  velocity ratio is 0.8346. The 2σ acceptable range for the actual\n",
            "  ratio (according to the measured ratio) is between 0.6367 and 1.0324.\n",
            "The predicted ratio does *not* fall within the 2σ confidence range.\n",
            "\n",
            "---\n",
            "\n",
            "N = 6\n",
            "using dv first:\n",
            "The predicted ratio of the velocities is 0.4019, while the measured\n",
            "  velocity ratio is 0.7506. The 2σ acceptable range for the actual\n",
            "  ratio (according to the measured ratio) is between 0.0552 and 1.4460.\n",
            "The predicted ratio does fall within the 2σ confidence range.\n",
            "\n",
            "using 'error' now:\n",
            "The predicted ratio of the velocities is 0.4019, while the measured\n",
            "  velocity ratio is 0.7506. The 2σ acceptable range for the actual\n",
            "  ratio (according to the measured ratio) is between 0.6093 and 0.8918.\n",
            "The predicted ratio does *not* fall within the 2σ confidence range.\n",
            "\n",
            "---\n",
            "\n"
          ],
          "name": "stdout"
        }
      ]
    },
    {
      "cell_type": "markdown",
      "metadata": {
        "ExecuteTime": {
          "end_time": "2019-08-02T00:36:41.637045Z",
          "start_time": "2019-08-02T00:36:41.634825Z"
        },
        "colab_type": "text",
        "run_control": {
          "frozen": false,
          "read_only": false
        },
        "id": "KOgARsB0wxkK"
      },
      "source": [
        "### Discuss!"
      ]
    },
    {
      "cell_type": "markdown",
      "metadata": {
        "id": "ITEV1dDcukeu",
        "colab_type": "text"
      },
      "source": [
        "Apparently this \"error budget\" is noticeably lower (and therefore more sensitive) than the standard deviation found for the measured velocities. Using these more sensitive values, we see disagreement between predictions and measurements for all values of $N$, while the standard deviations of velocities are too large to pick up these discrepancies.\n",
        "\n",
        "Therefore, at a 0.95 confidence level, we have found that there is a statistically significant discrepancy between the measured orbital velocities of these stars and their classically predicted orbital velocities.\n",
        "\n",
        "One immediately obvious source of this discrepancy is dark matter. If the mass distribution of the galaxy extends beyond the visible portion, then this classical prediction outside the radius of the galaxy would not hold. This is because this prediction assumes that the mass enclosed within the orbit of each star is the same."
      ]
    },
    {
      "cell_type": "markdown",
      "metadata": {
        "colab_type": "text",
        "id": "QIHRn8UlOdDZ",
        "run_control": {
          "frozen": false,
          "read_only": false
        }
      },
      "source": [
        "## do the same for the Milky Way. If your functions were create properly you should be able to reuse them seamlessly"
      ]
    },
    {
      "cell_type": "code",
      "metadata": {
        "colab_type": "code",
        "id": "NVp9cJzv-Dic",
        "run_control": {
          "frozen": false,
          "read_only": false
        },
        "outputId": "fc0d3a9b-b933-4e2d-c698-6b72d140dbab",
        "colab": {
          "base_uri": "https://localhost:8080/",
          "height": 1000
        }
      },
      "source": [
        "mw = pd.read_csv('https://raw.githubusercontent.com/fedhere/DSPS/master/HW4/mw.csv',header= 1, sep = ',')\n",
        "mw= mw.rename(columns={\"R(kpc)\":\"r\",\"V(km/s)\":\"v\", \"St.dev.\":\"dv\" , \"St.error\":\"error\"})\n",
        "mwsize = 53.5 * u.kpc # From Wikipedia\n",
        "\n",
        "for N in range(2,7):\n",
        "  print(\"N =\",N)\n",
        "  vel_compare(mw,mwsize,N)\n",
        "  print(\"\\n---\\n\")\n",
        "  \n",
        "plotGal(mw,mwsize)"
      ],
      "execution_count": 60,
      "outputs": [
        {
          "output_type": "stream",
          "text": [
            "N = 2\n",
            "using dv first:\n",
            "The predicted ratio of the velocities is 0.6944, while the measured\n",
            "  velocity ratio is 0.7411. The 2σ acceptable range for the actual\n",
            "  ratio (according to the measured ratio) is between 0.1355 and 1.3467.\n",
            "The predicted ratio does fall within the 2σ confidence range.\n",
            "\n",
            "using 'error' now:\n",
            "The predicted ratio of the velocities is 0.6944, while the measured\n",
            "  velocity ratio is 0.7411. The 2σ acceptable range for the actual\n",
            "  ratio (according to the measured ratio) is between 0.5551 and 0.9271.\n",
            "The predicted ratio does fall within the 2σ confidence range.\n",
            "\n",
            "---\n",
            "\n",
            "N = 3\n",
            "using dv first:\n",
            "The predicted ratio of the velocities is 0.5787, while the measured\n",
            "  velocity ratio is 0.7482. The 2σ acceptable range for the actual\n",
            "  ratio (according to the measured ratio) is between 0.0487 and 1.4477.\n",
            "The predicted ratio does fall within the 2σ confidence range.\n",
            "\n",
            "using 'error' now:\n",
            "The predicted ratio of the velocities is 0.5787, while the measured\n",
            "  velocity ratio is 0.7482. The 2σ acceptable range for the actual\n",
            "  ratio (according to the measured ratio) is between 0.5321 and 0.9643.\n",
            "The predicted ratio does fall within the 2σ confidence range.\n",
            "\n",
            "---\n",
            "\n",
            "N = 4\n",
            "using dv first:\n",
            "The predicted ratio of the velocities is 0.5283, while the measured\n",
            "  velocity ratio is 0.6472. The 2σ acceptable range for the actual\n",
            "  ratio (according to the measured ratio) is between -0.1113 and 1.4058.\n",
            "The predicted ratio does fall within the 2σ confidence range.\n",
            "\n",
            "using 'error' now:\n",
            "The predicted ratio of the velocities is 0.5283, while the measured\n",
            "  velocity ratio is 0.6472. The 2σ acceptable range for the actual\n",
            "  ratio (according to the measured ratio) is between 0.3852 and 0.9092.\n",
            "The predicted ratio does fall within the 2σ confidence range.\n",
            "\n",
            "---\n",
            "\n",
            "N = 5\n",
            "using dv first:\n",
            "The predicted ratio of the velocities is 0.4402, while the measured\n",
            "  velocity ratio is 0.4422. The 2σ acceptable range for the actual\n",
            "  ratio (according to the measured ratio) is between -0.4344 and 1.3189.\n",
            "The predicted ratio does fall within the 2σ confidence range.\n",
            "\n",
            "using 'error' now:\n",
            "The predicted ratio of the velocities is 0.4402, while the measured\n",
            "  velocity ratio is 0.4422. The 2σ acceptable range for the actual\n",
            "  ratio (according to the measured ratio) is between -0.0399 and 0.9244.\n",
            "The predicted ratio does fall within the 2σ confidence range.\n",
            "\n",
            "---\n",
            "\n",
            "N = 6\n",
            "using dv first:\n",
            "The predicted ratio of the velocities is 0.4019, while the measured\n",
            "  velocity ratio is 0.5564. The 2σ acceptable range for the actual\n",
            "  ratio (according to the measured ratio) is between -0.8615 and 1.9744.\n",
            "The predicted ratio does fall within the 2σ confidence range.\n",
            "\n",
            "using 'error' now:\n",
            "The predicted ratio of the velocities is 0.4019, while the measured\n",
            "  velocity ratio is 0.5564. The 2σ acceptable range for the actual\n",
            "  ratio (according to the measured ratio) is between -0.3470 and 1.4599.\n",
            "The predicted ratio does fall within the 2σ confidence range.\n",
            "\n",
            "---\n",
            "\n"
          ],
          "name": "stdout"
        },
        {
          "output_type": "display_data",
          "data": {
            "image/png": "[encoded data removed]",
            "text/plain": [
              "<Figure size 432x288 with 1 Axes>"
            ]
          },
          "metadata": {
            "tags": []
          }
        }
      ]
    },
    {
      "cell_type": "markdown",
      "metadata": {
        "id": "5hRHswQEueaZ",
        "colab_type": "text"
      },
      "source": [
        "We no longer find this same statistically significant discrepancy for the Milky Way. This could be due to the fact that the distances and velocities are much harder to measure for the Milky Way, as there is a much higher concentration of visible matter obstructing the measurements.\n",
        "\n",
        "We are also not taking into account the uncertainty in the radius of the Milky Way, which is quite large."
      ]
    }
  ]
}